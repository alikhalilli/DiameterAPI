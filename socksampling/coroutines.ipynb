{
 "cells": [
  {
   "cell_type": "code",
   "execution_count": 1,
   "metadata": {},
   "outputs": [],
   "source": [
    "from collections import deque"
   ]
  },
  {
   "cell_type": "code",
   "execution_count": 2,
   "metadata": {},
   "outputs": [],
   "source": [
    "dq = deque([1, 2, 3, 4], maxlen=5)"
   ]
  },
  {
   "cell_type": "code",
   "execution_count": 3,
   "metadata": {},
   "outputs": [],
   "source": [
    "dq.append(100)"
   ]
  },
  {
   "cell_type": "code",
   "execution_count": 4,
   "metadata": {},
   "outputs": [
    {
     "data": {
      "text/plain": [
       "deque([1, 2, 3, 4, 100])"
      ]
     },
     "execution_count": 4,
     "metadata": {},
     "output_type": "execute_result"
    }
   ],
   "source": [
    "dq"
   ]
  },
  {
   "cell_type": "code",
   "execution_count": 5,
   "metadata": {},
   "outputs": [],
   "source": [
    "dq.appendleft(0)"
   ]
  },
  {
   "cell_type": "code",
   "execution_count": 6,
   "metadata": {},
   "outputs": [
    {
     "data": {
      "text/plain": [
       "deque([0, 1, 2, 3, 4])"
      ]
     },
     "execution_count": 6,
     "metadata": {},
     "output_type": "execute_result"
    }
   ],
   "source": [
    "dq"
   ]
  },
  {
   "cell_type": "code",
   "execution_count": 7,
   "metadata": {},
   "outputs": [],
   "source": [
    "dq.append(100)"
   ]
  },
  {
   "cell_type": "code",
   "execution_count": 8,
   "metadata": {},
   "outputs": [
    {
     "data": {
      "text/plain": [
       "deque([1, 2, 3, 4, 100])"
      ]
     },
     "execution_count": 8,
     "metadata": {},
     "output_type": "execute_result"
    }
   ],
   "source": [
    "dq"
   ]
  },
  {
   "cell_type": "code",
   "execution_count": 14,
   "metadata": {},
   "outputs": [],
   "source": [
    "def produce_elements(dq):\n",
    "    for i in range(1, 36):\n",
    "        dq.appendleft(i)\n",
    "        print(f\"appending {i}\")"
   ]
  },
  {
   "cell_type": "code",
   "execution_count": 15,
   "metadata": {},
   "outputs": [],
   "source": [
    "def consume_elements(dq):\n",
    "    while len(dq) > 0:\n",
    "        item = dq.pop()\n",
    "        print(f\"processing {item}\")"
   ]
  },
  {
   "cell_type": "code",
   "execution_count": 16,
   "metadata": {},
   "outputs": [],
   "source": [
    "def coordinator():\n",
    "    dq = deque()\n",
    "    produce_elements(dq)\n",
    "    consume_elements(dq)"
   ]
  },
  {
   "cell_type": "code",
   "execution_count": 17,
   "metadata": {},
   "outputs": [
    {
     "name": "stdout",
     "output_type": "stream",
     "text": [
      "appending 1\n",
      "appending 2\n",
      "appending 3\n",
      "appending 4\n",
      "appending 5\n",
      "appending 6\n",
      "appending 7\n",
      "appending 8\n",
      "appending 9\n",
      "appending 10\n",
      "appending 11\n",
      "appending 12\n",
      "appending 13\n",
      "appending 14\n",
      "appending 15\n",
      "appending 16\n",
      "appending 17\n",
      "appending 18\n",
      "appending 19\n",
      "appending 20\n",
      "appending 21\n",
      "appending 22\n",
      "appending 23\n",
      "appending 24\n",
      "appending 25\n",
      "appending 26\n",
      "appending 27\n",
      "appending 28\n",
      "appending 29\n",
      "appending 30\n",
      "appending 31\n",
      "appending 32\n",
      "appending 33\n",
      "appending 34\n",
      "appending 35\n",
      "processing 1\n",
      "processing 2\n",
      "processing 3\n",
      "processing 4\n",
      "processing 5\n",
      "processing 6\n",
      "processing 7\n",
      "processing 8\n",
      "processing 9\n",
      "processing 10\n",
      "processing 11\n",
      "processing 12\n",
      "processing 13\n",
      "processing 14\n",
      "processing 15\n",
      "processing 16\n",
      "processing 17\n",
      "processing 18\n",
      "processing 19\n",
      "processing 20\n",
      "processing 21\n",
      "processing 22\n",
      "processing 23\n",
      "processing 24\n",
      "processing 25\n",
      "processing 26\n",
      "processing 27\n",
      "processing 28\n",
      "processing 29\n",
      "processing 30\n",
      "processing 31\n",
      "processing 32\n",
      "processing 33\n",
      "processing 34\n",
      "processing 35\n"
     ]
    }
   ],
   "source": [
    "coordinator()"
   ]
  },
  {
   "cell_type": "code",
   "execution_count": 44,
   "metadata": {},
   "outputs": [],
   "source": [
    "def produce_elements_co(dq, n):\n",
    "    for i in range(1, n):\n",
    "        dq.append(i)\n",
    "        if len(dq) == dq.maxlen:\n",
    "            print(f\"Queue is full - yielding control\")\n",
    "            yield\n",
    "        print(f\"appending {i}\")"
   ]
  },
  {
   "cell_type": "code",
   "execution_count": 45,
   "metadata": {},
   "outputs": [],
   "source": [
    "def consume_elements_co(dq):\n",
    "    while True:\n",
    "        while len(dq) > 0:\n",
    "            print(f\"producing {dq.pop()}\")\n",
    "        print(\"queue empty - yielding control back\")\n",
    "        yield"
   ]
  },
  {
   "cell_type": "code",
   "execution_count": 56,
   "metadata": {},
   "outputs": [],
   "source": [
    "def coordinator_co():\n",
    "    dq = deque(maxlen=10)\n",
    "    cproducer = produce_elements_co(dq, 36)\n",
    "    cconsumer = consume_elements_co(dq)\n",
    "    while True:\n",
    "        try:\n",
    "            print(\"producing...\")\n",
    "            next(cproducer)\n",
    "        except StopIteration:\n",
    "            break\n",
    "        finally:\n",
    "            next(cconsumer)"
   ]
  },
  {
   "cell_type": "code",
   "execution_count": 57,
   "metadata": {},
   "outputs": [
    {
     "name": "stdout",
     "output_type": "stream",
     "text": [
      "producing...\n",
      "appending 1\n",
      "appending 2\n",
      "appending 3\n",
      "appending 4\n",
      "appending 5\n",
      "appending 6\n",
      "appending 7\n",
      "appending 8\n",
      "appending 9\n",
      "Queue is full - yielding control\n",
      "producing 10\n",
      "producing 9\n",
      "producing 8\n",
      "producing 7\n",
      "producing 6\n",
      "producing 5\n",
      "producing 4\n",
      "producing 3\n",
      "producing 2\n",
      "producing 1\n",
      "queue empty - yielding control back\n",
      "producing...\n",
      "appending 10\n",
      "appending 11\n",
      "appending 12\n",
      "appending 13\n",
      "appending 14\n",
      "appending 15\n",
      "appending 16\n",
      "appending 17\n",
      "appending 18\n",
      "appending 19\n",
      "Queue is full - yielding control\n",
      "producing 20\n",
      "producing 19\n",
      "producing 18\n",
      "producing 17\n",
      "producing 16\n",
      "producing 15\n",
      "producing 14\n",
      "producing 13\n",
      "producing 12\n",
      "producing 11\n",
      "queue empty - yielding control back\n",
      "producing...\n",
      "appending 20\n",
      "appending 21\n",
      "appending 22\n",
      "appending 23\n",
      "appending 24\n",
      "appending 25\n",
      "appending 26\n",
      "appending 27\n",
      "appending 28\n",
      "appending 29\n",
      "Queue is full - yielding control\n",
      "producing 30\n",
      "producing 29\n",
      "producing 28\n",
      "producing 27\n",
      "producing 26\n",
      "producing 25\n",
      "producing 24\n",
      "producing 23\n",
      "producing 22\n",
      "producing 21\n",
      "queue empty - yielding control back\n",
      "producing...\n",
      "appending 30\n",
      "appending 31\n",
      "appending 32\n",
      "appending 33\n",
      "appending 34\n",
      "appending 35\n",
      "producing 35\n",
      "producing 34\n",
      "producing 33\n",
      "producing 32\n",
      "producing 31\n",
      "queue empty - yielding control back\n"
     ]
    }
   ],
   "source": [
    "coordinator_co()"
   ]
  },
  {
   "cell_type": "code",
   "execution_count": 59,
   "metadata": {},
   "outputs": [],
   "source": [
    "def gen(s):\n",
    "    for c in s:\n",
    "        yield c"
   ]
  },
  {
   "cell_type": "code",
   "execution_count": 60,
   "metadata": {},
   "outputs": [],
   "source": [
    "g = gen('abc')"
   ]
  },
  {
   "cell_type": "code",
   "execution_count": 61,
   "metadata": {},
   "outputs": [
    {
     "data": {
      "text/plain": [
       "'a'"
      ]
     },
     "execution_count": 61,
     "metadata": {},
     "output_type": "execute_result"
    }
   ],
   "source": [
    "next(g)"
   ]
  },
  {
   "cell_type": "code",
   "execution_count": 62,
   "metadata": {},
   "outputs": [
    {
     "data": {
      "text/plain": [
       "'b'"
      ]
     },
     "execution_count": 62,
     "metadata": {},
     "output_type": "execute_result"
    }
   ],
   "source": [
    "next(g)"
   ]
  },
  {
   "cell_type": "code",
   "execution_count": 63,
   "metadata": {},
   "outputs": [
    {
     "data": {
      "text/plain": [
       "'c'"
      ]
     },
     "execution_count": 63,
     "metadata": {},
     "output_type": "execute_result"
    }
   ],
   "source": [
    "next(g)"
   ]
  },
  {
   "cell_type": "code",
   "execution_count": null,
   "metadata": {},
   "outputs": [],
   "source": [
    "def subgenerator(n):\n",
    "    for i in range(n):\n",
    "        yield n"
   ]
  },
  {
   "cell_type": "code",
   "execution_count": null,
   "metadata": {},
   "outputs": [],
   "source": [
    "def delegator(n):\n",
    "    for i in range(n):\n",
    "        yield from subgenerator(i)"
   ]
  },
  {
   "cell_type": "code",
   "execution_count": null,
   "metadata": {},
   "outputs": [],
   "source": [
    "delegator(5)"
   ]
  },
  {
   "cell_type": "code",
   "execution_count": null,
   "metadata": {},
   "outputs": [],
   "source": [
    "next(delegator)"
   ]
  },
  {
   "cell_type": "code",
   "execution_count": null,
   "metadata": {},
   "outputs": [],
   "source": []
  }
 ],
 "metadata": {
  "kernelspec": {
   "display_name": "Python 3",
   "language": "python",
   "name": "python3"
  },
  "language_info": {
   "codemirror_mode": {
    "name": "ipython",
    "version": 3
   },
   "file_extension": ".py",
   "mimetype": "text/x-python",
   "name": "python",
   "nbconvert_exporter": "python",
   "pygments_lexer": "ipython3",
   "version": "3.7.5"
  }
 },
 "nbformat": 4,
 "nbformat_minor": 2
}
