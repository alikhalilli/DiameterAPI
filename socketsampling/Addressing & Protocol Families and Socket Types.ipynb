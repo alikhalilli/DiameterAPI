{
 "cells": [
  {
   "cell_type": "markdown",
   "metadata": {},
   "source": [
    "## Addressing, Protocol Families and Socket Types"
   ]
  },
  {
   "cell_type": "markdown",
   "metadata": {},
   "source": [
    "Sockets have two primary proporties controlling the way they send data:\n",
    "    - the address family (the OSI network layer protocol used)\n",
    "    - and the socket type -> controls the transport layer protocol"
   ]
  },
  {
   "cell_type": "code",
   "execution_count": 1,
   "metadata": {},
   "outputs": [],
   "source": [
    "import socket"
   ]
  },
  {
   "cell_type": "code",
   "execution_count": 2,
   "metadata": {},
   "outputs": [
    {
     "name": "stdout",
     "output_type": "stream",
     "text": [
      "Alis-MacBook-Pro.local\n"
     ]
    }
   ],
   "source": [
    "print(socket.gethostname())"
   ]
  },
  {
   "cell_type": "code",
   "execution_count": 4,
   "metadata": {},
   "outputs": [],
   "source": [
    "hosts = [\n",
    "    'apu',\n",
    "    'pymotw.com',\n",
    "    'www.python.org',\n",
    "    'nosuchname'\n",
    "]"
   ]
  },
  {
   "cell_type": "code",
   "execution_count": 5,
   "metadata": {},
   "outputs": [
    {
     "name": "stdout",
     "output_type": "stream",
     "text": [
      "apu -> [Errno 8] nodename nor servname provided, or not known\n",
      "pymotw.com -> 66.33.211.242\n",
      "www.python.org -> 151.101.36.223\n",
      "nosuchname -> [Errno 8] nodename nor servname provided, or not known\n"
     ]
    }
   ],
   "source": [
    "for host in hosts:\n",
    "    try:\n",
    "        print(f'{host} -> {socket.gethostbyname(host)}')\n",
    "    except socket.error as msg:\n",
    "        print(f'{host} -> {msg}')"
   ]
  },
  {
   "cell_type": "code",
   "execution_count": 7,
   "metadata": {},
   "outputs": [
    {
     "name": "stdout",
     "output_type": "stream",
     "text": [
      "Error: [Errno 8] nodename nor servname provided, or not known\n",
      "\n",
      " Hostname: pymotw.com\n",
      " Aliases: []\n",
      " Addresses: ['66.33.211.242']\n",
      "\n",
      " Hostname: dualstack.python.map.fastly.net\n",
      " Aliases: ['www.python.org']\n",
      " Addresses: ['151.101.36.223']\n",
      "\n",
      "Error: [Errno 8] nodename nor servname provided, or not known\n",
      "\n"
     ]
    }
   ],
   "source": [
    "for host in hosts:\n",
    "    try:\n",
    "        name, aliases, addresses = socket.gethostbyname_ex(host)\n",
    "        print(f' Hostname: {name}')\n",
    "        print(f' Aliases: {aliases}')\n",
    "        print(f' Addresses: {addresses}')\n",
    "    except socket.error as msg:\n",
    "        print('Error:', msg)\n",
    "    print()"
   ]
  },
  {
   "cell_type": "code",
   "execution_count": 8,
   "metadata": {},
   "outputs": [
    {
     "name": "stdout",
     "output_type": "stream",
     "text": [
      "apu -> apu\n",
      "pymotw.com -> apache2-zoo.george-washington.dreamhost.com\n",
      "www.python.org -> www.python.org\n",
      "nosuchname -> nosuchname\n"
     ]
    }
   ],
   "source": [
    "for host in hosts:\n",
    "    print(f'{host} -> {socket.getfqdn(host)}')"
   ]
  },
  {
   "cell_type": "code",
   "execution_count": 10,
   "metadata": {},
   "outputs": [],
   "source": [
    "import socket\n",
    "from urllib.parse import urlparse"
   ]
  },
  {
   "cell_type": "code",
   "execution_count": 12,
   "metadata": {},
   "outputs": [],
   "source": [
    "URLS = [\n",
    "    'http://www.python.org',\n",
    "    'https://www.mybank.com',\n",
    "    'ftp://prep.ai.mit.edu',\n",
    "    'gopher://gopher.micro.umn.edu',\n",
    "    'smtp://mail.example.com',\n",
    "    'imap://mail.example.com',\n",
    "    'imaps://mail.example.com',\n",
    "    'pop3://pop.example.com',\n",
    "    'pop3s://pop.example.com',\n",
    "]"
   ]
  },
  {
   "cell_type": "code",
   "execution_count": 17,
   "metadata": {},
   "outputs": [
    {
     "name": "stdout",
     "output_type": "stream",
     "text": [
      "ParseResult(scheme='http', netloc='www.python.org', path='', params='', query='', fragment='')\n",
      "  http : 80\n",
      "ParseResult(scheme='https', netloc='www.mybank.com', path='', params='', query='', fragment='')\n",
      " https : 443\n",
      "ParseResult(scheme='ftp', netloc='prep.ai.mit.edu', path='', params='', query='', fragment='')\n",
      "   ftp : 21\n",
      "ParseResult(scheme='gopher', netloc='gopher.micro.umn.edu', path='', params='', query='', fragment='')\n",
      "gopher : 70\n",
      "ParseResult(scheme='smtp', netloc='mail.example.com', path='', params='', query='', fragment='')\n",
      "  smtp : 25\n",
      "ParseResult(scheme='imap', netloc='mail.example.com', path='', params='', query='', fragment='')\n",
      "  imap : 143\n",
      "ParseResult(scheme='imaps', netloc='mail.example.com', path='', params='', query='', fragment='')\n",
      " imaps : 993\n",
      "ParseResult(scheme='pop3', netloc='pop.example.com', path='', params='', query='', fragment='')\n",
      "  pop3 : 110\n",
      "ParseResult(scheme='pop3s', netloc='pop.example.com', path='', params='', query='', fragment='')\n",
      " pop3s : 995\n"
     ]
    }
   ],
   "source": [
    "for url in URLS:\n",
    "    parsed_url = urlparse(url)\n",
    "    port = socket.getservbyname(parsed_url.scheme)\n",
    "    print(parsed_url)\n",
    "    print(\"{:>6} : {}\".format(parsed_url.scheme, port))"
   ]
  },
  {
   "cell_type": "code",
   "execution_count": 19,
   "metadata": {},
   "outputs": [],
   "source": [
    "import socket\n",
    "from urllib.parse import urlunparse"
   ]
  },
  {
   "cell_type": "code",
   "execution_count": 21,
   "metadata": {},
   "outputs": [
    {
     "name": "stdout",
     "output_type": "stream",
     "text": [
      "http://example.com/\n",
      "https://example.com/\n",
      "ftp://example.com/\n",
      "gopher://example.com/\n",
      "smtp://example.com/\n",
      "imap://example.com/\n",
      "imaps://example.com/\n",
      "pop3://example.com/\n",
      "pop3s://example.com/\n"
     ]
    }
   ],
   "source": [
    "for port in [80, 443, 21, 70, 25, 143, 993, 110, 995]:\n",
    "    url = '{}://example.com/'.format(socket.getservbyport(port))\n",
    "    print(url)"
   ]
  },
  {
   "cell_type": "code",
   "execution_count": 22,
   "metadata": {},
   "outputs": [
    {
     "data": {
      "text/plain": [
       "['AF_APPLETALK',\n",
       " 'AF_DECnet',\n",
       " 'AF_INET',\n",
       " 'AF_INET6',\n",
       " 'AF_IPX',\n",
       " 'AF_LINK',\n",
       " 'AF_ROUTE',\n",
       " 'AF_SNA',\n",
       " 'AF_SYSTEM',\n",
       " 'AF_UNIX',\n",
       " 'AF_UNSPEC',\n",
       " 'AI_ADDRCONFIG',\n",
       " 'AI_ALL',\n",
       " 'AI_CANONNAME',\n",
       " 'AI_DEFAULT',\n",
       " 'AI_MASK',\n",
       " 'AI_NUMERICHOST',\n",
       " 'AI_NUMERICSERV',\n",
       " 'AI_PASSIVE',\n",
       " 'AI_V4MAPPED',\n",
       " 'AI_V4MAPPED_CFG',\n",
       " 'AddressFamily',\n",
       " 'AddressInfo',\n",
       " 'CAPI',\n",
       " 'CMSG_LEN',\n",
       " 'CMSG_SPACE',\n",
       " 'EAGAIN',\n",
       " 'EAI_ADDRFAMILY',\n",
       " 'EAI_AGAIN',\n",
       " 'EAI_BADFLAGS',\n",
       " 'EAI_BADHINTS',\n",
       " 'EAI_FAIL',\n",
       " 'EAI_FAMILY',\n",
       " 'EAI_MAX',\n",
       " 'EAI_MEMORY',\n",
       " 'EAI_NODATA',\n",
       " 'EAI_NONAME',\n",
       " 'EAI_OVERFLOW',\n",
       " 'EAI_PROTOCOL',\n",
       " 'EAI_SERVICE',\n",
       " 'EAI_SOCKTYPE',\n",
       " 'EAI_SYSTEM',\n",
       " 'EBADF',\n",
       " 'EWOULDBLOCK',\n",
       " 'INADDR_ALLHOSTS_GROUP',\n",
       " 'INADDR_ANY',\n",
       " 'INADDR_BROADCAST',\n",
       " 'INADDR_LOOPBACK',\n",
       " 'INADDR_MAX_LOCAL_GROUP',\n",
       " 'INADDR_NONE',\n",
       " 'INADDR_UNSPEC_GROUP',\n",
       " 'IPPORT_RESERVED',\n",
       " 'IPPORT_USERRESERVED',\n",
       " 'IPPROTO_AH',\n",
       " 'IPPROTO_DSTOPTS',\n",
       " 'IPPROTO_EGP',\n",
       " 'IPPROTO_EON',\n",
       " 'IPPROTO_ESP',\n",
       " 'IPPROTO_FRAGMENT',\n",
       " 'IPPROTO_GGP',\n",
       " 'IPPROTO_GRE',\n",
       " 'IPPROTO_HELLO',\n",
       " 'IPPROTO_HOPOPTS',\n",
       " 'IPPROTO_ICMP',\n",
       " 'IPPROTO_ICMPV6',\n",
       " 'IPPROTO_IDP',\n",
       " 'IPPROTO_IGMP',\n",
       " 'IPPROTO_IP',\n",
       " 'IPPROTO_IPCOMP',\n",
       " 'IPPROTO_IPIP',\n",
       " 'IPPROTO_IPV4',\n",
       " 'IPPROTO_IPV6',\n",
       " 'IPPROTO_MAX',\n",
       " 'IPPROTO_ND',\n",
       " 'IPPROTO_NONE',\n",
       " 'IPPROTO_PIM',\n",
       " 'IPPROTO_PUP',\n",
       " 'IPPROTO_RAW',\n",
       " 'IPPROTO_ROUTING',\n",
       " 'IPPROTO_RSVP',\n",
       " 'IPPROTO_SCTP',\n",
       " 'IPPROTO_TCP',\n",
       " 'IPPROTO_TP',\n",
       " 'IPPROTO_UDP',\n",
       " 'IPPROTO_XTP',\n",
       " 'IPV6_CHECKSUM',\n",
       " 'IPV6_JOIN_GROUP',\n",
       " 'IPV6_LEAVE_GROUP',\n",
       " 'IPV6_MULTICAST_HOPS',\n",
       " 'IPV6_MULTICAST_IF',\n",
       " 'IPV6_MULTICAST_LOOP',\n",
       " 'IPV6_RECVTCLASS',\n",
       " 'IPV6_RTHDR_TYPE_0',\n",
       " 'IPV6_TCLASS',\n",
       " 'IPV6_UNICAST_HOPS',\n",
       " 'IPV6_V6ONLY',\n",
       " 'IP_ADD_MEMBERSHIP',\n",
       " 'IP_DEFAULT_MULTICAST_LOOP',\n",
       " 'IP_DEFAULT_MULTICAST_TTL',\n",
       " 'IP_DROP_MEMBERSHIP',\n",
       " 'IP_HDRINCL',\n",
       " 'IP_MAX_MEMBERSHIPS',\n",
       " 'IP_MULTICAST_IF',\n",
       " 'IP_MULTICAST_LOOP',\n",
       " 'IP_MULTICAST_TTL',\n",
       " 'IP_OPTIONS',\n",
       " 'IP_RECVDSTADDR',\n",
       " 'IP_RECVOPTS',\n",
       " 'IP_RECVRETOPTS',\n",
       " 'IP_RETOPTS',\n",
       " 'IP_TOS',\n",
       " 'IP_TTL',\n",
       " 'IntEnum',\n",
       " 'IntFlag',\n",
       " 'LOCAL_PEERCRED',\n",
       " 'MSG_CTRUNC',\n",
       " 'MSG_DONTROUTE',\n",
       " 'MSG_DONTWAIT',\n",
       " 'MSG_EOF',\n",
       " 'MSG_EOR',\n",
       " 'MSG_OOB',\n",
       " 'MSG_PEEK',\n",
       " 'MSG_TRUNC',\n",
       " 'MSG_WAITALL',\n",
       " 'MsgFlag',\n",
       " 'NI_DGRAM',\n",
       " 'NI_MAXHOST',\n",
       " 'NI_MAXSERV',\n",
       " 'NI_NAMEREQD',\n",
       " 'NI_NOFQDN',\n",
       " 'NI_NUMERICHOST',\n",
       " 'NI_NUMERICSERV',\n",
       " 'PF_SYSTEM',\n",
       " 'SCM_CREDS',\n",
       " 'SCM_RIGHTS',\n",
       " 'SHUT_RD',\n",
       " 'SHUT_RDWR',\n",
       " 'SHUT_WR',\n",
       " 'SOCK_DGRAM',\n",
       " 'SOCK_RAW',\n",
       " 'SOCK_RDM',\n",
       " 'SOCK_SEQPACKET',\n",
       " 'SOCK_STREAM',\n",
       " 'SOL_IP',\n",
       " 'SOL_SOCKET',\n",
       " 'SOL_TCP',\n",
       " 'SOL_UDP',\n",
       " 'SOMAXCONN',\n",
       " 'SO_ACCEPTCONN',\n",
       " 'SO_BROADCAST',\n",
       " 'SO_DEBUG',\n",
       " 'SO_DONTROUTE',\n",
       " 'SO_ERROR',\n",
       " 'SO_KEEPALIVE',\n",
       " 'SO_LINGER',\n",
       " 'SO_OOBINLINE',\n",
       " 'SO_RCVBUF',\n",
       " 'SO_RCVLOWAT',\n",
       " 'SO_RCVTIMEO',\n",
       " 'SO_REUSEADDR',\n",
       " 'SO_REUSEPORT',\n",
       " 'SO_SNDBUF',\n",
       " 'SO_SNDLOWAT',\n",
       " 'SO_SNDTIMEO',\n",
       " 'SO_TYPE',\n",
       " 'SO_USELOOPBACK',\n",
       " 'SYSPROTO_CONTROL',\n",
       " 'SocketIO',\n",
       " 'SocketKind',\n",
       " 'SocketType',\n",
       " 'TCP_KEEPCNT',\n",
       " 'TCP_KEEPINTVL',\n",
       " 'TCP_MAXSEG',\n",
       " 'TCP_NODELAY',\n",
       " '_GLOBAL_DEFAULT_TIMEOUT',\n",
       " '_GiveupOnSendfile',\n",
       " '_LOCALHOST',\n",
       " '_LOCALHOST_V6',\n",
       " '__all__',\n",
       " '__builtins__',\n",
       " '__cached__',\n",
       " '__doc__',\n",
       " '__file__',\n",
       " '__loader__',\n",
       " '__name__',\n",
       " '__package__',\n",
       " '__spec__',\n",
       " '_blocking_errnos',\n",
       " '_intenum_converter',\n",
       " '_realsocket',\n",
       " '_socket',\n",
       " 'close',\n",
       " 'create_connection',\n",
       " 'create_server',\n",
       " 'dup',\n",
       " 'errno',\n",
       " 'error',\n",
       " 'fromfd',\n",
       " 'gaierror',\n",
       " 'getaddrinfo',\n",
       " 'getdefaulttimeout',\n",
       " 'getfqdn',\n",
       " 'gethostbyaddr',\n",
       " 'gethostbyname',\n",
       " 'gethostbyname_ex',\n",
       " 'gethostname',\n",
       " 'getnameinfo',\n",
       " 'getprotobyname',\n",
       " 'getservbyname',\n",
       " 'getservbyport',\n",
       " 'has_dualstack_ipv6',\n",
       " 'has_ipv6',\n",
       " 'herror',\n",
       " 'htonl',\n",
       " 'htons',\n",
       " 'if_indextoname',\n",
       " 'if_nameindex',\n",
       " 'if_nametoindex',\n",
       " 'inet_aton',\n",
       " 'inet_ntoa',\n",
       " 'inet_ntop',\n",
       " 'inet_pton',\n",
       " 'io',\n",
       " 'ntohl',\n",
       " 'ntohs',\n",
       " 'os',\n",
       " 'selectors',\n",
       " 'setdefaulttimeout',\n",
       " 'sethostname',\n",
       " 'socket',\n",
       " 'socketpair',\n",
       " 'sys',\n",
       " 'timeout']"
      ]
     },
     "execution_count": 22,
     "metadata": {},
     "output_type": "execute_result"
    }
   ],
   "source": [
    "dir(socket)"
   ]
  },
  {
   "cell_type": "code",
   "execution_count": 26,
   "metadata": {},
   "outputs": [],
   "source": [
    "def get_constants(prefix):\n",
    "    return {\n",
    "        getattr(socket, n): n for n in dir(socket) if n.startswith(prefix)\n",
    "    }"
   ]
  },
  {
   "cell_type": "code",
   "execution_count": 31,
   "metadata": {},
   "outputs": [
    {
     "data": {
      "text/plain": [
       "{<AddressFamily.AF_APPLETALK: 16>: 'AF_APPLETALK',\n",
       " 12: 'AF_DECnet',\n",
       " <AddressFamily.AF_INET: 2>: 'AF_INET',\n",
       " <AddressFamily.AF_INET6: 30>: 'AF_INET6',\n",
       " <AddressFamily.AF_IPX: 23>: 'AF_IPX',\n",
       " <AddressFamily.AF_LINK: 18>: 'AF_LINK',\n",
       " <AddressFamily.AF_ROUTE: 17>: 'AF_ROUTE',\n",
       " <AddressFamily.AF_SNA: 11>: 'AF_SNA',\n",
       " <AddressFamily.AF_SYSTEM: 32>: 'AF_SYSTEM',\n",
       " <AddressFamily.AF_UNIX: 1>: 'AF_UNIX',\n",
       " <AddressFamily.AF_UNSPEC: 0>: 'AF_UNSPEC'}"
      ]
     },
     "execution_count": 31,
     "metadata": {},
     "output_type": "execute_result"
    }
   ],
   "source": [
    "get_constants('AF_')"
   ]
  },
  {
   "cell_type": "code",
   "execution_count": 32,
   "metadata": {},
   "outputs": [],
   "source": [
    "families = get_constants('AF_')"
   ]
  },
  {
   "cell_type": "code",
   "execution_count": 33,
   "metadata": {},
   "outputs": [
    {
     "data": {
      "text/plain": [
       "{<AddressFamily.AF_APPLETALK: 16>: 'AF_APPLETALK',\n",
       " 12: 'AF_DECnet',\n",
       " <AddressFamily.AF_INET: 2>: 'AF_INET',\n",
       " <AddressFamily.AF_INET6: 30>: 'AF_INET6',\n",
       " <AddressFamily.AF_IPX: 23>: 'AF_IPX',\n",
       " <AddressFamily.AF_LINK: 18>: 'AF_LINK',\n",
       " <AddressFamily.AF_ROUTE: 17>: 'AF_ROUTE',\n",
       " <AddressFamily.AF_SNA: 11>: 'AF_SNA',\n",
       " <AddressFamily.AF_SYSTEM: 32>: 'AF_SYSTEM',\n",
       " <AddressFamily.AF_UNIX: 1>: 'AF_UNIX',\n",
       " <AddressFamily.AF_UNSPEC: 0>: 'AF_UNSPEC'}"
      ]
     },
     "execution_count": 33,
     "metadata": {},
     "output_type": "execute_result"
    }
   ],
   "source": [
    "families"
   ]
  },
  {
   "cell_type": "code",
   "execution_count": 34,
   "metadata": {},
   "outputs": [],
   "source": [
    "types = get_constants('SOCK_')"
   ]
  },
  {
   "cell_type": "code",
   "execution_count": 35,
   "metadata": {},
   "outputs": [
    {
     "data": {
      "text/plain": [
       "{<SocketKind.SOCK_DGRAM: 2>: 'SOCK_DGRAM',\n",
       " <SocketKind.SOCK_RAW: 3>: 'SOCK_RAW',\n",
       " <SocketKind.SOCK_RDM: 4>: 'SOCK_RDM',\n",
       " <SocketKind.SOCK_SEQPACKET: 5>: 'SOCK_SEQPACKET',\n",
       " <SocketKind.SOCK_STREAM: 1>: 'SOCK_STREAM'}"
      ]
     },
     "execution_count": 35,
     "metadata": {},
     "output_type": "execute_result"
    }
   ],
   "source": [
    "types"
   ]
  },
  {
   "cell_type": "code",
   "execution_count": 36,
   "metadata": {},
   "outputs": [],
   "source": [
    "protocols = get_constants('IPPROTO_')"
   ]
  },
  {
   "cell_type": "code",
   "execution_count": 37,
   "metadata": {},
   "outputs": [
    {
     "data": {
      "text/plain": [
       "{51: 'IPPROTO_AH',\n",
       " 60: 'IPPROTO_DSTOPTS',\n",
       " 8: 'IPPROTO_EGP',\n",
       " 80: 'IPPROTO_EON',\n",
       " 50: 'IPPROTO_ESP',\n",
       " 44: 'IPPROTO_FRAGMENT',\n",
       " 3: 'IPPROTO_GGP',\n",
       " 47: 'IPPROTO_GRE',\n",
       " 63: 'IPPROTO_HELLO',\n",
       " 0: 'IPPROTO_IP',\n",
       " 1: 'IPPROTO_ICMP',\n",
       " 58: 'IPPROTO_ICMPV6',\n",
       " 22: 'IPPROTO_IDP',\n",
       " 2: 'IPPROTO_IGMP',\n",
       " 108: 'IPPROTO_IPCOMP',\n",
       " 4: 'IPPROTO_IPV4',\n",
       " 41: 'IPPROTO_IPV6',\n",
       " 256: 'IPPROTO_MAX',\n",
       " 77: 'IPPROTO_ND',\n",
       " 59: 'IPPROTO_NONE',\n",
       " 103: 'IPPROTO_PIM',\n",
       " 12: 'IPPROTO_PUP',\n",
       " 255: 'IPPROTO_RAW',\n",
       " 43: 'IPPROTO_ROUTING',\n",
       " 46: 'IPPROTO_RSVP',\n",
       " 132: 'IPPROTO_SCTP',\n",
       " 6: 'IPPROTO_TCP',\n",
       " 29: 'IPPROTO_TP',\n",
       " 17: 'IPPROTO_UDP',\n",
       " 36: 'IPPROTO_XTP'}"
      ]
     },
     "execution_count": 37,
     "metadata": {},
     "output_type": "execute_result"
    }
   ],
   "source": [
    "protocols"
   ]
  },
  {
   "cell_type": "code",
   "execution_count": 41,
   "metadata": {},
   "outputs": [
    {
     "name": "stdout",
     "output_type": "stream",
     "text": [
      "Response: (<AddressFamily.AF_INET: 2>, <SocketKind.SOCK_DGRAM: 2>, 17, '', ('151.101.36.223', 80))\n",
      "Family: AF_INET\n",
      "Type: SOCK_DGRAM\n",
      "Protocol: IPPROTO_UDP\n",
      "Canonical name: \n",
      "Socket address: ('151.101.36.223', 80)\n",
      "\n",
      "Response: (<AddressFamily.AF_INET: 2>, <SocketKind.SOCK_STREAM: 1>, 6, '', ('151.101.36.223', 80))\n",
      "Family: AF_INET\n",
      "Type: SOCK_STREAM\n",
      "Protocol: IPPROTO_TCP\n",
      "Canonical name: \n",
      "Socket address: ('151.101.36.223', 80)\n",
      "\n"
     ]
    }
   ],
   "source": [
    "for response in socket.getaddrinfo('www.python.org', 'http'):\n",
    "    family, socktype, proto, canonname, sockaddr = response\n",
    "    print(f'Response: {response}')\n",
    "    print(f'Family: {families[family]}')\n",
    "    print(f'Type: {types[socktype]}')\n",
    "    print(f'Protocol: {protocols[proto]}')\n",
    "    print(f'Canonical name: {canonname}')\n",
    "    print(f'Socket address: {sockaddr}')\n",
    "    print()"
   ]
  },
  {
   "cell_type": "code",
   "execution_count": 42,
   "metadata": {},
   "outputs": [],
   "source": [
    "import binascii\n",
    "import socket\n",
    "import struct\n",
    "import sys"
   ]
  },
  {
   "cell_type": "code",
   "execution_count": 48,
   "metadata": {},
   "outputs": [
    {
     "name": "stdout",
     "output_type": "stream",
     "text": [
      "Original: 192.168.1.1\n",
      "Packed Hexified: b'\\xc0\\xa8\\x01\\x01'\n",
      "Packed: b'c0a80101'\n",
      "Unpacked: 192.168.1.1\n",
      "\n",
      "Original: 127.0.0.1\n",
      "Packed Hexified: b'\\x7f\\x00\\x00\\x01'\n",
      "Packed: b'7f000001'\n",
      "Unpacked: 127.0.0.1\n",
      "\n"
     ]
    }
   ],
   "source": [
    "for string_address in ['192.168.1.1', '127.0.0.1']:\n",
    "    packed = socket.inet_aton(string_address)\n",
    "    print(f'Original: {string_address}')\n",
    "    print(f'Packed Hexified: {packed}')\n",
    "    print(f'Packed: {binascii.hexlify(packed)}')\n",
    "    print(f'Unpacked: {socket.inet_ntoa(packed)}')\n",
    "    print()"
   ]
  },
  {
   "cell_type": "code",
   "execution_count": 45,
   "metadata": {},
   "outputs": [],
   "source": [
    "import binascii\n",
    "import socket\n",
    "import struct\n",
    "import sys"
   ]
  },
  {
   "cell_type": "code",
   "execution_count": 47,
   "metadata": {},
   "outputs": [
    {
     "name": "stdout",
     "output_type": "stream",
     "text": [
      "Original: 2002:ac10:10a:1234:21e:52ff:fe74:40e\n",
      "Packed: b' \\x02\\xac\\x10\\x01\\n\\x124\\x02\\x1eR\\xff\\xfet\\x04\\x0e'\n",
      "Packed Hexlified: b'2002ac10010a1234021e52fffe74040e'\n",
      "Unpacked: 2002:ac10:10a:1234:21e:52ff:fe74:40e\n"
     ]
    }
   ],
   "source": [
    "string_address = '2002:ac10:10a:1234:21e:52ff:fe74:40e'\n",
    "packed = socket.inet_pton(socket.AF_INET6, string_address)\n",
    "\n",
    "print(f'Original: {string_address}')\n",
    "print(f'Packed: {packed}')\n",
    "print(f'Packed Hexlified: {binascii.hexlify(packed)}')\n",
    "print(f'Unpacked: {socket.inet_ntop(socket.AF_INET6, packed)}')"
   ]
  },
  {
   "cell_type": "code",
   "execution_count": null,
   "metadata": {},
   "outputs": [],
   "source": []
  }
 ],
 "metadata": {
  "kernelspec": {
   "display_name": "Python 3",
   "language": "python",
   "name": "python3"
  },
  "language_info": {
   "codemirror_mode": {
    "name": "ipython",
    "version": 3
   },
   "file_extension": ".py",
   "mimetype": "text/x-python",
   "name": "python",
   "nbconvert_exporter": "python",
   "pygments_lexer": "ipython3",
   "version": "3.8.0"
  }
 },
 "nbformat": 4,
 "nbformat_minor": 2
}
