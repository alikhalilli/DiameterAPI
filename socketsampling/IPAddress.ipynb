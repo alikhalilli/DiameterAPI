{
 "cells": [
  {
   "cell_type": "markdown",
   "metadata": {},
   "source": [
    "## Internet Adresses"
   ]
  },
  {
   "cell_type": "code",
   "execution_count": 1,
   "metadata": {},
   "outputs": [],
   "source": [
    "import binascii\n",
    "import ipaddress"
   ]
  },
  {
   "cell_type": "code",
   "execution_count": 41,
   "metadata": {},
   "outputs": [],
   "source": [
    "ADDRESSES = [\n",
    "    '10.9.0.6/24',\n",
    "    'fdfd:87b5:b475:5e3e:b1bc:e121:a8eb:14aa/64',\n",
    "]"
   ]
  },
  {
   "cell_type": "code",
   "execution_count": 19,
   "metadata": {},
   "outputs": [
    {
     "name": "stdout",
     "output_type": "stream",
     "text": [
      "IPv4Address('10.9.0.6')\n",
      "   IP Version: 4\n",
      "   is private: True\n",
      "  packed form: b'0a090006'\n",
      "      integer: 168361990\n",
      "\n",
      "IPv6Address('fdfd:87b5:b475:5e3e:b1bc:e121:a8eb:14aa')\n",
      "   IP Version: 6\n",
      "   is private: True\n",
      "  packed form: b'fdfd87b5b4755e3eb1bce121a8eb14aa'\n",
      "      integer: 337611086560236126439725644408160982186\n",
      "\n"
     ]
    }
   ],
   "source": [
    "for ip in ADDRESSES:\n",
    "    addr = ipaddress.ip_address(ip)\n",
    "    print('{!r}'.format(addr))\n",
    "    print(f'   IP Version: {addr.version}')\n",
    "    print(f'   is private: {addr.is_private}')\n",
    "    print(f'  packed form: {binascii.hexlify(addr.packed)}')\n",
    "    print(f'      integer: {int(addr)}')\n",
    "    print()"
   ]
  },
  {
   "cell_type": "code",
   "execution_count": 25,
   "metadata": {},
   "outputs": [
    {
     "name": "stdout",
     "output_type": "stream",
     "text": [
      "IPv4Network('10.9.0.0/24')\n",
      "  is private: True,\n",
      "  broadcast: 10.9.0.255,\n",
      "  compressed: 10.9.0.0/24,\n",
      "  with netmask: 10.9.0.0/255.255.255.0,\n",
      "  with hostmask: 10.9.0.0/0.0.0.255,\n",
      "  num addresses: 256\n",
      "    \n",
      "IPv6Network('fdfd:87b5:b475:5e3e::/64')\n",
      "  is private: True,\n",
      "  broadcast: fdfd:87b5:b475:5e3e:ffff:ffff:ffff:ffff,\n",
      "  compressed: fdfd:87b5:b475:5e3e::/64,\n",
      "  with netmask: fdfd:87b5:b475:5e3e::/ffff:ffff:ffff:ffff::,\n",
      "  with hostmask: fdfd:87b5:b475:5e3e::/::ffff:ffff:ffff:ffff,\n",
      "  num addresses: 18446744073709551616\n",
      "    \n"
     ]
    }
   ],
   "source": [
    "NETWORKS = [\n",
    "    '10.9.0.0/24',\n",
    "    'fdfd:87b5:b475:5e3e::/64'\n",
    "]\n",
    "\n",
    "for n in NETWORKS:\n",
    "    net = ipaddress.ip_network(n)\n",
    "    print('{!r}'.format(net))\n",
    "    print(f\"\"\"  is private: {net.is_private},\n",
    "  broadcast: {net.broadcast_address},\n",
    "  compressed: {net.compressed},\n",
    "  with netmask: {net.with_netmask},\n",
    "  with hostmask: {net.with_hostmask},\n",
    "  num addresses: {net.num_addresses}\n",
    "    \"\"\")"
   ]
  },
  {
   "cell_type": "code",
   "execution_count": 33,
   "metadata": {},
   "outputs": [
    {
     "name": "stdout",
     "output_type": "stream",
     "text": [
      "Net: 10.9.0.0/24\n",
      "10.9.0.0\n",
      "10.9.0.1\n",
      "10.9.0.2\n",
      "\n",
      "Net: fdfd:87b5:b475:5e3e::/64\n",
      "fdfd:87b5:b475:5e3e::\n",
      "fdfd:87b5:b475:5e3e::1\n",
      "fdfd:87b5:b475:5e3e::2\n",
      "\n"
     ]
    }
   ],
   "source": [
    "for n in NETWORKS:\n",
    "    net = ipaddress.ip_network(n)\n",
    "    print(f\"Net: {net}\")\n",
    "    for i, ip in zip(range(3), net):\n",
    "        print(ip)\n",
    "    print()"
   ]
  },
  {
   "cell_type": "code",
   "execution_count": 35,
   "metadata": {},
   "outputs": [
    {
     "name": "stdout",
     "output_type": "stream",
     "text": [
      "IPv4Network('10.9.0.0/24')\n",
      "10.9.0.1\n",
      "10.9.0.2\n",
      "10.9.0.3\n",
      "\n",
      "IPv6Network('fdfd:87b5:b475:5e3e::/64')\n",
      "fdfd:87b5:b475:5e3e::1\n",
      "fdfd:87b5:b475:5e3e::2\n",
      "fdfd:87b5:b475:5e3e::3\n",
      "\n"
     ]
    }
   ],
   "source": [
    "NETWORKS = [\n",
    "    '10.9.0.0/24',\n",
    "    'fdfd:87b5:b475:5e3e::/64'\n",
    "]\n",
    "\n",
    "for n in NETWORKS:\n",
    "    net = ipaddress.ip_network(n)\n",
    "    print('{!r}'.format(net))\n",
    "    for i, ip in zip(range(3), net.hosts()):\n",
    "        print(ip)\n",
    "    print()"
   ]
  },
  {
   "cell_type": "code",
   "execution_count": 52,
   "metadata": {},
   "outputs": [
    {
     "name": "stdout",
     "output_type": "stream",
     "text": [
      "10.9.0.6 is on 10.9.0.0/24\n",
      "fdfd:87b5:b475:5e3e:b1bc:e121:a8eb:14aa is not in 10.9.0.0/24\n",
      "fdfd:87b5:b475:5e3e:b1bc:e121:a8eb:14aa is on fdfd:87b5:b475:5e3e::/64\n"
     ]
    }
   ],
   "source": [
    "ADDRESSES_str = [\n",
    "    '10.9.0.6',\n",
    "    'fdfd:87b5:b475:5e3e:b1bc:e121:a8eb:14aa',\n",
    "]\n",
    "\n",
    "NETWORKS_str = [\n",
    "    '10.9.0.0/24',\n",
    "    'fdfd:87b5:b475:5e3e::/64'\n",
    "]\n",
    "\n",
    "ADDRESSES = [ipaddress.ip_address(ip) for ip in ADDRESSESSTR]\n",
    "NETWORKS = [ipaddress.ip_network(net) for net in NETWORKS_str]\n",
    "for ip in ADDRESSES:\n",
    "    for net in NETWORKS:\n",
    "        if ip in net:\n",
    "            print(f'{ip} is on {net}')\n",
    "            break\n",
    "        else:\n",
    "            print(f'{ip} is not in {net}')"
   ]
  },
  {
   "cell_type": "code",
   "execution_count": 59,
   "metadata": {},
   "outputs": [
    {
     "name": "stdout",
     "output_type": "stream",
     "text": [
      "10.9.0.6/32\n",
      "10.9.0.6/32\n",
      "10.9.0.6/32\n",
      "10.9.0.6/255.255.255.255\n",
      "10.9.0.6/0.0.0.0\n",
      "\n",
      "fdfd:87b5:b475:5e3e:b1bc:e121:a8eb:14aa/128\n",
      "fdfd:87b5:b475:5e3e:b1bc:e121:a8eb:14aa/128\n",
      "fdfd:87b5:b475:5e3e:b1bc:e121:a8eb:14aa/128\n",
      "fdfd:87b5:b475:5e3e:b1bc:e121:a8eb:14aa/ffff:ffff:ffff:ffff:ffff:ffff:ffff:ffff\n",
      "fdfd:87b5:b475:5e3e:b1bc:e121:a8eb:14aa/::\n",
      "\n"
     ]
    }
   ],
   "source": [
    "for ip in ADDRESSES_str:\n",
    "    iface = ipaddress.ip_interface(ip)\n",
    "    print(iface)\n",
    "    print(iface.network)\n",
    "    print(iface.with_prefixlen)\n",
    "    print(iface.with_netmask)\n",
    "    print(iface.with_hostmask)\n",
    "    print()"
   ]
  },
  {
   "cell_type": "code",
   "execution_count": null,
   "metadata": {},
   "outputs": [],
   "source": []
  }
 ],
 "metadata": {
  "kernelspec": {
   "display_name": "Python 3",
   "language": "python",
   "name": "python3"
  },
  "language_info": {
   "codemirror_mode": {
    "name": "ipython",
    "version": 3
   },
   "file_extension": ".py",
   "mimetype": "text/x-python",
   "name": "python",
   "nbconvert_exporter": "python",
   "pygments_lexer": "ipython3",
   "version": "3.8.0"
  }
 },
 "nbformat": 4,
 "nbformat_minor": 2
}
