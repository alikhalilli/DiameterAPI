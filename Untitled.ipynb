{
 "cells": [
  {
   "cell_type": "code",
   "execution_count": 1,
   "metadata": {},
   "outputs": [],
   "source": [
    "import struct"
   ]
  },
  {
   "cell_type": "code",
   "execution_count": 8,
   "metadata": {},
   "outputs": [
    {
     "data": {
      "text/plain": [
       "(b'ali',)"
      ]
     },
     "execution_count": 8,
     "metadata": {},
     "output_type": "execute_result"
    }
   ],
   "source": [
    "struct.unpack('!3s', 'ali'.encode('utf-8'))"
   ]
  },
  {
   "cell_type": "code",
   "execution_count": 9,
   "metadata": {},
   "outputs": [
    {
     "data": {
      "text/plain": [
       "254"
      ]
     },
     "execution_count": 9,
     "metadata": {},
     "output_type": "execute_result"
    }
   ],
   "source": [
    "0xfe"
   ]
  },
  {
   "cell_type": "code",
   "execution_count": 10,
   "metadata": {},
   "outputs": [
    {
     "data": {
      "text/plain": [
       "25"
      ]
     },
     "execution_count": 10,
     "metadata": {},
     "output_type": "execute_result"
    }
   ],
   "source": [
    "0x19"
   ]
  },
  {
   "cell_type": "code",
   "execution_count": 17,
   "metadata": {},
   "outputs": [
    {
     "data": {
      "text/plain": [
       "6"
      ]
     },
     "execution_count": 17,
     "metadata": {},
     "output_type": "execute_result"
    }
   ],
   "source": [
    "len('sa'.encode('utf-16'))"
   ]
  },
  {
   "cell_type": "code",
   "execution_count": 25,
   "metadata": {},
   "outputs": [
    {
     "data": {
      "text/plain": [
       "b'\\x01\\x00\\x02\\x00\\x03\\x00'"
      ]
     },
     "execution_count": 25,
     "metadata": {},
     "output_type": "execute_result"
    }
   ],
   "source": [
    "struct.pack('hhh', 1, 2, 3)"
   ]
  },
  {
   "cell_type": "code",
   "execution_count": 27,
   "metadata": {},
   "outputs": [
    {
     "data": {
      "text/plain": [
       "4"
      ]
     },
     "execution_count": 27,
     "metadata": {},
     "output_type": "execute_result"
    }
   ],
   "source": [
    "struct.calcsize('hh')"
   ]
  },
  {
   "cell_type": "code",
   "execution_count": 34,
   "metadata": {},
   "outputs": [
    {
     "data": {
      "text/plain": [
       "b'\\x01\\x00\\x02\\x00\\x00\\x00\\x00\\x00\\x03\\x00\\x00\\x00\\x00\\x00\\x00\\x00'"
      ]
     },
     "execution_count": 34,
     "metadata": {},
     "output_type": "execute_result"
    }
   ],
   "source": [
    "struct.pack('hhl', 1, 2, 3)"
   ]
  },
  {
   "cell_type": "code",
   "execution_count": 36,
   "metadata": {},
   "outputs": [
    {
     "data": {
      "text/plain": [
       "3"
      ]
     },
     "execution_count": 36,
     "metadata": {},
     "output_type": "execute_result"
    }
   ],
   "source": [
    "struct.calcsize('3s')"
   ]
  },
  {
   "cell_type": "code",
   "execution_count": 42,
   "metadata": {},
   "outputs": [
    {
     "data": {
      "text/plain": [
       "8"
      ]
     },
     "execution_count": 42,
     "metadata": {},
     "output_type": "execute_result"
    }
   ],
   "source": [
    "struct.calcsize('!hhl')"
   ]
  },
  {
   "cell_type": "code",
   "execution_count": 43,
   "metadata": {},
   "outputs": [
    {
     "data": {
      "text/plain": [
       "b'*\\x00\\x00\\x00\\x15\\x14\\x13\\x12'"
      ]
     },
     "execution_count": 43,
     "metadata": {},
     "output_type": "execute_result"
    }
   ],
   "source": [
    "struct.pack('ci', b'*', 0x12131415)"
   ]
  },
  {
   "cell_type": "code",
   "execution_count": 44,
   "metadata": {},
   "outputs": [
    {
     "data": {
      "text/plain": [
       "b'\\x15\\x14\\x13\\x12*'"
      ]
     },
     "execution_count": 44,
     "metadata": {},
     "output_type": "execute_result"
    }
   ],
   "source": [
    "struct.pack('ic', 0x12131415, b'*')"
   ]
  },
  {
   "cell_type": "code",
   "execution_count": 45,
   "metadata": {},
   "outputs": [
    {
     "data": {
      "text/plain": [
       "8"
      ]
     },
     "execution_count": 45,
     "metadata": {},
     "output_type": "execute_result"
    }
   ],
   "source": [
    "struct.calcsize('ci')"
   ]
  },
  {
   "cell_type": "code",
   "execution_count": 46,
   "metadata": {},
   "outputs": [
    {
     "data": {
      "text/plain": [
       "5"
      ]
     },
     "execution_count": 46,
     "metadata": {},
     "output_type": "execute_result"
    }
   ],
   "source": [
    "struct.calcsize('ic')"
   ]
  },
  {
   "cell_type": "code",
   "execution_count": 47,
   "metadata": {},
   "outputs": [
    {
     "data": {
      "text/plain": [
       "(4658, 264, 8)"
      ]
     },
     "execution_count": 47,
     "metadata": {},
     "output_type": "execute_result"
    }
   ],
   "source": [
    "struct.unpack('<HHb', b'\\x32\\x12\\x08\\x01\\x08')"
   ]
  },
  {
   "cell_type": "code",
   "execution_count": 50,
   "metadata": {},
   "outputs": [
    {
     "data": {
      "text/plain": [
       "b'2\\x12\\x08\\x01\\x08'"
      ]
     },
     "execution_count": 50,
     "metadata": {},
     "output_type": "execute_result"
    }
   ],
   "source": [
    "struct.pack('<HHb', 4658, 264, 8)"
   ]
  },
  {
   "cell_type": "code",
   "execution_count": 59,
   "metadata": {},
   "outputs": [
    {
     "data": {
      "text/plain": [
       "(4658, 264, 8)"
      ]
     },
     "execution_count": 59,
     "metadata": {},
     "output_type": "execute_result"
    }
   ],
   "source": [
    "struct.unpack('<HHb', b'2\\x12\\x08\\x01\\x08')"
   ]
  },
  {
   "cell_type": "code",
   "execution_count": 86,
   "metadata": {},
   "outputs": [
    {
     "data": {
      "text/plain": [
       "(b'\\x12',)"
      ]
     },
     "execution_count": 86,
     "metadata": {},
     "output_type": "execute_result"
    }
   ],
   "source": [
    "struct.unpack('<s', b'\\x12')"
   ]
  },
  {
   "cell_type": "code",
   "execution_count": 91,
   "metadata": {},
   "outputs": [
    {
     "data": {
      "text/plain": [
       "'0b10'"
      ]
     },
     "execution_count": 91,
     "metadata": {},
     "output_type": "execute_result"
    }
   ],
   "source": [
    "bin(2)"
   ]
  },
  {
   "cell_type": "code",
   "execution_count": 92,
   "metadata": {},
   "outputs": [
    {
     "data": {
      "text/plain": [
       "'0b10010'"
      ]
     },
     "execution_count": 92,
     "metadata": {},
     "output_type": "execute_result"
    }
   ],
   "source": [
    "bin(0x12)"
   ]
  },
  {
   "cell_type": "code",
   "execution_count": 98,
   "metadata": {},
   "outputs": [
    {
     "data": {
      "text/plain": [
       "37"
      ]
     },
     "execution_count": 98,
     "metadata": {},
     "output_type": "execute_result"
    }
   ],
   "source": [
    "0b0100101"
   ]
  },
  {
   "cell_type": "code",
   "execution_count": 99,
   "metadata": {},
   "outputs": [
    {
     "data": {
      "text/plain": [
       "74"
      ]
     },
     "execution_count": 99,
     "metadata": {},
     "output_type": "execute_result"
    }
   ],
   "source": [
    "0b1001010"
   ]
  },
  {
   "cell_type": "code",
   "execution_count": 176,
   "metadata": {},
   "outputs": [
    {
     "data": {
      "text/plain": [
       "b'\\x122'"
      ]
     },
     "execution_count": 176,
     "metadata": {},
     "output_type": "execute_result"
    }
   ],
   "source": [
    "struct.pack('>h', 4658)"
   ]
  },
  {
   "cell_type": "code",
   "execution_count": 101,
   "metadata": {},
   "outputs": [
    {
     "data": {
      "text/plain": [
       "'0x1232'"
      ]
     },
     "execution_count": 101,
     "metadata": {},
     "output_type": "execute_result"
    }
   ],
   "source": [
    "hex(4658)"
   ]
  },
  {
   "cell_type": "code",
   "execution_count": 102,
   "metadata": {},
   "outputs": [
    {
     "data": {
      "text/plain": [
       "18"
      ]
     },
     "execution_count": 102,
     "metadata": {},
     "output_type": "execute_result"
    }
   ],
   "source": [
    "0x12"
   ]
  },
  {
   "cell_type": "code",
   "execution_count": 104,
   "metadata": {},
   "outputs": [
    {
     "data": {
      "text/plain": [
       "'0b1001000110010'"
      ]
     },
     "execution_count": 104,
     "metadata": {},
     "output_type": "execute_result"
    }
   ],
   "source": [
    "bin(0x1232)"
   ]
  },
  {
   "cell_type": "code",
   "execution_count": 105,
   "metadata": {},
   "outputs": [
    {
     "data": {
      "text/plain": [
       "'0b10'"
      ]
     },
     "execution_count": 105,
     "metadata": {},
     "output_type": "execute_result"
    }
   ],
   "source": [
    "bin(2)"
   ]
  },
  {
   "cell_type": "code",
   "execution_count": 106,
   "metadata": {},
   "outputs": [
    {
     "data": {
      "text/plain": [
       "562"
      ]
     },
     "execution_count": 106,
     "metadata": {},
     "output_type": "execute_result"
    }
   ],
   "source": [
    "0b01000110010"
   ]
  },
  {
   "cell_type": "code",
   "execution_count": 110,
   "metadata": {},
   "outputs": [
    {
     "data": {
      "text/plain": [
       "'0b100100010'"
      ]
     },
     "execution_count": 110,
     "metadata": {},
     "output_type": "execute_result"
    }
   ],
   "source": [
    "bin(0x122)"
   ]
  },
  {
   "cell_type": "code",
   "execution_count": 111,
   "metadata": {},
   "outputs": [
    {
     "data": {
      "text/plain": [
       "'0b0'"
      ]
     },
     "execution_count": 111,
     "metadata": {},
     "output_type": "execute_result"
    }
   ],
   "source": [
    "bin(0)"
   ]
  },
  {
   "cell_type": "code",
   "execution_count": 120,
   "metadata": {},
   "outputs": [
    {
     "data": {
      "text/plain": [
       "1160"
      ]
     },
     "execution_count": 120,
     "metadata": {},
     "output_type": "execute_result"
    }
   ],
   "source": [
    "0b10010001000"
   ]
  },
  {
   "cell_type": "code",
   "execution_count": 123,
   "metadata": {},
   "outputs": [
    {
     "data": {
      "text/plain": [
       "'2\\x12'"
      ]
     },
     "execution_count": 123,
     "metadata": {},
     "output_type": "execute_result"
    }
   ],
   "source": [
    "bytes(b'2\\x12')"
   ]
  },
  {
   "cell_type": "code",
   "execution_count": 126,
   "metadata": {},
   "outputs": [
    {
     "data": {
      "text/plain": [
       "'0b1111000'"
      ]
     },
     "execution_count": 126,
     "metadata": {},
     "output_type": "execute_result"
    }
   ],
   "source": [
    "bin(120)"
   ]
  },
  {
   "cell_type": "code",
   "execution_count": 127,
   "metadata": {},
   "outputs": [
    {
     "ename": "TypeError",
     "evalue": "'bytes' object cannot be interpreted as an integer",
     "output_type": "error",
     "traceback": [
      "\u001b[0;31m---------------------------------------------------------------------------\u001b[0m",
      "\u001b[0;31mTypeError\u001b[0m                                 Traceback (most recent call last)",
      "\u001b[0;32m<ipython-input-127-8c5dff86acbe>\u001b[0m in \u001b[0;36m<module>\u001b[0;34m\u001b[0m\n\u001b[0;32m----> 1\u001b[0;31m \u001b[0mbin\u001b[0m\u001b[0;34m(\u001b[0m\u001b[0;34mb'\\x00\\x01\\x00\\x02'\u001b[0m\u001b[0;34m)\u001b[0m\u001b[0;34m\u001b[0m\u001b[0;34m\u001b[0m\u001b[0m\n\u001b[0m",
      "\u001b[0;31mTypeError\u001b[0m: 'bytes' object cannot be interpreted as an integer"
     ]
    }
   ],
   "source": [
    "bin(b'\\x00\\x01\\x00\\x02')"
   ]
  },
  {
   "cell_type": "code",
   "execution_count": 135,
   "metadata": {},
   "outputs": [
    {
     "data": {
      "text/plain": [
       "'0b0'"
      ]
     },
     "execution_count": 135,
     "metadata": {},
     "output_type": "execute_result"
    }
   ],
   "source": [
    "bin(0x00)"
   ]
  },
  {
   "cell_type": "code",
   "execution_count": 134,
   "metadata": {},
   "outputs": [
    {
     "data": {
      "text/plain": [
       "'0b1'"
      ]
     },
     "execution_count": 134,
     "metadata": {},
     "output_type": "execute_result"
    }
   ],
   "source": [
    "bin(0x01)"
   ]
  },
  {
   "cell_type": "code",
   "execution_count": 133,
   "metadata": {},
   "outputs": [
    {
     "data": {
      "text/plain": [
       "'0b0'"
      ]
     },
     "execution_count": 133,
     "metadata": {},
     "output_type": "execute_result"
    }
   ],
   "source": [
    "bin(0x00)"
   ]
  },
  {
   "cell_type": "code",
   "execution_count": 132,
   "metadata": {},
   "outputs": [
    {
     "data": {
      "text/plain": [
       "'0b10'"
      ]
     },
     "execution_count": 132,
     "metadata": {},
     "output_type": "execute_result"
    }
   ],
   "source": [
    "bin(0x02)"
   ]
  },
  {
   "cell_type": "code",
   "execution_count": 139,
   "metadata": {},
   "outputs": [
    {
     "data": {
      "text/plain": [
       "0"
      ]
     },
     "execution_count": 139,
     "metadata": {},
     "output_type": "execute_result"
    }
   ],
   "source": [
    "0b00000000"
   ]
  },
  {
   "cell_type": "code",
   "execution_count": 141,
   "metadata": {},
   "outputs": [
    {
     "data": {
      "text/plain": [
       "bytes"
      ]
     },
     "execution_count": 141,
     "metadata": {},
     "output_type": "execute_result"
    }
   ],
   "source": [
    "type(bytes([1, 2]))"
   ]
  },
  {
   "cell_type": "code",
   "execution_count": 149,
   "metadata": {},
   "outputs": [
    {
     "data": {
      "text/plain": [
       "b'\\x01\\x02\\x03'"
      ]
     },
     "execution_count": 149,
     "metadata": {},
     "output_type": "execute_result"
    }
   ],
   "source": [
    "bytes([1, 2, 3])"
   ]
  },
  {
   "cell_type": "code",
   "execution_count": 154,
   "metadata": {},
   "outputs": [
    {
     "data": {
      "text/plain": [
       "b'ali'"
      ]
     },
     "execution_count": 154,
     "metadata": {},
     "output_type": "execute_result"
    }
   ],
   "source": [
    "bytes(b'ali')"
   ]
  },
  {
   "cell_type": "code",
   "execution_count": 170,
   "metadata": {},
   "outputs": [
    {
     "data": {
      "text/plain": [
       "b'\\x01\\x00'"
      ]
     },
     "execution_count": 170,
     "metadata": {},
     "output_type": "execute_result"
    }
   ],
   "source": [
    "struct.pack('>h',256)"
   ]
  },
  {
   "cell_type": "code",
   "execution_count": 175,
   "metadata": {},
   "outputs": [
    {
     "data": {
      "text/plain": [
       "'0x1232'"
      ]
     },
     "execution_count": 175,
     "metadata": {},
     "output_type": "execute_result"
    }
   ],
   "source": [
    "hex(4658)"
   ]
  },
  {
   "cell_type": "code",
   "execution_count": 184,
   "metadata": {},
   "outputs": [
    {
     "data": {
      "text/plain": [
       "b'\\x02\\x01'"
      ]
     },
     "execution_count": 184,
     "metadata": {},
     "output_type": "execute_result"
    }
   ],
   "source": [
    "struct.pack('>h', 513)"
   ]
  },
  {
   "cell_type": "code",
   "execution_count": 185,
   "metadata": {},
   "outputs": [
    {
     "data": {
      "text/plain": [
       "'0x201'"
      ]
     },
     "execution_count": 185,
     "metadata": {},
     "output_type": "execute_result"
    }
   ],
   "source": [
    "hex(513)"
   ]
  },
  {
   "cell_type": "code",
   "execution_count": 186,
   "metadata": {},
   "outputs": [
    {
     "data": {
      "text/plain": [
       "513"
      ]
     },
     "execution_count": 186,
     "metadata": {},
     "output_type": "execute_result"
    }
   ],
   "source": [
    "0x0201"
   ]
  },
  {
   "cell_type": "code",
   "execution_count": 189,
   "metadata": {},
   "outputs": [
    {
     "data": {
      "text/plain": [
       "65538"
      ]
     },
     "execution_count": 189,
     "metadata": {},
     "output_type": "execute_result"
    }
   ],
   "source": [
    "0x0010002"
   ]
  },
  {
   "cell_type": "code",
   "execution_count": 190,
   "metadata": {},
   "outputs": [
    {
     "data": {
      "text/plain": [
       "530"
      ]
     },
     "execution_count": 190,
     "metadata": {},
     "output_type": "execute_result"
    }
   ],
   "source": [
    "0x212"
   ]
  },
  {
   "cell_type": "code",
   "execution_count": 220,
   "metadata": {},
   "outputs": [
    {
     "data": {
      "text/plain": [
       "(12818, 2049, 8)"
      ]
     },
     "execution_count": 220,
     "metadata": {},
     "output_type": "execute_result"
    }
   ],
   "source": [
    "struct.unpack('>HHb', b'2\\x12\\x08\\x01\\x08')"
   ]
  },
  {
   "cell_type": "code",
   "execution_count": 279,
   "metadata": {},
   "outputs": [
    {
     "data": {
      "text/plain": [
       "2049"
      ]
     },
     "execution_count": 279,
     "metadata": {},
     "output_type": "execute_result"
    }
   ],
   "source": [
    "0x0801"
   ]
  },
  {
   "cell_type": "code",
   "execution_count": 196,
   "metadata": {},
   "outputs": [
    {
     "data": {
      "text/plain": [
       "264"
      ]
     },
     "execution_count": 196,
     "metadata": {},
     "output_type": "execute_result"
    }
   ],
   "source": [
    "0x0108"
   ]
  },
  {
   "cell_type": "code",
   "execution_count": 197,
   "metadata": {},
   "outputs": [
    {
     "data": {
      "text/plain": [
       "18"
      ]
     },
     "execution_count": 197,
     "metadata": {},
     "output_type": "execute_result"
    }
   ],
   "source": [
    "0x12"
   ]
  },
  {
   "cell_type": "code",
   "execution_count": 198,
   "metadata": {},
   "outputs": [
    {
     "data": {
      "text/plain": [
       "'0x2'"
      ]
     },
     "execution_count": 198,
     "metadata": {},
     "output_type": "execute_result"
    }
   ],
   "source": [
    "hex(2)"
   ]
  },
  {
   "cell_type": "code",
   "execution_count": 212,
   "metadata": {},
   "outputs": [
    {
     "data": {
      "text/plain": [
       "2049"
      ]
     },
     "execution_count": 212,
     "metadata": {},
     "output_type": "execute_result"
    }
   ],
   "source": [
    "0x0801"
   ]
  },
  {
   "cell_type": "code",
   "execution_count": 213,
   "metadata": {},
   "outputs": [
    {
     "data": {
      "text/plain": [
       "18"
      ]
     },
     "execution_count": 213,
     "metadata": {},
     "output_type": "execute_result"
    }
   ],
   "source": [
    "0x12"
   ]
  },
  {
   "cell_type": "code",
   "execution_count": 215,
   "metadata": {
    "scrolled": true
   },
   "outputs": [
    {
     "data": {
      "text/plain": [
       "530"
      ]
     },
     "execution_count": 215,
     "metadata": {},
     "output_type": "execute_result"
    }
   ],
   "source": [
    "0x0212"
   ]
  },
  {
   "cell_type": "code",
   "execution_count": 287,
   "metadata": {},
   "outputs": [
    {
     "name": "stdout",
     "output_type": "stream",
     "text": [
      "b'\\xff\\xfe'\n"
     ]
    }
   ],
   "source": [
    "print(struct.pack('>H', 65534))"
   ]
  },
  {
   "cell_type": "code",
   "execution_count": 288,
   "metadata": {},
   "outputs": [
    {
     "data": {
      "text/plain": [
       "65534"
      ]
     },
     "execution_count": 288,
     "metadata": {},
     "output_type": "execute_result"
    }
   ],
   "source": [
    "0xfffe"
   ]
  },
  {
   "cell_type": "code",
   "execution_count": 233,
   "metadata": {},
   "outputs": [
    {
     "data": {
      "text/plain": [
       "65536"
      ]
     },
     "execution_count": 233,
     "metadata": {},
     "output_type": "execute_result"
    }
   ],
   "source": [
    "pow(2, 16)"
   ]
  },
  {
   "cell_type": "code",
   "execution_count": 297,
   "metadata": {},
   "outputs": [
    {
     "data": {
      "text/plain": [
       "b'ali'"
      ]
     },
     "execution_count": 297,
     "metadata": {},
     "output_type": "execute_result"
    }
   ],
   "source": [
    "struct.pack('>3s', 'ali'.encode('utf-8'))"
   ]
  },
  {
   "cell_type": "code",
   "execution_count": 298,
   "metadata": {},
   "outputs": [
    {
     "data": {
      "text/plain": [
       "1048554"
      ]
     },
     "execution_count": 298,
     "metadata": {},
     "output_type": "execute_result"
    }
   ],
   "source": [
    "0xfffea"
   ]
  },
  {
   "cell_type": "code",
   "execution_count": 299,
   "metadata": {},
   "outputs": [
    {
     "data": {
      "text/plain": [
       "'\\x0f'"
      ]
     },
     "execution_count": 299,
     "metadata": {},
     "output_type": "execute_result"
    }
   ],
   "source": [
    "chr(0xf)"
   ]
  },
  {
   "cell_type": "code",
   "execution_count": 305,
   "metadata": {},
   "outputs": [
    {
     "data": {
      "text/plain": [
       "(12818, 2049, 8)"
      ]
     },
     "execution_count": 305,
     "metadata": {},
     "output_type": "execute_result"
    }
   ],
   "source": [
    "struct.unpack('>HHb', b'\\x32\\x12\\x08\\x01\\x08')"
   ]
  },
  {
   "cell_type": "code",
   "execution_count": 306,
   "metadata": {},
   "outputs": [
    {
     "data": {
      "text/plain": [
       "12818"
      ]
     },
     "execution_count": 306,
     "metadata": {},
     "output_type": "execute_result"
    }
   ],
   "source": [
    "0x3212"
   ]
  },
  {
   "cell_type": "code",
   "execution_count": 307,
   "metadata": {},
   "outputs": [
    {
     "data": {
      "text/plain": [
       "2049"
      ]
     },
     "execution_count": 307,
     "metadata": {},
     "output_type": "execute_result"
    }
   ],
   "source": [
    "0x0801"
   ]
  },
  {
   "cell_type": "code",
   "execution_count": 308,
   "metadata": {},
   "outputs": [
    {
     "data": {
      "text/plain": [
       "8"
      ]
     },
     "execution_count": 308,
     "metadata": {},
     "output_type": "execute_result"
    }
   ],
   "source": [
    "0x08"
   ]
  },
  {
   "cell_type": "code",
   "execution_count": 309,
   "metadata": {},
   "outputs": [
    {
     "data": {
      "text/plain": [
       "(4658, 264, 8)"
      ]
     },
     "execution_count": 309,
     "metadata": {},
     "output_type": "execute_result"
    }
   ],
   "source": [
    "struct.unpack('<HHb', b'\\x32\\x12\\x08\\x01\\x08')"
   ]
  },
  {
   "cell_type": "code",
   "execution_count": 312,
   "metadata": {},
   "outputs": [
    {
     "data": {
      "text/plain": [
       "4658"
      ]
     },
     "execution_count": 312,
     "metadata": {},
     "output_type": "execute_result"
    }
   ],
   "source": [
    "0x1232"
   ]
  },
  {
   "cell_type": "code",
   "execution_count": 313,
   "metadata": {},
   "outputs": [
    {
     "data": {
      "text/plain": [
       "264"
      ]
     },
     "execution_count": 313,
     "metadata": {},
     "output_type": "execute_result"
    }
   ],
   "source": [
    "0x0108"
   ]
  },
  {
   "cell_type": "code",
   "execution_count": 314,
   "metadata": {},
   "outputs": [
    {
     "data": {
      "text/plain": [
       "8"
      ]
     },
     "execution_count": 314,
     "metadata": {},
     "output_type": "execute_result"
    }
   ],
   "source": [
    "0x08"
   ]
  },
  {
   "cell_type": "code",
   "execution_count": 335,
   "metadata": {},
   "outputs": [
    {
     "name": "stdout",
     "output_type": "stream",
     "text": [
      "(b'2', b'\\x12')\n",
      "(b'\\x08', b'\\x01')\n",
      "(b'\\x08', b'\\x08')\n"
     ]
    }
   ],
   "source": [
    "for k in struct.iter_unpack('cc', b'\\x32\\x12\\x08\\x01\\x08\\x08'):\n",
    "    print(k)"
   ]
  },
  {
   "cell_type": "code",
   "execution_count": 333,
   "metadata": {},
   "outputs": [
    {
     "data": {
      "text/plain": [
       "'\\x12'"
      ]
     },
     "execution_count": 333,
     "metadata": {},
     "output_type": "execute_result"
    }
   ],
   "source": [
    "chr(0x12)"
   ]
  },
  {
   "cell_type": "code",
   "execution_count": 336,
   "metadata": {},
   "outputs": [],
   "source": [
    "import codecs"
   ]
  },
  {
   "cell_type": "code",
   "execution_count": 338,
   "metadata": {},
   "outputs": [
    {
     "ename": "AttributeError",
     "evalue": "'builtin_function_or_method' object has no attribute 'encode'",
     "output_type": "error",
     "traceback": [
      "\u001b[0;31m---------------------------------------------------------------------------\u001b[0m",
      "\u001b[0;31mAttributeError\u001b[0m                            Traceback (most recent call last)",
      "\u001b[0;32m<ipython-input-338-74c86650f476>\u001b[0m in \u001b[0;36m<module>\u001b[0;34m\u001b[0m\n\u001b[0;32m----> 1\u001b[0;31m \u001b[0mcodecs\u001b[0m\u001b[0;34m.\u001b[0m\u001b[0mgetencoder\u001b[0m\u001b[0;34m(\u001b[0m\u001b[0;34m\"utf_8\"\u001b[0m\u001b[0;34m)\u001b[0m\u001b[0;34m.\u001b[0m\u001b[0mencode\u001b[0m\u001b[0;34m(\u001b[0m\u001b[0;34m'ali'\u001b[0m\u001b[0;34m)\u001b[0m\u001b[0;34m\u001b[0m\u001b[0;34m\u001b[0m\u001b[0m\n\u001b[0m",
      "\u001b[0;31mAttributeError\u001b[0m: 'builtin_function_or_method' object has no attribute 'encode'"
     ]
    }
   ],
   "source": [
    "codecs.getencoder(\"utf_8\").encode('ali')"
   ]
  },
  {
   "cell_type": "code",
   "execution_count": 341,
   "metadata": {},
   "outputs": [
    {
     "data": {
      "text/plain": [
       "b'32'"
      ]
     },
     "execution_count": 341,
     "metadata": {},
     "output_type": "execute_result"
    }
   ],
   "source": [
    "b'321208010808'[:2]"
   ]
  },
  {
   "cell_type": "code",
   "execution_count": 345,
   "metadata": {},
   "outputs": [
    {
     "data": {
      "text/plain": [
       "b'2'"
      ]
     },
     "execution_count": 345,
     "metadata": {},
     "output_type": "execute_result"
    }
   ],
   "source": [
    "struct.unpack('>c', b'\\x32')[0]"
   ]
  },
  {
   "cell_type": "code",
   "execution_count": 346,
   "metadata": {},
   "outputs": [],
   "source": [
    "def calc_padding(msg_len):\n",
    "    return (msg_len+3)&~3 "
   ]
  },
  {
   "cell_type": "code",
   "execution_count": 393,
   "metadata": {},
   "outputs": [
    {
     "data": {
      "text/plain": [
       "[(0, 0),\n",
       " (1, 4),\n",
       " (2, 4),\n",
       " (3, 4),\n",
       " (4, 4),\n",
       " (5, 8),\n",
       " (6, 8),\n",
       " (7, 8),\n",
       " (8, 8),\n",
       " (9, 12),\n",
       " (10, 12),\n",
       " (11, 12),\n",
       " (12, 12),\n",
       " (13, 16),\n",
       " (14, 16),\n",
       " (15, 16),\n",
       " (16, 16),\n",
       " (17, 20),\n",
       " (18, 20),\n",
       " (19, 20),\n",
       " (20, 20),\n",
       " (21, 24),\n",
       " (22, 24),\n",
       " (23, 24),\n",
       " (24, 24),\n",
       " (25, 28),\n",
       " (26, 28),\n",
       " (27, 28),\n",
       " (28, 28),\n",
       " (29, 32),\n",
       " (30, 32),\n",
       " (31, 32),\n",
       " (32, 32),\n",
       " (33, 36),\n",
       " (34, 36),\n",
       " (35, 36),\n",
       " (36, 36),\n",
       " (37, 40),\n",
       " (38, 40),\n",
       " (39, 40)]"
      ]
     },
     "execution_count": 393,
     "metadata": {},
     "output_type": "execute_result"
    }
   ],
   "source": [
    "list(enumerate(map(calc_padding, range(40))))"
   ]
  },
  {
   "cell_type": "code",
   "execution_count": 348,
   "metadata": {},
   "outputs": [
    {
     "data": {
      "text/plain": [
       "4"
      ]
     },
     "execution_count": 348,
     "metadata": {},
     "output_type": "execute_result"
    }
   ],
   "source": [
    "(3+3)&~3"
   ]
  },
  {
   "cell_type": "code",
   "execution_count": 350,
   "metadata": {},
   "outputs": [
    {
     "data": {
      "text/plain": [
       "2"
      ]
     },
     "execution_count": 350,
     "metadata": {},
     "output_type": "execute_result"
    }
   ],
   "source": [
    "6&3"
   ]
  },
  {
   "cell_type": "code",
   "execution_count": 351,
   "metadata": {},
   "outputs": [
    {
     "data": {
      "text/plain": [
       "'0b110'"
      ]
     },
     "execution_count": 351,
     "metadata": {},
     "output_type": "execute_result"
    }
   ],
   "source": [
    "bin(6)"
   ]
  },
  {
   "cell_type": "code",
   "execution_count": 352,
   "metadata": {},
   "outputs": [
    {
     "data": {
      "text/plain": [
       "'0b11'"
      ]
     },
     "execution_count": 352,
     "metadata": {},
     "output_type": "execute_result"
    }
   ],
   "source": [
    "bin(3)"
   ]
  },
  {
   "cell_type": "code",
   "execution_count": 360,
   "metadata": {},
   "outputs": [
    {
     "data": {
      "text/plain": [
       "'-0b100'"
      ]
     },
     "execution_count": 360,
     "metadata": {},
     "output_type": "execute_result"
    }
   ],
   "source": [
    "bin(~3)"
   ]
  },
  {
   "cell_type": "code",
   "execution_count": 354,
   "metadata": {},
   "outputs": [
    {
     "data": {
      "text/plain": [
       "'0b11'"
      ]
     },
     "execution_count": 354,
     "metadata": {},
     "output_type": "execute_result"
    }
   ],
   "source": [
    "bin(3)"
   ]
  },
  {
   "cell_type": "code",
   "execution_count": 356,
   "metadata": {},
   "outputs": [
    {
     "data": {
      "text/plain": [
       "3"
      ]
     },
     "execution_count": 356,
     "metadata": {},
     "output_type": "execute_result"
    }
   ],
   "source": [
    "0b000011"
   ]
  },
  {
   "cell_type": "code",
   "execution_count": 359,
   "metadata": {},
   "outputs": [
    {
     "data": {
      "text/plain": [
       "'-0b100'"
      ]
     },
     "execution_count": 359,
     "metadata": {},
     "output_type": "execute_result"
    }
   ],
   "source": [
    "bin(-4)"
   ]
  },
  {
   "cell_type": "code",
   "execution_count": 372,
   "metadata": {},
   "outputs": [
    {
     "name": "stdout",
     "output_type": "stream",
     "text": [
      "(b'2',)\n",
      "(b'1',)\n",
      "(b'6',)\n",
      "(b'3',)\n",
      "(b'b',)\n",
      "(b'c',)\n",
      "(b'1',)\n",
      "(b'd',)\n",
      "(b'0',)\n",
      "(b'a',)\n",
      "(b'd',)\n",
      "(b'8',)\n",
      "(b'2',)\n",
      "(b'3',)\n",
      "(b'7',)\n",
      "(b'1',)\n",
      "(b'f',)\n",
      "(b'6',)\n",
      "(b'b',)\n",
      "(b'c',)\n",
      "(b'0',)\n",
      "(b'9',)\n",
      "(b'4',)\n",
      "(b'8',)\n",
      "(b'4',)\n",
      "(b'1',)\n",
      "(b'3',)\n",
      "(b'3',)\n",
      "(b'c',)\n",
      "(b'3',)\n",
      "(b'f',)\n",
      "(b'0',)\n",
      "(b'9',)\n",
      "(b'a',)\n",
      "(b'd',)\n",
      "(b'7',)\n",
      "(b'4',)\n",
      "(b'a',)\n",
      "(b'0',)\n",
      "(b'd',)\n",
      "(b'd',)\n",
      "(b'5',)\n",
      "(b'3',)\n",
      "(b'4',)\n",
      "(b'6',)\n",
      "(b'd',)\n",
      "(b'5',)\n",
      "(b'4',)\n",
      "(b'1',)\n",
      "(b'9',)\n",
      "(b'5',)\n",
      "(b'a',)\n",
      "(b'7',)\n",
      "(b'c',)\n",
      "(b'f',)\n",
      "(b'0',)\n",
      "(b'b',)\n",
      "(b'3',)\n",
      "(b'5',)\n"
     ]
    }
   ],
   "source": [
    "for k in struct.iter_unpack('>c', b'2163bc1d0ad82371f6bc09484133c3f09ad74a0dd5346d54195a7cf0b35'):\n",
    "    print(k)"
   ]
  },
  {
   "cell_type": "code",
   "execution_count": 373,
   "metadata": {},
   "outputs": [
    {
     "data": {
      "text/plain": [
       "b'2163bc1d'"
      ]
     },
     "execution_count": 373,
     "metadata": {},
     "output_type": "execute_result"
    }
   ],
   "source": [
    "b'2163bc1d'"
   ]
  },
  {
   "cell_type": "code",
   "execution_count": 376,
   "metadata": {},
   "outputs": [
    {
     "data": {
      "text/plain": [
       "(560184349,)"
      ]
     },
     "execution_count": 376,
     "metadata": {},
     "output_type": "execute_result"
    }
   ],
   "source": [
    "struct.unpack('>I', b'\\x21\\x63\\xbc\\x1d')"
   ]
  },
  {
   "cell_type": "code",
   "execution_count": 380,
   "metadata": {},
   "outputs": [
    {
     "data": {
      "text/plain": [
       "(2560,)"
      ]
     },
     "execution_count": 380,
     "metadata": {},
     "output_type": "execute_result"
    }
   ],
   "source": [
    "struct.unpack('>c', b'\\x0a')"
   ]
  },
  {
   "cell_type": "code",
   "execution_count": 400,
   "metadata": {},
   "outputs": [
    {
     "data": {
      "text/plain": [
       "8"
      ]
     },
     "execution_count": 400,
     "metadata": {},
     "output_type": "execute_result"
    }
   ],
   "source": [
    "1 << 3"
   ]
  },
  {
   "cell_type": "code",
   "execution_count": 402,
   "metadata": {},
   "outputs": [
    {
     "data": {
      "text/plain": [
       "'0b100'"
      ]
     },
     "execution_count": 402,
     "metadata": {},
     "output_type": "execute_result"
    }
   ],
   "source": [
    "bin(1<<2)"
   ]
  },
  {
   "cell_type": "code",
   "execution_count": 403,
   "metadata": {},
   "outputs": [
    {
     "data": {
      "text/plain": [
       "'0b1000'"
      ]
     },
     "execution_count": 403,
     "metadata": {},
     "output_type": "execute_result"
    }
   ],
   "source": [
    "bin(8)"
   ]
  },
  {
   "cell_type": "code",
   "execution_count": 418,
   "metadata": {},
   "outputs": [
    {
     "data": {
      "text/plain": [
       "9"
      ]
     },
     "execution_count": 418,
     "metadata": {},
     "output_type": "execute_result"
    }
   ],
   "source": [
    "len(bin(1<<8))-2"
   ]
  },
  {
   "cell_type": "code",
   "execution_count": 419,
   "metadata": {},
   "outputs": [
    {
     "data": {
      "text/plain": [
       "128"
      ]
     },
     "execution_count": 419,
     "metadata": {},
     "output_type": "execute_result"
    }
   ],
   "source": [
    "1<<7"
   ]
  },
  {
   "cell_type": "code",
   "execution_count": 420,
   "metadata": {},
   "outputs": [
    {
     "data": {
      "text/plain": [
       "'0b10000000'"
      ]
     },
     "execution_count": 420,
     "metadata": {},
     "output_type": "execute_result"
    }
   ],
   "source": [
    "bin(128)"
   ]
  },
  {
   "cell_type": "code",
   "execution_count": 422,
   "metadata": {},
   "outputs": [
    {
     "data": {
      "text/plain": [
       "255"
      ]
     },
     "execution_count": 422,
     "metadata": {},
     "output_type": "execute_result"
    }
   ],
   "source": [
    "0b11111111"
   ]
  },
  {
   "cell_type": "code",
   "execution_count": 427,
   "metadata": {},
   "outputs": [
    {
     "data": {
      "text/plain": [
       "-6"
      ]
     },
     "execution_count": 427,
     "metadata": {},
     "output_type": "execute_result"
    }
   ],
   "source": [
    "~5"
   ]
  },
  {
   "cell_type": "code",
   "execution_count": 428,
   "metadata": {},
   "outputs": [
    {
     "data": {
      "text/plain": [
       "3"
      ]
     },
     "execution_count": 428,
     "metadata": {},
     "output_type": "execute_result"
    }
   ],
   "source": [
    "0b00000011"
   ]
  },
  {
   "cell_type": "code",
   "execution_count": 430,
   "metadata": {},
   "outputs": [
    {
     "data": {
      "text/plain": [
       "3"
      ]
     },
     "execution_count": 430,
     "metadata": {},
     "output_type": "execute_result"
    }
   ],
   "source": [
    "0b0011"
   ]
  },
  {
   "cell_type": "code",
   "execution_count": 437,
   "metadata": {},
   "outputs": [
    {
     "data": {
      "text/plain": [
       "10000001"
      ]
     },
     "execution_count": 437,
     "metadata": {},
     "output_type": "execute_result"
    }
   ],
   "source": [
    "10000000 | 10000001"
   ]
  },
  {
   "cell_type": "code",
   "execution_count": 492,
   "metadata": {},
   "outputs": [],
   "source": [
    "def calc_padding(msg_len):\n",
    "    return ((msg_len+3)&~3) - msg_len"
   ]
  },
  {
   "cell_type": "code",
   "execution_count": 493,
   "metadata": {},
   "outputs": [
    {
     "data": {
      "text/plain": [
       "2"
      ]
     },
     "execution_count": 493,
     "metadata": {},
     "output_type": "execute_result"
    }
   ],
   "source": [
    "calc_padding(10)"
   ]
  },
  {
   "cell_type": "code",
   "execution_count": 441,
   "metadata": {},
   "outputs": [
    {
     "data": {
      "text/plain": [
       "'0b11'"
      ]
     },
     "execution_count": 441,
     "metadata": {},
     "output_type": "execute_result"
    }
   ],
   "source": [
    "bin(3)"
   ]
  },
  {
   "cell_type": "code",
   "execution_count": 442,
   "metadata": {},
   "outputs": [
    {
     "data": {
      "text/plain": [
       "'-0b100'"
      ]
     },
     "execution_count": 442,
     "metadata": {},
     "output_type": "execute_result"
    }
   ],
   "source": [
    "bin(~3)"
   ]
  },
  {
   "cell_type": "code",
   "execution_count": 449,
   "metadata": {},
   "outputs": [
    {
     "data": {
      "text/plain": [
       "'0b111'"
      ]
     },
     "execution_count": 449,
     "metadata": {},
     "output_type": "execute_result"
    }
   ],
   "source": [
    "bin(0b11 | 0b100)"
   ]
  },
  {
   "cell_type": "code",
   "execution_count": 457,
   "metadata": {},
   "outputs": [
    {
     "data": {
      "text/plain": [
       "8"
      ]
     },
     "execution_count": 457,
     "metadata": {},
     "output_type": "execute_result"
    }
   ],
   "source": [
    "(5+3)&~3"
   ]
  },
  {
   "cell_type": "code",
   "execution_count": 458,
   "metadata": {},
   "outputs": [
    {
     "data": {
      "text/plain": [
       "-4"
      ]
     },
     "execution_count": 458,
     "metadata": {},
     "output_type": "execute_result"
    }
   ],
   "source": [
    "~3"
   ]
  },
  {
   "cell_type": "code",
   "execution_count": 473,
   "metadata": {},
   "outputs": [],
   "source": [
    "def calc_padding_new(msg_len):\n",
    "    if msg_len%4 == 0:\n",
    "        return msg_len\n",
    "    else:\n",
    "        return msg_len + (4-msg_len%4)"
   ]
  },
  {
   "cell_type": "code",
   "execution_count": 477,
   "metadata": {},
   "outputs": [
    {
     "data": {
      "text/plain": [
       "8"
      ]
     },
     "execution_count": 477,
     "metadata": {},
     "output_type": "execute_result"
    }
   ],
   "source": [
    "calc_padding_new(8)"
   ]
  },
  {
   "cell_type": "code",
   "execution_count": 494,
   "metadata": {},
   "outputs": [
    {
     "data": {
      "text/plain": [
       "[(0, 0),\n",
       " (1, 4),\n",
       " (2, 4),\n",
       " (3, 4),\n",
       " (4, 4),\n",
       " (5, 8),\n",
       " (6, 8),\n",
       " (7, 8),\n",
       " (8, 8),\n",
       " (9, 12)]"
      ]
     },
     "execution_count": 494,
     "metadata": {},
     "output_type": "execute_result"
    }
   ],
   "source": [
    "list(enumerate(map(calc_padding_new, range(10))))"
   ]
  },
  {
   "cell_type": "code",
   "execution_count": 495,
   "metadata": {},
   "outputs": [
    {
     "data": {
      "text/plain": [
       "'0b1010'"
      ]
     },
     "execution_count": 495,
     "metadata": {},
     "output_type": "execute_result"
    }
   ],
   "source": [
    "bin(10)"
   ]
  },
  {
   "cell_type": "code",
   "execution_count": 498,
   "metadata": {},
   "outputs": [
    {
     "data": {
      "text/plain": [
       "-5"
      ]
     },
     "execution_count": 498,
     "metadata": {},
     "output_type": "execute_result"
    }
   ],
   "source": [
    "-0b0101"
   ]
  },
  {
   "cell_type": "code",
   "execution_count": 497,
   "metadata": {},
   "outputs": [
    {
     "data": {
      "text/plain": [
       "10"
      ]
     },
     "execution_count": 497,
     "metadata": {},
     "output_type": "execute_result"
    }
   ],
   "source": [
    "0b1010"
   ]
  },
  {
   "cell_type": "code",
   "execution_count": 564,
   "metadata": {},
   "outputs": [
    {
     "data": {
      "text/plain": [
       "'-0b1010'"
      ]
     },
     "execution_count": 564,
     "metadata": {},
     "output_type": "execute_result"
    }
   ],
   "source": [
    "bin(-10)"
   ]
  },
  {
   "cell_type": "code",
   "execution_count": 500,
   "metadata": {},
   "outputs": [
    {
     "data": {
      "text/plain": [
       "-11"
      ]
     },
     "execution_count": 500,
     "metadata": {},
     "output_type": "execute_result"
    }
   ],
   "source": [
    "~10"
   ]
  },
  {
   "cell_type": "code",
   "execution_count": 508,
   "metadata": {},
   "outputs": [
    {
     "data": {
      "text/plain": [
       "0"
      ]
     },
     "execution_count": 508,
     "metadata": {},
     "output_type": "execute_result"
    }
   ],
   "source": [
    "-0b1011 & 0b1010"
   ]
  },
  {
   "cell_type": "code",
   "execution_count": 509,
   "metadata": {},
   "outputs": [
    {
     "data": {
      "text/plain": [
       "0"
      ]
     },
     "execution_count": 509,
     "metadata": {},
     "output_type": "execute_result"
    }
   ],
   "source": [
    "-0b1011 & 0b1010"
   ]
  },
  {
   "cell_type": "code",
   "execution_count": 523,
   "metadata": {},
   "outputs": [
    {
     "data": {
      "text/plain": [
       "1"
      ]
     },
     "execution_count": 523,
     "metadata": {},
     "output_type": "execute_result"
    }
   ],
   "source": [
    "0b0000001"
   ]
  },
  {
   "cell_type": "code",
   "execution_count": 514,
   "metadata": {},
   "outputs": [
    {
     "data": {
      "text/plain": [
       "'0b1'"
      ]
     },
     "execution_count": 514,
     "metadata": {},
     "output_type": "execute_result"
    }
   ],
   "source": [
    "bin(1)"
   ]
  },
  {
   "cell_type": "code",
   "execution_count": 517,
   "metadata": {},
   "outputs": [
    {
     "data": {
      "text/plain": [
       "'0b11'"
      ]
     },
     "execution_count": 517,
     "metadata": {},
     "output_type": "execute_result"
    }
   ],
   "source": [
    "bin(3)"
   ]
  },
  {
   "cell_type": "code",
   "execution_count": 520,
   "metadata": {},
   "outputs": [
    {
     "data": {
      "text/plain": [
       "1"
      ]
     },
     "execution_count": 520,
     "metadata": {},
     "output_type": "execute_result"
    }
   ],
   "source": [
    "0b11 & 0b01"
   ]
  },
  {
   "cell_type": "code",
   "execution_count": 525,
   "metadata": {},
   "outputs": [
    {
     "data": {
      "text/plain": [
       "[(0, '0b0'),\n",
       " (1, '0b1'),\n",
       " (2, '0b10'),\n",
       " (3, '0b11'),\n",
       " (4, '0b100'),\n",
       " (5, '0b101'),\n",
       " (6, '0b110'),\n",
       " (7, '0b111'),\n",
       " (8, '0b1000'),\n",
       " (9, '0b1001')]"
      ]
     },
     "execution_count": 525,
     "metadata": {},
     "output_type": "execute_result"
    }
   ],
   "source": [
    "list(enumerate(map(bin, range(10))))"
   ]
  },
  {
   "cell_type": "code",
   "execution_count": 528,
   "metadata": {},
   "outputs": [
    {
     "data": {
      "text/plain": [
       "228"
      ]
     },
     "execution_count": 528,
     "metadata": {},
     "output_type": "execute_result"
    }
   ],
   "source": [
    "0b11100100"
   ]
  },
  {
   "cell_type": "code",
   "execution_count": 529,
   "metadata": {},
   "outputs": [
    {
     "data": {
      "text/plain": [
       "'0b11100'"
      ]
     },
     "execution_count": 529,
     "metadata": {},
     "output_type": "execute_result"
    }
   ],
   "source": [
    "bin(28)"
   ]
  },
  {
   "cell_type": "code",
   "execution_count": 530,
   "metadata": {},
   "outputs": [
    {
     "data": {
      "text/plain": [
       "'-0b11100'"
      ]
     },
     "execution_count": 530,
     "metadata": {},
     "output_type": "execute_result"
    }
   ],
   "source": [
    "bin(-28)"
   ]
  },
  {
   "cell_type": "code",
   "execution_count": 532,
   "metadata": {},
   "outputs": [
    {
     "data": {
      "text/plain": [
       "'-0b11101'"
      ]
     },
     "execution_count": 532,
     "metadata": {},
     "output_type": "execute_result"
    }
   ],
   "source": [
    "bin(~28)"
   ]
  },
  {
   "cell_type": "code",
   "execution_count": 535,
   "metadata": {},
   "outputs": [
    {
     "data": {
      "text/plain": [
       "228"
      ]
     },
     "execution_count": 535,
     "metadata": {},
     "output_type": "execute_result"
    }
   ],
   "source": [
    "0b11100100"
   ]
  },
  {
   "cell_type": "code",
   "execution_count": 538,
   "metadata": {},
   "outputs": [
    {
     "data": {
      "text/plain": [
       "34"
      ]
     },
     "execution_count": 538,
     "metadata": {},
     "output_type": "execute_result"
    }
   ],
   "source": [
    "len(bin(0xFFFFFFFF))"
   ]
  },
  {
   "cell_type": "code",
   "execution_count": 540,
   "metadata": {},
   "outputs": [
    {
     "data": {
      "text/plain": [
       "'0b11111111'"
      ]
     },
     "execution_count": 540,
     "metadata": {},
     "output_type": "execute_result"
    }
   ],
   "source": [
    "bin(0xFF)"
   ]
  },
  {
   "cell_type": "code",
   "execution_count": 541,
   "metadata": {},
   "outputs": [
    {
     "data": {
      "text/plain": [
       "255"
      ]
     },
     "execution_count": 541,
     "metadata": {},
     "output_type": "execute_result"
    }
   ],
   "source": [
    "0xFF"
   ]
  },
  {
   "cell_type": "code",
   "execution_count": 542,
   "metadata": {},
   "outputs": [
    {
     "data": {
      "text/plain": [
       "12"
      ]
     },
     "execution_count": 542,
     "metadata": {},
     "output_type": "execute_result"
    }
   ],
   "source": [
    "0b01100"
   ]
  },
  {
   "cell_type": "code",
   "execution_count": 543,
   "metadata": {},
   "outputs": [
    {
     "data": {
      "text/plain": [
       "'0b11110'"
      ]
     },
     "execution_count": 543,
     "metadata": {},
     "output_type": "execute_result"
    }
   ],
   "source": [
    "bin(30)"
   ]
  },
  {
   "cell_type": "code",
   "execution_count": 544,
   "metadata": {},
   "outputs": [
    {
     "data": {
      "text/plain": [
       "30"
      ]
     },
     "execution_count": 544,
     "metadata": {},
     "output_type": "execute_result"
    }
   ],
   "source": [
    "0b00011110"
   ]
  },
  {
   "cell_type": "code",
   "execution_count": 545,
   "metadata": {},
   "outputs": [
    {
     "data": {
      "text/plain": [
       "225"
      ]
     },
     "execution_count": 545,
     "metadata": {},
     "output_type": "execute_result"
    }
   ],
   "source": [
    "0b11100001"
   ]
  },
  {
   "cell_type": "code",
   "execution_count": 546,
   "metadata": {},
   "outputs": [
    {
     "data": {
      "text/plain": [
       "30"
      ]
     },
     "execution_count": 546,
     "metadata": {},
     "output_type": "execute_result"
    }
   ],
   "source": [
    "0b00000000000000000000000000011110"
   ]
  },
  {
   "cell_type": "code",
   "execution_count": 547,
   "metadata": {},
   "outputs": [
    {
     "data": {
      "text/plain": [
       "4294967265"
      ]
     },
     "execution_count": 547,
     "metadata": {},
     "output_type": "execute_result"
    }
   ],
   "source": [
    "0b11111111111111111111111111100001"
   ]
  },
  {
   "cell_type": "code",
   "execution_count": 548,
   "metadata": {},
   "outputs": [
    {
     "data": {
      "text/plain": [
       "4294967266"
      ]
     },
     "execution_count": 548,
     "metadata": {},
     "output_type": "execute_result"
    }
   ],
   "source": [
    "0b11111111111111111111111111100010"
   ]
  },
  {
   "cell_type": "code",
   "execution_count": 553,
   "metadata": {},
   "outputs": [
    {
     "data": {
      "text/plain": [
       "'0b11111111111111111111111111100010'"
      ]
     },
     "execution_count": 553,
     "metadata": {},
     "output_type": "execute_result"
    }
   ],
   "source": [
    "bin(0xFFFFFFE2)"
   ]
  },
  {
   "cell_type": "code",
   "execution_count": 554,
   "metadata": {},
   "outputs": [
    {
     "data": {
      "text/plain": [
       "4294967294"
      ]
     },
     "execution_count": 554,
     "metadata": {},
     "output_type": "execute_result"
    }
   ],
   "source": [
    "0b11111111111111111111111111111110"
   ]
  },
  {
   "cell_type": "code",
   "execution_count": 555,
   "metadata": {},
   "outputs": [
    {
     "data": {
      "text/plain": [
       "'0b110'"
      ]
     },
     "execution_count": 555,
     "metadata": {},
     "output_type": "execute_result"
    }
   ],
   "source": [
    "bin(6)"
   ]
  },
  {
   "cell_type": "code",
   "execution_count": 556,
   "metadata": {},
   "outputs": [
    {
     "data": {
      "text/plain": [
       "6"
      ]
     },
     "execution_count": 556,
     "metadata": {},
     "output_type": "execute_result"
    }
   ],
   "source": [
    "0b00000110"
   ]
  },
  {
   "cell_type": "code",
   "execution_count": 560,
   "metadata": {},
   "outputs": [
    {
     "data": {
      "text/plain": [
       "249"
      ]
     },
     "execution_count": 560,
     "metadata": {},
     "output_type": "execute_result"
    }
   ],
   "source": [
    "0b11111001"
   ]
  },
  {
   "cell_type": "code",
   "execution_count": 561,
   "metadata": {},
   "outputs": [
    {
     "data": {
      "text/plain": [
       "255"
      ]
     },
     "execution_count": 561,
     "metadata": {},
     "output_type": "execute_result"
    }
   ],
   "source": [
    "249+6"
   ]
  },
  {
   "cell_type": "code",
   "execution_count": 562,
   "metadata": {},
   "outputs": [
    {
     "data": {
      "text/plain": [
       "250"
      ]
     },
     "execution_count": 562,
     "metadata": {},
     "output_type": "execute_result"
    }
   ],
   "source": [
    "0b11111010"
   ]
  },
  {
   "cell_type": "code",
   "execution_count": 563,
   "metadata": {},
   "outputs": [
    {
     "data": {
      "text/plain": [
       "256"
      ]
     },
     "execution_count": 563,
     "metadata": {},
     "output_type": "execute_result"
    }
   ],
   "source": [
    "250 + 6"
   ]
  },
  {
   "cell_type": "code",
   "execution_count": 568,
   "metadata": {},
   "outputs": [
    {
     "data": {
      "text/plain": [
       "'0b11111111'"
      ]
     },
     "execution_count": 568,
     "metadata": {},
     "output_type": "execute_result"
    }
   ],
   "source": [
    "bin(0x0000FF)"
   ]
  },
  {
   "cell_type": "code",
   "execution_count": 569,
   "metadata": {},
   "outputs": [
    {
     "data": {
      "text/plain": [
       "'0b11111111000011111111'"
      ]
     },
     "execution_count": 569,
     "metadata": {},
     "output_type": "execute_result"
    }
   ],
   "source": [
    "bin(0x0FF0FF)"
   ]
  },
  {
   "cell_type": "code",
   "execution_count": 570,
   "metadata": {},
   "outputs": [
    {
     "data": {
      "text/plain": [
       "8"
      ]
     },
     "execution_count": 570,
     "metadata": {},
     "output_type": "execute_result"
    }
   ],
   "source": [
    "12 & 25"
   ]
  },
  {
   "cell_type": "code",
   "execution_count": 573,
   "metadata": {},
   "outputs": [
    {
     "data": {
      "text/plain": [
       "1"
      ]
     },
     "execution_count": 573,
     "metadata": {},
     "output_type": "execute_result"
    }
   ],
   "source": [
    "1 & 3"
   ]
  },
  {
   "cell_type": "code",
   "execution_count": 574,
   "metadata": {},
   "outputs": [
    {
     "data": {
      "text/plain": [
       "3"
      ]
     },
     "execution_count": 574,
     "metadata": {},
     "output_type": "execute_result"
    }
   ],
   "source": [
    "1 | 3"
   ]
  },
  {
   "cell_type": "code",
   "execution_count": 575,
   "metadata": {},
   "outputs": [
    {
     "data": {
      "text/plain": [
       "29"
      ]
     },
     "execution_count": 575,
     "metadata": {},
     "output_type": "execute_result"
    }
   ],
   "source": [
    "12 | 25"
   ]
  },
  {
   "cell_type": "code",
   "execution_count": 576,
   "metadata": {},
   "outputs": [
    {
     "data": {
      "text/plain": [
       "-4"
      ]
     },
     "execution_count": 576,
     "metadata": {},
     "output_type": "execute_result"
    }
   ],
   "source": [
    "~3"
   ]
  },
  {
   "cell_type": "code",
   "execution_count": 577,
   "metadata": {},
   "outputs": [
    {
     "data": {
      "text/plain": [
       "4"
      ]
     },
     "execution_count": 577,
     "metadata": {},
     "output_type": "execute_result"
    }
   ],
   "source": [
    "(3+3)&~3"
   ]
  },
  {
   "cell_type": "code",
   "execution_count": 580,
   "metadata": {},
   "outputs": [
    {
     "data": {
      "text/plain": [
       "3"
      ]
     },
     "execution_count": 580,
     "metadata": {},
     "output_type": "execute_result"
    }
   ],
   "source": [
    "3&~4"
   ]
  },
  {
   "cell_type": "code",
   "execution_count": 581,
   "metadata": {},
   "outputs": [
    {
     "data": {
      "text/plain": [
       "-5"
      ]
     },
     "execution_count": 581,
     "metadata": {},
     "output_type": "execute_result"
    }
   ],
   "source": [
    "~4"
   ]
  },
  {
   "cell_type": "code",
   "execution_count": 583,
   "metadata": {},
   "outputs": [
    {
     "data": {
      "text/plain": [
       "3"
      ]
     },
     "execution_count": 583,
     "metadata": {},
     "output_type": "execute_result"
    }
   ],
   "source": [
    "1 | 2"
   ]
  },
  {
   "cell_type": "code",
   "execution_count": 584,
   "metadata": {},
   "outputs": [
    {
     "data": {
      "text/plain": [
       "7"
      ]
     },
     "execution_count": 584,
     "metadata": {},
     "output_type": "execute_result"
    }
   ],
   "source": [
    "3 | 4"
   ]
  },
  {
   "cell_type": "code",
   "execution_count": 589,
   "metadata": {},
   "outputs": [
    {
     "data": {
      "text/plain": [
       "29"
      ]
     },
     "execution_count": 589,
     "metadata": {},
     "output_type": "execute_result"
    }
   ],
   "source": [
    "12 | 25"
   ]
  },
  {
   "cell_type": "code",
   "execution_count": 598,
   "metadata": {},
   "outputs": [],
   "source": [
    "def calc_padding_new(msg_len):\n",
    "    if msg_len%4 == 0:\n",
    "        return msg_len\n",
    "    else:\n",
    "        return msg_len + (4-msg_len%4)"
   ]
  },
  {
   "cell_type": "code",
   "execution_count": 599,
   "metadata": {},
   "outputs": [
    {
     "data": {
      "text/plain": [
       "[(0, 0),\n",
       " (1, 4),\n",
       " (2, 4),\n",
       " (3, 4),\n",
       " (4, 4),\n",
       " (5, 8),\n",
       " (6, 8),\n",
       " (7, 8),\n",
       " (8, 8),\n",
       " (9, 12),\n",
       " (10, 12),\n",
       " (11, 12),\n",
       " (12, 12),\n",
       " (13, 16),\n",
       " (14, 16),\n",
       " (15, 16),\n",
       " (16, 16),\n",
       " (17, 20),\n",
       " (18, 20),\n",
       " (19, 20)]"
      ]
     },
     "execution_count": 599,
     "metadata": {},
     "output_type": "execute_result"
    }
   ],
   "source": [
    "list(enumerate(map(calc_padding_new, range(20))))"
   ]
  },
  {
   "cell_type": "code",
   "execution_count": 612,
   "metadata": {},
   "outputs": [],
   "source": [
    "def calc_padding(msg_len):\n",
    "    return (msg_len + 1)&~3"
   ]
  },
  {
   "cell_type": "code",
   "execution_count": 613,
   "metadata": {},
   "outputs": [
    {
     "data": {
      "text/plain": [
       "[(0, 0),\n",
       " (1, 0),\n",
       " (2, 0),\n",
       " (3, 4),\n",
       " (4, 4),\n",
       " (5, 4),\n",
       " (6, 4),\n",
       " (7, 8),\n",
       " (8, 8),\n",
       " (9, 8),\n",
       " (10, 8),\n",
       " (11, 12),\n",
       " (12, 12),\n",
       " (13, 12),\n",
       " (14, 12),\n",
       " (15, 16),\n",
       " (16, 16),\n",
       " (17, 16),\n",
       " (18, 16),\n",
       " (19, 20)]"
      ]
     },
     "execution_count": 613,
     "metadata": {},
     "output_type": "execute_result"
    }
   ],
   "source": [
    "list(enumerate(map(calc_padding, range(20))))"
   ]
  },
  {
   "cell_type": "code",
   "execution_count": 614,
   "metadata": {},
   "outputs": [
    {
     "data": {
      "text/plain": [
       "4"
      ]
     },
     "execution_count": 614,
     "metadata": {},
     "output_type": "execute_result"
    }
   ],
   "source": [
    "7&-4"
   ]
  },
  {
   "cell_type": "code",
   "execution_count": 618,
   "metadata": {},
   "outputs": [],
   "source": [
    "hexlify = codecs.getencoder('hex')"
   ]
  },
  {
   "cell_type": "code",
   "execution_count": 620,
   "metadata": {},
   "outputs": [
    {
     "data": {
      "text/plain": [
       "(b'616c69', 3)"
      ]
     },
     "execution_count": 620,
     "metadata": {},
     "output_type": "execute_result"
    }
   ],
   "source": [
    "hexlify(b'ali')"
   ]
  },
  {
   "cell_type": "code",
   "execution_count": 621,
   "metadata": {},
   "outputs": [
    {
     "data": {
      "text/plain": [
       "6384745"
      ]
     },
     "execution_count": 621,
     "metadata": {},
     "output_type": "execute_result"
    }
   ],
   "source": [
    "0x616c69"
   ]
  },
  {
   "cell_type": "code",
   "execution_count": 622,
   "metadata": {},
   "outputs": [
    {
     "data": {
      "text/plain": [
       "'a'"
      ]
     },
     "execution_count": 622,
     "metadata": {},
     "output_type": "execute_result"
    }
   ],
   "source": [
    "chr(0x61)"
   ]
  },
  {
   "cell_type": "code",
   "execution_count": 623,
   "metadata": {},
   "outputs": [
    {
     "data": {
      "text/plain": [
       "'l'"
      ]
     },
     "execution_count": 623,
     "metadata": {},
     "output_type": "execute_result"
    }
   ],
   "source": [
    "chr(0x6c)"
   ]
  },
  {
   "cell_type": "code",
   "execution_count": 624,
   "metadata": {},
   "outputs": [],
   "source": [
    "unhexlify = codecs.getdecoder('hex')"
   ]
  },
  {
   "cell_type": "code",
   "execution_count": 625,
   "metadata": {},
   "outputs": [
    {
     "data": {
      "text/plain": [
       "(b'ali', 6)"
      ]
     },
     "execution_count": 625,
     "metadata": {},
     "output_type": "execute_result"
    }
   ],
   "source": [
    "unhexlify('616c69')"
   ]
  },
  {
   "cell_type": "code",
   "execution_count": 638,
   "metadata": {},
   "outputs": [
    {
     "name": "stdout",
     "output_type": "stream",
     "text": [
      "b'00000016'\n"
     ]
    }
   ],
   "source": [
    "print(hexlify(struct.pack('!I', 22))[0])"
   ]
  },
  {
   "cell_type": "code",
   "execution_count": 639,
   "metadata": {},
   "outputs": [
    {
     "data": {
      "text/plain": [
       "b'\\x00\\x00\\x00\\x16'"
      ]
     },
     "execution_count": 639,
     "metadata": {},
     "output_type": "execute_result"
    }
   ],
   "source": [
    "struct.pack('!I', 22)"
   ]
  },
  {
   "cell_type": "code",
   "execution_count": 652,
   "metadata": {},
   "outputs": [
    {
     "data": {
      "text/plain": [
       "(22,)"
      ]
     },
     "execution_count": 652,
     "metadata": {},
     "output_type": "execute_result"
    }
   ],
   "source": [
    "struct.unpack('!I', unhexlify(b'00000016')[0])"
   ]
  },
  {
   "cell_type": "code",
   "execution_count": 655,
   "metadata": {},
   "outputs": [
    {
     "data": {
      "text/plain": [
       "4.0"
      ]
     },
     "execution_count": 655,
     "metadata": {},
     "output_type": "execute_result"
    }
   ],
   "source": [
    "len(hexlify(struct.pack('!I', 22))[0])/2"
   ]
  },
  {
   "cell_type": "code",
   "execution_count": 658,
   "metadata": {},
   "outputs": [
    {
     "data": {
      "text/plain": [
       "4"
      ]
     },
     "execution_count": 658,
     "metadata": {},
     "output_type": "execute_result"
    }
   ],
   "source": [
    "struct.calcsize('!I')"
   ]
  },
  {
   "cell_type": "code",
   "execution_count": 660,
   "metadata": {},
   "outputs": [
    {
     "data": {
      "text/plain": [
       "'00000016'"
      ]
     },
     "execution_count": 660,
     "metadata": {},
     "output_type": "execute_result"
    }
   ],
   "source": [
    "\"%08X\" % 22"
   ]
  },
  {
   "cell_type": "code",
   "execution_count": 662,
   "metadata": {},
   "outputs": [
    {
     "data": {
      "text/plain": [
       "{'__name__': '__main__',\n",
       " '__doc__': 'Automatically created module for IPython interactive environment',\n",
       " '__package__': None,\n",
       " '__loader__': None,\n",
       " '__spec__': None,\n",
       " '__builtin__': <module 'builtins' (built-in)>,\n",
       " '__builtins__': <module 'builtins' (built-in)>,\n",
       " '_ih': ['',\n",
       "  'import struct',\n",
       "  \"struct.unpack('!s', 'ali'.encode('hex'))\",\n",
       "  \"struct.unpack('!s', 'ali'.encode('utf-8'))\",\n",
       "  \"struct.unpack('!ss', 'ali'.encode('utf-8'))\",\n",
       "  \"struct.unpack('!sss', 'ali'.encode('utf-8'))\",\n",
       "  \"struct.unpack('!s{3}', 'ali'.encode('utf-8'))\",\n",
       "  \"struct.unpack('!s3', 'ali'.encode('utf-8'))\",\n",
       "  \"struct.unpack('!3s', 'ali'.encode('utf-8'))\",\n",
       "  '0xfe',\n",
       "  '0x19',\n",
       "  'x13',\n",
       "  'ord(9)',\n",
       "  \"ord('9')\",\n",
       "  \"len(b's')\",\n",
       "  \"len(b'sa')\",\n",
       "  \"len('sa'.encode('utf-8'))\",\n",
       "  \"len('sa'.encode('utf-16'))\",\n",
       "  \"struct.pack('hh1', (1, 2, 3))\",\n",
       "  \"struct.pack('hhh', (1, 2, 3))\",\n",
       "  \"struct.pack('3h', 1, 2, 3)\",\n",
       "  \"struct.pack('3h1', 1, 2, 3)\",\n",
       "  \"struct.pack('2h1', 1, 2, 3)\",\n",
       "  \"struct.pack('2h1', 1, 2, 3)\",\n",
       "  \"struct.pack('hh1', 1, 2, 3)\",\n",
       "  \"struct.pack('hhh', 1, 2, 3)\",\n",
       "  \"struct.calcsize('hh1')\",\n",
       "  \"struct.calcsize('hh')\",\n",
       "  \"struct.pack('hh1', 1, 2, 3)\",\n",
       "  \"struct.pack('hhh', 1, 2, 3)\",\n",
       "  \"struct.pack('hhh1, 1, 2, 3)\",\n",
       "  \"struct.pack('hhh1', 1, 2, 3)\",\n",
       "  \"struct.pack('hhhl', 1, 2, 3)\",\n",
       "  \"struct.pack('hhl', 1, 2, 3)\",\n",
       "  \"struct.pack('hhl', 1, 2, 3)\",\n",
       "  \"struct.calcsize('s')\",\n",
       "  \"struct.calcsize('3s')\",\n",
       "  \"struct.calcsize('4c')\",\n",
       "  \"struct.calcsize('hh')\",\n",
       "  \"struct.calcsize('hhl')\",\n",
       "  \"struct.calcsize('!hhl')\",\n",
       "  \"struct.calcsize('>hhl')\",\n",
       "  \"struct.calcsize('!hhl')\",\n",
       "  \"struct.pack('ci', b'*', 0x12131415)\",\n",
       "  \"struct.pack('ic', 0x12131415, b'*')\",\n",
       "  \"struct.calcsize('ci')\",\n",
       "  \"struct.calcsize('ic')\",\n",
       "  \"struct.unpack('<HHb', b'\\\\x32\\\\x12\\\\x08\\\\x01\\\\x08')\",\n",
       "  \"struct.pack('!HHb', 4658, 264, 8)\",\n",
       "  \"struct.pack('<HHb', 4658, 264, 8)\",\n",
       "  \"struct.pack('<HHb', 4658, 264, 8)\",\n",
       "  \"struct.unpack('<HHb', b'2\\\\x12\\\\x08\\\\x01\\\\x08')\",\n",
       "  \"struct.unpack('<HHb', b'\\\\x32\\\\x12\\\\x08\\\\x01\\\\x08')\",\n",
       "  \"struct.unpack('<HHb', b'2\\\\x12\\\\x08\\\\x01\\\\x08')\",\n",
       "  \"struct.unpack('<HHb', b'\\\\x12\\\\x08\\\\x01\\\\x08')\",\n",
       "  \"struct.unpack('<Hb', b'\\\\x12\\\\x08\\\\x01\\\\x08')\",\n",
       "  \"struct.unpack('<HHb', b'2\\\\x12\\\\x08\\\\x01\\\\x08')\",\n",
       "  \"struct.unpack('<HHb', b'1\\\\x12\\\\x08\\\\x01\\\\x08')\",\n",
       "  \"struct.unpack('<HHb', b'1\\\\x11\\\\x08\\\\x01\\\\x08')\",\n",
       "  \"struct.unpack('<HHb', b'2\\\\x12\\\\x08\\\\x01\\\\x08')\",\n",
       "  '20x12',\n",
       "  '0x12',\n",
       "  '2x12',\n",
       "  'hex(4658)',\n",
       "  'bin(hex(4658))',\n",
       "  'bin(4658)',\n",
       "  'hex(2)',\n",
       "  'hex(212)',\n",
       "  \"int('2x12', 10)\",\n",
       "  \"int('212', 10)\",\n",
       "  \"int('212', 16)\",\n",
       "  \"int('4658', 16)\",\n",
       "  \"int('2x12', 16)\",\n",
       "  \"int('2x12', 2)\",\n",
       "  \"struct.unpack('<H', b'2\\\\x12')\",\n",
       "  '0x12',\n",
       "  \"struct.unpack('<H', b'2\\\\x11')\",\n",
       "  \"struct.unpack('<H', b'2\\\\x12')\",\n",
       "  'char(0xc3)',\n",
       "  'chr(0xc3)',\n",
       "  'chr(0xb1)',\n",
       "  \"struct.unpack('<H', b'3\\\\x12')\",\n",
       "  \"struct.unpack('<H', b'4\\\\x12')\",\n",
       "  \"struct.unpack('<H', b'2\\\\x12')\",\n",
       "  \"struct.unpack('<H', b'\\\\x12')\",\n",
       "  \"struct.unpack('<c', b'\\\\x12')\",\n",
       "  \"struct.unpack('<s', b'\\\\x12')\",\n",
       "  'chr(0x12)',\n",
       "  'chr(0x46)',\n",
       "  'chr(0x64)',\n",
       "  'chr(0x12)',\n",
       "  'bin(2)',\n",
       "  'bin(0x12)',\n",
       "  '0o12',\n",
       "  '0b1010010',\n",
       "  'reversed(1010010)',\n",
       "  \"reversed(b'1010010')\",\n",
       "  '0b0100101',\n",
       "  '0b0100101',\n",
       "  '0b1001010',\n",
       "  \"struct.pack('<I', 4658)\",\n",
       "  'hex(4658)',\n",
       "  '0x12',\n",
       "  '0x32',\n",
       "  'bin(0x1232)',\n",
       "  'bin(2)',\n",
       "  '0b01000110010',\n",
       "  \"struct.pack('<i', 4658)\",\n",
       "  \"struct.pack('>i', 4658)\",\n",
       "  '0x122',\n",
       "  'bin(0x122)',\n",
       "  'bin(0)',\n",
       "  '0b00100100010',\n",
       "  '0b0000100100010',\n",
       "  '0b00000000100100010',\n",
       "  '0b0000000000000000100100010',\n",
       "  '0b100100010',\n",
       "  '0b10010001000',\n",
       "  '0b1001000100000',\n",
       "  '0b100100010000',\n",
       "  '0b10010001000',\n",
       "  'bytes(2\\\\x12)',\n",
       "  \"bytes(b'2\\\\x12')\",\n",
       "  \"bytes(b'2\\\\x12').decode()\",\n",
       "  'bin(2)',\n",
       "  'bin(20)',\n",
       "  'bin(120)',\n",
       "  \"bin(b'\\\\x00\\\\x01\\\\x00\\\\x02')\",\n",
       "  '0x00',\n",
       "  '0x01',\n",
       "  '0x00',\n",
       "  '0x02',\n",
       "  'bin(0x02)',\n",
       "  'bin(0x00)',\n",
       "  'bin(0x01)',\n",
       "  'bin(0x00)',\n",
       "  '0b0000000',\n",
       "  'len(0b0000000)',\n",
       "  '0b0000000',\n",
       "  '0b00000000',\n",
       "  'type(bytes(1))',\n",
       "  'type(bytes([1, 2]))',\n",
       "  'bytes([1, 2]',\n",
       "  'bytes([1, 2])',\n",
       "  'bytes([1, 2, 3])',\n",
       "  \"bytes([1, 2, 3, 'ali'])\",\n",
       "  \"bytes([1, 2, 3, b'ali'])\",\n",
       "  'bytes([1, 2, 3])',\n",
       "  \"bytes([1, 2, 3, 'b'])\",\n",
       "  'bytes([1, 2, 3])',\n",
       "  \"bytes('ali')\",\n",
       "  \"bytes(b'ali')\",\n",
       "  \"bytes([b'ali'])\",\n",
       "  \"bytes(b'ali', b'a')\",\n",
       "  \"bytes(b'ali')\",\n",
       "  \"struct.pack('>h',1)\",\n",
       "  'bin(1)',\n",
       "  \"struct.pack('>h',1)\",\n",
       "  \"struct.pack('>h',2)\",\n",
       "  'bin(2)',\n",
       "  'hex(2)',\n",
       "  'hex(1)',\n",
       "  \"struct.pack('<h',2)\",\n",
       "  'hex(250)',\n",
       "  'hex(255)',\n",
       "  'hex(256)',\n",
       "  \"struct.pack('<h',256)\",\n",
       "  \"struct.pack('>h',256)\",\n",
       "  \"struct.pack('>h',255)\",\n",
       "  \"struct.pack('>h',257)\",\n",
       "  \"struct.pack('>h',256)\",\n",
       "  'hex(257)',\n",
       "  'hex(255)',\n",
       "  'hex(256)',\n",
       "  'hex(4586)',\n",
       "  'hex(4658)',\n",
       "  \"struct.pack('>h', 4658)\",\n",
       "  \"struct.pack('h', 4658)\",\n",
       "  \"struct.pack('h', 256)\",\n",
       "  \"struct.pack('h', 500)\",\n",
       "  \"struct.pack('h', 512)\",\n",
       "  'hex(512)',\n",
       "  \"struct.pack('<h', 512)\",\n",
       "  \"struct.pack('>h', 512)\",\n",
       "  \"struct.pack('>h', 513)\",\n",
       "  'hex(513)',\n",
       "  '0x0201',\n",
       "  '0x0010002',\n",
       "  '0x00010002',\n",
       "  '0x0010002',\n",
       "  '0x212',\n",
       "  '0x2',\n",
       "  '0x212',\n",
       "  '0x21208',\n",
       "  '0x021208',\n",
       "  '0x0212',\n",
       "  '0x0108',\n",
       "  '0x12',\n",
       "  'hex(2)',\n",
       "  'x2\\\\x12\\\\x08\\\\x01\\\\x08',\n",
       "  '\\\\x2\\\\x12\\\\x08\\\\x01\\\\x08',\n",
       "  '\\\\x02\\\\x12\\\\x08\\\\x01\\\\x08',\n",
       "  \"struct.unpack('<HH', 'b''\\\\x02\\\\x12\\\\x08\\\\x01\\\\x08')\",\n",
       "  \"struct.unpack('<HH', b'\\\\x02\\\\x12\\\\x08\\\\x01\\\\x08')\",\n",
       "  \"struct.unpack('<HHH', b'\\\\x02\\\\x12\\\\x08\\\\x01\\\\x08')\",\n",
       "  \"struct.unpack('<HHH', b'2\\\\x12\\\\x08\\\\x01\\\\x08')\",\n",
       "  \"struct.unpack('<hh', b'2\\\\x12\\\\x08\\\\x01\\\\x08')\",\n",
       "  \"struct.unpack('<hhh', b'2\\\\x12\\\\x08\\\\x01\\\\x08')\",\n",
       "  \"struct.unpack('<HHb', b'2\\\\x12\\\\x08\\\\x01\\\\x08')\",\n",
       "  \"struct.unpack('>HHb', b'2\\\\x12\\\\x08\\\\x01\\\\x08')\",\n",
       "  '0x212',\n",
       "  '0x21208',\n",
       "  '0x0801',\n",
       "  '0x12',\n",
       "  '0x2012',\n",
       "  '0x0212',\n",
       "  \"struct.unpack('>HHb', b'x2\\\\x12\\\\x08\\\\x01\\\\x08')\",\n",
       "  \"struct.unpack('>HHb', b'\\\\x2\\\\x12\\\\x08\\\\x01\\\\x08')\",\n",
       "  \"struct.unpack('>HHb', b'2\\\\x12\\\\x08\\\\x01\\\\x08')\",\n",
       "  \"struct.unpack('>HH', b'2\\\\x12\\\\x08\\\\x01\\\\x08')\",\n",
       "  \"struct.unpack('>HHb', b'2\\\\x12\\\\x08\\\\x01\\\\x08')\",\n",
       "  \"struct.pack('>HH', 4658)\",\n",
       "  \"struct.pack('>H', 4658)\",\n",
       "  \"struct.pack('>I', 4658)\",\n",
       "  \"struct.pack('>H', 4658)\",\n",
       "  '0x122',\n",
       "  \"struct.pack('>HH', 4658)\",\n",
       "  \"struct.pack('>I', 4658)\",\n",
       "  '0x0000122',\n",
       "  \"struct.pack('!I', 4658)\",\n",
       "  \"struct.pack('!I', 4658)\",\n",
       "  \"struct.pack('!B', 4658)\",\n",
       "  '2^16',\n",
       "  'pow(2, 16)',\n",
       "  \"struct.pack('@I', 4658)\",\n",
       "  \"struct.pack('>I', 4658)\",\n",
       "  \"struct.pack('!h', 4658)\",\n",
       "  \"struct.pack('!H', 4658)\",\n",
       "  \"struct.pack('@H', 4658)\",\n",
       "  '0x212',\n",
       "  '0x0212',\n",
       "  \"struct.pack('@H', 100)\",\n",
       "  '0xd',\n",
       "  '0xd00',\n",
       "  '0x00d',\n",
       "  \"struct.pack('>H', 100)\",\n",
       "  '0x0d',\n",
       "  \"struct.pack('>H', 1)\",\n",
       "  '0x0001',\n",
       "  \"struct.pack('>H', 2)\",\n",
       "  '0x0002',\n",
       "  \"struct.pack('>H', 20)\",\n",
       "  '0x0014',\n",
       "  \"struct.pack('>H', 40)\",\n",
       "  '0x00(',\n",
       "  \"struct.pack('>H', 40)\",\n",
       "  \"struct.pack('>H', 41)\",\n",
       "  \"struct.pack('>H', 42)\",\n",
       "  \"print(struct.pack('>H', 42))\",\n",
       "  \"print(struct.pack('>H', 43))\",\n",
       "  \"print(struct.pack('>H', 50))\",\n",
       "  '0x02',\n",
       "  '0x002',\n",
       "  \"print(struct.pack('>H', 51))\",\n",
       "  'chr(0x002)',\n",
       "  \"print(struct.pack('>H', 100))\",\n",
       "  \"print(struct.pack('>H', 255))\",\n",
       "  '0x00ff',\n",
       "  \"print(struct.pack('>H', 254))\",\n",
       "  '0x00fe',\n",
       "  \"print(struct.pack('>H', 150))\",\n",
       "  '0x0096',\n",
       "  \"print(struct.pack('>H', 500))\",\n",
       "  \"print(struct.pack('>H', 1000))\",\n",
       "  '0x03e8',\n",
       "  \"print(struct.pack('>HH', 1000))\",\n",
       "  \"print(struct.pack('>I', 1000))\",\n",
       "  \"print(struct.pack('<I', 1000))\",\n",
       "  '0x08',\n",
       "  '0x0801',\n",
       "  \"print(struct.pack('<h', 1000))\",\n",
       "  \"print(struct.pack('<H', 65536))\",\n",
       "  \"print(struct.pack('<H', 65535))\",\n",
       "  '0xffff',\n",
       "  \"print(struct.pack('<H', 65534))\",\n",
       "  '0xfeff',\n",
       "  '0xfffe',\n",
       "  \"print(struct.pack('>H', 65534))\",\n",
       "  '0xfffe',\n",
       "  \"struct.pack('>s', b'ali')\",\n",
       "  \"struct.pack('>3s', b'ali')\",\n",
       "  \"struct.pack('>3s', 'ali'.encode('utf-8'))\",\n",
       "  \"struct.pack('>3s', 'ali'.encode('utf-16'))\",\n",
       "  '0xfffea',\n",
       "  'chr(0xff)',\n",
       "  'chr(0xfffea)',\n",
       "  'chr(0xf)',\n",
       "  \"struct.pack('>3s', 'ali'.encode('utf-8'))\",\n",
       "  '0xfffea',\n",
       "  'chr(0xf)',\n",
       "  \"struct.unpack('>HHb', b'\\\\x32\\\\x12\\\\x08\\\\x01\\\\x08')\",\n",
       "  \"struct.unpack('<HHb', b'\\\\x32\\\\x12\\\\x08\\\\x01\\\\x08')\",\n",
       "  '0x0801',\n",
       "  '0x3212',\n",
       "  '0x32',\n",
       "  \"struct.unpack('>HHb', b'\\\\x32\\\\x12\\\\x08\\\\x01\\\\x08')\",\n",
       "  '0x3212',\n",
       "  '0x0801',\n",
       "  '0x08',\n",
       "  \"struct.unpack('<HHb', b'\\\\x32\\\\x12\\\\x08\\\\x01\\\\x08')\",\n",
       "  '0x0801',\n",
       "  '0x0108',\n",
       "  '0x1232',\n",
       "  '0x0108',\n",
       "  '0x08',\n",
       "  \"struct.iter_unpack('<3s', b'ali')\",\n",
       "  \"struct.iter_unpack('<HHb', b'\\\\x32\\\\x12\\\\x08\\\\x01\\\\x08')\",\n",
       "  \"next(struct.iter_unpack('<HHb', b'\\\\x32\\\\x12\\\\x08\\\\x01\\\\x08'))\",\n",
       "  \"next(struct.iter_unpack('<HHb', b'\\\\x32\\\\x12\\\\x08\\\\x01\\\\x08'))\",\n",
       "  \"next(struct.iter_unpack('<HHb', b'\\\\x32\\\\x12\\\\x08\\\\x01\\\\x08'))\\nnext(struct.iter_unpack('<HHb', b'\\\\x32\\\\x12\\\\x08\\\\x01\\\\x08'))\",\n",
       "  \"next(struct.iter_unpack('<HHb', b'\\\\x32\\\\x12\\\\x08\\\\x01\\\\x08'))\\nnext(struct.iter_unpack('<HHb', b'\\\\x32\\\\x12\\\\x08\\\\x01\\\\x08'))\",\n",
       "  \"next(struct.iter_unpack('<HHb', b'\\\\x32\\\\x12\\\\x08\\\\x01\\\\x08'))\\nnext(struct.iter_unpack('<HHb', b'\\\\x32\\\\x12\\\\x08\\\\x01\\\\x08'))\\nnext(struct.iter_unpack('<HHb', b'\\\\x32\\\\x12\\\\x08\\\\x01\\\\x08'))\",\n",
       "  \"*next(struct.iter_unpack('<HHb', b'\\\\x32\\\\x12\\\\x08\\\\x01\\\\x08'))\",\n",
       "  \"next(struct.iter_unpack('<HHb', b'\\\\x32\\\\x12\\\\x08\\\\x01\\\\x08'))\",\n",
       "  \"next(struct.iter_unpack('c', b'\\\\x32\\\\x12\\\\x08\\\\x01\\\\x08'))\",\n",
       "  \"next(struct.iter_unpack('c', b'\\\\x32\\\\x12\\\\x08\\\\x01\\\\x08'))\\nnext(struct.iter_unpack('<HHb', b'\\\\x32\\\\x12\\\\x08\\\\x01\\\\x08'))\",\n",
       "  \"next(struct.iter_unpack('c', b'\\\\x32\\\\x12\\\\x08\\\\x01\\\\x08'))\\nnext(struct.iter_unpack('c', b'\\\\x32\\\\x12\\\\x08\\\\x01\\\\x08'))\",\n",
       "  \"next(struct.iter_unpack('c', b'\\\\x32\\\\x12\\\\x08\\\\x01\\\\x08'))\\nnext(struct.iter_unpack('c', b'\\\\x32\\\\x12\\\\x08\\\\x01\\\\x08'))\\n\\nfor k in struct.iter_unpack('c', b'\\\\x32\\\\x12\\\\x08\\\\x01\\\\x08'):\\n    print(k)\",\n",
       "  \"for k in struct.iter_unpack('c', b'\\\\x32\\\\x12\\\\x08\\\\x01\\\\x08'):\\n    print(k)\",\n",
       "  '0x32',\n",
       "  'bin(0x32)',\n",
       "  '2',\n",
       "  'chr(0x32)',\n",
       "  'chr(0x12)',\n",
       "  \"for k in struct.iter_unpack('cc', b'\\\\x32\\\\x12\\\\x08\\\\x01\\\\x08'):\\n    print(k)\",\n",
       "  \"for k in struct.iter_unpack('cc', b'\\\\x32\\\\x12\\\\x08\\\\x01\\\\x08\\\\x08'):\\n    print(k)\",\n",
       "  'import codecs',\n",
       "  'codecs.getencoder(\"utf_8\")',\n",
       "  'codecs.getencoder(\"utf_8\").encode(\\'ali\\')',\n",
       "  \"b'\\\\x32\\\\x12\\\\x08\\\\x01\\\\x08\\\\x08'[:2]\",\n",
       "  \"b'0x321208010808'\",\n",
       "  \"b'321208010808'[:2]\",\n",
       "  \"struck.unpack('>h', b'\\\\x32')\",\n",
       "  \"struct.unpack('>h', b'\\\\x32')\",\n",
       "  \"struct.unpack('>c', b'\\\\x32')\",\n",
       "  \"struct.unpack('>c', b'\\\\x32')[0]\",\n",
       "  'def calc_padding(msg_len):\\n    return (msg_len+3)&~3 ',\n",
       "  'calc_padding(3)',\n",
       "  '(3+3)&~3',\n",
       "  '6~3',\n",
       "  '6&3',\n",
       "  'bin(6)',\n",
       "  'bin(3)',\n",
       "  '~3',\n",
       "  'bin(3)',\n",
       "  '0b110000',\n",
       "  '0b000011',\n",
       "  '0b111100',\n",
       "  '0b1111',\n",
       "  'bin(-4)',\n",
       "  'bin(~3)',\n",
       "  'for k in struck.unpack(\\'c\\', b\"\"\"2163bc1d0ad82371f6bc09484133c3f09ad74a0dd5346d54195a7cf0b35\\n         2cabc881839a4fdcfbc1769e2677a4c1fb499284c5f70b48f58503a45c5\\n         c2d6943f82d5930f2b7c1da640f476f0e9c9572a50db8ea6e51e1c2c7bd\\n         f8bb43dc995144b8dbe297ac739493946803e1cee3e15d9b765008a1b2a\\n         cf4ac777c80041d72c01e691cf751dbf86e85f509f3988e5875dc905119\\n         26841f00f0e29a6d1ddc1a842289d440268681e052b30fb638045f7779c\\n         1d873c784f054f688f5001559ecff64865ef975f3e60d2fd7966b8c7f92\"\"\").iter_pack:\\n    print(k)',\n",
       "  'for k in struct.unpack(\\'c\\', b\"\"\"2163bc1d0ad82371f6bc09484133c3f09ad74a0dd5346d54195a7cf0b35\\n         2cabc881839a4fdcfbc1769e2677a4c1fb499284c5f70b48f58503a45c5\\n         c2d6943f82d5930f2b7c1da640f476f0e9c9572a50db8ea6e51e1c2c7bd\\n         f8bb43dc995144b8dbe297ac739493946803e1cee3e15d9b765008a1b2a\\n         cf4ac777c80041d72c01e691cf751dbf86e85f509f3988e5875dc905119\\n         26841f00f0e29a6d1ddc1a842289d440268681e052b30fb638045f7779c\\n         1d873c784f054f688f5001559ecff64865ef975f3e60d2fd7966b8c7f92\"\"\").iter_pack:\\n    print(k)',\n",
       "  'for k in struct.unpack(\\'cc\\', b\"\"\"2163bc1d0ad82371f6bc09484133c3f09ad74a0dd5346d54195a7cf0b35\\n         2cabc881839a4fdcfbc1769e2677a4c1fb499284c5f70b48f58503a45c5\\n         c2d6943f82d5930f2b7c1da640f476f0e9c9572a50db8ea6e51e1c2c7bd\\n         f8bb43dc995144b8dbe297ac739493946803e1cee3e15d9b765008a1b2a\\n         cf4ac777c80041d72c01e691cf751dbf86e85f509f3988e5875dc905119\\n         26841f00f0e29a6d1ddc1a842289d440268681e052b30fb638045f7779c\\n         1d873c784f054f688f5001559ecff64865ef975f3e60d2fd7966b8c7f92\"\"\").iter_pack:\\n    print(k)',\n",
       "  \"for k in struct.unpack('c', b'2163bc1d0ad82371f6bc09484133c3f09ad74a0dd5346d54195a7cf0b35').iter_pack:\\n    print(k)\",\n",
       "  \"for k in struct.unpack('c', b'\\\\x21\\\\x63\\\\xbc\\\\x1d\\\\x0a\\\\xd8\\\\x23\\\\x71\\\\xf6\\\\xbc\\\\x09\\\\x48\\\\x41\\\\x33\\\\xc3\\\\xf0\\\\x9a').iter_pack:\\n    print(k)\",\n",
       "  \"for k in struct.unpack('c', b'\\\\x21\\\\x63\\\\xbc\\\\x1d\\\\x0a\\\\xd8\\\\x23\\\\x71\\\\xf6\\\\xbc\\\\x09\\\\x48\\\\x41\\\\x33\\\\xc3\\\\xf0\\\\x9a').iter_unpack:\\n    print(k)\",\n",
       "  \"for k in struct.unpack('c', b'\\\\x21\\\\x63\\\\xbc\\\\x1d\\\\x0a\\\\xd8\\\\x23\\\\x71\\\\xf6\\\\xbc\\\\x09\\\\x48\\\\x41\\\\x33\\\\xc3\\\\xf0\\\\x9a').iter_unpack():\\n    print(k)\",\n",
       "  \"for k in struct.iter_unpack('c', b'\\\\x21\\\\x63\\\\xbc\\\\x1d\\\\x0a\\\\xd8\\\\x23\\\\x71\\\\xf6\\\\xbc\\\\x09\\\\x48\\\\x41\\\\x33\\\\xc3\\\\xf0\\\\x9a'):\\n    print(k)\",\n",
       "  \"for k in struct.iter_unpack('>c', b'\\\\x21\\\\x63\\\\xbc\\\\x1d\\\\x0a\\\\xd8\\\\x23\\\\x71\\\\xf6\\\\xbc\\\\x09\\\\x48\\\\x41\\\\x33\\\\xc3\\\\xf0\\\\x9a'):\\n    print(k)\",\n",
       "  'for k in struct.iter_unpack(\\'>c\\', b\"\"\"2163bc1d0ad82371f6bc09484133c3f09ad74a0dd5346d54195a7cf0b35\\n         2cabc881839a4fdcfbc1769e2677a4c1fb499284c5f70b48f58503a45c5\\n         c2d6943f82d5930f2b7c1da640f476f0e9c9572a50db8ea6e51e1c2c7bd\\n         f8bb43dc995144b8dbe297ac739493946803e1cee3e15d9b765008a1b2a\\n         cf4ac777c80041d72c01e691cf751dbf86e85f509f3988e5875dc905119\\n         26841f00f0e29a6d1ddc1a842289d440268681e052b30fb638045f7779c\\n         1d873c784f054f688f5001559ecff64865ef975f3e60d2fd7966b8c7f92\"\"\")',\n",
       "  \"for k in struct.iter_unpack('>c', b'2163bc1d0ad82371f6bc09484133c3f09ad74a0dd5346d54195a7cf0b35')\",\n",
       "  \"for k in struct.iter_unpack('>c', b'2163bc1d0ad82371f6bc09484133c3f09ad74a0dd5346d54195a7cf0b35'):\\n    print(k)\",\n",
       "  \"b'2163bc1d'\",\n",
       "  \"struck.unpack('>I', b'2163bc1d')\",\n",
       "  \"struct.unpack('>I', b'2163bc1d')\",\n",
       "  \"struct.unpack('>I', b'\\\\x21\\\\x63\\\\xbc\\\\x1d')\",\n",
       "  \"struct.unpack('>c', b'0a')\",\n",
       "  \"struct.unpack('>c', b'\\\\x0a')\",\n",
       "  \"struct.unpack('>I', b'\\\\x0a')\",\n",
       "  \"struct.unpack('>h', b'\\\\x0a\\\\00')\",\n",
       "  'calc_padding(9)',\n",
       "  'calc_padding(8)',\n",
       "  'calc_padding(7)',\n",
       "  'calc_padding(4)',\n",
       "  'calc_padding(14)',\n",
       "  'calc_padding(18)',\n",
       "  'calc_padding(15)',\n",
       "  'calc_padding(20)',\n",
       "  'calc_padding(22)',\n",
       "  'list(map(calc_padding, range(100)))',\n",
       "  'list(map(calc_padding, range(30)))',\n",
       "  'list(enumerate(map(calc_padding, range(30))))',\n",
       "  'list(enumerate(map(calc_padding, range(40))))',\n",
       "  '64 |= 64',\n",
       "  '64 |= 64',\n",
       "  '64 |= 1',\n",
       "  '64 |=',\n",
       "  '|=',\n",
       "  '64 | 4',\n",
       "  '1 << 3',\n",
       "  'bin(1<<3)',\n",
       "  'bin(1<<2)',\n",
       "  'bin(8)',\n",
       "  'bin(1<<1)',\n",
       "  '1<<1',\n",
       "  '1<<7',\n",
       "  '1<<8',\n",
       "  '1<<2',\n",
       "  '1<<3',\n",
       "  '1<<1',\n",
       "  '1<<0',\n",
       "  '1<<2',\n",
       "  '1<<7',\n",
       "  'bin(1<<7)',\n",
       "  'bin(1<<8)',\n",
       "  '1<<8',\n",
       "  'len(bin(1<<8))',\n",
       "  'len(bin(1<<8))-2',\n",
       "  '1<<7',\n",
       "  'bin(128)',\n",
       "  '0b111111',\n",
       "  '0b11111111',\n",
       "  '~128',\n",
       "  '~3',\n",
       "  '128+129',\n",
       "  '~4',\n",
       "  '~5',\n",
       "  '0b00000011',\n",
       "  '0011',\n",
       "  '0b0011',\n",
       "  '10000000 | 100',\n",
       "  '10000000 | 10000000',\n",
       "  '10000000 | 10000001',\n",
       "  '10000000 & 10000001',\n",
       "  '10000000 $= 10000001',\n",
       "  '10000000 &= 10000001',\n",
       "  '10000000 | 10000001',\n",
       "  'def calc_padding(msg_len):\\n    return (msg_len+3)&~3 ',\n",
       "  '~4',\n",
       "  '~3',\n",
       "  'bin(3)',\n",
       "  'bin(~3)',\n",
       "  '0b11-0b100',\n",
       "  '(1+3)~3',\n",
       "  '(1+3)&~3',\n",
       "  '(1+2)&~2',\n",
       "  '0b11 & 0b100',\n",
       "  '0b11 | 0b100',\n",
       "  'bin(0b11 | 0b100)',\n",
       "  '~4',\n",
       "  '3&~4',\n",
       "  '3&~3',\n",
       "  '4&~3',\n",
       "  '5&~3',\n",
       "  '6&~3',\n",
       "  '(2+3)&~3',\n",
       "  '(5+3)&~3',\n",
       "  '~3',\n",
       "  '7%4',\n",
       "  '7+7%4',\n",
       "  'def calc_padding_new(msg_len):\\n    return msg_len + (4-msg_len%4)',\n",
       "  'calc_padding_new(10)',\n",
       "  'list(map(calc_padding_new, range(100)))',\n",
       "  'def calc_padding_new(msg_len):\\n    if msg_len==0:\\n        return msg_len\\n    else:\\n        return msg_len + (4-msg_len%4)',\n",
       "  'list(map(calc_padding_new, range(100)))',\n",
       "  'enumerate(list(map(calc_padding_new, range(100))))',\n",
       "  'list(enumerate(map(calc_padding_new, range(100))))',\n",
       "  'list(enumerate(map(calc_padding_new, range(1, 100))))',\n",
       "  'def calc_padding_new(msg_len):\\n    if msg_len==0:\\n        return msg_len\\n    else:\\n        return msg_len + (4-msg_len%4)',\n",
       "  '6->8\\n\\n6 + 2 => \\n\\n7 + 1\\n\\n8 + 0',\n",
       "  'list(enumerate(map(calc_padding_new, range(1, 100))))',\n",
       "  'calc_padding_new(8)',\n",
       "  'def calc_padding_new(msg_len):\\n    if msg_len%4 == 0:\\n        return msg_len\\n    else:\\n        return msg_len + (4-msg_len%4)',\n",
       "  'calc_padding_new(8)',\n",
       "  'list(enumerate(map(calc_padding_new, range(1, 100))))',\n",
       "  'list(enumerate(map(calc_padding_new, range(1, 100))))',\n",
       "  'calc_padding_new(8)',\n",
       "  'list(enumerate(map(calc_padding_new, range(1, 100))))',\n",
       "  'list(enumerate(map(calc_padding_new, range(100))))',\n",
       "  \"'ali'.encode('utf-16')\",\n",
       "  \"'habil'.encode('utf-16')\",\n",
       "  \"len('habil'.encode('utf-16'))\",\n",
       "  \"len('habil01'.encode('utf-16'))\",\n",
       "  \"len('habil0'.encode('utf-16'))\",\n",
       "  \"len('habil'.encode('utf-16'))\",\n",
       "  \"'habil'.encode('utf-8')\",\n",
       "  \"len('habil'.encode('utf-8'))\",\n",
       "  \"'habil'.encode('utf-8')\",\n",
       "  'calc_padding(10)',\n",
       "  'def calc_padding(msg_len):\\n    return (msg_len+3)&~3 - msg_len',\n",
       "  'calc_padding(10)',\n",
       "  'def calc_padding(msg_len):\\n    return ((msg_len+3)&~3) - msg_len',\n",
       "  'calc_padding(10)',\n",
       "  'list(enumerate(map(calc_padding_new, range(10))))',\n",
       "  'bin(10)',\n",
       "  '0b0101',\n",
       "  '0b1010',\n",
       "  '-0b0101',\n",
       "  'bin(~10)',\n",
       "  '~10',\n",
       "  '-0b1011 & 0b1010',\n",
       "  '-0b1011 and 0b1010',\n",
       "  '-0b1011 | 0b1010',\n",
       "  '-0b1011 + 0b1010',\n",
       "  '-0b1011 & 0b1010',\n",
       "  '0b1010',\n",
       "  '-0b1011 | 0b1010',\n",
       "  '-0b1011 & 0b1010',\n",
       "  '-0b1011 & 0b1010',\n",
       "  '1 & 1',\n",
       "  '1 & 2',\n",
       "  '1 & 3',\n",
       "  'bin(1)',\n",
       "  'bin(1)',\n",
       "  'bin(2)',\n",
       "  '0b10 & 0b1',\n",
       "  'bin(3)',\n",
       "  '0b11 & 0b1',\n",
       "  '0b11 & 0b10',\n",
       "  '0b11 & 0b01',\n",
       "  '0b01',\n",
       "  '0b000001',\n",
       "  '0b0000001',\n",
       "  'list(map(bin, range(10)))',\n",
       "  'list(enumerate(map(bin, range(10))))',\n",
       "  '0b11100100',\n",
       "  '-0b11100100',\n",
       "  '0b11100100',\n",
       "  'bin(28)',\n",
       "  'bin(-28)',\n",
       "  '~28',\n",
       "  'bin(~28)',\n",
       "  '0b11001000',\n",
       "  '0b11000100',\n",
       "  '0b11100100',\n",
       "  '0xFFFFFFFF',\n",
       "  'bin(0xFFFFFFFF)',\n",
       "  'len(bin(0xFFFFFFFF))',\n",
       "  'bin(FF)',\n",
       "  'bin(0xFF)',\n",
       "  '0xFF',\n",
       "  '0b01100',\n",
       "  'bin(30)',\n",
       "  '0b00011110',\n",
       "  '0b11100001',\n",
       "  '0b00000000000000000000000000011110',\n",
       "  '0b11111111111111111111111111100001',\n",
       "  '0b11111111111111111111111111100010',\n",
       "  '0b11111111111111111111111111100010 + 0b00000000000000000000000000011110',\n",
       "  '0b11111111111111111111111111100010 - 0b00000000000000000000000000011110',\n",
       "  '-0b11111111111111111111111111100010',\n",
       "  '0xFFFFFFE2',\n",
       "  'bin(0xFFFFFFE2)',\n",
       "  '0b11111111111111111111111111111110',\n",
       "  'bin(6)',\n",
       "  '0b00000110',\n",
       "  '0b11111001',\n",
       "  'len(0b11111001)',\n",
       "  \"len('0b11111001')\",\n",
       "  '0b11111001',\n",
       "  '249+6',\n",
       "  '0b11111010',\n",
       "  '250 + 6',\n",
       "  'bin(-10)',\n",
       "  '0x000000',\n",
       "  '0x000001',\n",
       "  'bin(0x000001)',\n",
       "  'bin(0x0000FF)',\n",
       "  'bin(0x0FF0FF)',\n",
       "  '12 & 25',\n",
       "  '1 & 1',\n",
       "  '1 & 2',\n",
       "  '1 & 3',\n",
       "  '1 | 3',\n",
       "  '12 | 25',\n",
       "  '~3',\n",
       "  '(3+3)&~3',\n",
       "  '(3&~3 + 3&~3)',\n",
       "  '3&~3',\n",
       "  '3&~4',\n",
       "  '~4',\n",
       "  '1 or 2',\n",
       "  '1 | 2',\n",
       "  '3 | 4',\n",
       "  '3 & 4',\n",
       "  '3 & 5',\n",
       "  '12 & 24',\n",
       "  '12 & 25',\n",
       "  '12 | 25',\n",
       "  'def calc_padding_new(msg_len):\\n    if msg_len%4 == 0:\\n        return msg_len\\n    else:\\n        return msg_len + (4-msg_len%4)',\n",
       "  'def calc_padding_new(msg_len):\\n    if msg_len%4 == 0:\\n        return msg_len\\n    else:\\n        return msg_len + msg_len%4',\n",
       "  'list(enumerate(map(calc_padding_new, range(20))))',\n",
       "  'def calc_padding_new(msg_len):\\n    if msg_len%4 == 0:\\n        return msg_len\\n    else:\\n        return msg_len + msg_len%4',\n",
       "  'list(enumerate(map(calc_padding_new, range(20))))',\n",
       "  'def calc_padding(msg_len):\\n    return (msg_len + 3)&~3',\n",
       "  'def calc_padding_new(msg_len):\\n    if msg_len%4 == 0:\\n        return msg_len\\n    else:\\n        return msg_len + 4%msg_len',\n",
       "  'list(enumerate(map(calc_padding_new, range(20))))',\n",
       "  'def calc_padding_new(msg_len):\\n    if msg_len%4 == 0:\\n        return msg_len\\n    else:\\n        return msg_len + (4-msg_len%4)',\n",
       "  'list(enumerate(map(calc_padding_new, range(20))))',\n",
       "  'def calc_padding(msg_len):\\n    return (msg_len + 3)&~3',\n",
       "  'list(enumerate(map(calc_padding, range(20))))',\n",
       "  'def calc_padding(msg_len):\\n    return (msg_len + 2)&~2',\n",
       "  'list(enumerate(map(calc_padding, range(20))))',\n",
       "  'def calc_padding(msg_len):\\n    return (msg_len + 2)&~2',\n",
       "  'list(enumerate(map(calc_padding, range(20))))',\n",
       "  'def calc_padding(msg_len):\\n    return (msg_len + 2)&~3',\n",
       "  'list(enumerate(map(calc_padding, range(20))))',\n",
       "  'def calc_padding(msg_len):\\n    return (msg_len + 3)&~3',\n",
       "  'list(enumerate(map(calc_padding, range(20))))',\n",
       "  'def calc_padding(msg_len):\\n    return (msg_len + 2)&~3',\n",
       "  'list(enumerate(map(calc_padding, range(20))))',\n",
       "  'def calc_padding(msg_len):\\n    return (msg_len + 1)&~3',\n",
       "  'list(enumerate(map(calc_padding, range(20))))',\n",
       "  '7&-4',\n",
       "  \"hex('ali')\",\n",
       "  \"codecs.getencode('hex')\",\n",
       "  \"codecs.getencoder('hex')\",\n",
       "  \"hexlify = codecs.getencoder('hex')\",\n",
       "  \"hexlify('ali')\",\n",
       "  \"hexlify(b'ali')\",\n",
       "  '0x616c69',\n",
       "  'chr(0x61)',\n",
       "  'chr(0x6c)',\n",
       "  \"unhexlify = codecs.getdecoder('hex')\",\n",
       "  \"unhexlify('616c69')\",\n",
       "  \"struct.pack('>I', 11)\",\n",
       "  \"hexlify(struct.pack('>I', 11))\",\n",
       "  \"hex(struct.pack('>I', 11))\",\n",
       "  \"hexlidy(struct.pack('>I', 11))\",\n",
       "  \"hexlify(struct.pack('>I', 11))\",\n",
       "  \"hexlify(struct.pack('!I', 11))\",\n",
       "  \"struct.pack('!I', 11)\",\n",
       "  \"struct.pack('!I', 22)\",\n",
       "  \"hexlify(struct.pack('!I', 22))\",\n",
       "  \"hexlify(struct.pack('!I', 22))[0]\",\n",
       "  \"hexlify(struct.pack('!I', 22))[0][:1]\",\n",
       "  \"hexlify(struct.pack('!I', 22))[0]\",\n",
       "  \"print(hexlify(struct.pack('!I', 22))[0])\",\n",
       "  \"struct.pack('!I', 22)\",\n",
       "  \"struct.unpack('!I', b'\\\\x00\\\\x00\\\\x00\\\\x16')\",\n",
       "  \"unhexlify(struct.unpack('!I', b'\\\\x00\\\\x00\\\\x00\\\\x16'))\",\n",
       "  \"struct.unpack('!I', unhexilify(b'\\\\x00\\\\x00\\\\x00\\\\x16'))\",\n",
       "  \"struct.unpack('!I', unhexlify(b'\\\\x00\\\\x00\\\\x00\\\\x16'))\",\n",
       "  \"struct.unpack('!I', unhexlify('\\\\x00\\\\x00\\\\x00\\\\x16'))\",\n",
       "  \"struct.unpack('!I', unhexlify('00000016'))\",\n",
       "  \"struct.unpack('!I', unhexlify('0x00000016'))\",\n",
       "  \"struct.unpack('!I', unhexlify(0x00000016))\",\n",
       "  \"struct.unpack('!I', unhexlify(b'0x00000016'))\",\n",
       "  \"struct.unpack('!I', unhexlify(b'00000016'))\",\n",
       "  \"struct.unpack('!I', unhexlify(b'00000016')[0])\",\n",
       "  \"struct.unpack('!I', unhexlify(b'0x00000016')[0])\",\n",
       "  \"struct.unpack('!I', unhexlify(b'00000016')[0])\",\n",
       "  \"print(hexlify(struct.pack('!I', 22))[0])\",\n",
       "  \"len(hexlify(struct.pack('!I', 22))[0])\",\n",
       "  \"len(hexlify(struct.pack('!I', 22))[0])/2\",\n",
       "  'struct.calcsize()',\n",
       "  \"struct.calcsize(b'00000016')\",\n",
       "  \"struct.calcsize('!I')\",\n",
       "  '\"%08X\" % 11',\n",
       "  '\"%08X\" % 22',\n",
       "  'globals',\n",
       "  'globals()'],\n",
       " '_oh': {5: (b'a', b'l', b'i'),\n",
       "  8: (b'ali',),\n",
       "  9: 254,\n",
       "  10: 25,\n",
       "  13: 57,\n",
       "  14: 1,\n",
       "  15: 2,\n",
       "  16: 2,\n",
       "  17: 6,\n",
       "  20: b'\\x01\\x00\\x02\\x00\\x03\\x00',\n",
       "  25: b'\\x01\\x00\\x02\\x00\\x03\\x00',\n",
       "  27: 4,\n",
       "  29: b'\\x01\\x00\\x02\\x00\\x03\\x00',\n",
       "  33: b'\\x01\\x00\\x02\\x00\\x00\\x00\\x00\\x00\\x03\\x00\\x00\\x00\\x00\\x00\\x00\\x00',\n",
       "  34: b'\\x01\\x00\\x02\\x00\\x00\\x00\\x00\\x00\\x03\\x00\\x00\\x00\\x00\\x00\\x00\\x00',\n",
       "  35: 1,\n",
       "  36: 3,\n",
       "  37: 4,\n",
       "  38: 4,\n",
       "  39: 16,\n",
       "  40: 8,\n",
       "  41: 8,\n",
       "  42: 8,\n",
       "  43: b'*\\x00\\x00\\x00\\x15\\x14\\x13\\x12',\n",
       "  44: b'\\x15\\x14\\x13\\x12*',\n",
       "  45: 8,\n",
       "  46: 5,\n",
       "  47: (4658, 264, 8),\n",
       "  48: b'\\x122\\x01\\x08\\x08',\n",
       "  49: b'2\\x12\\x08\\x01\\x08',\n",
       "  50: b'2\\x12\\x08\\x01\\x08',\n",
       "  51: (4658, 264, 8),\n",
       "  52: (4658, 264, 8),\n",
       "  53: (4658, 264, 8),\n",
       "  56: (4658, 264, 8),\n",
       "  57: (4657, 264, 8),\n",
       "  58: (4401, 264, 8),\n",
       "  59: (4658, 264, 8),\n",
       "  61: 18,\n",
       "  63: '0x1232',\n",
       "  65: '0b1001000110010',\n",
       "  66: '0x2',\n",
       "  67: '0xd4',\n",
       "  69: 212,\n",
       "  70: 530,\n",
       "  71: 18008,\n",
       "  74: (4658,),\n",
       "  75: 18,\n",
       "  76: (4402,),\n",
       "  77: (4658,),\n",
       "  79: 'Ã',\n",
       "  80: '±',\n",
       "  81: (4659,),\n",
       "  82: (4660,),\n",
       "  83: (4658,),\n",
       "  85: (b'\\x12',),\n",
       "  86: (b'\\x12',),\n",
       "  87: '\\x12',\n",
       "  88: 'F',\n",
       "  89: 'd',\n",
       "  90: '\\x12',\n",
       "  91: '0b10',\n",
       "  92: '0b10010',\n",
       "  93: 10,\n",
       "  94: 82,\n",
       "  96: <reversed at 0x10900f700>,\n",
       "  97: 37,\n",
       "  98: 37,\n",
       "  99: 74,\n",
       "  100: b'2\\x12\\x00\\x00',\n",
       "  101: '0x1232',\n",
       "  102: 18,\n",
       "  103: 50,\n",
       "  104: '0b1001000110010',\n",
       "  105: '0b10',\n",
       "  106: 562,\n",
       "  107: b'2\\x12\\x00\\x00',\n",
       "  108: b'\\x00\\x00\\x122',\n",
       "  109: 290,\n",
       "  110: '0b100100010',\n",
       "  111: '0b0',\n",
       "  112: 290,\n",
       "  113: 290,\n",
       "  114: 290,\n",
       "  115: 290,\n",
       "  116: 290,\n",
       "  117: 1160,\n",
       "  118: 4640,\n",
       "  119: 2320,\n",
       "  120: 1160,\n",
       "  122: b'2\\x12',\n",
       "  123: '2\\x12',\n",
       "  124: '0b10',\n",
       "  125: '0b10100',\n",
       "  126: '0b1111000',\n",
       "  128: 0,\n",
       "  129: 1,\n",
       "  130: 0,\n",
       "  131: 2,\n",
       "  132: '0b10',\n",
       "  133: '0b0',\n",
       "  134: '0b1',\n",
       "  135: '0b0',\n",
       "  136: 0,\n",
       "  138: 0,\n",
       "  139: 0,\n",
       "  140: bytes,\n",
       "  141: bytes,\n",
       "  143: b'\\x01\\x02',\n",
       "  144: b'\\x01\\x02\\x03',\n",
       "  147: b'\\x01\\x02\\x03',\n",
       "  149: b'\\x01\\x02\\x03',\n",
       "  151: b'ali',\n",
       "  154: b'ali',\n",
       "  155: b'\\x00\\x01',\n",
       "  156: '0b1',\n",
       "  157: b'\\x00\\x01',\n",
       "  158: b'\\x00\\x02',\n",
       "  159: '0b10',\n",
       "  160: '0x2',\n",
       "  161: '0x1',\n",
       "  162: b'\\x02\\x00',\n",
       "  163: '0xfa',\n",
       "  164: '0xff',\n",
       "  165: '0x100',\n",
       "  166: b'\\x00\\x01',\n",
       "  167: b'\\x01\\x00',\n",
       "  168: b'\\x00\\xff',\n",
       "  169: b'\\x01\\x01',\n",
       "  170: b'\\x01\\x00',\n",
       "  171: '0x101',\n",
       "  172: '0xff',\n",
       "  173: '0x100',\n",
       "  174: '0x11ea',\n",
       "  175: '0x1232',\n",
       "  176: b'\\x122',\n",
       "  177: b'2\\x12',\n",
       "  178: b'\\x00\\x01',\n",
       "  179: b'\\xf4\\x01',\n",
       "  180: b'\\x00\\x02',\n",
       "  181: '0x200',\n",
       "  182: b'\\x00\\x02',\n",
       "  183: b'\\x02\\x00',\n",
       "  184: b'\\x02\\x01',\n",
       "  185: '0x201',\n",
       "  186: 513,\n",
       "  187: 65538,\n",
       "  188: 65538,\n",
       "  189: 65538,\n",
       "  190: 530,\n",
       "  191: 2,\n",
       "  192: 530,\n",
       "  193: 135688,\n",
       "  194: 135688,\n",
       "  195: 530,\n",
       "  196: 264,\n",
       "  197: 18,\n",
       "  198: '0x2',\n",
       "  208: (4658, 264, 8),\n",
       "  209: (12818, 2049, 8),\n",
       "  210: 530,\n",
       "  211: 135688,\n",
       "  212: 2049,\n",
       "  213: 18,\n",
       "  214: 8210,\n",
       "  215: 530,\n",
       "  218: (12818, 2049, 8),\n",
       "  220: (12818, 2049, 8),\n",
       "  222: b'\\x122',\n",
       "  223: b'\\x00\\x00\\x122',\n",
       "  224: b'\\x122',\n",
       "  225: 290,\n",
       "  227: b'\\x00\\x00\\x122',\n",
       "  228: 290,\n",
       "  229: b'\\x00\\x00\\x122',\n",
       "  230: b'\\x00\\x00\\x122',\n",
       "  232: 18,\n",
       "  233: 65536,\n",
       "  234: b'2\\x12\\x00\\x00',\n",
       "  235: b'\\x00\\x00\\x122',\n",
       "  236: b'\\x122',\n",
       "  237: b'\\x122',\n",
       "  238: b'2\\x12',\n",
       "  239: 530,\n",
       "  240: 530,\n",
       "  241: b'd\\x00',\n",
       "  242: 13,\n",
       "  243: 3328,\n",
       "  244: 13,\n",
       "  245: b'\\x00d',\n",
       "  246: 13,\n",
       "  247: b'\\x00\\x01',\n",
       "  248: 1,\n",
       "  249: b'\\x00\\x02',\n",
       "  250: 2,\n",
       "  251: b'\\x00\\x14',\n",
       "  252: 20,\n",
       "  253: b'\\x00(',\n",
       "  255: b'\\x00(',\n",
       "  256: b'\\x00)',\n",
       "  257: b'\\x00*',\n",
       "  261: 2,\n",
       "  262: 2,\n",
       "  264: '\\x02',\n",
       "  267: 255,\n",
       "  269: 254,\n",
       "  271: 150,\n",
       "  274: 1000,\n",
       "  278: 8,\n",
       "  279: 2049,\n",
       "  283: 65535,\n",
       "  285: 65279,\n",
       "  286: 65534,\n",
       "  288: 65534,\n",
       "  289: b'a',\n",
       "  290: b'ali',\n",
       "  291: b'ali',\n",
       "  292: b'\\xff\\xfea',\n",
       "  293: 1048554,\n",
       "  294: 'ÿ',\n",
       "  295: '\\U000fffea',\n",
       "  296: '\\x0f',\n",
       "  297: b'ali',\n",
       "  298: 1048554,\n",
       "  299: '\\x0f',\n",
       "  300: (12818, 2049, 8),\n",
       "  301: (4658, 264, 8),\n",
       "  302: 2049,\n",
       "  303: 12818,\n",
       "  304: 50,\n",
       "  305: (12818, 2049, 8),\n",
       "  306: 12818,\n",
       "  307: 2049,\n",
       "  308: 8,\n",
       "  309: (4658, 264, 8),\n",
       "  310: 2049,\n",
       "  311: 264,\n",
       "  312: 4658,\n",
       "  313: 264,\n",
       "  314: 8,\n",
       "  315: <unpack_iterator at 0x109002540>,\n",
       "  316: <unpack_iterator at 0x109002840>,\n",
       "  317: (4658, 264, 8),\n",
       "  318: (4658, 264, 8),\n",
       "  319: (4658, 264, 8),\n",
       "  320: (4658, 264, 8),\n",
       "  321: (4658, 264, 8),\n",
       "  323: (4658, 264, 8),\n",
       "  324: (b'2',),\n",
       "  325: (4658, 264, 8),\n",
       "  326: (b'2',),\n",
       "  329: 50,\n",
       "  330: '0b110010',\n",
       "  331: 2,\n",
       "  332: '2',\n",
       "  333: '\\x12',\n",
       "  337: <function _codecs.utf_8_encode(str, errors=None, /)>,\n",
       "  339: b'2\\x12',\n",
       "  340: b'0x321208010808',\n",
       "  341: b'32',\n",
       "  344: (b'2',),\n",
       "  345: b'2',\n",
       "  347: 4,\n",
       "  348: 4,\n",
       "  350: 2,\n",
       "  351: '0b110',\n",
       "  352: '0b11',\n",
       "  353: -4,\n",
       "  354: '0b11',\n",
       "  355: 48,\n",
       "  356: 3,\n",
       "  357: 60,\n",
       "  358: 15,\n",
       "  359: '-0b100',\n",
       "  360: '-0b100',\n",
       "  373: b'2163bc1d',\n",
       "  376: (560184349,),\n",
       "  378: (b'\\n',),\n",
       "  380: (2560,),\n",
       "  381: 12,\n",
       "  382: 8,\n",
       "  383: 8,\n",
       "  384: 4,\n",
       "  385: 16,\n",
       "  386: 20,\n",
       "  387: 16,\n",
       "  388: 20,\n",
       "  389: 24,\n",
       "  390: [0,\n",
       "   4,\n",
       "   4,\n",
       "   4,\n",
       "   4,\n",
       "   8,\n",
       "   8,\n",
       "   8,\n",
       "   8,\n",
       "   12,\n",
       "   12,\n",
       "   12,\n",
       "   12,\n",
       "   16,\n",
       "   16,\n",
       "   16,\n",
       "   16,\n",
       "   20,\n",
       "   20,\n",
       "   20,\n",
       "   20,\n",
       "   24,\n",
       "   24,\n",
       "   24,\n",
       "   24,\n",
       "   28,\n",
       "   28,\n",
       "   28,\n",
       "   28,\n",
       "   32,\n",
       "   32,\n",
       "   32,\n",
       "   32,\n",
       "   36,\n",
       "   36,\n",
       "   36,\n",
       "   36,\n",
       "   40,\n",
       "   40,\n",
       "   40,\n",
       "   40,\n",
       "   44,\n",
       "   44,\n",
       "   44,\n",
       "   44,\n",
       "   48,\n",
       "   48,\n",
       "   48,\n",
       "   48,\n",
       "   52,\n",
       "   52,\n",
       "   52,\n",
       "   52,\n",
       "   56,\n",
       "   56,\n",
       "   56,\n",
       "   56,\n",
       "   60,\n",
       "   60,\n",
       "   60,\n",
       "   60,\n",
       "   64,\n",
       "   64,\n",
       "   64,\n",
       "   64,\n",
       "   68,\n",
       "   68,\n",
       "   68,\n",
       "   68,\n",
       "   72,\n",
       "   72,\n",
       "   72,\n",
       "   72,\n",
       "   76,\n",
       "   76,\n",
       "   76,\n",
       "   76,\n",
       "   80,\n",
       "   80,\n",
       "   80,\n",
       "   80,\n",
       "   84,\n",
       "   84,\n",
       "   84,\n",
       "   84,\n",
       "   88,\n",
       "   88,\n",
       "   88,\n",
       "   88,\n",
       "   92,\n",
       "   92,\n",
       "   92,\n",
       "   92,\n",
       "   96,\n",
       "   96,\n",
       "   96,\n",
       "   96,\n",
       "   100,\n",
       "   100,\n",
       "   100],\n",
       "  391: [0,\n",
       "   4,\n",
       "   4,\n",
       "   4,\n",
       "   4,\n",
       "   8,\n",
       "   8,\n",
       "   8,\n",
       "   8,\n",
       "   12,\n",
       "   12,\n",
       "   12,\n",
       "   12,\n",
       "   16,\n",
       "   16,\n",
       "   16,\n",
       "   16,\n",
       "   20,\n",
       "   20,\n",
       "   20,\n",
       "   20,\n",
       "   24,\n",
       "   24,\n",
       "   24,\n",
       "   24,\n",
       "   28,\n",
       "   28,\n",
       "   28,\n",
       "   28,\n",
       "   32],\n",
       "  392: [(0, 0),\n",
       "   (1, 4),\n",
       "   (2, 4),\n",
       "   (3, 4),\n",
       "   (4, 4),\n",
       "   (5, 8),\n",
       "   (6, 8),\n",
       "   (7, 8),\n",
       "   (8, 8),\n",
       "   (9, 12),\n",
       "   (10, 12),\n",
       "   (11, 12),\n",
       "   (12, 12),\n",
       "   (13, 16),\n",
       "   (14, 16),\n",
       "   (15, 16),\n",
       "   (16, 16),\n",
       "   (17, 20),\n",
       "   (18, 20),\n",
       "   (19, 20),\n",
       "   (20, 20),\n",
       "   (21, 24),\n",
       "   (22, 24),\n",
       "   (23, 24),\n",
       "   (24, 24),\n",
       "   (25, 28),\n",
       "   (26, 28),\n",
       "   (27, 28),\n",
       "   (28, 28),\n",
       "   (29, 32)],\n",
       "  393: [(0, 0),\n",
       "   (1, 4),\n",
       "   (2, 4),\n",
       "   (3, 4),\n",
       "   (4, 4),\n",
       "   (5, 8),\n",
       "   (6, 8),\n",
       "   (7, 8),\n",
       "   (8, 8),\n",
       "   (9, 12),\n",
       "   (10, 12),\n",
       "   (11, 12),\n",
       "   (12, 12),\n",
       "   (13, 16),\n",
       "   (14, 16),\n",
       "   (15, 16),\n",
       "   (16, 16),\n",
       "   (17, 20),\n",
       "   (18, 20),\n",
       "   (19, 20),\n",
       "   (20, 20),\n",
       "   (21, 24),\n",
       "   (22, 24),\n",
       "   (23, 24),\n",
       "   (24, 24),\n",
       "   (25, 28),\n",
       "   (26, 28),\n",
       "   (27, 28),\n",
       "   (28, 28),\n",
       "   (29, 32),\n",
       "   (30, 32),\n",
       "   (31, 32),\n",
       "   (32, 32),\n",
       "   (33, 36),\n",
       "   (34, 36),\n",
       "   (35, 36),\n",
       "   (36, 36),\n",
       "   (37, 40),\n",
       "   (38, 40),\n",
       "   (39, 40)],\n",
       "  399: 68,\n",
       "  400: 8,\n",
       "  401: '0b1000',\n",
       "  402: '0b100',\n",
       "  403: '0b1000',\n",
       "  404: '0b10',\n",
       "  405: 2,\n",
       "  406: 128,\n",
       "  407: 256,\n",
       "  408: 4,\n",
       "  409: 8,\n",
       "  410: 2,\n",
       "  411: 1,\n",
       "  412: 4,\n",
       "  413: 128,\n",
       "  414: '0b10000000',\n",
       "  415: '0b100000000',\n",
       "  416: 256,\n",
       "  417: 11,\n",
       "  418: 9,\n",
       "  419: 128,\n",
       "  420: '0b10000000',\n",
       "  421: 63,\n",
       "  422: 255,\n",
       "  423: -129,\n",
       "  424: -4,\n",
       "  425: 257,\n",
       "  426: -5,\n",
       "  427: -6,\n",
       "  428: 3,\n",
       "  430: 3,\n",
       "  431: 10000100,\n",
       "  432: 10000000,\n",
       "  433: 10000001,\n",
       "  434: 10000000,\n",
       "  437: 10000001,\n",
       "  439: -5,\n",
       "  440: -4,\n",
       "  441: '0b11',\n",
       "  442: '-0b100',\n",
       "  443: -1,\n",
       "  445: 4,\n",
       "  446: 1,\n",
       "  447: 0,\n",
       "  448: 7,\n",
       "  449: '0b111',\n",
       "  450: -5,\n",
       "  451: 3,\n",
       "  452: 0,\n",
       "  453: 4,\n",
       "  454: 4,\n",
       "  455: 4,\n",
       "  456: 4,\n",
       "  457: 8,\n",
       "  458: -4,\n",
       "  459: 3,\n",
       "  460: 10,\n",
       "  462: 12,\n",
       "  463: [4,\n",
       "   4,\n",
       "   4,\n",
       "   4,\n",
       "   8,\n",
       "   8,\n",
       "   8,\n",
       "   8,\n",
       "   12,\n",
       "   12,\n",
       "   12,\n",
       "   12,\n",
       "   16,\n",
       "   16,\n",
       "   16,\n",
       "   16,\n",
       "   20,\n",
       "   20,\n",
       "   20,\n",
       "   20,\n",
       "   24,\n",
       "   24,\n",
       "   24,\n",
       "   24,\n",
       "   28,\n",
       "   28,\n",
       "   28,\n",
       "   28,\n",
       "   32,\n",
       "   32,\n",
       "   32,\n",
       "   32,\n",
       "   36,\n",
       "   36,\n",
       "   36,\n",
       "   36,\n",
       "   40,\n",
       "   40,\n",
       "   40,\n",
       "   40,\n",
       "   44,\n",
       "   44,\n",
       "   44,\n",
       "   44,\n",
       "   48,\n",
       "   48,\n",
       "   48,\n",
       "   48,\n",
       "   52,\n",
       "   52,\n",
       "   52,\n",
       "   52,\n",
       "   56,\n",
       "   56,\n",
       "   56,\n",
       "   56,\n",
       "   60,\n",
       "   60,\n",
       "   60,\n",
       "   60,\n",
       "   64,\n",
       "   64,\n",
       "   64,\n",
       "   64,\n",
       "   68,\n",
       "   68,\n",
       "   68,\n",
       "   68,\n",
       "   72,\n",
       "   72,\n",
       "   72,\n",
       "   72,\n",
       "   76,\n",
       "   76,\n",
       "   76,\n",
       "   76,\n",
       "   80,\n",
       "   80,\n",
       "   80,\n",
       "   80,\n",
       "   84,\n",
       "   84,\n",
       "   84,\n",
       "   84,\n",
       "   88,\n",
       "   88,\n",
       "   88,\n",
       "   88,\n",
       "   92,\n",
       "   92,\n",
       "   92,\n",
       "   92,\n",
       "   96,\n",
       "   96,\n",
       "   96,\n",
       "   96,\n",
       "   100,\n",
       "   100,\n",
       "   100,\n",
       "   100],\n",
       "  465: [0,\n",
       "   4,\n",
       "   4,\n",
       "   4,\n",
       "   8,\n",
       "   8,\n",
       "   8,\n",
       "   8,\n",
       "   12,\n",
       "   12,\n",
       "   12,\n",
       "   12,\n",
       "   16,\n",
       "   16,\n",
       "   16,\n",
       "   16,\n",
       "   20,\n",
       "   20,\n",
       "   20,\n",
       "   20,\n",
       "   24,\n",
       "   24,\n",
       "   24,\n",
       "   24,\n",
       "   28,\n",
       "   28,\n",
       "   28,\n",
       "   28,\n",
       "   32,\n",
       "   32,\n",
       "   32,\n",
       "   32,\n",
       "   36,\n",
       "   36,\n",
       "   36,\n",
       "   36,\n",
       "   40,\n",
       "   40,\n",
       "   40,\n",
       "   40,\n",
       "   44,\n",
       "   44,\n",
       "   44,\n",
       "   44,\n",
       "   48,\n",
       "   48,\n",
       "   48,\n",
       "   48,\n",
       "   52,\n",
       "   52,\n",
       "   52,\n",
       "   52,\n",
       "   56,\n",
       "   56,\n",
       "   56,\n",
       "   56,\n",
       "   60,\n",
       "   60,\n",
       "   60,\n",
       "   60,\n",
       "   64,\n",
       "   64,\n",
       "   64,\n",
       "   64,\n",
       "   68,\n",
       "   68,\n",
       "   68,\n",
       "   68,\n",
       "   72,\n",
       "   72,\n",
       "   72,\n",
       "   72,\n",
       "   76,\n",
       "   76,\n",
       "   76,\n",
       "   76,\n",
       "   80,\n",
       "   80,\n",
       "   80,\n",
       "   80,\n",
       "   84,\n",
       "   84,\n",
       "   84,\n",
       "   84,\n",
       "   88,\n",
       "   88,\n",
       "   88,\n",
       "   88,\n",
       "   92,\n",
       "   92,\n",
       "   92,\n",
       "   92,\n",
       "   96,\n",
       "   96,\n",
       "   96,\n",
       "   96,\n",
       "   100,\n",
       "   100,\n",
       "   100,\n",
       "   100],\n",
       "  466: <enumerate at 0x109047080>,\n",
       "  467: [(0, 0),\n",
       "   (1, 4),\n",
       "   (2, 4),\n",
       "   (3, 4),\n",
       "   (4, 8),\n",
       "   (5, 8),\n",
       "   (6, 8),\n",
       "   (7, 8),\n",
       "   (8, 12),\n",
       "   (9, 12),\n",
       "   (10, 12),\n",
       "   (11, 12),\n",
       "   (12, 16),\n",
       "   (13, 16),\n",
       "   (14, 16),\n",
       "   (15, 16),\n",
       "   (16, 20),\n",
       "   (17, 20),\n",
       "   (18, 20),\n",
       "   (19, 20),\n",
       "   (20, 24),\n",
       "   (21, 24),\n",
       "   (22, 24),\n",
       "   (23, 24),\n",
       "   (24, 28),\n",
       "   (25, 28),\n",
       "   (26, 28),\n",
       "   (27, 28),\n",
       "   (28, 32),\n",
       "   (29, 32),\n",
       "   (30, 32),\n",
       "   (31, 32),\n",
       "   (32, 36),\n",
       "   (33, 36),\n",
       "   (34, 36),\n",
       "   (35, 36),\n",
       "   (36, 40),\n",
       "   (37, 40),\n",
       "   (38, 40),\n",
       "   (39, 40),\n",
       "   (40, 44),\n",
       "   (41, 44),\n",
       "   (42, 44),\n",
       "   (43, 44),\n",
       "   (44, 48),\n",
       "   (45, 48),\n",
       "   (46, 48),\n",
       "   (47, 48),\n",
       "   (48, 52),\n",
       "   (49, 52),\n",
       "   (50, 52),\n",
       "   (51, 52),\n",
       "   (52, 56),\n",
       "   (53, 56),\n",
       "   (54, 56),\n",
       "   (55, 56),\n",
       "   (56, 60),\n",
       "   (57, 60),\n",
       "   (58, 60),\n",
       "   (59, 60),\n",
       "   (60, 64),\n",
       "   (61, 64),\n",
       "   (62, 64),\n",
       "   (63, 64),\n",
       "   (64, 68),\n",
       "   (65, 68),\n",
       "   (66, 68),\n",
       "   (67, 68),\n",
       "   (68, 72),\n",
       "   (69, 72),\n",
       "   (70, 72),\n",
       "   (71, 72),\n",
       "   (72, 76),\n",
       "   (73, 76),\n",
       "   (74, 76),\n",
       "   (75, 76),\n",
       "   (76, 80),\n",
       "   (77, 80),\n",
       "   (78, 80),\n",
       "   (79, 80),\n",
       "   (80, 84),\n",
       "   (81, 84),\n",
       "   (82, 84),\n",
       "   (83, 84),\n",
       "   (84, 88),\n",
       "   (85, 88),\n",
       "   (86, 88),\n",
       "   (87, 88),\n",
       "   (88, 92),\n",
       "   (89, 92),\n",
       "   (90, 92),\n",
       "   (91, 92),\n",
       "   (92, 96),\n",
       "   (93, 96),\n",
       "   (94, 96),\n",
       "   (95, 96),\n",
       "   (96, 100),\n",
       "   (97, 100),\n",
       "   (98, 100),\n",
       "   (99, 100)],\n",
       "  468: [(0, 4),\n",
       "   (1, 4),\n",
       "   (2, 4),\n",
       "   (3, 8),\n",
       "   (4, 8),\n",
       "   (5, 8),\n",
       "   (6, 8),\n",
       "   (7, 12),\n",
       "   (8, 12),\n",
       "   (9, 12),\n",
       "   (10, 12),\n",
       "   (11, 16),\n",
       "   (12, 16),\n",
       "   (13, 16),\n",
       "   (14, 16),\n",
       "   (15, 20),\n",
       "   (16, 20),\n",
       "   (17, 20),\n",
       "   (18, 20),\n",
       "   (19, 24),\n",
       "   (20, 24),\n",
       "   (21, 24),\n",
       "   (22, 24),\n",
       "   (23, 28),\n",
       "   (24, 28),\n",
       "   (25, 28),\n",
       "   (26, 28),\n",
       "   (27, 32),\n",
       "   (28, 32),\n",
       "   (29, 32),\n",
       "   (30, 32),\n",
       "   (31, 36),\n",
       "   (32, 36),\n",
       "   (33, 36),\n",
       "   (34, 36),\n",
       "   (35, 40),\n",
       "   (36, 40),\n",
       "   (37, 40),\n",
       "   (38, 40),\n",
       "   (39, 44),\n",
       "   (40, 44),\n",
       "   (41, 44),\n",
       "   (42, 44),\n",
       "   (43, 48),\n",
       "   (44, 48),\n",
       "   (45, 48),\n",
       "   (46, 48),\n",
       "   (47, 52),\n",
       "   (48, 52),\n",
       "   (49, 52),\n",
       "   (50, 52),\n",
       "   (51, 56),\n",
       "   (52, 56),\n",
       "   (53, 56),\n",
       "   (54, 56),\n",
       "   (55, 60),\n",
       "   (56, 60),\n",
       "   (57, 60),\n",
       "   (58, 60),\n",
       "   (59, 64),\n",
       "   (60, 64),\n",
       "   (61, 64),\n",
       "   (62, 64),\n",
       "   (63, 68),\n",
       "   (64, 68),\n",
       "   (65, 68),\n",
       "   (66, 68),\n",
       "   (67, 72),\n",
       "   (68, 72),\n",
       "   (69, 72),\n",
       "   (70, 72),\n",
       "   (71, 76),\n",
       "   (72, 76),\n",
       "   (73, 76),\n",
       "   (74, 76),\n",
       "   (75, 80),\n",
       "   (76, 80),\n",
       "   (77, 80),\n",
       "   (78, 80),\n",
       "   (79, 84),\n",
       "   (80, 84),\n",
       "   (81, 84),\n",
       "   (82, 84),\n",
       "   (83, 88),\n",
       "   (84, 88),\n",
       "   (85, 88),\n",
       "   (86, 88),\n",
       "   (87, 92),\n",
       "   (88, 92),\n",
       "   (89, 92),\n",
       "   (90, 92),\n",
       "   (91, 96),\n",
       "   (92, 96),\n",
       "   (93, 96),\n",
       "   (94, 96),\n",
       "   (95, 100),\n",
       "   (96, 100),\n",
       "   (97, 100),\n",
       "   (98, 100)],\n",
       "  471: [(0, 4),\n",
       "   (1, 4),\n",
       "   (2, 4),\n",
       "   (3, 8),\n",
       "   (4, 8),\n",
       "   (5, 8),\n",
       "   (6, 8),\n",
       "   (7, 12),\n",
       "   (8, 12),\n",
       "   (9, 12),\n",
       "   (10, 12),\n",
       "   (11, 16),\n",
       "   (12, 16),\n",
       "   (13, 16),\n",
       "   (14, 16),\n",
       "   (15, 20),\n",
       "   (16, 20),\n",
       "   (17, 20),\n",
       "   (18, 20),\n",
       "   (19, 24),\n",
       "   (20, 24),\n",
       "   (21, 24),\n",
       "   (22, 24),\n",
       "   (23, 28),\n",
       "   (24, 28),\n",
       "   (25, 28),\n",
       "   (26, 28),\n",
       "   (27, 32),\n",
       "   (28, 32),\n",
       "   (29, 32),\n",
       "   (30, 32),\n",
       "   (31, 36),\n",
       "   (32, 36),\n",
       "   (33, 36),\n",
       "   (34, 36),\n",
       "   (35, 40),\n",
       "   (36, 40),\n",
       "   (37, 40),\n",
       "   (38, 40),\n",
       "   (39, 44),\n",
       "   (40, 44),\n",
       "   (41, 44),\n",
       "   (42, 44),\n",
       "   (43, 48),\n",
       "   (44, 48),\n",
       "   (45, 48),\n",
       "   (46, 48),\n",
       "   (47, 52),\n",
       "   (48, 52),\n",
       "   (49, 52),\n",
       "   (50, 52),\n",
       "   (51, 56),\n",
       "   (52, 56),\n",
       "   (53, 56),\n",
       "   (54, 56),\n",
       "   (55, 60),\n",
       "   (56, 60),\n",
       "   (57, 60),\n",
       "   (58, 60),\n",
       "   (59, 64),\n",
       "   (60, 64),\n",
       "   (61, 64),\n",
       "   (62, 64),\n",
       "   (63, 68),\n",
       "   (64, 68),\n",
       "   (65, 68),\n",
       "   (66, 68),\n",
       "   (67, 72),\n",
       "   (68, 72),\n",
       "   (69, 72),\n",
       "   (70, 72),\n",
       "   (71, 76),\n",
       "   (72, 76),\n",
       "   (73, 76),\n",
       "   (74, 76),\n",
       "   (75, 80),\n",
       "   (76, 80),\n",
       "   (77, 80),\n",
       "   (78, 80),\n",
       "   (79, 84),\n",
       "   (80, 84),\n",
       "   (81, 84),\n",
       "   (82, 84),\n",
       "   (83, 88),\n",
       "   (84, 88),\n",
       "   (85, 88),\n",
       "   (86, 88),\n",
       "   (87, 92),\n",
       "   (88, 92),\n",
       "   (89, 92),\n",
       "   (90, 92),\n",
       "   (91, 96),\n",
       "   (92, 96),\n",
       "   (93, 96),\n",
       "   (94, 96),\n",
       "   (95, 100),\n",
       "   (96, 100),\n",
       "   (97, 100),\n",
       "   (98, 100)],\n",
       "  472: 12,\n",
       "  474: 8,\n",
       "  475: [(0, 4),\n",
       "   (1, 4),\n",
       "   (2, 4),\n",
       "   (3, 4),\n",
       "   (4, 8),\n",
       "   (5, 8),\n",
       "   (6, 8),\n",
       "   (7, 8),\n",
       "   (8, 12),\n",
       "   (9, 12),\n",
       "   (10, 12),\n",
       "   (11, 12),\n",
       "   (12, 16),\n",
       "   (13, 16),\n",
       "   (14, 16),\n",
       "   (15, 16),\n",
       "   (16, 20),\n",
       "   (17, 20),\n",
       "   (18, 20),\n",
       "   (19, 20),\n",
       "   (20, 24),\n",
       "   (21, 24),\n",
       "   (22, 24),\n",
       "   (23, 24),\n",
       "   (24, 28),\n",
       "   (25, 28),\n",
       "   (26, 28),\n",
       "   (27, 28),\n",
       "   (28, 32),\n",
       "   (29, 32),\n",
       "   (30, 32),\n",
       "   (31, 32),\n",
       "   (32, 36),\n",
       "   (33, 36),\n",
       "   (34, 36),\n",
       "   (35, 36),\n",
       "   (36, 40),\n",
       "   (37, 40),\n",
       "   (38, 40),\n",
       "   (39, 40),\n",
       "   (40, 44),\n",
       "   (41, 44),\n",
       "   (42, 44),\n",
       "   (43, 44),\n",
       "   (44, 48),\n",
       "   (45, 48),\n",
       "   (46, 48),\n",
       "   (47, 48),\n",
       "   (48, 52),\n",
       "   (49, 52),\n",
       "   (50, 52),\n",
       "   (51, 52),\n",
       "   (52, 56),\n",
       "   (53, 56),\n",
       "   (54, 56),\n",
       "   (55, 56),\n",
       "   (56, 60),\n",
       "   (57, 60),\n",
       "   (58, 60),\n",
       "   (59, 60),\n",
       "   (60, 64),\n",
       "   (61, 64),\n",
       "   (62, 64),\n",
       "   (63, 64),\n",
       "   (64, 68),\n",
       "   (65, 68),\n",
       "   (66, 68),\n",
       "   (67, 68),\n",
       "   (68, 72),\n",
       "   (69, 72),\n",
       "   (70, 72),\n",
       "   (71, 72),\n",
       "   (72, 76),\n",
       "   (73, 76),\n",
       "   (74, 76),\n",
       "   (75, 76),\n",
       "   (76, 80),\n",
       "   (77, 80),\n",
       "   (78, 80),\n",
       "   (79, 80),\n",
       "   (80, 84),\n",
       "   (81, 84),\n",
       "   (82, 84),\n",
       "   (83, 84),\n",
       "   (84, 88),\n",
       "   (85, 88),\n",
       "   (86, 88),\n",
       "   (87, 88),\n",
       "   (88, 92),\n",
       "   (89, 92),\n",
       "   (90, 92),\n",
       "   (91, 92),\n",
       "   (92, 96),\n",
       "   (93, 96),\n",
       "   (94, 96),\n",
       "   (95, 96),\n",
       "   (96, 100),\n",
       "   (97, 100),\n",
       "   (98, 100)],\n",
       "  476: [(0, 4),\n",
       "   (1, 4),\n",
       "   (2, 4),\n",
       "   (3, 4),\n",
       "   (4, 8),\n",
       "   (5, 8),\n",
       "   (6, 8),\n",
       "   (7, 8),\n",
       "   (8, 12),\n",
       "   (9, 12),\n",
       "   (10, 12),\n",
       "   (11, 12),\n",
       "   (12, 16),\n",
       "   (13, 16),\n",
       "   (14, 16),\n",
       "   (15, 16),\n",
       "   (16, 20),\n",
       "   (17, 20),\n",
       "   (18, 20),\n",
       "   (19, 20),\n",
       "   (20, 24),\n",
       "   (21, 24),\n",
       "   (22, 24),\n",
       "   (23, 24),\n",
       "   (24, 28),\n",
       "   (25, 28),\n",
       "   (26, 28),\n",
       "   (27, 28),\n",
       "   (28, 32),\n",
       "   (29, 32),\n",
       "   (30, 32),\n",
       "   (31, 32),\n",
       "   (32, 36),\n",
       "   (33, 36),\n",
       "   (34, 36),\n",
       "   (35, 36),\n",
       "   (36, 40),\n",
       "   (37, 40),\n",
       "   (38, 40),\n",
       "   (39, 40),\n",
       "   (40, 44),\n",
       "   (41, 44),\n",
       "   (42, 44),\n",
       "   (43, 44),\n",
       "   (44, 48),\n",
       "   (45, 48),\n",
       "   (46, 48),\n",
       "   (47, 48),\n",
       "   (48, 52),\n",
       "   (49, 52),\n",
       "   (50, 52),\n",
       "   (51, 52),\n",
       "   (52, 56),\n",
       "   (53, 56),\n",
       "   (54, 56),\n",
       "   (55, 56),\n",
       "   (56, 60),\n",
       "   (57, 60),\n",
       "   (58, 60),\n",
       "   (59, 60),\n",
       "   (60, 64),\n",
       "   (61, 64),\n",
       "   (62, 64),\n",
       "   (63, 64),\n",
       "   (64, 68),\n",
       "   (65, 68),\n",
       "   (66, 68),\n",
       "   (67, 68),\n",
       "   (68, 72),\n",
       "   (69, 72),\n",
       "   (70, 72),\n",
       "   (71, 72),\n",
       "   (72, 76),\n",
       "   (73, 76),\n",
       "   (74, 76),\n",
       "   (75, 76),\n",
       "   (76, 80),\n",
       "   (77, 80),\n",
       "   (78, 80),\n",
       "   (79, 80),\n",
       "   (80, 84),\n",
       "   (81, 84),\n",
       "   (82, 84),\n",
       "   (83, 84),\n",
       "   (84, 88),\n",
       "   (85, 88),\n",
       "   (86, 88),\n",
       "   (87, 88),\n",
       "   (88, 92),\n",
       "   (89, 92),\n",
       "   (90, 92),\n",
       "   (91, 92),\n",
       "   (92, 96),\n",
       "   (93, 96),\n",
       "   (94, 96),\n",
       "   (95, 96),\n",
       "   (96, 100),\n",
       "   (97, 100),\n",
       "   (98, 100)],\n",
       "  477: 8,\n",
       "  478: [(0, 4),\n",
       "   (1, 4),\n",
       "   (2, 4),\n",
       "   (3, 4),\n",
       "   (4, 8),\n",
       "   (5, 8),\n",
       "   (6, 8),\n",
       "   (7, 8),\n",
       "   (8, 12),\n",
       "   (9, 12),\n",
       "   (10, 12),\n",
       "   (11, 12),\n",
       "   (12, 16),\n",
       "   (13, 16),\n",
       "   (14, 16),\n",
       "   (15, 16),\n",
       "   (16, 20),\n",
       "   (17, 20),\n",
       "   (18, 20),\n",
       "   (19, 20),\n",
       "   (20, 24),\n",
       "   (21, 24),\n",
       "   (22, 24),\n",
       "   (23, 24),\n",
       "   (24, 28),\n",
       "   (25, 28),\n",
       "   (26, 28),\n",
       "   (27, 28),\n",
       "   (28, 32),\n",
       "   (29, 32),\n",
       "   (30, 32),\n",
       "   (31, 32),\n",
       "   (32, 36),\n",
       "   (33, 36),\n",
       "   (34, 36),\n",
       "   (35, 36),\n",
       "   (36, 40),\n",
       "   (37, 40),\n",
       "   (38, 40),\n",
       "   (39, 40),\n",
       "   (40, 44),\n",
       "   (41, 44),\n",
       "   (42, 44),\n",
       "   (43, 44),\n",
       "   (44, 48),\n",
       "   (45, 48),\n",
       "   (46, 48),\n",
       "   (47, 48),\n",
       "   (48, 52),\n",
       "   (49, 52),\n",
       "   (50, 52),\n",
       "   (51, 52),\n",
       "   (52, 56),\n",
       "   (53, 56),\n",
       "   (54, 56),\n",
       "   (55, 56),\n",
       "   (56, 60),\n",
       "   (57, 60),\n",
       "   (58, 60),\n",
       "   (59, 60),\n",
       "   (60, 64),\n",
       "   (61, 64),\n",
       "   (62, 64),\n",
       "   (63, 64),\n",
       "   (64, 68),\n",
       "   (65, 68),\n",
       "   (66, 68),\n",
       "   (67, 68),\n",
       "   (68, 72),\n",
       "   (69, 72),\n",
       "   (70, 72),\n",
       "   (71, 72),\n",
       "   (72, 76),\n",
       "   (73, 76),\n",
       "   (74, 76),\n",
       "   (75, 76),\n",
       "   (76, 80),\n",
       "   (77, 80),\n",
       "   (78, 80),\n",
       "   (79, 80),\n",
       "   (80, 84),\n",
       "   (81, 84),\n",
       "   (82, 84),\n",
       "   (83, 84),\n",
       "   (84, 88),\n",
       "   (85, 88),\n",
       "   (86, 88),\n",
       "   (87, 88),\n",
       "   (88, 92),\n",
       "   (89, 92),\n",
       "   (90, 92),\n",
       "   (91, 92),\n",
       "   (92, 96),\n",
       "   (93, 96),\n",
       "   (94, 96),\n",
       "   (95, 96),\n",
       "   (96, 100),\n",
       "   (97, 100),\n",
       "   (98, 100)],\n",
       "  479: [(0, 0),\n",
       "   (1, 4),\n",
       "   (2, 4),\n",
       "   (3, 4),\n",
       "   (4, 4),\n",
       "   (5, 8),\n",
       "   (6, 8),\n",
       "   (7, 8),\n",
       "   (8, 8),\n",
       "   (9, 12),\n",
       "   (10, 12),\n",
       "   (11, 12),\n",
       "   (12, 12),\n",
       "   (13, 16),\n",
       "   (14, 16),\n",
       "   (15, 16),\n",
       "   (16, 16),\n",
       "   (17, 20),\n",
       "   (18, 20),\n",
       "   (19, 20),\n",
       "   (20, 20),\n",
       "   (21, 24),\n",
       "   (22, 24),\n",
       "   (23, 24),\n",
       "   (24, 24),\n",
       "   (25, 28),\n",
       "   (26, 28),\n",
       "   (27, 28),\n",
       "   (28, 28),\n",
       "   (29, 32),\n",
       "   (30, 32),\n",
       "   (31, 32),\n",
       "   (32, 32),\n",
       "   (33, 36),\n",
       "   (34, 36),\n",
       "   (35, 36),\n",
       "   (36, 36),\n",
       "   (37, 40),\n",
       "   (38, 40),\n",
       "   (39, 40),\n",
       "   (40, 40),\n",
       "   (41, 44),\n",
       "   (42, 44),\n",
       "   (43, 44),\n",
       "   (44, 44),\n",
       "   (45, 48),\n",
       "   (46, 48),\n",
       "   (47, 48),\n",
       "   (48, 48),\n",
       "   (49, 52),\n",
       "   (50, 52),\n",
       "   (51, 52),\n",
       "   (52, 52),\n",
       "   (53, 56),\n",
       "   (54, 56),\n",
       "   (55, 56),\n",
       "   (56, 56),\n",
       "   (57, 60),\n",
       "   (58, 60),\n",
       "   (59, 60),\n",
       "   (60, 60),\n",
       "   (61, 64),\n",
       "   (62, 64),\n",
       "   (63, 64),\n",
       "   (64, 64),\n",
       "   (65, 68),\n",
       "   (66, 68),\n",
       "   (67, 68),\n",
       "   (68, 68),\n",
       "   (69, 72),\n",
       "   (70, 72),\n",
       "   (71, 72),\n",
       "   (72, 72),\n",
       "   (73, 76),\n",
       "   (74, 76),\n",
       "   (75, 76),\n",
       "   (76, 76),\n",
       "   (77, 80),\n",
       "   (78, 80),\n",
       "   (79, 80),\n",
       "   (80, 80),\n",
       "   (81, 84),\n",
       "   (82, 84),\n",
       "   (83, 84),\n",
       "   (84, 84),\n",
       "   (85, 88),\n",
       "   (86, 88),\n",
       "   (87, 88),\n",
       "   (88, 88),\n",
       "   (89, 92),\n",
       "   (90, 92),\n",
       "   (91, 92),\n",
       "   (92, 92),\n",
       "   (93, 96),\n",
       "   (94, 96),\n",
       "   (95, 96),\n",
       "   (96, 96),\n",
       "   (97, 100),\n",
       "   (98, 100),\n",
       "   (99, 100)],\n",
       "  480: b'\\xff\\xfea\\x00l\\x00i\\x00',\n",
       "  481: b'\\xff\\xfeh\\x00a\\x00b\\x00i\\x00l\\x00',\n",
       "  482: 12,\n",
       "  483: 16,\n",
       "  484: 14,\n",
       "  485: 12,\n",
       "  486: b'habil',\n",
       "  487: 5,\n",
       "  488: b'habil',\n",
       "  489: 12,\n",
       "  491: 0,\n",
       "  493: 2,\n",
       "  494: [(0, 0),\n",
       "   (1, 4),\n",
       "   (2, 4),\n",
       "   (3, 4),\n",
       "   (4, 4),\n",
       "   (5, 8),\n",
       "   (6, 8),\n",
       "   (7, 8),\n",
       "   (8, 8),\n",
       "   (9, 12)],\n",
       "  495: '0b1010',\n",
       "  496: 5,\n",
       "  497: 10,\n",
       "  498: -5,\n",
       "  499: '-0b1011',\n",
       "  500: -11,\n",
       "  501: 0,\n",
       "  502: 10,\n",
       "  503: -1,\n",
       "  504: -1,\n",
       "  505: 0,\n",
       "  506: 10,\n",
       "  507: -1,\n",
       "  508: 0,\n",
       "  509: 0,\n",
       "  510: 1,\n",
       "  511: 0,\n",
       "  512: 1,\n",
       "  513: '0b1',\n",
       "  514: '0b1',\n",
       "  515: '0b10',\n",
       "  516: 0,\n",
       "  517: '0b11',\n",
       "  518: 1,\n",
       "  519: 2,\n",
       "  520: 1,\n",
       "  521: 1,\n",
       "  522: 1,\n",
       "  523: 1,\n",
       "  524: ['0b0',\n",
       "   '0b1',\n",
       "   '0b10',\n",
       "   '0b11',\n",
       "   '0b100',\n",
       "   '0b101',\n",
       "   '0b110',\n",
       "   '0b111',\n",
       "   '0b1000',\n",
       "   '0b1001'],\n",
       "  525: [(0, '0b0'),\n",
       "   (1, '0b1'),\n",
       "   (2, '0b10'),\n",
       "   (3, '0b11'),\n",
       "   (4, '0b100'),\n",
       "   (5, '0b101'),\n",
       "   (6, '0b110'),\n",
       "   (7, '0b111'),\n",
       "   (8, '0b1000'),\n",
       "   (9, '0b1001')],\n",
       "  526: 228,\n",
       "  527: -228,\n",
       "  528: 228,\n",
       "  529: '0b11100',\n",
       "  530: '-0b11100',\n",
       "  531: -29,\n",
       "  532: '-0b11101',\n",
       "  533: 200,\n",
       "  534: 196,\n",
       "  535: 228,\n",
       "  536: 4294967295,\n",
       "  537: '0b11111111111111111111111111111111',\n",
       "  538: 34,\n",
       "  540: '0b11111111',\n",
       "  541: 255,\n",
       "  542: 12,\n",
       "  543: '0b11110',\n",
       "  544: 30,\n",
       "  545: 225,\n",
       "  546: 30,\n",
       "  547: 4294967265,\n",
       "  548: 4294967266,\n",
       "  549: 4294967296,\n",
       "  550: 4294967236,\n",
       "  551: -4294967266,\n",
       "  552: 4294967266,\n",
       "  553: '0b11111111111111111111111111100010',\n",
       "  554: 4294967294,\n",
       "  555: '0b110',\n",
       "  556: 6,\n",
       "  557: 249,\n",
       "  559: 10,\n",
       "  560: 249,\n",
       "  561: 255,\n",
       "  562: 250,\n",
       "  563: 256,\n",
       "  564: '-0b1010',\n",
       "  565: 0,\n",
       "  566: 1,\n",
       "  567: '0b1',\n",
       "  568: '0b11111111',\n",
       "  569: '0b11111111000011111111',\n",
       "  570: 8,\n",
       "  571: 1,\n",
       "  572: 0,\n",
       "  573: 1,\n",
       "  574: 3,\n",
       "  575: 29,\n",
       "  576: -4,\n",
       "  577: 4,\n",
       "  578: 0,\n",
       "  579: 0,\n",
       "  580: 3,\n",
       "  581: -5,\n",
       "  582: 1,\n",
       "  583: 3,\n",
       "  584: 7,\n",
       "  585: 0,\n",
       "  586: 1,\n",
       "  587: 8,\n",
       "  588: 8,\n",
       "  589: 29,\n",
       "  592: [(0, 0),\n",
       "   (1, 2),\n",
       "   (2, 4),\n",
       "   (3, 6),\n",
       "   (4, 4),\n",
       "   (5, 6),\n",
       "   (6, 8),\n",
       "   (7, 10),\n",
       "   (8, 8),\n",
       "   (9, 10),\n",
       "   (10, 12),\n",
       "   (11, 14),\n",
       "   (12, 12),\n",
       "   (13, 14),\n",
       "   (14, 16),\n",
       "   (15, 18),\n",
       "   (16, 16),\n",
       "   (17, 18),\n",
       "   (18, 20),\n",
       "   (19, 22)],\n",
       "  594: [(0, 0),\n",
       "   (1, 2),\n",
       "   (2, 4),\n",
       "   (3, 6),\n",
       "   (4, 4),\n",
       "   (5, 6),\n",
       "   (6, 8),\n",
       "   (7, 10),\n",
       "   (8, 8),\n",
       "   (9, 10),\n",
       "   (10, 12),\n",
       "   (11, 14),\n",
       "   (12, 12),\n",
       "   (13, 14),\n",
       "   (14, 16),\n",
       "   (15, 18),\n",
       "   (16, 16),\n",
       "   (17, 18),\n",
       "   (18, 20),\n",
       "   (19, 22)],\n",
       "  597: [(0, 0),\n",
       "   (1, 1),\n",
       "   (2, 2),\n",
       "   (3, 4),\n",
       "   (4, 4),\n",
       "   (5, 9),\n",
       "   (6, 10),\n",
       "   (7, 11),\n",
       "   (8, 8),\n",
       "   (9, 13),\n",
       "   (10, 14),\n",
       "   (11, 15),\n",
       "   (12, 12),\n",
       "   (13, 17),\n",
       "   (14, 18),\n",
       "   (15, 19),\n",
       "   (16, 16),\n",
       "   (17, 21),\n",
       "   (18, 22),\n",
       "   (19, 23)],\n",
       "  599: [(0, 0),\n",
       "   (1, 4),\n",
       "   (2, 4),\n",
       "   (3, 4),\n",
       "   (4, 4),\n",
       "   (5, 8),\n",
       "   (6, 8),\n",
       "   (7, 8),\n",
       "   (8, 8),\n",
       "   (9, 12),\n",
       "   (10, 12),\n",
       "   (11, 12),\n",
       "   (12, 12),\n",
       "   (13, 16),\n",
       "   (14, 16),\n",
       "   (15, 16),\n",
       "   (16, 16),\n",
       "   (17, 20),\n",
       "   (18, 20),\n",
       "   (19, 20)],\n",
       "  601: [(0, 0),\n",
       "   (1, 4),\n",
       "   (2, 4),\n",
       "   (3, 4),\n",
       "   (4, 4),\n",
       "   (5, 8),\n",
       "   (6, 8),\n",
       "   (7, 8),\n",
       "   (8, 8),\n",
       "   (9, 12),\n",
       "   (10, 12),\n",
       "   (11, 12),\n",
       "   (12, 12),\n",
       "   (13, 16),\n",
       "   (14, 16),\n",
       "   (15, 16),\n",
       "   (16, 16),\n",
       "   (17, 20),\n",
       "   (18, 20),\n",
       "   (19, 20)],\n",
       "  603: [(0, 0),\n",
       "   (1, 1),\n",
       "   (2, 4),\n",
       "   (3, 5),\n",
       "   (4, 4),\n",
       "   (5, 5),\n",
       "   (6, 8),\n",
       "   (7, 9),\n",
       "   (8, 8),\n",
       "   (9, 9),\n",
       "   (10, 12),\n",
       "   (11, 13),\n",
       "   (12, 12),\n",
       "   (13, 13),\n",
       "   (14, 16),\n",
       "   (15, 17),\n",
       "   (16, 16),\n",
       "   (17, 17),\n",
       "   (18, 20),\n",
       "   (19, 21)],\n",
       "  605: [(0, 0),\n",
       "   (1, 1),\n",
       "   (2, 4),\n",
       "   (3, 5),\n",
       "   (4, 4),\n",
       "   (5, 5),\n",
       "   (6, 8),\n",
       "   (7, 9),\n",
       "   (8, 8),\n",
       "   (9, 9),\n",
       "   (10, 12),\n",
       "   (11, 13),\n",
       "   (12, 12),\n",
       "   (13, 13),\n",
       "   (14, 16),\n",
       "   (15, 17),\n",
       "   (16, 16),\n",
       "   (17, 17),\n",
       "   (18, 20),\n",
       "   (19, 21)],\n",
       "  607: [(0, 0),\n",
       "   (1, 0),\n",
       "   (2, 4),\n",
       "   (3, 4),\n",
       "   (4, 4),\n",
       "   (5, 4),\n",
       "   (6, 8),\n",
       "   (7, 8),\n",
       "   (8, 8),\n",
       "   (9, 8),\n",
       "   (10, 12),\n",
       "   (11, 12),\n",
       "   (12, 12),\n",
       "   (13, 12),\n",
       "   (14, 16),\n",
       "   (15, 16),\n",
       "   (16, 16),\n",
       "   (17, 16),\n",
       "   (18, 20),\n",
       "   (19, 20)],\n",
       "  609: [(0, 0),\n",
       "   (1, 4),\n",
       "   (2, 4),\n",
       "   (3, 4),\n",
       "   (4, 4),\n",
       "   (5, 8),\n",
       "   (6, 8),\n",
       "   (7, 8),\n",
       "   (8, 8),\n",
       "   (9, 12),\n",
       "   (10, 12),\n",
       "   (11, 12),\n",
       "   (12, 12),\n",
       "   (13, 16),\n",
       "   (14, 16),\n",
       "   (15, 16),\n",
       "   (16, 16),\n",
       "   (17, 20),\n",
       "   (18, 20),\n",
       "   (19, 20)],\n",
       "  611: [(0, 0),\n",
       "   (1, 0),\n",
       "   (2, 4),\n",
       "   (3, 4),\n",
       "   (4, 4),\n",
       "   (5, 4),\n",
       "   (6, 8),\n",
       "   (7, 8),\n",
       "   (8, 8),\n",
       "   (9, 8),\n",
       "   (10, 12),\n",
       "   (11, 12),\n",
       "   (12, 12),\n",
       "   (13, 12),\n",
       "   (14, 16),\n",
       "   (15, 16),\n",
       "   (16, 16),\n",
       "   (17, 16),\n",
       "   (18, 20),\n",
       "   (19, 20)],\n",
       "  613: [(0, 0),\n",
       "   (1, 0),\n",
       "   (2, 0),\n",
       "   (3, 4),\n",
       "   (4, 4),\n",
       "   (5, 4),\n",
       "   (6, 4),\n",
       "   (7, 8),\n",
       "   (8, 8),\n",
       "   (9, 8),\n",
       "   (10, 8),\n",
       "   (11, 12),\n",
       "   (12, 12),\n",
       "   (13, 12),\n",
       "   (14, 12),\n",
       "   (15, 16),\n",
       "   (16, 16),\n",
       "   (17, 16),\n",
       "   (18, 16),\n",
       "   (19, 20)],\n",
       "  614: 4,\n",
       "  617: <function encodings.hex_codec.hex_encode(input, errors='strict')>,\n",
       "  620: (b'616c69', 3),\n",
       "  621: 6384745,\n",
       "  622: 'a',\n",
       "  623: 'l',\n",
       "  625: (b'ali', 6),\n",
       "  626: b'\\x00\\x00\\x00\\x0b',\n",
       "  627: (b'0000000b', 4),\n",
       "  630: (b'0000000b', 4),\n",
       "  631: (b'0000000b', 4),\n",
       "  632: b'\\x00\\x00\\x00\\x0b',\n",
       "  633: b'\\x00\\x00\\x00\\x16',\n",
       "  634: (b'00000016', 4),\n",
       "  635: b'00000016',\n",
       "  636: b'0',\n",
       "  637: b'00000016',\n",
       "  639: b'\\x00\\x00\\x00\\x16',\n",
       "  640: (22,),\n",
       "  650: (22,),\n",
       "  652: (22,),\n",
       "  654: 8,\n",
       "  655: 4.0,\n",
       "  658: 4,\n",
       "  659: '0000000B',\n",
       "  660: '00000016',\n",
       "  661: <function globals()>},\n",
       " '_dh': ['/Users/akhalilli/gitrepos/diamAPI'],\n",
       " 'In': ['',\n",
       "  'import struct',\n",
       "  \"struct.unpack('!s', 'ali'.encode('hex'))\",\n",
       "  \"struct.unpack('!s', 'ali'.encode('utf-8'))\",\n",
       "  \"struct.unpack('!ss', 'ali'.encode('utf-8'))\",\n",
       "  \"struct.unpack('!sss', 'ali'.encode('utf-8'))\",\n",
       "  \"struct.unpack('!s{3}', 'ali'.encode('utf-8'))\",\n",
       "  \"struct.unpack('!s3', 'ali'.encode('utf-8'))\",\n",
       "  \"struct.unpack('!3s', 'ali'.encode('utf-8'))\",\n",
       "  '0xfe',\n",
       "  '0x19',\n",
       "  'x13',\n",
       "  'ord(9)',\n",
       "  \"ord('9')\",\n",
       "  \"len(b's')\",\n",
       "  \"len(b'sa')\",\n",
       "  \"len('sa'.encode('utf-8'))\",\n",
       "  \"len('sa'.encode('utf-16'))\",\n",
       "  \"struct.pack('hh1', (1, 2, 3))\",\n",
       "  \"struct.pack('hhh', (1, 2, 3))\",\n",
       "  \"struct.pack('3h', 1, 2, 3)\",\n",
       "  \"struct.pack('3h1', 1, 2, 3)\",\n",
       "  \"struct.pack('2h1', 1, 2, 3)\",\n",
       "  \"struct.pack('2h1', 1, 2, 3)\",\n",
       "  \"struct.pack('hh1', 1, 2, 3)\",\n",
       "  \"struct.pack('hhh', 1, 2, 3)\",\n",
       "  \"struct.calcsize('hh1')\",\n",
       "  \"struct.calcsize('hh')\",\n",
       "  \"struct.pack('hh1', 1, 2, 3)\",\n",
       "  \"struct.pack('hhh', 1, 2, 3)\",\n",
       "  \"struct.pack('hhh1, 1, 2, 3)\",\n",
       "  \"struct.pack('hhh1', 1, 2, 3)\",\n",
       "  \"struct.pack('hhhl', 1, 2, 3)\",\n",
       "  \"struct.pack('hhl', 1, 2, 3)\",\n",
       "  \"struct.pack('hhl', 1, 2, 3)\",\n",
       "  \"struct.calcsize('s')\",\n",
       "  \"struct.calcsize('3s')\",\n",
       "  \"struct.calcsize('4c')\",\n",
       "  \"struct.calcsize('hh')\",\n",
       "  \"struct.calcsize('hhl')\",\n",
       "  \"struct.calcsize('!hhl')\",\n",
       "  \"struct.calcsize('>hhl')\",\n",
       "  \"struct.calcsize('!hhl')\",\n",
       "  \"struct.pack('ci', b'*', 0x12131415)\",\n",
       "  \"struct.pack('ic', 0x12131415, b'*')\",\n",
       "  \"struct.calcsize('ci')\",\n",
       "  \"struct.calcsize('ic')\",\n",
       "  \"struct.unpack('<HHb', b'\\\\x32\\\\x12\\\\x08\\\\x01\\\\x08')\",\n",
       "  \"struct.pack('!HHb', 4658, 264, 8)\",\n",
       "  \"struct.pack('<HHb', 4658, 264, 8)\",\n",
       "  \"struct.pack('<HHb', 4658, 264, 8)\",\n",
       "  \"struct.unpack('<HHb', b'2\\\\x12\\\\x08\\\\x01\\\\x08')\",\n",
       "  \"struct.unpack('<HHb', b'\\\\x32\\\\x12\\\\x08\\\\x01\\\\x08')\",\n",
       "  \"struct.unpack('<HHb', b'2\\\\x12\\\\x08\\\\x01\\\\x08')\",\n",
       "  \"struct.unpack('<HHb', b'\\\\x12\\\\x08\\\\x01\\\\x08')\",\n",
       "  \"struct.unpack('<Hb', b'\\\\x12\\\\x08\\\\x01\\\\x08')\",\n",
       "  \"struct.unpack('<HHb', b'2\\\\x12\\\\x08\\\\x01\\\\x08')\",\n",
       "  \"struct.unpack('<HHb', b'1\\\\x12\\\\x08\\\\x01\\\\x08')\",\n",
       "  \"struct.unpack('<HHb', b'1\\\\x11\\\\x08\\\\x01\\\\x08')\",\n",
       "  \"struct.unpack('<HHb', b'2\\\\x12\\\\x08\\\\x01\\\\x08')\",\n",
       "  '20x12',\n",
       "  '0x12',\n",
       "  '2x12',\n",
       "  'hex(4658)',\n",
       "  'bin(hex(4658))',\n",
       "  'bin(4658)',\n",
       "  'hex(2)',\n",
       "  'hex(212)',\n",
       "  \"int('2x12', 10)\",\n",
       "  \"int('212', 10)\",\n",
       "  \"int('212', 16)\",\n",
       "  \"int('4658', 16)\",\n",
       "  \"int('2x12', 16)\",\n",
       "  \"int('2x12', 2)\",\n",
       "  \"struct.unpack('<H', b'2\\\\x12')\",\n",
       "  '0x12',\n",
       "  \"struct.unpack('<H', b'2\\\\x11')\",\n",
       "  \"struct.unpack('<H', b'2\\\\x12')\",\n",
       "  'char(0xc3)',\n",
       "  'chr(0xc3)',\n",
       "  'chr(0xb1)',\n",
       "  \"struct.unpack('<H', b'3\\\\x12')\",\n",
       "  \"struct.unpack('<H', b'4\\\\x12')\",\n",
       "  \"struct.unpack('<H', b'2\\\\x12')\",\n",
       "  \"struct.unpack('<H', b'\\\\x12')\",\n",
       "  \"struct.unpack('<c', b'\\\\x12')\",\n",
       "  \"struct.unpack('<s', b'\\\\x12')\",\n",
       "  'chr(0x12)',\n",
       "  'chr(0x46)',\n",
       "  'chr(0x64)',\n",
       "  'chr(0x12)',\n",
       "  'bin(2)',\n",
       "  'bin(0x12)',\n",
       "  '0o12',\n",
       "  '0b1010010',\n",
       "  'reversed(1010010)',\n",
       "  \"reversed(b'1010010')\",\n",
       "  '0b0100101',\n",
       "  '0b0100101',\n",
       "  '0b1001010',\n",
       "  \"struct.pack('<I', 4658)\",\n",
       "  'hex(4658)',\n",
       "  '0x12',\n",
       "  '0x32',\n",
       "  'bin(0x1232)',\n",
       "  'bin(2)',\n",
       "  '0b01000110010',\n",
       "  \"struct.pack('<i', 4658)\",\n",
       "  \"struct.pack('>i', 4658)\",\n",
       "  '0x122',\n",
       "  'bin(0x122)',\n",
       "  'bin(0)',\n",
       "  '0b00100100010',\n",
       "  '0b0000100100010',\n",
       "  '0b00000000100100010',\n",
       "  '0b0000000000000000100100010',\n",
       "  '0b100100010',\n",
       "  '0b10010001000',\n",
       "  '0b1001000100000',\n",
       "  '0b100100010000',\n",
       "  '0b10010001000',\n",
       "  'bytes(2\\\\x12)',\n",
       "  \"bytes(b'2\\\\x12')\",\n",
       "  \"bytes(b'2\\\\x12').decode()\",\n",
       "  'bin(2)',\n",
       "  'bin(20)',\n",
       "  'bin(120)',\n",
       "  \"bin(b'\\\\x00\\\\x01\\\\x00\\\\x02')\",\n",
       "  '0x00',\n",
       "  '0x01',\n",
       "  '0x00',\n",
       "  '0x02',\n",
       "  'bin(0x02)',\n",
       "  'bin(0x00)',\n",
       "  'bin(0x01)',\n",
       "  'bin(0x00)',\n",
       "  '0b0000000',\n",
       "  'len(0b0000000)',\n",
       "  '0b0000000',\n",
       "  '0b00000000',\n",
       "  'type(bytes(1))',\n",
       "  'type(bytes([1, 2]))',\n",
       "  'bytes([1, 2]',\n",
       "  'bytes([1, 2])',\n",
       "  'bytes([1, 2, 3])',\n",
       "  \"bytes([1, 2, 3, 'ali'])\",\n",
       "  \"bytes([1, 2, 3, b'ali'])\",\n",
       "  'bytes([1, 2, 3])',\n",
       "  \"bytes([1, 2, 3, 'b'])\",\n",
       "  'bytes([1, 2, 3])',\n",
       "  \"bytes('ali')\",\n",
       "  \"bytes(b'ali')\",\n",
       "  \"bytes([b'ali'])\",\n",
       "  \"bytes(b'ali', b'a')\",\n",
       "  \"bytes(b'ali')\",\n",
       "  \"struct.pack('>h',1)\",\n",
       "  'bin(1)',\n",
       "  \"struct.pack('>h',1)\",\n",
       "  \"struct.pack('>h',2)\",\n",
       "  'bin(2)',\n",
       "  'hex(2)',\n",
       "  'hex(1)',\n",
       "  \"struct.pack('<h',2)\",\n",
       "  'hex(250)',\n",
       "  'hex(255)',\n",
       "  'hex(256)',\n",
       "  \"struct.pack('<h',256)\",\n",
       "  \"struct.pack('>h',256)\",\n",
       "  \"struct.pack('>h',255)\",\n",
       "  \"struct.pack('>h',257)\",\n",
       "  \"struct.pack('>h',256)\",\n",
       "  'hex(257)',\n",
       "  'hex(255)',\n",
       "  'hex(256)',\n",
       "  'hex(4586)',\n",
       "  'hex(4658)',\n",
       "  \"struct.pack('>h', 4658)\",\n",
       "  \"struct.pack('h', 4658)\",\n",
       "  \"struct.pack('h', 256)\",\n",
       "  \"struct.pack('h', 500)\",\n",
       "  \"struct.pack('h', 512)\",\n",
       "  'hex(512)',\n",
       "  \"struct.pack('<h', 512)\",\n",
       "  \"struct.pack('>h', 512)\",\n",
       "  \"struct.pack('>h', 513)\",\n",
       "  'hex(513)',\n",
       "  '0x0201',\n",
       "  '0x0010002',\n",
       "  '0x00010002',\n",
       "  '0x0010002',\n",
       "  '0x212',\n",
       "  '0x2',\n",
       "  '0x212',\n",
       "  '0x21208',\n",
       "  '0x021208',\n",
       "  '0x0212',\n",
       "  '0x0108',\n",
       "  '0x12',\n",
       "  'hex(2)',\n",
       "  'x2\\\\x12\\\\x08\\\\x01\\\\x08',\n",
       "  '\\\\x2\\\\x12\\\\x08\\\\x01\\\\x08',\n",
       "  '\\\\x02\\\\x12\\\\x08\\\\x01\\\\x08',\n",
       "  \"struct.unpack('<HH', 'b''\\\\x02\\\\x12\\\\x08\\\\x01\\\\x08')\",\n",
       "  \"struct.unpack('<HH', b'\\\\x02\\\\x12\\\\x08\\\\x01\\\\x08')\",\n",
       "  \"struct.unpack('<HHH', b'\\\\x02\\\\x12\\\\x08\\\\x01\\\\x08')\",\n",
       "  \"struct.unpack('<HHH', b'2\\\\x12\\\\x08\\\\x01\\\\x08')\",\n",
       "  \"struct.unpack('<hh', b'2\\\\x12\\\\x08\\\\x01\\\\x08')\",\n",
       "  \"struct.unpack('<hhh', b'2\\\\x12\\\\x08\\\\x01\\\\x08')\",\n",
       "  \"struct.unpack('<HHb', b'2\\\\x12\\\\x08\\\\x01\\\\x08')\",\n",
       "  \"struct.unpack('>HHb', b'2\\\\x12\\\\x08\\\\x01\\\\x08')\",\n",
       "  '0x212',\n",
       "  '0x21208',\n",
       "  '0x0801',\n",
       "  '0x12',\n",
       "  '0x2012',\n",
       "  '0x0212',\n",
       "  \"struct.unpack('>HHb', b'x2\\\\x12\\\\x08\\\\x01\\\\x08')\",\n",
       "  \"struct.unpack('>HHb', b'\\\\x2\\\\x12\\\\x08\\\\x01\\\\x08')\",\n",
       "  \"struct.unpack('>HHb', b'2\\\\x12\\\\x08\\\\x01\\\\x08')\",\n",
       "  \"struct.unpack('>HH', b'2\\\\x12\\\\x08\\\\x01\\\\x08')\",\n",
       "  \"struct.unpack('>HHb', b'2\\\\x12\\\\x08\\\\x01\\\\x08')\",\n",
       "  \"struct.pack('>HH', 4658)\",\n",
       "  \"struct.pack('>H', 4658)\",\n",
       "  \"struct.pack('>I', 4658)\",\n",
       "  \"struct.pack('>H', 4658)\",\n",
       "  '0x122',\n",
       "  \"struct.pack('>HH', 4658)\",\n",
       "  \"struct.pack('>I', 4658)\",\n",
       "  '0x0000122',\n",
       "  \"struct.pack('!I', 4658)\",\n",
       "  \"struct.pack('!I', 4658)\",\n",
       "  \"struct.pack('!B', 4658)\",\n",
       "  '2^16',\n",
       "  'pow(2, 16)',\n",
       "  \"struct.pack('@I', 4658)\",\n",
       "  \"struct.pack('>I', 4658)\",\n",
       "  \"struct.pack('!h', 4658)\",\n",
       "  \"struct.pack('!H', 4658)\",\n",
       "  \"struct.pack('@H', 4658)\",\n",
       "  '0x212',\n",
       "  '0x0212',\n",
       "  \"struct.pack('@H', 100)\",\n",
       "  '0xd',\n",
       "  '0xd00',\n",
       "  '0x00d',\n",
       "  \"struct.pack('>H', 100)\",\n",
       "  '0x0d',\n",
       "  \"struct.pack('>H', 1)\",\n",
       "  '0x0001',\n",
       "  \"struct.pack('>H', 2)\",\n",
       "  '0x0002',\n",
       "  \"struct.pack('>H', 20)\",\n",
       "  '0x0014',\n",
       "  \"struct.pack('>H', 40)\",\n",
       "  '0x00(',\n",
       "  \"struct.pack('>H', 40)\",\n",
       "  \"struct.pack('>H', 41)\",\n",
       "  \"struct.pack('>H', 42)\",\n",
       "  \"print(struct.pack('>H', 42))\",\n",
       "  \"print(struct.pack('>H', 43))\",\n",
       "  \"print(struct.pack('>H', 50))\",\n",
       "  '0x02',\n",
       "  '0x002',\n",
       "  \"print(struct.pack('>H', 51))\",\n",
       "  'chr(0x002)',\n",
       "  \"print(struct.pack('>H', 100))\",\n",
       "  \"print(struct.pack('>H', 255))\",\n",
       "  '0x00ff',\n",
       "  \"print(struct.pack('>H', 254))\",\n",
       "  '0x00fe',\n",
       "  \"print(struct.pack('>H', 150))\",\n",
       "  '0x0096',\n",
       "  \"print(struct.pack('>H', 500))\",\n",
       "  \"print(struct.pack('>H', 1000))\",\n",
       "  '0x03e8',\n",
       "  \"print(struct.pack('>HH', 1000))\",\n",
       "  \"print(struct.pack('>I', 1000))\",\n",
       "  \"print(struct.pack('<I', 1000))\",\n",
       "  '0x08',\n",
       "  '0x0801',\n",
       "  \"print(struct.pack('<h', 1000))\",\n",
       "  \"print(struct.pack('<H', 65536))\",\n",
       "  \"print(struct.pack('<H', 65535))\",\n",
       "  '0xffff',\n",
       "  \"print(struct.pack('<H', 65534))\",\n",
       "  '0xfeff',\n",
       "  '0xfffe',\n",
       "  \"print(struct.pack('>H', 65534))\",\n",
       "  '0xfffe',\n",
       "  \"struct.pack('>s', b'ali')\",\n",
       "  \"struct.pack('>3s', b'ali')\",\n",
       "  \"struct.pack('>3s', 'ali'.encode('utf-8'))\",\n",
       "  \"struct.pack('>3s', 'ali'.encode('utf-16'))\",\n",
       "  '0xfffea',\n",
       "  'chr(0xff)',\n",
       "  'chr(0xfffea)',\n",
       "  'chr(0xf)',\n",
       "  \"struct.pack('>3s', 'ali'.encode('utf-8'))\",\n",
       "  '0xfffea',\n",
       "  'chr(0xf)',\n",
       "  \"struct.unpack('>HHb', b'\\\\x32\\\\x12\\\\x08\\\\x01\\\\x08')\",\n",
       "  \"struct.unpack('<HHb', b'\\\\x32\\\\x12\\\\x08\\\\x01\\\\x08')\",\n",
       "  '0x0801',\n",
       "  '0x3212',\n",
       "  '0x32',\n",
       "  \"struct.unpack('>HHb', b'\\\\x32\\\\x12\\\\x08\\\\x01\\\\x08')\",\n",
       "  '0x3212',\n",
       "  '0x0801',\n",
       "  '0x08',\n",
       "  \"struct.unpack('<HHb', b'\\\\x32\\\\x12\\\\x08\\\\x01\\\\x08')\",\n",
       "  '0x0801',\n",
       "  '0x0108',\n",
       "  '0x1232',\n",
       "  '0x0108',\n",
       "  '0x08',\n",
       "  \"struct.iter_unpack('<3s', b'ali')\",\n",
       "  \"struct.iter_unpack('<HHb', b'\\\\x32\\\\x12\\\\x08\\\\x01\\\\x08')\",\n",
       "  \"next(struct.iter_unpack('<HHb', b'\\\\x32\\\\x12\\\\x08\\\\x01\\\\x08'))\",\n",
       "  \"next(struct.iter_unpack('<HHb', b'\\\\x32\\\\x12\\\\x08\\\\x01\\\\x08'))\",\n",
       "  \"next(struct.iter_unpack('<HHb', b'\\\\x32\\\\x12\\\\x08\\\\x01\\\\x08'))\\nnext(struct.iter_unpack('<HHb', b'\\\\x32\\\\x12\\\\x08\\\\x01\\\\x08'))\",\n",
       "  \"next(struct.iter_unpack('<HHb', b'\\\\x32\\\\x12\\\\x08\\\\x01\\\\x08'))\\nnext(struct.iter_unpack('<HHb', b'\\\\x32\\\\x12\\\\x08\\\\x01\\\\x08'))\",\n",
       "  \"next(struct.iter_unpack('<HHb', b'\\\\x32\\\\x12\\\\x08\\\\x01\\\\x08'))\\nnext(struct.iter_unpack('<HHb', b'\\\\x32\\\\x12\\\\x08\\\\x01\\\\x08'))\\nnext(struct.iter_unpack('<HHb', b'\\\\x32\\\\x12\\\\x08\\\\x01\\\\x08'))\",\n",
       "  \"*next(struct.iter_unpack('<HHb', b'\\\\x32\\\\x12\\\\x08\\\\x01\\\\x08'))\",\n",
       "  \"next(struct.iter_unpack('<HHb', b'\\\\x32\\\\x12\\\\x08\\\\x01\\\\x08'))\",\n",
       "  \"next(struct.iter_unpack('c', b'\\\\x32\\\\x12\\\\x08\\\\x01\\\\x08'))\",\n",
       "  \"next(struct.iter_unpack('c', b'\\\\x32\\\\x12\\\\x08\\\\x01\\\\x08'))\\nnext(struct.iter_unpack('<HHb', b'\\\\x32\\\\x12\\\\x08\\\\x01\\\\x08'))\",\n",
       "  \"next(struct.iter_unpack('c', b'\\\\x32\\\\x12\\\\x08\\\\x01\\\\x08'))\\nnext(struct.iter_unpack('c', b'\\\\x32\\\\x12\\\\x08\\\\x01\\\\x08'))\",\n",
       "  \"next(struct.iter_unpack('c', b'\\\\x32\\\\x12\\\\x08\\\\x01\\\\x08'))\\nnext(struct.iter_unpack('c', b'\\\\x32\\\\x12\\\\x08\\\\x01\\\\x08'))\\n\\nfor k in struct.iter_unpack('c', b'\\\\x32\\\\x12\\\\x08\\\\x01\\\\x08'):\\n    print(k)\",\n",
       "  \"for k in struct.iter_unpack('c', b'\\\\x32\\\\x12\\\\x08\\\\x01\\\\x08'):\\n    print(k)\",\n",
       "  '0x32',\n",
       "  'bin(0x32)',\n",
       "  '2',\n",
       "  'chr(0x32)',\n",
       "  'chr(0x12)',\n",
       "  \"for k in struct.iter_unpack('cc', b'\\\\x32\\\\x12\\\\x08\\\\x01\\\\x08'):\\n    print(k)\",\n",
       "  \"for k in struct.iter_unpack('cc', b'\\\\x32\\\\x12\\\\x08\\\\x01\\\\x08\\\\x08'):\\n    print(k)\",\n",
       "  'import codecs',\n",
       "  'codecs.getencoder(\"utf_8\")',\n",
       "  'codecs.getencoder(\"utf_8\").encode(\\'ali\\')',\n",
       "  \"b'\\\\x32\\\\x12\\\\x08\\\\x01\\\\x08\\\\x08'[:2]\",\n",
       "  \"b'0x321208010808'\",\n",
       "  \"b'321208010808'[:2]\",\n",
       "  \"struck.unpack('>h', b'\\\\x32')\",\n",
       "  \"struct.unpack('>h', b'\\\\x32')\",\n",
       "  \"struct.unpack('>c', b'\\\\x32')\",\n",
       "  \"struct.unpack('>c', b'\\\\x32')[0]\",\n",
       "  'def calc_padding(msg_len):\\n    return (msg_len+3)&~3 ',\n",
       "  'calc_padding(3)',\n",
       "  '(3+3)&~3',\n",
       "  '6~3',\n",
       "  '6&3',\n",
       "  'bin(6)',\n",
       "  'bin(3)',\n",
       "  '~3',\n",
       "  'bin(3)',\n",
       "  '0b110000',\n",
       "  '0b000011',\n",
       "  '0b111100',\n",
       "  '0b1111',\n",
       "  'bin(-4)',\n",
       "  'bin(~3)',\n",
       "  'for k in struck.unpack(\\'c\\', b\"\"\"2163bc1d0ad82371f6bc09484133c3f09ad74a0dd5346d54195a7cf0b35\\n         2cabc881839a4fdcfbc1769e2677a4c1fb499284c5f70b48f58503a45c5\\n         c2d6943f82d5930f2b7c1da640f476f0e9c9572a50db8ea6e51e1c2c7bd\\n         f8bb43dc995144b8dbe297ac739493946803e1cee3e15d9b765008a1b2a\\n         cf4ac777c80041d72c01e691cf751dbf86e85f509f3988e5875dc905119\\n         26841f00f0e29a6d1ddc1a842289d440268681e052b30fb638045f7779c\\n         1d873c784f054f688f5001559ecff64865ef975f3e60d2fd7966b8c7f92\"\"\").iter_pack:\\n    print(k)',\n",
       "  'for k in struct.unpack(\\'c\\', b\"\"\"2163bc1d0ad82371f6bc09484133c3f09ad74a0dd5346d54195a7cf0b35\\n         2cabc881839a4fdcfbc1769e2677a4c1fb499284c5f70b48f58503a45c5\\n         c2d6943f82d5930f2b7c1da640f476f0e9c9572a50db8ea6e51e1c2c7bd\\n         f8bb43dc995144b8dbe297ac739493946803e1cee3e15d9b765008a1b2a\\n         cf4ac777c80041d72c01e691cf751dbf86e85f509f3988e5875dc905119\\n         26841f00f0e29a6d1ddc1a842289d440268681e052b30fb638045f7779c\\n         1d873c784f054f688f5001559ecff64865ef975f3e60d2fd7966b8c7f92\"\"\").iter_pack:\\n    print(k)',\n",
       "  'for k in struct.unpack(\\'cc\\', b\"\"\"2163bc1d0ad82371f6bc09484133c3f09ad74a0dd5346d54195a7cf0b35\\n         2cabc881839a4fdcfbc1769e2677a4c1fb499284c5f70b48f58503a45c5\\n         c2d6943f82d5930f2b7c1da640f476f0e9c9572a50db8ea6e51e1c2c7bd\\n         f8bb43dc995144b8dbe297ac739493946803e1cee3e15d9b765008a1b2a\\n         cf4ac777c80041d72c01e691cf751dbf86e85f509f3988e5875dc905119\\n         26841f00f0e29a6d1ddc1a842289d440268681e052b30fb638045f7779c\\n         1d873c784f054f688f5001559ecff64865ef975f3e60d2fd7966b8c7f92\"\"\").iter_pack:\\n    print(k)',\n",
       "  \"for k in struct.unpack('c', b'2163bc1d0ad82371f6bc09484133c3f09ad74a0dd5346d54195a7cf0b35').iter_pack:\\n    print(k)\",\n",
       "  \"for k in struct.unpack('c', b'\\\\x21\\\\x63\\\\xbc\\\\x1d\\\\x0a\\\\xd8\\\\x23\\\\x71\\\\xf6\\\\xbc\\\\x09\\\\x48\\\\x41\\\\x33\\\\xc3\\\\xf0\\\\x9a').iter_pack:\\n    print(k)\",\n",
       "  \"for k in struct.unpack('c', b'\\\\x21\\\\x63\\\\xbc\\\\x1d\\\\x0a\\\\xd8\\\\x23\\\\x71\\\\xf6\\\\xbc\\\\x09\\\\x48\\\\x41\\\\x33\\\\xc3\\\\xf0\\\\x9a').iter_unpack:\\n    print(k)\",\n",
       "  \"for k in struct.unpack('c', b'\\\\x21\\\\x63\\\\xbc\\\\x1d\\\\x0a\\\\xd8\\\\x23\\\\x71\\\\xf6\\\\xbc\\\\x09\\\\x48\\\\x41\\\\x33\\\\xc3\\\\xf0\\\\x9a').iter_unpack():\\n    print(k)\",\n",
       "  \"for k in struct.iter_unpack('c', b'\\\\x21\\\\x63\\\\xbc\\\\x1d\\\\x0a\\\\xd8\\\\x23\\\\x71\\\\xf6\\\\xbc\\\\x09\\\\x48\\\\x41\\\\x33\\\\xc3\\\\xf0\\\\x9a'):\\n    print(k)\",\n",
       "  \"for k in struct.iter_unpack('>c', b'\\\\x21\\\\x63\\\\xbc\\\\x1d\\\\x0a\\\\xd8\\\\x23\\\\x71\\\\xf6\\\\xbc\\\\x09\\\\x48\\\\x41\\\\x33\\\\xc3\\\\xf0\\\\x9a'):\\n    print(k)\",\n",
       "  'for k in struct.iter_unpack(\\'>c\\', b\"\"\"2163bc1d0ad82371f6bc09484133c3f09ad74a0dd5346d54195a7cf0b35\\n         2cabc881839a4fdcfbc1769e2677a4c1fb499284c5f70b48f58503a45c5\\n         c2d6943f82d5930f2b7c1da640f476f0e9c9572a50db8ea6e51e1c2c7bd\\n         f8bb43dc995144b8dbe297ac739493946803e1cee3e15d9b765008a1b2a\\n         cf4ac777c80041d72c01e691cf751dbf86e85f509f3988e5875dc905119\\n         26841f00f0e29a6d1ddc1a842289d440268681e052b30fb638045f7779c\\n         1d873c784f054f688f5001559ecff64865ef975f3e60d2fd7966b8c7f92\"\"\")',\n",
       "  \"for k in struct.iter_unpack('>c', b'2163bc1d0ad82371f6bc09484133c3f09ad74a0dd5346d54195a7cf0b35')\",\n",
       "  \"for k in struct.iter_unpack('>c', b'2163bc1d0ad82371f6bc09484133c3f09ad74a0dd5346d54195a7cf0b35'):\\n    print(k)\",\n",
       "  \"b'2163bc1d'\",\n",
       "  \"struck.unpack('>I', b'2163bc1d')\",\n",
       "  \"struct.unpack('>I', b'2163bc1d')\",\n",
       "  \"struct.unpack('>I', b'\\\\x21\\\\x63\\\\xbc\\\\x1d')\",\n",
       "  \"struct.unpack('>c', b'0a')\",\n",
       "  \"struct.unpack('>c', b'\\\\x0a')\",\n",
       "  \"struct.unpack('>I', b'\\\\x0a')\",\n",
       "  \"struct.unpack('>h', b'\\\\x0a\\\\00')\",\n",
       "  'calc_padding(9)',\n",
       "  'calc_padding(8)',\n",
       "  'calc_padding(7)',\n",
       "  'calc_padding(4)',\n",
       "  'calc_padding(14)',\n",
       "  'calc_padding(18)',\n",
       "  'calc_padding(15)',\n",
       "  'calc_padding(20)',\n",
       "  'calc_padding(22)',\n",
       "  'list(map(calc_padding, range(100)))',\n",
       "  'list(map(calc_padding, range(30)))',\n",
       "  'list(enumerate(map(calc_padding, range(30))))',\n",
       "  'list(enumerate(map(calc_padding, range(40))))',\n",
       "  '64 |= 64',\n",
       "  '64 |= 64',\n",
       "  '64 |= 1',\n",
       "  '64 |=',\n",
       "  '|=',\n",
       "  '64 | 4',\n",
       "  '1 << 3',\n",
       "  'bin(1<<3)',\n",
       "  'bin(1<<2)',\n",
       "  'bin(8)',\n",
       "  'bin(1<<1)',\n",
       "  '1<<1',\n",
       "  '1<<7',\n",
       "  '1<<8',\n",
       "  '1<<2',\n",
       "  '1<<3',\n",
       "  '1<<1',\n",
       "  '1<<0',\n",
       "  '1<<2',\n",
       "  '1<<7',\n",
       "  'bin(1<<7)',\n",
       "  'bin(1<<8)',\n",
       "  '1<<8',\n",
       "  'len(bin(1<<8))',\n",
       "  'len(bin(1<<8))-2',\n",
       "  '1<<7',\n",
       "  'bin(128)',\n",
       "  '0b111111',\n",
       "  '0b11111111',\n",
       "  '~128',\n",
       "  '~3',\n",
       "  '128+129',\n",
       "  '~4',\n",
       "  '~5',\n",
       "  '0b00000011',\n",
       "  '0011',\n",
       "  '0b0011',\n",
       "  '10000000 | 100',\n",
       "  '10000000 | 10000000',\n",
       "  '10000000 | 10000001',\n",
       "  '10000000 & 10000001',\n",
       "  '10000000 $= 10000001',\n",
       "  '10000000 &= 10000001',\n",
       "  '10000000 | 10000001',\n",
       "  'def calc_padding(msg_len):\\n    return (msg_len+3)&~3 ',\n",
       "  '~4',\n",
       "  '~3',\n",
       "  'bin(3)',\n",
       "  'bin(~3)',\n",
       "  '0b11-0b100',\n",
       "  '(1+3)~3',\n",
       "  '(1+3)&~3',\n",
       "  '(1+2)&~2',\n",
       "  '0b11 & 0b100',\n",
       "  '0b11 | 0b100',\n",
       "  'bin(0b11 | 0b100)',\n",
       "  '~4',\n",
       "  '3&~4',\n",
       "  '3&~3',\n",
       "  '4&~3',\n",
       "  '5&~3',\n",
       "  '6&~3',\n",
       "  '(2+3)&~3',\n",
       "  '(5+3)&~3',\n",
       "  '~3',\n",
       "  '7%4',\n",
       "  '7+7%4',\n",
       "  'def calc_padding_new(msg_len):\\n    return msg_len + (4-msg_len%4)',\n",
       "  'calc_padding_new(10)',\n",
       "  'list(map(calc_padding_new, range(100)))',\n",
       "  'def calc_padding_new(msg_len):\\n    if msg_len==0:\\n        return msg_len\\n    else:\\n        return msg_len + (4-msg_len%4)',\n",
       "  'list(map(calc_padding_new, range(100)))',\n",
       "  'enumerate(list(map(calc_padding_new, range(100))))',\n",
       "  'list(enumerate(map(calc_padding_new, range(100))))',\n",
       "  'list(enumerate(map(calc_padding_new, range(1, 100))))',\n",
       "  'def calc_padding_new(msg_len):\\n    if msg_len==0:\\n        return msg_len\\n    else:\\n        return msg_len + (4-msg_len%4)',\n",
       "  '6->8\\n\\n6 + 2 => \\n\\n7 + 1\\n\\n8 + 0',\n",
       "  'list(enumerate(map(calc_padding_new, range(1, 100))))',\n",
       "  'calc_padding_new(8)',\n",
       "  'def calc_padding_new(msg_len):\\n    if msg_len%4 == 0:\\n        return msg_len\\n    else:\\n        return msg_len + (4-msg_len%4)',\n",
       "  'calc_padding_new(8)',\n",
       "  'list(enumerate(map(calc_padding_new, range(1, 100))))',\n",
       "  'list(enumerate(map(calc_padding_new, range(1, 100))))',\n",
       "  'calc_padding_new(8)',\n",
       "  'list(enumerate(map(calc_padding_new, range(1, 100))))',\n",
       "  'list(enumerate(map(calc_padding_new, range(100))))',\n",
       "  \"'ali'.encode('utf-16')\",\n",
       "  \"'habil'.encode('utf-16')\",\n",
       "  \"len('habil'.encode('utf-16'))\",\n",
       "  \"len('habil01'.encode('utf-16'))\",\n",
       "  \"len('habil0'.encode('utf-16'))\",\n",
       "  \"len('habil'.encode('utf-16'))\",\n",
       "  \"'habil'.encode('utf-8')\",\n",
       "  \"len('habil'.encode('utf-8'))\",\n",
       "  \"'habil'.encode('utf-8')\",\n",
       "  'calc_padding(10)',\n",
       "  'def calc_padding(msg_len):\\n    return (msg_len+3)&~3 - msg_len',\n",
       "  'calc_padding(10)',\n",
       "  'def calc_padding(msg_len):\\n    return ((msg_len+3)&~3) - msg_len',\n",
       "  'calc_padding(10)',\n",
       "  'list(enumerate(map(calc_padding_new, range(10))))',\n",
       "  'bin(10)',\n",
       "  '0b0101',\n",
       "  '0b1010',\n",
       "  '-0b0101',\n",
       "  'bin(~10)',\n",
       "  '~10',\n",
       "  '-0b1011 & 0b1010',\n",
       "  '-0b1011 and 0b1010',\n",
       "  '-0b1011 | 0b1010',\n",
       "  '-0b1011 + 0b1010',\n",
       "  '-0b1011 & 0b1010',\n",
       "  '0b1010',\n",
       "  '-0b1011 | 0b1010',\n",
       "  '-0b1011 & 0b1010',\n",
       "  '-0b1011 & 0b1010',\n",
       "  '1 & 1',\n",
       "  '1 & 2',\n",
       "  '1 & 3',\n",
       "  'bin(1)',\n",
       "  'bin(1)',\n",
       "  'bin(2)',\n",
       "  '0b10 & 0b1',\n",
       "  'bin(3)',\n",
       "  '0b11 & 0b1',\n",
       "  '0b11 & 0b10',\n",
       "  '0b11 & 0b01',\n",
       "  '0b01',\n",
       "  '0b000001',\n",
       "  '0b0000001',\n",
       "  'list(map(bin, range(10)))',\n",
       "  'list(enumerate(map(bin, range(10))))',\n",
       "  '0b11100100',\n",
       "  '-0b11100100',\n",
       "  '0b11100100',\n",
       "  'bin(28)',\n",
       "  'bin(-28)',\n",
       "  '~28',\n",
       "  'bin(~28)',\n",
       "  '0b11001000',\n",
       "  '0b11000100',\n",
       "  '0b11100100',\n",
       "  '0xFFFFFFFF',\n",
       "  'bin(0xFFFFFFFF)',\n",
       "  'len(bin(0xFFFFFFFF))',\n",
       "  'bin(FF)',\n",
       "  'bin(0xFF)',\n",
       "  '0xFF',\n",
       "  '0b01100',\n",
       "  'bin(30)',\n",
       "  '0b00011110',\n",
       "  '0b11100001',\n",
       "  '0b00000000000000000000000000011110',\n",
       "  '0b11111111111111111111111111100001',\n",
       "  '0b11111111111111111111111111100010',\n",
       "  '0b11111111111111111111111111100010 + 0b00000000000000000000000000011110',\n",
       "  '0b11111111111111111111111111100010 - 0b00000000000000000000000000011110',\n",
       "  '-0b11111111111111111111111111100010',\n",
       "  '0xFFFFFFE2',\n",
       "  'bin(0xFFFFFFE2)',\n",
       "  '0b11111111111111111111111111111110',\n",
       "  'bin(6)',\n",
       "  '0b00000110',\n",
       "  '0b11111001',\n",
       "  'len(0b11111001)',\n",
       "  \"len('0b11111001')\",\n",
       "  '0b11111001',\n",
       "  '249+6',\n",
       "  '0b11111010',\n",
       "  '250 + 6',\n",
       "  'bin(-10)',\n",
       "  '0x000000',\n",
       "  '0x000001',\n",
       "  'bin(0x000001)',\n",
       "  'bin(0x0000FF)',\n",
       "  'bin(0x0FF0FF)',\n",
       "  '12 & 25',\n",
       "  '1 & 1',\n",
       "  '1 & 2',\n",
       "  '1 & 3',\n",
       "  '1 | 3',\n",
       "  '12 | 25',\n",
       "  '~3',\n",
       "  '(3+3)&~3',\n",
       "  '(3&~3 + 3&~3)',\n",
       "  '3&~3',\n",
       "  '3&~4',\n",
       "  '~4',\n",
       "  '1 or 2',\n",
       "  '1 | 2',\n",
       "  '3 | 4',\n",
       "  '3 & 4',\n",
       "  '3 & 5',\n",
       "  '12 & 24',\n",
       "  '12 & 25',\n",
       "  '12 | 25',\n",
       "  'def calc_padding_new(msg_len):\\n    if msg_len%4 == 0:\\n        return msg_len\\n    else:\\n        return msg_len + (4-msg_len%4)',\n",
       "  'def calc_padding_new(msg_len):\\n    if msg_len%4 == 0:\\n        return msg_len\\n    else:\\n        return msg_len + msg_len%4',\n",
       "  'list(enumerate(map(calc_padding_new, range(20))))',\n",
       "  'def calc_padding_new(msg_len):\\n    if msg_len%4 == 0:\\n        return msg_len\\n    else:\\n        return msg_len + msg_len%4',\n",
       "  'list(enumerate(map(calc_padding_new, range(20))))',\n",
       "  'def calc_padding(msg_len):\\n    return (msg_len + 3)&~3',\n",
       "  'def calc_padding_new(msg_len):\\n    if msg_len%4 == 0:\\n        return msg_len\\n    else:\\n        return msg_len + 4%msg_len',\n",
       "  'list(enumerate(map(calc_padding_new, range(20))))',\n",
       "  'def calc_padding_new(msg_len):\\n    if msg_len%4 == 0:\\n        return msg_len\\n    else:\\n        return msg_len + (4-msg_len%4)',\n",
       "  'list(enumerate(map(calc_padding_new, range(20))))',\n",
       "  'def calc_padding(msg_len):\\n    return (msg_len + 3)&~3',\n",
       "  'list(enumerate(map(calc_padding, range(20))))',\n",
       "  'def calc_padding(msg_len):\\n    return (msg_len + 2)&~2',\n",
       "  'list(enumerate(map(calc_padding, range(20))))',\n",
       "  'def calc_padding(msg_len):\\n    return (msg_len + 2)&~2',\n",
       "  'list(enumerate(map(calc_padding, range(20))))',\n",
       "  'def calc_padding(msg_len):\\n    return (msg_len + 2)&~3',\n",
       "  'list(enumerate(map(calc_padding, range(20))))',\n",
       "  'def calc_padding(msg_len):\\n    return (msg_len + 3)&~3',\n",
       "  'list(enumerate(map(calc_padding, range(20))))',\n",
       "  'def calc_padding(msg_len):\\n    return (msg_len + 2)&~3',\n",
       "  'list(enumerate(map(calc_padding, range(20))))',\n",
       "  'def calc_padding(msg_len):\\n    return (msg_len + 1)&~3',\n",
       "  'list(enumerate(map(calc_padding, range(20))))',\n",
       "  '7&-4',\n",
       "  \"hex('ali')\",\n",
       "  \"codecs.getencode('hex')\",\n",
       "  \"codecs.getencoder('hex')\",\n",
       "  \"hexlify = codecs.getencoder('hex')\",\n",
       "  \"hexlify('ali')\",\n",
       "  \"hexlify(b'ali')\",\n",
       "  '0x616c69',\n",
       "  'chr(0x61)',\n",
       "  'chr(0x6c)',\n",
       "  \"unhexlify = codecs.getdecoder('hex')\",\n",
       "  \"unhexlify('616c69')\",\n",
       "  \"struct.pack('>I', 11)\",\n",
       "  \"hexlify(struct.pack('>I', 11))\",\n",
       "  \"hex(struct.pack('>I', 11))\",\n",
       "  \"hexlidy(struct.pack('>I', 11))\",\n",
       "  \"hexlify(struct.pack('>I', 11))\",\n",
       "  \"hexlify(struct.pack('!I', 11))\",\n",
       "  \"struct.pack('!I', 11)\",\n",
       "  \"struct.pack('!I', 22)\",\n",
       "  \"hexlify(struct.pack('!I', 22))\",\n",
       "  \"hexlify(struct.pack('!I', 22))[0]\",\n",
       "  \"hexlify(struct.pack('!I', 22))[0][:1]\",\n",
       "  \"hexlify(struct.pack('!I', 22))[0]\",\n",
       "  \"print(hexlify(struct.pack('!I', 22))[0])\",\n",
       "  \"struct.pack('!I', 22)\",\n",
       "  \"struct.unpack('!I', b'\\\\x00\\\\x00\\\\x00\\\\x16')\",\n",
       "  \"unhexlify(struct.unpack('!I', b'\\\\x00\\\\x00\\\\x00\\\\x16'))\",\n",
       "  \"struct.unpack('!I', unhexilify(b'\\\\x00\\\\x00\\\\x00\\\\x16'))\",\n",
       "  \"struct.unpack('!I', unhexlify(b'\\\\x00\\\\x00\\\\x00\\\\x16'))\",\n",
       "  \"struct.unpack('!I', unhexlify('\\\\x00\\\\x00\\\\x00\\\\x16'))\",\n",
       "  \"struct.unpack('!I', unhexlify('00000016'))\",\n",
       "  \"struct.unpack('!I', unhexlify('0x00000016'))\",\n",
       "  \"struct.unpack('!I', unhexlify(0x00000016))\",\n",
       "  \"struct.unpack('!I', unhexlify(b'0x00000016'))\",\n",
       "  \"struct.unpack('!I', unhexlify(b'00000016'))\",\n",
       "  \"struct.unpack('!I', unhexlify(b'00000016')[0])\",\n",
       "  \"struct.unpack('!I', unhexlify(b'0x00000016')[0])\",\n",
       "  \"struct.unpack('!I', unhexlify(b'00000016')[0])\",\n",
       "  \"print(hexlify(struct.pack('!I', 22))[0])\",\n",
       "  \"len(hexlify(struct.pack('!I', 22))[0])\",\n",
       "  \"len(hexlify(struct.pack('!I', 22))[0])/2\",\n",
       "  'struct.calcsize()',\n",
       "  \"struct.calcsize(b'00000016')\",\n",
       "  \"struct.calcsize('!I')\",\n",
       "  '\"%08X\" % 11',\n",
       "  '\"%08X\" % 22',\n",
       "  'globals',\n",
       "  'globals()'],\n",
       " 'Out': {5: (b'a', b'l', b'i'),\n",
       "  8: (b'ali',),\n",
       "  9: 254,\n",
       "  10: 25,\n",
       "  13: 57,\n",
       "  14: 1,\n",
       "  15: 2,\n",
       "  16: 2,\n",
       "  17: 6,\n",
       "  20: b'\\x01\\x00\\x02\\x00\\x03\\x00',\n",
       "  25: b'\\x01\\x00\\x02\\x00\\x03\\x00',\n",
       "  27: 4,\n",
       "  29: b'\\x01\\x00\\x02\\x00\\x03\\x00',\n",
       "  33: b'\\x01\\x00\\x02\\x00\\x00\\x00\\x00\\x00\\x03\\x00\\x00\\x00\\x00\\x00\\x00\\x00',\n",
       "  34: b'\\x01\\x00\\x02\\x00\\x00\\x00\\x00\\x00\\x03\\x00\\x00\\x00\\x00\\x00\\x00\\x00',\n",
       "  35: 1,\n",
       "  36: 3,\n",
       "  37: 4,\n",
       "  38: 4,\n",
       "  39: 16,\n",
       "  40: 8,\n",
       "  41: 8,\n",
       "  42: 8,\n",
       "  43: b'*\\x00\\x00\\x00\\x15\\x14\\x13\\x12',\n",
       "  44: b'\\x15\\x14\\x13\\x12*',\n",
       "  45: 8,\n",
       "  46: 5,\n",
       "  47: (4658, 264, 8),\n",
       "  48: b'\\x122\\x01\\x08\\x08',\n",
       "  49: b'2\\x12\\x08\\x01\\x08',\n",
       "  50: b'2\\x12\\x08\\x01\\x08',\n",
       "  51: (4658, 264, 8),\n",
       "  52: (4658, 264, 8),\n",
       "  53: (4658, 264, 8),\n",
       "  56: (4658, 264, 8),\n",
       "  57: (4657, 264, 8),\n",
       "  58: (4401, 264, 8),\n",
       "  59: (4658, 264, 8),\n",
       "  61: 18,\n",
       "  63: '0x1232',\n",
       "  65: '0b1001000110010',\n",
       "  66: '0x2',\n",
       "  67: '0xd4',\n",
       "  69: 212,\n",
       "  70: 530,\n",
       "  71: 18008,\n",
       "  74: (4658,),\n",
       "  75: 18,\n",
       "  76: (4402,),\n",
       "  77: (4658,),\n",
       "  79: 'Ã',\n",
       "  80: '±',\n",
       "  81: (4659,),\n",
       "  82: (4660,),\n",
       "  83: (4658,),\n",
       "  85: (b'\\x12',),\n",
       "  86: (b'\\x12',),\n",
       "  87: '\\x12',\n",
       "  88: 'F',\n",
       "  89: 'd',\n",
       "  90: '\\x12',\n",
       "  91: '0b10',\n",
       "  92: '0b10010',\n",
       "  93: 10,\n",
       "  94: 82,\n",
       "  96: <reversed at 0x10900f700>,\n",
       "  97: 37,\n",
       "  98: 37,\n",
       "  99: 74,\n",
       "  100: b'2\\x12\\x00\\x00',\n",
       "  101: '0x1232',\n",
       "  102: 18,\n",
       "  103: 50,\n",
       "  104: '0b1001000110010',\n",
       "  105: '0b10',\n",
       "  106: 562,\n",
       "  107: b'2\\x12\\x00\\x00',\n",
       "  108: b'\\x00\\x00\\x122',\n",
       "  109: 290,\n",
       "  110: '0b100100010',\n",
       "  111: '0b0',\n",
       "  112: 290,\n",
       "  113: 290,\n",
       "  114: 290,\n",
       "  115: 290,\n",
       "  116: 290,\n",
       "  117: 1160,\n",
       "  118: 4640,\n",
       "  119: 2320,\n",
       "  120: 1160,\n",
       "  122: b'2\\x12',\n",
       "  123: '2\\x12',\n",
       "  124: '0b10',\n",
       "  125: '0b10100',\n",
       "  126: '0b1111000',\n",
       "  128: 0,\n",
       "  129: 1,\n",
       "  130: 0,\n",
       "  131: 2,\n",
       "  132: '0b10',\n",
       "  133: '0b0',\n",
       "  134: '0b1',\n",
       "  135: '0b0',\n",
       "  136: 0,\n",
       "  138: 0,\n",
       "  139: 0,\n",
       "  140: bytes,\n",
       "  141: bytes,\n",
       "  143: b'\\x01\\x02',\n",
       "  144: b'\\x01\\x02\\x03',\n",
       "  147: b'\\x01\\x02\\x03',\n",
       "  149: b'\\x01\\x02\\x03',\n",
       "  151: b'ali',\n",
       "  154: b'ali',\n",
       "  155: b'\\x00\\x01',\n",
       "  156: '0b1',\n",
       "  157: b'\\x00\\x01',\n",
       "  158: b'\\x00\\x02',\n",
       "  159: '0b10',\n",
       "  160: '0x2',\n",
       "  161: '0x1',\n",
       "  162: b'\\x02\\x00',\n",
       "  163: '0xfa',\n",
       "  164: '0xff',\n",
       "  165: '0x100',\n",
       "  166: b'\\x00\\x01',\n",
       "  167: b'\\x01\\x00',\n",
       "  168: b'\\x00\\xff',\n",
       "  169: b'\\x01\\x01',\n",
       "  170: b'\\x01\\x00',\n",
       "  171: '0x101',\n",
       "  172: '0xff',\n",
       "  173: '0x100',\n",
       "  174: '0x11ea',\n",
       "  175: '0x1232',\n",
       "  176: b'\\x122',\n",
       "  177: b'2\\x12',\n",
       "  178: b'\\x00\\x01',\n",
       "  179: b'\\xf4\\x01',\n",
       "  180: b'\\x00\\x02',\n",
       "  181: '0x200',\n",
       "  182: b'\\x00\\x02',\n",
       "  183: b'\\x02\\x00',\n",
       "  184: b'\\x02\\x01',\n",
       "  185: '0x201',\n",
       "  186: 513,\n",
       "  187: 65538,\n",
       "  188: 65538,\n",
       "  189: 65538,\n",
       "  190: 530,\n",
       "  191: 2,\n",
       "  192: 530,\n",
       "  193: 135688,\n",
       "  194: 135688,\n",
       "  195: 530,\n",
       "  196: 264,\n",
       "  197: 18,\n",
       "  198: '0x2',\n",
       "  208: (4658, 264, 8),\n",
       "  209: (12818, 2049, 8),\n",
       "  210: 530,\n",
       "  211: 135688,\n",
       "  212: 2049,\n",
       "  213: 18,\n",
       "  214: 8210,\n",
       "  215: 530,\n",
       "  218: (12818, 2049, 8),\n",
       "  220: (12818, 2049, 8),\n",
       "  222: b'\\x122',\n",
       "  223: b'\\x00\\x00\\x122',\n",
       "  224: b'\\x122',\n",
       "  225: 290,\n",
       "  227: b'\\x00\\x00\\x122',\n",
       "  228: 290,\n",
       "  229: b'\\x00\\x00\\x122',\n",
       "  230: b'\\x00\\x00\\x122',\n",
       "  232: 18,\n",
       "  233: 65536,\n",
       "  234: b'2\\x12\\x00\\x00',\n",
       "  235: b'\\x00\\x00\\x122',\n",
       "  236: b'\\x122',\n",
       "  237: b'\\x122',\n",
       "  238: b'2\\x12',\n",
       "  239: 530,\n",
       "  240: 530,\n",
       "  241: b'd\\x00',\n",
       "  242: 13,\n",
       "  243: 3328,\n",
       "  244: 13,\n",
       "  245: b'\\x00d',\n",
       "  246: 13,\n",
       "  247: b'\\x00\\x01',\n",
       "  248: 1,\n",
       "  249: b'\\x00\\x02',\n",
       "  250: 2,\n",
       "  251: b'\\x00\\x14',\n",
       "  252: 20,\n",
       "  253: b'\\x00(',\n",
       "  255: b'\\x00(',\n",
       "  256: b'\\x00)',\n",
       "  257: b'\\x00*',\n",
       "  261: 2,\n",
       "  262: 2,\n",
       "  264: '\\x02',\n",
       "  267: 255,\n",
       "  269: 254,\n",
       "  271: 150,\n",
       "  274: 1000,\n",
       "  278: 8,\n",
       "  279: 2049,\n",
       "  283: 65535,\n",
       "  285: 65279,\n",
       "  286: 65534,\n",
       "  288: 65534,\n",
       "  289: b'a',\n",
       "  290: b'ali',\n",
       "  291: b'ali',\n",
       "  292: b'\\xff\\xfea',\n",
       "  293: 1048554,\n",
       "  294: 'ÿ',\n",
       "  295: '\\U000fffea',\n",
       "  296: '\\x0f',\n",
       "  297: b'ali',\n",
       "  298: 1048554,\n",
       "  299: '\\x0f',\n",
       "  300: (12818, 2049, 8),\n",
       "  301: (4658, 264, 8),\n",
       "  302: 2049,\n",
       "  303: 12818,\n",
       "  304: 50,\n",
       "  305: (12818, 2049, 8),\n",
       "  306: 12818,\n",
       "  307: 2049,\n",
       "  308: 8,\n",
       "  309: (4658, 264, 8),\n",
       "  310: 2049,\n",
       "  311: 264,\n",
       "  312: 4658,\n",
       "  313: 264,\n",
       "  314: 8,\n",
       "  315: <unpack_iterator at 0x109002540>,\n",
       "  316: <unpack_iterator at 0x109002840>,\n",
       "  317: (4658, 264, 8),\n",
       "  318: (4658, 264, 8),\n",
       "  319: (4658, 264, 8),\n",
       "  320: (4658, 264, 8),\n",
       "  321: (4658, 264, 8),\n",
       "  323: (4658, 264, 8),\n",
       "  324: (b'2',),\n",
       "  325: (4658, 264, 8),\n",
       "  326: (b'2',),\n",
       "  329: 50,\n",
       "  330: '0b110010',\n",
       "  331: 2,\n",
       "  332: '2',\n",
       "  333: '\\x12',\n",
       "  337: <function _codecs.utf_8_encode(str, errors=None, /)>,\n",
       "  339: b'2\\x12',\n",
       "  340: b'0x321208010808',\n",
       "  341: b'32',\n",
       "  344: (b'2',),\n",
       "  345: b'2',\n",
       "  347: 4,\n",
       "  348: 4,\n",
       "  350: 2,\n",
       "  351: '0b110',\n",
       "  352: '0b11',\n",
       "  353: -4,\n",
       "  354: '0b11',\n",
       "  355: 48,\n",
       "  356: 3,\n",
       "  357: 60,\n",
       "  358: 15,\n",
       "  359: '-0b100',\n",
       "  360: '-0b100',\n",
       "  373: b'2163bc1d',\n",
       "  376: (560184349,),\n",
       "  378: (b'\\n',),\n",
       "  380: (2560,),\n",
       "  381: 12,\n",
       "  382: 8,\n",
       "  383: 8,\n",
       "  384: 4,\n",
       "  385: 16,\n",
       "  386: 20,\n",
       "  387: 16,\n",
       "  388: 20,\n",
       "  389: 24,\n",
       "  390: [0,\n",
       "   4,\n",
       "   4,\n",
       "   4,\n",
       "   4,\n",
       "   8,\n",
       "   8,\n",
       "   8,\n",
       "   8,\n",
       "   12,\n",
       "   12,\n",
       "   12,\n",
       "   12,\n",
       "   16,\n",
       "   16,\n",
       "   16,\n",
       "   16,\n",
       "   20,\n",
       "   20,\n",
       "   20,\n",
       "   20,\n",
       "   24,\n",
       "   24,\n",
       "   24,\n",
       "   24,\n",
       "   28,\n",
       "   28,\n",
       "   28,\n",
       "   28,\n",
       "   32,\n",
       "   32,\n",
       "   32,\n",
       "   32,\n",
       "   36,\n",
       "   36,\n",
       "   36,\n",
       "   36,\n",
       "   40,\n",
       "   40,\n",
       "   40,\n",
       "   40,\n",
       "   44,\n",
       "   44,\n",
       "   44,\n",
       "   44,\n",
       "   48,\n",
       "   48,\n",
       "   48,\n",
       "   48,\n",
       "   52,\n",
       "   52,\n",
       "   52,\n",
       "   52,\n",
       "   56,\n",
       "   56,\n",
       "   56,\n",
       "   56,\n",
       "   60,\n",
       "   60,\n",
       "   60,\n",
       "   60,\n",
       "   64,\n",
       "   64,\n",
       "   64,\n",
       "   64,\n",
       "   68,\n",
       "   68,\n",
       "   68,\n",
       "   68,\n",
       "   72,\n",
       "   72,\n",
       "   72,\n",
       "   72,\n",
       "   76,\n",
       "   76,\n",
       "   76,\n",
       "   76,\n",
       "   80,\n",
       "   80,\n",
       "   80,\n",
       "   80,\n",
       "   84,\n",
       "   84,\n",
       "   84,\n",
       "   84,\n",
       "   88,\n",
       "   88,\n",
       "   88,\n",
       "   88,\n",
       "   92,\n",
       "   92,\n",
       "   92,\n",
       "   92,\n",
       "   96,\n",
       "   96,\n",
       "   96,\n",
       "   96,\n",
       "   100,\n",
       "   100,\n",
       "   100],\n",
       "  391: [0,\n",
       "   4,\n",
       "   4,\n",
       "   4,\n",
       "   4,\n",
       "   8,\n",
       "   8,\n",
       "   8,\n",
       "   8,\n",
       "   12,\n",
       "   12,\n",
       "   12,\n",
       "   12,\n",
       "   16,\n",
       "   16,\n",
       "   16,\n",
       "   16,\n",
       "   20,\n",
       "   20,\n",
       "   20,\n",
       "   20,\n",
       "   24,\n",
       "   24,\n",
       "   24,\n",
       "   24,\n",
       "   28,\n",
       "   28,\n",
       "   28,\n",
       "   28,\n",
       "   32],\n",
       "  392: [(0, 0),\n",
       "   (1, 4),\n",
       "   (2, 4),\n",
       "   (3, 4),\n",
       "   (4, 4),\n",
       "   (5, 8),\n",
       "   (6, 8),\n",
       "   (7, 8),\n",
       "   (8, 8),\n",
       "   (9, 12),\n",
       "   (10, 12),\n",
       "   (11, 12),\n",
       "   (12, 12),\n",
       "   (13, 16),\n",
       "   (14, 16),\n",
       "   (15, 16),\n",
       "   (16, 16),\n",
       "   (17, 20),\n",
       "   (18, 20),\n",
       "   (19, 20),\n",
       "   (20, 20),\n",
       "   (21, 24),\n",
       "   (22, 24),\n",
       "   (23, 24),\n",
       "   (24, 24),\n",
       "   (25, 28),\n",
       "   (26, 28),\n",
       "   (27, 28),\n",
       "   (28, 28),\n",
       "   (29, 32)],\n",
       "  393: [(0, 0),\n",
       "   (1, 4),\n",
       "   (2, 4),\n",
       "   (3, 4),\n",
       "   (4, 4),\n",
       "   (5, 8),\n",
       "   (6, 8),\n",
       "   (7, 8),\n",
       "   (8, 8),\n",
       "   (9, 12),\n",
       "   (10, 12),\n",
       "   (11, 12),\n",
       "   (12, 12),\n",
       "   (13, 16),\n",
       "   (14, 16),\n",
       "   (15, 16),\n",
       "   (16, 16),\n",
       "   (17, 20),\n",
       "   (18, 20),\n",
       "   (19, 20),\n",
       "   (20, 20),\n",
       "   (21, 24),\n",
       "   (22, 24),\n",
       "   (23, 24),\n",
       "   (24, 24),\n",
       "   (25, 28),\n",
       "   (26, 28),\n",
       "   (27, 28),\n",
       "   (28, 28),\n",
       "   (29, 32),\n",
       "   (30, 32),\n",
       "   (31, 32),\n",
       "   (32, 32),\n",
       "   (33, 36),\n",
       "   (34, 36),\n",
       "   (35, 36),\n",
       "   (36, 36),\n",
       "   (37, 40),\n",
       "   (38, 40),\n",
       "   (39, 40)],\n",
       "  399: 68,\n",
       "  400: 8,\n",
       "  401: '0b1000',\n",
       "  402: '0b100',\n",
       "  403: '0b1000',\n",
       "  404: '0b10',\n",
       "  405: 2,\n",
       "  406: 128,\n",
       "  407: 256,\n",
       "  408: 4,\n",
       "  409: 8,\n",
       "  410: 2,\n",
       "  411: 1,\n",
       "  412: 4,\n",
       "  413: 128,\n",
       "  414: '0b10000000',\n",
       "  415: '0b100000000',\n",
       "  416: 256,\n",
       "  417: 11,\n",
       "  418: 9,\n",
       "  419: 128,\n",
       "  420: '0b10000000',\n",
       "  421: 63,\n",
       "  422: 255,\n",
       "  423: -129,\n",
       "  424: -4,\n",
       "  425: 257,\n",
       "  426: -5,\n",
       "  427: -6,\n",
       "  428: 3,\n",
       "  430: 3,\n",
       "  431: 10000100,\n",
       "  432: 10000000,\n",
       "  433: 10000001,\n",
       "  434: 10000000,\n",
       "  437: 10000001,\n",
       "  439: -5,\n",
       "  440: -4,\n",
       "  441: '0b11',\n",
       "  442: '-0b100',\n",
       "  443: -1,\n",
       "  445: 4,\n",
       "  446: 1,\n",
       "  447: 0,\n",
       "  448: 7,\n",
       "  449: '0b111',\n",
       "  450: -5,\n",
       "  451: 3,\n",
       "  452: 0,\n",
       "  453: 4,\n",
       "  454: 4,\n",
       "  455: 4,\n",
       "  456: 4,\n",
       "  457: 8,\n",
       "  458: -4,\n",
       "  459: 3,\n",
       "  460: 10,\n",
       "  462: 12,\n",
       "  463: [4,\n",
       "   4,\n",
       "   4,\n",
       "   4,\n",
       "   8,\n",
       "   8,\n",
       "   8,\n",
       "   8,\n",
       "   12,\n",
       "   12,\n",
       "   12,\n",
       "   12,\n",
       "   16,\n",
       "   16,\n",
       "   16,\n",
       "   16,\n",
       "   20,\n",
       "   20,\n",
       "   20,\n",
       "   20,\n",
       "   24,\n",
       "   24,\n",
       "   24,\n",
       "   24,\n",
       "   28,\n",
       "   28,\n",
       "   28,\n",
       "   28,\n",
       "   32,\n",
       "   32,\n",
       "   32,\n",
       "   32,\n",
       "   36,\n",
       "   36,\n",
       "   36,\n",
       "   36,\n",
       "   40,\n",
       "   40,\n",
       "   40,\n",
       "   40,\n",
       "   44,\n",
       "   44,\n",
       "   44,\n",
       "   44,\n",
       "   48,\n",
       "   48,\n",
       "   48,\n",
       "   48,\n",
       "   52,\n",
       "   52,\n",
       "   52,\n",
       "   52,\n",
       "   56,\n",
       "   56,\n",
       "   56,\n",
       "   56,\n",
       "   60,\n",
       "   60,\n",
       "   60,\n",
       "   60,\n",
       "   64,\n",
       "   64,\n",
       "   64,\n",
       "   64,\n",
       "   68,\n",
       "   68,\n",
       "   68,\n",
       "   68,\n",
       "   72,\n",
       "   72,\n",
       "   72,\n",
       "   72,\n",
       "   76,\n",
       "   76,\n",
       "   76,\n",
       "   76,\n",
       "   80,\n",
       "   80,\n",
       "   80,\n",
       "   80,\n",
       "   84,\n",
       "   84,\n",
       "   84,\n",
       "   84,\n",
       "   88,\n",
       "   88,\n",
       "   88,\n",
       "   88,\n",
       "   92,\n",
       "   92,\n",
       "   92,\n",
       "   92,\n",
       "   96,\n",
       "   96,\n",
       "   96,\n",
       "   96,\n",
       "   100,\n",
       "   100,\n",
       "   100,\n",
       "   100],\n",
       "  465: [0,\n",
       "   4,\n",
       "   4,\n",
       "   4,\n",
       "   8,\n",
       "   8,\n",
       "   8,\n",
       "   8,\n",
       "   12,\n",
       "   12,\n",
       "   12,\n",
       "   12,\n",
       "   16,\n",
       "   16,\n",
       "   16,\n",
       "   16,\n",
       "   20,\n",
       "   20,\n",
       "   20,\n",
       "   20,\n",
       "   24,\n",
       "   24,\n",
       "   24,\n",
       "   24,\n",
       "   28,\n",
       "   28,\n",
       "   28,\n",
       "   28,\n",
       "   32,\n",
       "   32,\n",
       "   32,\n",
       "   32,\n",
       "   36,\n",
       "   36,\n",
       "   36,\n",
       "   36,\n",
       "   40,\n",
       "   40,\n",
       "   40,\n",
       "   40,\n",
       "   44,\n",
       "   44,\n",
       "   44,\n",
       "   44,\n",
       "   48,\n",
       "   48,\n",
       "   48,\n",
       "   48,\n",
       "   52,\n",
       "   52,\n",
       "   52,\n",
       "   52,\n",
       "   56,\n",
       "   56,\n",
       "   56,\n",
       "   56,\n",
       "   60,\n",
       "   60,\n",
       "   60,\n",
       "   60,\n",
       "   64,\n",
       "   64,\n",
       "   64,\n",
       "   64,\n",
       "   68,\n",
       "   68,\n",
       "   68,\n",
       "   68,\n",
       "   72,\n",
       "   72,\n",
       "   72,\n",
       "   72,\n",
       "   76,\n",
       "   76,\n",
       "   76,\n",
       "   76,\n",
       "   80,\n",
       "   80,\n",
       "   80,\n",
       "   80,\n",
       "   84,\n",
       "   84,\n",
       "   84,\n",
       "   84,\n",
       "   88,\n",
       "   88,\n",
       "   88,\n",
       "   88,\n",
       "   92,\n",
       "   92,\n",
       "   92,\n",
       "   92,\n",
       "   96,\n",
       "   96,\n",
       "   96,\n",
       "   96,\n",
       "   100,\n",
       "   100,\n",
       "   100,\n",
       "   100],\n",
       "  466: <enumerate at 0x109047080>,\n",
       "  467: [(0, 0),\n",
       "   (1, 4),\n",
       "   (2, 4),\n",
       "   (3, 4),\n",
       "   (4, 8),\n",
       "   (5, 8),\n",
       "   (6, 8),\n",
       "   (7, 8),\n",
       "   (8, 12),\n",
       "   (9, 12),\n",
       "   (10, 12),\n",
       "   (11, 12),\n",
       "   (12, 16),\n",
       "   (13, 16),\n",
       "   (14, 16),\n",
       "   (15, 16),\n",
       "   (16, 20),\n",
       "   (17, 20),\n",
       "   (18, 20),\n",
       "   (19, 20),\n",
       "   (20, 24),\n",
       "   (21, 24),\n",
       "   (22, 24),\n",
       "   (23, 24),\n",
       "   (24, 28),\n",
       "   (25, 28),\n",
       "   (26, 28),\n",
       "   (27, 28),\n",
       "   (28, 32),\n",
       "   (29, 32),\n",
       "   (30, 32),\n",
       "   (31, 32),\n",
       "   (32, 36),\n",
       "   (33, 36),\n",
       "   (34, 36),\n",
       "   (35, 36),\n",
       "   (36, 40),\n",
       "   (37, 40),\n",
       "   (38, 40),\n",
       "   (39, 40),\n",
       "   (40, 44),\n",
       "   (41, 44),\n",
       "   (42, 44),\n",
       "   (43, 44),\n",
       "   (44, 48),\n",
       "   (45, 48),\n",
       "   (46, 48),\n",
       "   (47, 48),\n",
       "   (48, 52),\n",
       "   (49, 52),\n",
       "   (50, 52),\n",
       "   (51, 52),\n",
       "   (52, 56),\n",
       "   (53, 56),\n",
       "   (54, 56),\n",
       "   (55, 56),\n",
       "   (56, 60),\n",
       "   (57, 60),\n",
       "   (58, 60),\n",
       "   (59, 60),\n",
       "   (60, 64),\n",
       "   (61, 64),\n",
       "   (62, 64),\n",
       "   (63, 64),\n",
       "   (64, 68),\n",
       "   (65, 68),\n",
       "   (66, 68),\n",
       "   (67, 68),\n",
       "   (68, 72),\n",
       "   (69, 72),\n",
       "   (70, 72),\n",
       "   (71, 72),\n",
       "   (72, 76),\n",
       "   (73, 76),\n",
       "   (74, 76),\n",
       "   (75, 76),\n",
       "   (76, 80),\n",
       "   (77, 80),\n",
       "   (78, 80),\n",
       "   (79, 80),\n",
       "   (80, 84),\n",
       "   (81, 84),\n",
       "   (82, 84),\n",
       "   (83, 84),\n",
       "   (84, 88),\n",
       "   (85, 88),\n",
       "   (86, 88),\n",
       "   (87, 88),\n",
       "   (88, 92),\n",
       "   (89, 92),\n",
       "   (90, 92),\n",
       "   (91, 92),\n",
       "   (92, 96),\n",
       "   (93, 96),\n",
       "   (94, 96),\n",
       "   (95, 96),\n",
       "   (96, 100),\n",
       "   (97, 100),\n",
       "   (98, 100),\n",
       "   (99, 100)],\n",
       "  468: [(0, 4),\n",
       "   (1, 4),\n",
       "   (2, 4),\n",
       "   (3, 8),\n",
       "   (4, 8),\n",
       "   (5, 8),\n",
       "   (6, 8),\n",
       "   (7, 12),\n",
       "   (8, 12),\n",
       "   (9, 12),\n",
       "   (10, 12),\n",
       "   (11, 16),\n",
       "   (12, 16),\n",
       "   (13, 16),\n",
       "   (14, 16),\n",
       "   (15, 20),\n",
       "   (16, 20),\n",
       "   (17, 20),\n",
       "   (18, 20),\n",
       "   (19, 24),\n",
       "   (20, 24),\n",
       "   (21, 24),\n",
       "   (22, 24),\n",
       "   (23, 28),\n",
       "   (24, 28),\n",
       "   (25, 28),\n",
       "   (26, 28),\n",
       "   (27, 32),\n",
       "   (28, 32),\n",
       "   (29, 32),\n",
       "   (30, 32),\n",
       "   (31, 36),\n",
       "   (32, 36),\n",
       "   (33, 36),\n",
       "   (34, 36),\n",
       "   (35, 40),\n",
       "   (36, 40),\n",
       "   (37, 40),\n",
       "   (38, 40),\n",
       "   (39, 44),\n",
       "   (40, 44),\n",
       "   (41, 44),\n",
       "   (42, 44),\n",
       "   (43, 48),\n",
       "   (44, 48),\n",
       "   (45, 48),\n",
       "   (46, 48),\n",
       "   (47, 52),\n",
       "   (48, 52),\n",
       "   (49, 52),\n",
       "   (50, 52),\n",
       "   (51, 56),\n",
       "   (52, 56),\n",
       "   (53, 56),\n",
       "   (54, 56),\n",
       "   (55, 60),\n",
       "   (56, 60),\n",
       "   (57, 60),\n",
       "   (58, 60),\n",
       "   (59, 64),\n",
       "   (60, 64),\n",
       "   (61, 64),\n",
       "   (62, 64),\n",
       "   (63, 68),\n",
       "   (64, 68),\n",
       "   (65, 68),\n",
       "   (66, 68),\n",
       "   (67, 72),\n",
       "   (68, 72),\n",
       "   (69, 72),\n",
       "   (70, 72),\n",
       "   (71, 76),\n",
       "   (72, 76),\n",
       "   (73, 76),\n",
       "   (74, 76),\n",
       "   (75, 80),\n",
       "   (76, 80),\n",
       "   (77, 80),\n",
       "   (78, 80),\n",
       "   (79, 84),\n",
       "   (80, 84),\n",
       "   (81, 84),\n",
       "   (82, 84),\n",
       "   (83, 88),\n",
       "   (84, 88),\n",
       "   (85, 88),\n",
       "   (86, 88),\n",
       "   (87, 92),\n",
       "   (88, 92),\n",
       "   (89, 92),\n",
       "   (90, 92),\n",
       "   (91, 96),\n",
       "   (92, 96),\n",
       "   (93, 96),\n",
       "   (94, 96),\n",
       "   (95, 100),\n",
       "   (96, 100),\n",
       "   (97, 100),\n",
       "   (98, 100)],\n",
       "  471: [(0, 4),\n",
       "   (1, 4),\n",
       "   (2, 4),\n",
       "   (3, 8),\n",
       "   (4, 8),\n",
       "   (5, 8),\n",
       "   (6, 8),\n",
       "   (7, 12),\n",
       "   (8, 12),\n",
       "   (9, 12),\n",
       "   (10, 12),\n",
       "   (11, 16),\n",
       "   (12, 16),\n",
       "   (13, 16),\n",
       "   (14, 16),\n",
       "   (15, 20),\n",
       "   (16, 20),\n",
       "   (17, 20),\n",
       "   (18, 20),\n",
       "   (19, 24),\n",
       "   (20, 24),\n",
       "   (21, 24),\n",
       "   (22, 24),\n",
       "   (23, 28),\n",
       "   (24, 28),\n",
       "   (25, 28),\n",
       "   (26, 28),\n",
       "   (27, 32),\n",
       "   (28, 32),\n",
       "   (29, 32),\n",
       "   (30, 32),\n",
       "   (31, 36),\n",
       "   (32, 36),\n",
       "   (33, 36),\n",
       "   (34, 36),\n",
       "   (35, 40),\n",
       "   (36, 40),\n",
       "   (37, 40),\n",
       "   (38, 40),\n",
       "   (39, 44),\n",
       "   (40, 44),\n",
       "   (41, 44),\n",
       "   (42, 44),\n",
       "   (43, 48),\n",
       "   (44, 48),\n",
       "   (45, 48),\n",
       "   (46, 48),\n",
       "   (47, 52),\n",
       "   (48, 52),\n",
       "   (49, 52),\n",
       "   (50, 52),\n",
       "   (51, 56),\n",
       "   (52, 56),\n",
       "   (53, 56),\n",
       "   (54, 56),\n",
       "   (55, 60),\n",
       "   (56, 60),\n",
       "   (57, 60),\n",
       "   (58, 60),\n",
       "   (59, 64),\n",
       "   (60, 64),\n",
       "   (61, 64),\n",
       "   (62, 64),\n",
       "   (63, 68),\n",
       "   (64, 68),\n",
       "   (65, 68),\n",
       "   (66, 68),\n",
       "   (67, 72),\n",
       "   (68, 72),\n",
       "   (69, 72),\n",
       "   (70, 72),\n",
       "   (71, 76),\n",
       "   (72, 76),\n",
       "   (73, 76),\n",
       "   (74, 76),\n",
       "   (75, 80),\n",
       "   (76, 80),\n",
       "   (77, 80),\n",
       "   (78, 80),\n",
       "   (79, 84),\n",
       "   (80, 84),\n",
       "   (81, 84),\n",
       "   (82, 84),\n",
       "   (83, 88),\n",
       "   (84, 88),\n",
       "   (85, 88),\n",
       "   (86, 88),\n",
       "   (87, 92),\n",
       "   (88, 92),\n",
       "   (89, 92),\n",
       "   (90, 92),\n",
       "   (91, 96),\n",
       "   (92, 96),\n",
       "   (93, 96),\n",
       "   (94, 96),\n",
       "   (95, 100),\n",
       "   (96, 100),\n",
       "   (97, 100),\n",
       "   (98, 100)],\n",
       "  472: 12,\n",
       "  474: 8,\n",
       "  475: [(0, 4),\n",
       "   (1, 4),\n",
       "   (2, 4),\n",
       "   (3, 4),\n",
       "   (4, 8),\n",
       "   (5, 8),\n",
       "   (6, 8),\n",
       "   (7, 8),\n",
       "   (8, 12),\n",
       "   (9, 12),\n",
       "   (10, 12),\n",
       "   (11, 12),\n",
       "   (12, 16),\n",
       "   (13, 16),\n",
       "   (14, 16),\n",
       "   (15, 16),\n",
       "   (16, 20),\n",
       "   (17, 20),\n",
       "   (18, 20),\n",
       "   (19, 20),\n",
       "   (20, 24),\n",
       "   (21, 24),\n",
       "   (22, 24),\n",
       "   (23, 24),\n",
       "   (24, 28),\n",
       "   (25, 28),\n",
       "   (26, 28),\n",
       "   (27, 28),\n",
       "   (28, 32),\n",
       "   (29, 32),\n",
       "   (30, 32),\n",
       "   (31, 32),\n",
       "   (32, 36),\n",
       "   (33, 36),\n",
       "   (34, 36),\n",
       "   (35, 36),\n",
       "   (36, 40),\n",
       "   (37, 40),\n",
       "   (38, 40),\n",
       "   (39, 40),\n",
       "   (40, 44),\n",
       "   (41, 44),\n",
       "   (42, 44),\n",
       "   (43, 44),\n",
       "   (44, 48),\n",
       "   (45, 48),\n",
       "   (46, 48),\n",
       "   (47, 48),\n",
       "   (48, 52),\n",
       "   (49, 52),\n",
       "   (50, 52),\n",
       "   (51, 52),\n",
       "   (52, 56),\n",
       "   (53, 56),\n",
       "   (54, 56),\n",
       "   (55, 56),\n",
       "   (56, 60),\n",
       "   (57, 60),\n",
       "   (58, 60),\n",
       "   (59, 60),\n",
       "   (60, 64),\n",
       "   (61, 64),\n",
       "   (62, 64),\n",
       "   (63, 64),\n",
       "   (64, 68),\n",
       "   (65, 68),\n",
       "   (66, 68),\n",
       "   (67, 68),\n",
       "   (68, 72),\n",
       "   (69, 72),\n",
       "   (70, 72),\n",
       "   (71, 72),\n",
       "   (72, 76),\n",
       "   (73, 76),\n",
       "   (74, 76),\n",
       "   (75, 76),\n",
       "   (76, 80),\n",
       "   (77, 80),\n",
       "   (78, 80),\n",
       "   (79, 80),\n",
       "   (80, 84),\n",
       "   (81, 84),\n",
       "   (82, 84),\n",
       "   (83, 84),\n",
       "   (84, 88),\n",
       "   (85, 88),\n",
       "   (86, 88),\n",
       "   (87, 88),\n",
       "   (88, 92),\n",
       "   (89, 92),\n",
       "   (90, 92),\n",
       "   (91, 92),\n",
       "   (92, 96),\n",
       "   (93, 96),\n",
       "   (94, 96),\n",
       "   (95, 96),\n",
       "   (96, 100),\n",
       "   (97, 100),\n",
       "   (98, 100)],\n",
       "  476: [(0, 4),\n",
       "   (1, 4),\n",
       "   (2, 4),\n",
       "   (3, 4),\n",
       "   (4, 8),\n",
       "   (5, 8),\n",
       "   (6, 8),\n",
       "   (7, 8),\n",
       "   (8, 12),\n",
       "   (9, 12),\n",
       "   (10, 12),\n",
       "   (11, 12),\n",
       "   (12, 16),\n",
       "   (13, 16),\n",
       "   (14, 16),\n",
       "   (15, 16),\n",
       "   (16, 20),\n",
       "   (17, 20),\n",
       "   (18, 20),\n",
       "   (19, 20),\n",
       "   (20, 24),\n",
       "   (21, 24),\n",
       "   (22, 24),\n",
       "   (23, 24),\n",
       "   (24, 28),\n",
       "   (25, 28),\n",
       "   (26, 28),\n",
       "   (27, 28),\n",
       "   (28, 32),\n",
       "   (29, 32),\n",
       "   (30, 32),\n",
       "   (31, 32),\n",
       "   (32, 36),\n",
       "   (33, 36),\n",
       "   (34, 36),\n",
       "   (35, 36),\n",
       "   (36, 40),\n",
       "   (37, 40),\n",
       "   (38, 40),\n",
       "   (39, 40),\n",
       "   (40, 44),\n",
       "   (41, 44),\n",
       "   (42, 44),\n",
       "   (43, 44),\n",
       "   (44, 48),\n",
       "   (45, 48),\n",
       "   (46, 48),\n",
       "   (47, 48),\n",
       "   (48, 52),\n",
       "   (49, 52),\n",
       "   (50, 52),\n",
       "   (51, 52),\n",
       "   (52, 56),\n",
       "   (53, 56),\n",
       "   (54, 56),\n",
       "   (55, 56),\n",
       "   (56, 60),\n",
       "   (57, 60),\n",
       "   (58, 60),\n",
       "   (59, 60),\n",
       "   (60, 64),\n",
       "   (61, 64),\n",
       "   (62, 64),\n",
       "   (63, 64),\n",
       "   (64, 68),\n",
       "   (65, 68),\n",
       "   (66, 68),\n",
       "   (67, 68),\n",
       "   (68, 72),\n",
       "   (69, 72),\n",
       "   (70, 72),\n",
       "   (71, 72),\n",
       "   (72, 76),\n",
       "   (73, 76),\n",
       "   (74, 76),\n",
       "   (75, 76),\n",
       "   (76, 80),\n",
       "   (77, 80),\n",
       "   (78, 80),\n",
       "   (79, 80),\n",
       "   (80, 84),\n",
       "   (81, 84),\n",
       "   (82, 84),\n",
       "   (83, 84),\n",
       "   (84, 88),\n",
       "   (85, 88),\n",
       "   (86, 88),\n",
       "   (87, 88),\n",
       "   (88, 92),\n",
       "   (89, 92),\n",
       "   (90, 92),\n",
       "   (91, 92),\n",
       "   (92, 96),\n",
       "   (93, 96),\n",
       "   (94, 96),\n",
       "   (95, 96),\n",
       "   (96, 100),\n",
       "   (97, 100),\n",
       "   (98, 100)],\n",
       "  477: 8,\n",
       "  478: [(0, 4),\n",
       "   (1, 4),\n",
       "   (2, 4),\n",
       "   (3, 4),\n",
       "   (4, 8),\n",
       "   (5, 8),\n",
       "   (6, 8),\n",
       "   (7, 8),\n",
       "   (8, 12),\n",
       "   (9, 12),\n",
       "   (10, 12),\n",
       "   (11, 12),\n",
       "   (12, 16),\n",
       "   (13, 16),\n",
       "   (14, 16),\n",
       "   (15, 16),\n",
       "   (16, 20),\n",
       "   (17, 20),\n",
       "   (18, 20),\n",
       "   (19, 20),\n",
       "   (20, 24),\n",
       "   (21, 24),\n",
       "   (22, 24),\n",
       "   (23, 24),\n",
       "   (24, 28),\n",
       "   (25, 28),\n",
       "   (26, 28),\n",
       "   (27, 28),\n",
       "   (28, 32),\n",
       "   (29, 32),\n",
       "   (30, 32),\n",
       "   (31, 32),\n",
       "   (32, 36),\n",
       "   (33, 36),\n",
       "   (34, 36),\n",
       "   (35, 36),\n",
       "   (36, 40),\n",
       "   (37, 40),\n",
       "   (38, 40),\n",
       "   (39, 40),\n",
       "   (40, 44),\n",
       "   (41, 44),\n",
       "   (42, 44),\n",
       "   (43, 44),\n",
       "   (44, 48),\n",
       "   (45, 48),\n",
       "   (46, 48),\n",
       "   (47, 48),\n",
       "   (48, 52),\n",
       "   (49, 52),\n",
       "   (50, 52),\n",
       "   (51, 52),\n",
       "   (52, 56),\n",
       "   (53, 56),\n",
       "   (54, 56),\n",
       "   (55, 56),\n",
       "   (56, 60),\n",
       "   (57, 60),\n",
       "   (58, 60),\n",
       "   (59, 60),\n",
       "   (60, 64),\n",
       "   (61, 64),\n",
       "   (62, 64),\n",
       "   (63, 64),\n",
       "   (64, 68),\n",
       "   (65, 68),\n",
       "   (66, 68),\n",
       "   (67, 68),\n",
       "   (68, 72),\n",
       "   (69, 72),\n",
       "   (70, 72),\n",
       "   (71, 72),\n",
       "   (72, 76),\n",
       "   (73, 76),\n",
       "   (74, 76),\n",
       "   (75, 76),\n",
       "   (76, 80),\n",
       "   (77, 80),\n",
       "   (78, 80),\n",
       "   (79, 80),\n",
       "   (80, 84),\n",
       "   (81, 84),\n",
       "   (82, 84),\n",
       "   (83, 84),\n",
       "   (84, 88),\n",
       "   (85, 88),\n",
       "   (86, 88),\n",
       "   (87, 88),\n",
       "   (88, 92),\n",
       "   (89, 92),\n",
       "   (90, 92),\n",
       "   (91, 92),\n",
       "   (92, 96),\n",
       "   (93, 96),\n",
       "   (94, 96),\n",
       "   (95, 96),\n",
       "   (96, 100),\n",
       "   (97, 100),\n",
       "   (98, 100)],\n",
       "  479: [(0, 0),\n",
       "   (1, 4),\n",
       "   (2, 4),\n",
       "   (3, 4),\n",
       "   (4, 4),\n",
       "   (5, 8),\n",
       "   (6, 8),\n",
       "   (7, 8),\n",
       "   (8, 8),\n",
       "   (9, 12),\n",
       "   (10, 12),\n",
       "   (11, 12),\n",
       "   (12, 12),\n",
       "   (13, 16),\n",
       "   (14, 16),\n",
       "   (15, 16),\n",
       "   (16, 16),\n",
       "   (17, 20),\n",
       "   (18, 20),\n",
       "   (19, 20),\n",
       "   (20, 20),\n",
       "   (21, 24),\n",
       "   (22, 24),\n",
       "   (23, 24),\n",
       "   (24, 24),\n",
       "   (25, 28),\n",
       "   (26, 28),\n",
       "   (27, 28),\n",
       "   (28, 28),\n",
       "   (29, 32),\n",
       "   (30, 32),\n",
       "   (31, 32),\n",
       "   (32, 32),\n",
       "   (33, 36),\n",
       "   (34, 36),\n",
       "   (35, 36),\n",
       "   (36, 36),\n",
       "   (37, 40),\n",
       "   (38, 40),\n",
       "   (39, 40),\n",
       "   (40, 40),\n",
       "   (41, 44),\n",
       "   (42, 44),\n",
       "   (43, 44),\n",
       "   (44, 44),\n",
       "   (45, 48),\n",
       "   (46, 48),\n",
       "   (47, 48),\n",
       "   (48, 48),\n",
       "   (49, 52),\n",
       "   (50, 52),\n",
       "   (51, 52),\n",
       "   (52, 52),\n",
       "   (53, 56),\n",
       "   (54, 56),\n",
       "   (55, 56),\n",
       "   (56, 56),\n",
       "   (57, 60),\n",
       "   (58, 60),\n",
       "   (59, 60),\n",
       "   (60, 60),\n",
       "   (61, 64),\n",
       "   (62, 64),\n",
       "   (63, 64),\n",
       "   (64, 64),\n",
       "   (65, 68),\n",
       "   (66, 68),\n",
       "   (67, 68),\n",
       "   (68, 68),\n",
       "   (69, 72),\n",
       "   (70, 72),\n",
       "   (71, 72),\n",
       "   (72, 72),\n",
       "   (73, 76),\n",
       "   (74, 76),\n",
       "   (75, 76),\n",
       "   (76, 76),\n",
       "   (77, 80),\n",
       "   (78, 80),\n",
       "   (79, 80),\n",
       "   (80, 80),\n",
       "   (81, 84),\n",
       "   (82, 84),\n",
       "   (83, 84),\n",
       "   (84, 84),\n",
       "   (85, 88),\n",
       "   (86, 88),\n",
       "   (87, 88),\n",
       "   (88, 88),\n",
       "   (89, 92),\n",
       "   (90, 92),\n",
       "   (91, 92),\n",
       "   (92, 92),\n",
       "   (93, 96),\n",
       "   (94, 96),\n",
       "   (95, 96),\n",
       "   (96, 96),\n",
       "   (97, 100),\n",
       "   (98, 100),\n",
       "   (99, 100)],\n",
       "  480: b'\\xff\\xfea\\x00l\\x00i\\x00',\n",
       "  481: b'\\xff\\xfeh\\x00a\\x00b\\x00i\\x00l\\x00',\n",
       "  482: 12,\n",
       "  483: 16,\n",
       "  484: 14,\n",
       "  485: 12,\n",
       "  486: b'habil',\n",
       "  487: 5,\n",
       "  488: b'habil',\n",
       "  489: 12,\n",
       "  491: 0,\n",
       "  493: 2,\n",
       "  494: [(0, 0),\n",
       "   (1, 4),\n",
       "   (2, 4),\n",
       "   (3, 4),\n",
       "   (4, 4),\n",
       "   (5, 8),\n",
       "   (6, 8),\n",
       "   (7, 8),\n",
       "   (8, 8),\n",
       "   (9, 12)],\n",
       "  495: '0b1010',\n",
       "  496: 5,\n",
       "  497: 10,\n",
       "  498: -5,\n",
       "  499: '-0b1011',\n",
       "  500: -11,\n",
       "  501: 0,\n",
       "  502: 10,\n",
       "  503: -1,\n",
       "  504: -1,\n",
       "  505: 0,\n",
       "  506: 10,\n",
       "  507: -1,\n",
       "  508: 0,\n",
       "  509: 0,\n",
       "  510: 1,\n",
       "  511: 0,\n",
       "  512: 1,\n",
       "  513: '0b1',\n",
       "  514: '0b1',\n",
       "  515: '0b10',\n",
       "  516: 0,\n",
       "  517: '0b11',\n",
       "  518: 1,\n",
       "  519: 2,\n",
       "  520: 1,\n",
       "  521: 1,\n",
       "  522: 1,\n",
       "  523: 1,\n",
       "  524: ['0b0',\n",
       "   '0b1',\n",
       "   '0b10',\n",
       "   '0b11',\n",
       "   '0b100',\n",
       "   '0b101',\n",
       "   '0b110',\n",
       "   '0b111',\n",
       "   '0b1000',\n",
       "   '0b1001'],\n",
       "  525: [(0, '0b0'),\n",
       "   (1, '0b1'),\n",
       "   (2, '0b10'),\n",
       "   (3, '0b11'),\n",
       "   (4, '0b100'),\n",
       "   (5, '0b101'),\n",
       "   (6, '0b110'),\n",
       "   (7, '0b111'),\n",
       "   (8, '0b1000'),\n",
       "   (9, '0b1001')],\n",
       "  526: 228,\n",
       "  527: -228,\n",
       "  528: 228,\n",
       "  529: '0b11100',\n",
       "  530: '-0b11100',\n",
       "  531: -29,\n",
       "  532: '-0b11101',\n",
       "  533: 200,\n",
       "  534: 196,\n",
       "  535: 228,\n",
       "  536: 4294967295,\n",
       "  537: '0b11111111111111111111111111111111',\n",
       "  538: 34,\n",
       "  540: '0b11111111',\n",
       "  541: 255,\n",
       "  542: 12,\n",
       "  543: '0b11110',\n",
       "  544: 30,\n",
       "  545: 225,\n",
       "  546: 30,\n",
       "  547: 4294967265,\n",
       "  548: 4294967266,\n",
       "  549: 4294967296,\n",
       "  550: 4294967236,\n",
       "  551: -4294967266,\n",
       "  552: 4294967266,\n",
       "  553: '0b11111111111111111111111111100010',\n",
       "  554: 4294967294,\n",
       "  555: '0b110',\n",
       "  556: 6,\n",
       "  557: 249,\n",
       "  559: 10,\n",
       "  560: 249,\n",
       "  561: 255,\n",
       "  562: 250,\n",
       "  563: 256,\n",
       "  564: '-0b1010',\n",
       "  565: 0,\n",
       "  566: 1,\n",
       "  567: '0b1',\n",
       "  568: '0b11111111',\n",
       "  569: '0b11111111000011111111',\n",
       "  570: 8,\n",
       "  571: 1,\n",
       "  572: 0,\n",
       "  573: 1,\n",
       "  574: 3,\n",
       "  575: 29,\n",
       "  576: -4,\n",
       "  577: 4,\n",
       "  578: 0,\n",
       "  579: 0,\n",
       "  580: 3,\n",
       "  581: -5,\n",
       "  582: 1,\n",
       "  583: 3,\n",
       "  584: 7,\n",
       "  585: 0,\n",
       "  586: 1,\n",
       "  587: 8,\n",
       "  588: 8,\n",
       "  589: 29,\n",
       "  592: [(0, 0),\n",
       "   (1, 2),\n",
       "   (2, 4),\n",
       "   (3, 6),\n",
       "   (4, 4),\n",
       "   (5, 6),\n",
       "   (6, 8),\n",
       "   (7, 10),\n",
       "   (8, 8),\n",
       "   (9, 10),\n",
       "   (10, 12),\n",
       "   (11, 14),\n",
       "   (12, 12),\n",
       "   (13, 14),\n",
       "   (14, 16),\n",
       "   (15, 18),\n",
       "   (16, 16),\n",
       "   (17, 18),\n",
       "   (18, 20),\n",
       "   (19, 22)],\n",
       "  594: [(0, 0),\n",
       "   (1, 2),\n",
       "   (2, 4),\n",
       "   (3, 6),\n",
       "   (4, 4),\n",
       "   (5, 6),\n",
       "   (6, 8),\n",
       "   (7, 10),\n",
       "   (8, 8),\n",
       "   (9, 10),\n",
       "   (10, 12),\n",
       "   (11, 14),\n",
       "   (12, 12),\n",
       "   (13, 14),\n",
       "   (14, 16),\n",
       "   (15, 18),\n",
       "   (16, 16),\n",
       "   (17, 18),\n",
       "   (18, 20),\n",
       "   (19, 22)],\n",
       "  597: [(0, 0),\n",
       "   (1, 1),\n",
       "   (2, 2),\n",
       "   (3, 4),\n",
       "   (4, 4),\n",
       "   (5, 9),\n",
       "   (6, 10),\n",
       "   (7, 11),\n",
       "   (8, 8),\n",
       "   (9, 13),\n",
       "   (10, 14),\n",
       "   (11, 15),\n",
       "   (12, 12),\n",
       "   (13, 17),\n",
       "   (14, 18),\n",
       "   (15, 19),\n",
       "   (16, 16),\n",
       "   (17, 21),\n",
       "   (18, 22),\n",
       "   (19, 23)],\n",
       "  599: [(0, 0),\n",
       "   (1, 4),\n",
       "   (2, 4),\n",
       "   (3, 4),\n",
       "   (4, 4),\n",
       "   (5, 8),\n",
       "   (6, 8),\n",
       "   (7, 8),\n",
       "   (8, 8),\n",
       "   (9, 12),\n",
       "   (10, 12),\n",
       "   (11, 12),\n",
       "   (12, 12),\n",
       "   (13, 16),\n",
       "   (14, 16),\n",
       "   (15, 16),\n",
       "   (16, 16),\n",
       "   (17, 20),\n",
       "   (18, 20),\n",
       "   (19, 20)],\n",
       "  601: [(0, 0),\n",
       "   (1, 4),\n",
       "   (2, 4),\n",
       "   (3, 4),\n",
       "   (4, 4),\n",
       "   (5, 8),\n",
       "   (6, 8),\n",
       "   (7, 8),\n",
       "   (8, 8),\n",
       "   (9, 12),\n",
       "   (10, 12),\n",
       "   (11, 12),\n",
       "   (12, 12),\n",
       "   (13, 16),\n",
       "   (14, 16),\n",
       "   (15, 16),\n",
       "   (16, 16),\n",
       "   (17, 20),\n",
       "   (18, 20),\n",
       "   (19, 20)],\n",
       "  603: [(0, 0),\n",
       "   (1, 1),\n",
       "   (2, 4),\n",
       "   (3, 5),\n",
       "   (4, 4),\n",
       "   (5, 5),\n",
       "   (6, 8),\n",
       "   (7, 9),\n",
       "   (8, 8),\n",
       "   (9, 9),\n",
       "   (10, 12),\n",
       "   (11, 13),\n",
       "   (12, 12),\n",
       "   (13, 13),\n",
       "   (14, 16),\n",
       "   (15, 17),\n",
       "   (16, 16),\n",
       "   (17, 17),\n",
       "   (18, 20),\n",
       "   (19, 21)],\n",
       "  605: [(0, 0),\n",
       "   (1, 1),\n",
       "   (2, 4),\n",
       "   (3, 5),\n",
       "   (4, 4),\n",
       "   (5, 5),\n",
       "   (6, 8),\n",
       "   (7, 9),\n",
       "   (8, 8),\n",
       "   (9, 9),\n",
       "   (10, 12),\n",
       "   (11, 13),\n",
       "   (12, 12),\n",
       "   (13, 13),\n",
       "   (14, 16),\n",
       "   (15, 17),\n",
       "   (16, 16),\n",
       "   (17, 17),\n",
       "   (18, 20),\n",
       "   (19, 21)],\n",
       "  607: [(0, 0),\n",
       "   (1, 0),\n",
       "   (2, 4),\n",
       "   (3, 4),\n",
       "   (4, 4),\n",
       "   (5, 4),\n",
       "   (6, 8),\n",
       "   (7, 8),\n",
       "   (8, 8),\n",
       "   (9, 8),\n",
       "   (10, 12),\n",
       "   (11, 12),\n",
       "   (12, 12),\n",
       "   (13, 12),\n",
       "   (14, 16),\n",
       "   (15, 16),\n",
       "   (16, 16),\n",
       "   (17, 16),\n",
       "   (18, 20),\n",
       "   (19, 20)],\n",
       "  609: [(0, 0),\n",
       "   (1, 4),\n",
       "   (2, 4),\n",
       "   (3, 4),\n",
       "   (4, 4),\n",
       "   (5, 8),\n",
       "   (6, 8),\n",
       "   (7, 8),\n",
       "   (8, 8),\n",
       "   (9, 12),\n",
       "   (10, 12),\n",
       "   (11, 12),\n",
       "   (12, 12),\n",
       "   (13, 16),\n",
       "   (14, 16),\n",
       "   (15, 16),\n",
       "   (16, 16),\n",
       "   (17, 20),\n",
       "   (18, 20),\n",
       "   (19, 20)],\n",
       "  611: [(0, 0),\n",
       "   (1, 0),\n",
       "   (2, 4),\n",
       "   (3, 4),\n",
       "   (4, 4),\n",
       "   (5, 4),\n",
       "   (6, 8),\n",
       "   (7, 8),\n",
       "   (8, 8),\n",
       "   (9, 8),\n",
       "   (10, 12),\n",
       "   (11, 12),\n",
       "   (12, 12),\n",
       "   (13, 12),\n",
       "   (14, 16),\n",
       "   (15, 16),\n",
       "   (16, 16),\n",
       "   (17, 16),\n",
       "   (18, 20),\n",
       "   (19, 20)],\n",
       "  613: [(0, 0),\n",
       "   (1, 0),\n",
       "   (2, 0),\n",
       "   (3, 4),\n",
       "   (4, 4),\n",
       "   (5, 4),\n",
       "   (6, 4),\n",
       "   (7, 8),\n",
       "   (8, 8),\n",
       "   (9, 8),\n",
       "   (10, 8),\n",
       "   (11, 12),\n",
       "   (12, 12),\n",
       "   (13, 12),\n",
       "   (14, 12),\n",
       "   (15, 16),\n",
       "   (16, 16),\n",
       "   (17, 16),\n",
       "   (18, 16),\n",
       "   (19, 20)],\n",
       "  614: 4,\n",
       "  617: <function encodings.hex_codec.hex_encode(input, errors='strict')>,\n",
       "  620: (b'616c69', 3),\n",
       "  621: 6384745,\n",
       "  622: 'a',\n",
       "  623: 'l',\n",
       "  625: (b'ali', 6),\n",
       "  626: b'\\x00\\x00\\x00\\x0b',\n",
       "  627: (b'0000000b', 4),\n",
       "  630: (b'0000000b', 4),\n",
       "  631: (b'0000000b', 4),\n",
       "  632: b'\\x00\\x00\\x00\\x0b',\n",
       "  633: b'\\x00\\x00\\x00\\x16',\n",
       "  634: (b'00000016', 4),\n",
       "  635: b'00000016',\n",
       "  636: b'0',\n",
       "  637: b'00000016',\n",
       "  639: b'\\x00\\x00\\x00\\x16',\n",
       "  640: (22,),\n",
       "  650: (22,),\n",
       "  652: (22,),\n",
       "  654: 8,\n",
       "  655: 4.0,\n",
       "  658: 4,\n",
       "  659: '0000000B',\n",
       "  660: '00000016',\n",
       "  661: <function globals()>},\n",
       " 'get_ipython': <bound method InteractiveShell.get_ipython of <ipykernel.zmqshell.ZMQInteractiveShell object at 0x108d96220>>,\n",
       " 'exit': <IPython.core.autocall.ZMQExitAutocall at 0x108dbc190>,\n",
       " 'quit': <IPython.core.autocall.ZMQExitAutocall at 0x108dbc190>,\n",
       " '_': <function globals()>,\n",
       " '__': '00000016',\n",
       " '___': '0000000B',\n",
       " '_i': 'globals',\n",
       " '_ii': '\"%08X\" % 22',\n",
       " '_iii': '\"%08X\" % 11',\n",
       " '_i1': 'import struct',\n",
       " 'struct': <module 'struct' from '/Library/Frameworks/Python.framework/Versions/3.8/lib/python3.8/struct.py'>,\n",
       " '_i2': \"struct.unpack('!s', 'ali'.encode('hex'))\",\n",
       " '_i3': \"struct.unpack('!s', 'ali'.encode('utf-8'))\",\n",
       " '_i4': \"struct.unpack('!ss', 'ali'.encode('utf-8'))\",\n",
       " '_i5': \"struct.unpack('!sss', 'ali'.encode('utf-8'))\",\n",
       " '_5': (b'a', b'l', b'i'),\n",
       " '_i6': \"struct.unpack('!s{3}', 'ali'.encode('utf-8'))\",\n",
       " '_i7': \"struct.unpack('!s3', 'ali'.encode('utf-8'))\",\n",
       " '_i8': \"struct.unpack('!3s', 'ali'.encode('utf-8'))\",\n",
       " '_8': (b'ali',),\n",
       " '_i9': '0xfe',\n",
       " '_9': 254,\n",
       " '_i10': '0x19',\n",
       " '_10': 25,\n",
       " '_i11': 'x13',\n",
       " '_i12': 'ord(9)',\n",
       " '_i13': \"ord('9')\",\n",
       " '_13': 57,\n",
       " '_i14': \"len(b's')\",\n",
       " '_14': 1,\n",
       " '_i15': \"len(b'sa')\",\n",
       " '_15': 2,\n",
       " '_i16': \"len('sa'.encode('utf-8'))\",\n",
       " '_16': 2,\n",
       " '_i17': \"len('sa'.encode('utf-16'))\",\n",
       " '_17': 6,\n",
       " '_i18': \"struct.pack('hh1', (1, 2, 3))\",\n",
       " '_i19': \"struct.pack('hhh', (1, 2, 3))\",\n",
       " '_i20': \"struct.pack('3h', 1, 2, 3)\",\n",
       " '_20': b'\\x01\\x00\\x02\\x00\\x03\\x00',\n",
       " '_i21': \"struct.pack('3h1', 1, 2, 3)\",\n",
       " '_i22': \"struct.pack('2h1', 1, 2, 3)\",\n",
       " '_i23': \"struct.pack('2h1', 1, 2, 3)\",\n",
       " '_i24': \"struct.pack('hh1', 1, 2, 3)\",\n",
       " '_i25': \"struct.pack('hhh', 1, 2, 3)\",\n",
       " '_25': b'\\x01\\x00\\x02\\x00\\x03\\x00',\n",
       " '_i26': \"struct.calcsize('hh1')\",\n",
       " '_i27': \"struct.calcsize('hh')\",\n",
       " '_27': 4,\n",
       " '_i28': \"struct.pack('hh1', 1, 2, 3)\",\n",
       " '_i29': \"struct.pack('hhh', 1, 2, 3)\",\n",
       " '_29': b'\\x01\\x00\\x02\\x00\\x03\\x00',\n",
       " '_i30': \"struct.pack('hhh1, 1, 2, 3)\",\n",
       " '_i31': \"struct.pack('hhh1', 1, 2, 3)\",\n",
       " '_i32': \"struct.pack('hhhl', 1, 2, 3)\",\n",
       " '_i33': \"struct.pack('hhl', 1, 2, 3)\",\n",
       " '_33': b'\\x01\\x00\\x02\\x00\\x00\\x00\\x00\\x00\\x03\\x00\\x00\\x00\\x00\\x00\\x00\\x00',\n",
       " '_i34': \"struct.pack('hhl', 1, 2, 3)\",\n",
       " '_34': b'\\x01\\x00\\x02\\x00\\x00\\x00\\x00\\x00\\x03\\x00\\x00\\x00\\x00\\x00\\x00\\x00',\n",
       " '_i35': \"struct.calcsize('s')\",\n",
       " '_35': 1,\n",
       " '_i36': \"struct.calcsize('3s')\",\n",
       " '_36': 3,\n",
       " '_i37': \"struct.calcsize('4c')\",\n",
       " '_37': 4,\n",
       " '_i38': \"struct.calcsize('hh')\",\n",
       " '_38': 4,\n",
       " '_i39': \"struct.calcsize('hhl')\",\n",
       " '_39': 16,\n",
       " '_i40': \"struct.calcsize('!hhl')\",\n",
       " '_40': 8,\n",
       " '_i41': \"struct.calcsize('>hhl')\",\n",
       " '_41': 8,\n",
       " '_i42': \"struct.calcsize('!hhl')\",\n",
       " '_42': 8,\n",
       " '_i43': \"struct.pack('ci', b'*', 0x12131415)\",\n",
       " '_43': b'*\\x00\\x00\\x00\\x15\\x14\\x13\\x12',\n",
       " '_i44': \"struct.pack('ic', 0x12131415, b'*')\",\n",
       " '_44': b'\\x15\\x14\\x13\\x12*',\n",
       " '_i45': \"struct.calcsize('ci')\",\n",
       " '_45': 8,\n",
       " '_i46': \"struct.calcsize('ic')\",\n",
       " '_46': 5,\n",
       " '_i47': \"struct.unpack('<HHb', b'\\\\x32\\\\x12\\\\x08\\\\x01\\\\x08')\",\n",
       " '_47': (4658, 264, 8),\n",
       " '_i48': \"struct.pack('!HHb', 4658, 264, 8)\",\n",
       " '_48': b'\\x122\\x01\\x08\\x08',\n",
       " '_i49': \"struct.pack('<HHb', 4658, 264, 8)\",\n",
       " '_49': b'2\\x12\\x08\\x01\\x08',\n",
       " '_i50': \"struct.pack('<HHb', 4658, 264, 8)\",\n",
       " '_50': b'2\\x12\\x08\\x01\\x08',\n",
       " '_i51': \"struct.unpack('<HHb', b'2\\\\x12\\\\x08\\\\x01\\\\x08')\",\n",
       " '_51': (4658, 264, 8),\n",
       " '_i52': \"struct.unpack('<HHb', b'\\\\x32\\\\x12\\\\x08\\\\x01\\\\x08')\",\n",
       " '_52': (4658, 264, 8),\n",
       " '_i53': \"struct.unpack('<HHb', b'2\\\\x12\\\\x08\\\\x01\\\\x08')\",\n",
       " '_53': (4658, 264, 8),\n",
       " '_i54': \"struct.unpack('<HHb', b'\\\\x12\\\\x08\\\\x01\\\\x08')\",\n",
       " '_i55': \"struct.unpack('<Hb', b'\\\\x12\\\\x08\\\\x01\\\\x08')\",\n",
       " '_i56': \"struct.unpack('<HHb', b'2\\\\x12\\\\x08\\\\x01\\\\x08')\",\n",
       " '_56': (4658, 264, 8),\n",
       " '_i57': \"struct.unpack('<HHb', b'1\\\\x12\\\\x08\\\\x01\\\\x08')\",\n",
       " '_57': (4657, 264, 8),\n",
       " '_i58': \"struct.unpack('<HHb', b'1\\\\x11\\\\x08\\\\x01\\\\x08')\",\n",
       " '_58': (4401, 264, 8),\n",
       " '_i59': \"struct.unpack('<HHb', b'2\\\\x12\\\\x08\\\\x01\\\\x08')\",\n",
       " '_59': (4658, 264, 8),\n",
       " '_i60': '20x12',\n",
       " '_i61': '0x12',\n",
       " '_61': 18,\n",
       " '_i62': '2x12',\n",
       " '_i63': 'hex(4658)',\n",
       " '_63': '0x1232',\n",
       " '_i64': 'bin(hex(4658))',\n",
       " '_i65': 'bin(4658)',\n",
       " '_65': '0b1001000110010',\n",
       " '_i66': 'hex(2)',\n",
       " '_66': '0x2',\n",
       " '_i67': 'hex(212)',\n",
       " '_67': '0xd4',\n",
       " '_i68': \"int('2x12', 10)\",\n",
       " '_i69': \"int('212', 10)\",\n",
       " '_69': 212,\n",
       " '_i70': \"int('212', 16)\",\n",
       " '_70': 530,\n",
       " '_i71': \"int('4658', 16)\",\n",
       " '_71': 18008,\n",
       " '_i72': \"int('2x12', 16)\",\n",
       " '_i73': \"int('2x12', 2)\",\n",
       " '_i74': \"struct.unpack('<H', b'2\\\\x12')\",\n",
       " '_74': (4658,),\n",
       " '_i75': '0x12',\n",
       " '_75': 18,\n",
       " '_i76': \"struct.unpack('<H', b'2\\\\x11')\",\n",
       " '_76': (4402,),\n",
       " '_i77': \"struct.unpack('<H', b'2\\\\x12')\",\n",
       " '_77': (4658,),\n",
       " '_i78': 'char(0xc3)',\n",
       " '_i79': 'chr(0xc3)',\n",
       " '_79': 'Ã',\n",
       " '_i80': 'chr(0xb1)',\n",
       " '_80': '±',\n",
       " '_i81': \"struct.unpack('<H', b'3\\\\x12')\",\n",
       " '_81': (4659,),\n",
       " '_i82': \"struct.unpack('<H', b'4\\\\x12')\",\n",
       " '_82': (4660,),\n",
       " '_i83': \"struct.unpack('<H', b'2\\\\x12')\",\n",
       " '_83': (4658,),\n",
       " '_i84': \"struct.unpack('<H', b'\\\\x12')\",\n",
       " '_i85': \"struct.unpack('<c', b'\\\\x12')\",\n",
       " '_85': (b'\\x12',),\n",
       " '_i86': \"struct.unpack('<s', b'\\\\x12')\",\n",
       " '_86': (b'\\x12',),\n",
       " '_i87': 'chr(0x12)',\n",
       " '_87': '\\x12',\n",
       " '_i88': 'chr(0x46)',\n",
       " '_88': 'F',\n",
       " '_i89': 'chr(0x64)',\n",
       " '_89': 'd',\n",
       " '_i90': 'chr(0x12)',\n",
       " '_90': '\\x12',\n",
       " '_i91': 'bin(2)',\n",
       " '_91': '0b10',\n",
       " '_i92': 'bin(0x12)',\n",
       " '_92': '0b10010',\n",
       " '_i93': '0o12',\n",
       " '_93': 10,\n",
       " '_i94': '0b1010010',\n",
       " '_94': 82,\n",
       " '_i95': 'reversed(1010010)',\n",
       " '_i96': \"reversed(b'1010010')\",\n",
       " '_96': <reversed at 0x10900f700>,\n",
       " '_i97': '0b0100101',\n",
       " '_97': 37,\n",
       " '_i98': '0b0100101',\n",
       " '_98': 37,\n",
       " '_i99': '0b1001010',\n",
       " '_99': 74,\n",
       " '_i100': \"struct.pack('<I', 4658)\",\n",
       " '_100': b'2\\x12\\x00\\x00',\n",
       " '_i101': 'hex(4658)',\n",
       " '_101': '0x1232',\n",
       " '_i102': '0x12',\n",
       " '_102': 18,\n",
       " '_i103': '0x32',\n",
       " '_103': 50,\n",
       " '_i104': 'bin(0x1232)',\n",
       " '_104': '0b1001000110010',\n",
       " '_i105': 'bin(2)',\n",
       " '_105': '0b10',\n",
       " '_i106': '0b01000110010',\n",
       " '_106': 562,\n",
       " '_i107': \"struct.pack('<i', 4658)\",\n",
       " '_107': b'2\\x12\\x00\\x00',\n",
       " '_i108': \"struct.pack('>i', 4658)\",\n",
       " '_108': b'\\x00\\x00\\x122',\n",
       " '_i109': '0x122',\n",
       " '_109': 290,\n",
       " '_i110': 'bin(0x122)',\n",
       " '_110': '0b100100010',\n",
       " '_i111': 'bin(0)',\n",
       " '_111': '0b0',\n",
       " '_i112': '0b00100100010',\n",
       " '_112': 290,\n",
       " '_i113': '0b0000100100010',\n",
       " '_113': 290,\n",
       " '_i114': '0b00000000100100010',\n",
       " '_114': 290,\n",
       " '_i115': '0b0000000000000000100100010',\n",
       " '_115': 290,\n",
       " '_i116': '0b100100010',\n",
       " '_116': 290,\n",
       " '_i117': '0b10010001000',\n",
       " '_117': 1160,\n",
       " '_i118': '0b1001000100000',\n",
       " '_118': 4640,\n",
       " '_i119': '0b100100010000',\n",
       " '_119': 2320,\n",
       " '_i120': '0b10010001000',\n",
       " '_120': 1160,\n",
       " '_i121': 'bytes(2\\\\x12)',\n",
       " '_i122': \"bytes(b'2\\\\x12')\",\n",
       " '_122': b'2\\x12',\n",
       " '_i123': \"bytes(b'2\\\\x12').decode()\",\n",
       " '_123': '2\\x12',\n",
       " '_i124': 'bin(2)',\n",
       " '_124': '0b10',\n",
       " '_i125': 'bin(20)',\n",
       " '_125': '0b10100',\n",
       " '_i126': 'bin(120)',\n",
       " '_126': '0b1111000',\n",
       " '_i127': \"bin(b'\\\\x00\\\\x01\\\\x00\\\\x02')\",\n",
       " '_i128': '0x00',\n",
       " '_128': 0,\n",
       " '_i129': '0x01',\n",
       " '_129': 1,\n",
       " '_i130': '0x00',\n",
       " '_130': 0,\n",
       " '_i131': '0x02',\n",
       " '_131': 2,\n",
       " '_i132': 'bin(0x02)',\n",
       " '_132': '0b10',\n",
       " '_i133': 'bin(0x00)',\n",
       " '_133': '0b0',\n",
       " '_i134': 'bin(0x01)',\n",
       " '_134': '0b1',\n",
       " '_i135': 'bin(0x00)',\n",
       " '_135': '0b0',\n",
       " '_i136': '0b0000000',\n",
       " '_136': 0,\n",
       " '_i137': 'len(0b0000000)',\n",
       " '_i138': '0b0000000',\n",
       " '_138': 0,\n",
       " '_i139': '0b00000000',\n",
       " '_139': 0,\n",
       " '_i140': 'type(bytes(1))',\n",
       " '_140': bytes,\n",
       " '_i141': 'type(bytes([1, 2]))',\n",
       " '_141': bytes,\n",
       " '_i142': 'bytes([1, 2]',\n",
       " '_i143': 'bytes([1, 2])',\n",
       " '_143': b'\\x01\\x02',\n",
       " '_i144': 'bytes([1, 2, 3])',\n",
       " '_144': b'\\x01\\x02\\x03',\n",
       " '_i145': \"bytes([1, 2, 3, 'ali'])\",\n",
       " '_i146': \"bytes([1, 2, 3, b'ali'])\",\n",
       " '_i147': 'bytes([1, 2, 3])',\n",
       " '_147': b'\\x01\\x02\\x03',\n",
       " '_i148': \"bytes([1, 2, 3, 'b'])\",\n",
       " '_i149': 'bytes([1, 2, 3])',\n",
       " '_149': b'\\x01\\x02\\x03',\n",
       " '_i150': \"bytes('ali')\",\n",
       " '_i151': \"bytes(b'ali')\",\n",
       " '_151': b'ali',\n",
       " '_i152': \"bytes([b'ali'])\",\n",
       " '_i153': \"bytes(b'ali', b'a')\",\n",
       " '_i154': \"bytes(b'ali')\",\n",
       " '_154': b'ali',\n",
       " '_i155': \"struct.pack('>h',1)\",\n",
       " '_155': b'\\x00\\x01',\n",
       " '_i156': 'bin(1)',\n",
       " '_156': '0b1',\n",
       " '_i157': \"struct.pack('>h',1)\",\n",
       " '_157': b'\\x00\\x01',\n",
       " '_i158': \"struct.pack('>h',2)\",\n",
       " '_158': b'\\x00\\x02',\n",
       " '_i159': 'bin(2)',\n",
       " '_159': '0b10',\n",
       " '_i160': 'hex(2)',\n",
       " '_160': '0x2',\n",
       " '_i161': 'hex(1)',\n",
       " '_161': '0x1',\n",
       " '_i162': \"struct.pack('<h',2)\",\n",
       " '_162': b'\\x02\\x00',\n",
       " '_i163': 'hex(250)',\n",
       " '_163': '0xfa',\n",
       " '_i164': 'hex(255)',\n",
       " '_164': '0xff',\n",
       " '_i165': 'hex(256)',\n",
       " '_165': '0x100',\n",
       " '_i166': \"struct.pack('<h',256)\",\n",
       " '_166': b'\\x00\\x01',\n",
       " '_i167': \"struct.pack('>h',256)\",\n",
       " '_167': b'\\x01\\x00',\n",
       " '_i168': \"struct.pack('>h',255)\",\n",
       " '_168': b'\\x00\\xff',\n",
       " '_i169': \"struct.pack('>h',257)\",\n",
       " '_169': b'\\x01\\x01',\n",
       " '_i170': \"struct.pack('>h',256)\",\n",
       " '_170': b'\\x01\\x00',\n",
       " '_i171': 'hex(257)',\n",
       " '_171': '0x101',\n",
       " '_i172': 'hex(255)',\n",
       " '_172': '0xff',\n",
       " '_i173': 'hex(256)',\n",
       " '_173': '0x100',\n",
       " '_i174': 'hex(4586)',\n",
       " '_174': '0x11ea',\n",
       " '_i175': 'hex(4658)',\n",
       " '_175': '0x1232',\n",
       " '_i176': \"struct.pack('>h', 4658)\",\n",
       " '_176': b'\\x122',\n",
       " '_i177': \"struct.pack('h', 4658)\",\n",
       " '_177': b'2\\x12',\n",
       " '_i178': \"struct.pack('h', 256)\",\n",
       " '_178': b'\\x00\\x01',\n",
       " '_i179': \"struct.pack('h', 500)\",\n",
       " '_179': b'\\xf4\\x01',\n",
       " '_i180': \"struct.pack('h', 512)\",\n",
       " '_180': b'\\x00\\x02',\n",
       " '_i181': 'hex(512)',\n",
       " '_181': '0x200',\n",
       " '_i182': \"struct.pack('<h', 512)\",\n",
       " '_182': b'\\x00\\x02',\n",
       " '_i183': \"struct.pack('>h', 512)\",\n",
       " '_183': b'\\x02\\x00',\n",
       " '_i184': \"struct.pack('>h', 513)\",\n",
       " '_184': b'\\x02\\x01',\n",
       " '_i185': 'hex(513)',\n",
       " '_185': '0x201',\n",
       " '_i186': '0x0201',\n",
       " '_186': 513,\n",
       " '_i187': '0x0010002',\n",
       " '_187': 65538,\n",
       " '_i188': '0x00010002',\n",
       " '_188': 65538,\n",
       " '_i189': '0x0010002',\n",
       " '_189': 65538,\n",
       " '_i190': '0x212',\n",
       " '_190': 530,\n",
       " '_i191': '0x2',\n",
       " '_191': 2,\n",
       " '_i192': '0x212',\n",
       " '_192': 530,\n",
       " '_i193': '0x21208',\n",
       " '_193': 135688,\n",
       " '_i194': '0x021208',\n",
       " '_194': 135688,\n",
       " '_i195': '0x0212',\n",
       " '_195': 530,\n",
       " '_i196': '0x0108',\n",
       " '_196': 264,\n",
       " '_i197': '0x12',\n",
       " '_197': 18,\n",
       " '_i198': 'hex(2)',\n",
       " '_198': '0x2',\n",
       " '_i199': 'x2\\\\x12\\\\x08\\\\x01\\\\x08',\n",
       " '_i200': '\\\\x2\\\\x12\\\\x08\\\\x01\\\\x08',\n",
       " '_i201': '\\\\x02\\\\x12\\\\x08\\\\x01\\\\x08',\n",
       " '_i202': \"struct.unpack('<HH', 'b''\\\\x02\\\\x12\\\\x08\\\\x01\\\\x08')\",\n",
       " '_i203': \"struct.unpack('<HH', b'\\\\x02\\\\x12\\\\x08\\\\x01\\\\x08')\",\n",
       " '_i204': \"struct.unpack('<HHH', b'\\\\x02\\\\x12\\\\x08\\\\x01\\\\x08')\",\n",
       " '_i205': \"struct.unpack('<HHH', b'2\\\\x12\\\\x08\\\\x01\\\\x08')\",\n",
       " '_i206': \"struct.unpack('<hh', b'2\\\\x12\\\\x08\\\\x01\\\\x08')\",\n",
       " '_i207': \"struct.unpack('<hhh', b'2\\\\x12\\\\x08\\\\x01\\\\x08')\",\n",
       " '_i208': \"struct.unpack('<HHb', b'2\\\\x12\\\\x08\\\\x01\\\\x08')\",\n",
       " '_208': (4658, 264, 8),\n",
       " '_i209': \"struct.unpack('>HHb', b'2\\\\x12\\\\x08\\\\x01\\\\x08')\",\n",
       " '_209': (12818, 2049, 8),\n",
       " '_i210': '0x212',\n",
       " '_210': 530,\n",
       " '_i211': '0x21208',\n",
       " '_211': 135688,\n",
       " '_i212': '0x0801',\n",
       " '_212': 2049,\n",
       " '_i213': '0x12',\n",
       " '_213': 18,\n",
       " '_i214': '0x2012',\n",
       " '_214': 8210,\n",
       " '_i215': '0x0212',\n",
       " '_215': 530,\n",
       " '_i216': \"struct.unpack('>HHb', b'x2\\\\x12\\\\x08\\\\x01\\\\x08')\",\n",
       " '_i217': \"struct.unpack('>HHb', b'\\\\x2\\\\x12\\\\x08\\\\x01\\\\x08')\",\n",
       " '_i218': \"struct.unpack('>HHb', b'2\\\\x12\\\\x08\\\\x01\\\\x08')\",\n",
       " '_218': (12818, 2049, 8),\n",
       " '_i219': \"struct.unpack('>HH', b'2\\\\x12\\\\x08\\\\x01\\\\x08')\",\n",
       " '_i220': \"struct.unpack('>HHb', b'2\\\\x12\\\\x08\\\\x01\\\\x08')\",\n",
       " '_220': (12818, 2049, 8),\n",
       " '_i221': \"struct.pack('>HH', 4658)\",\n",
       " '_i222': \"struct.pack('>H', 4658)\",\n",
       " '_222': b'\\x122',\n",
       " '_i223': \"struct.pack('>I', 4658)\",\n",
       " '_223': b'\\x00\\x00\\x122',\n",
       " '_i224': \"struct.pack('>H', 4658)\",\n",
       " '_224': b'\\x122',\n",
       " '_i225': '0x122',\n",
       " '_225': 290,\n",
       " '_i226': \"struct.pack('>HH', 4658)\",\n",
       " '_i227': \"struct.pack('>I', 4658)\",\n",
       " '_227': b'\\x00\\x00\\x122',\n",
       " '_i228': '0x0000122',\n",
       " '_228': 290,\n",
       " '_i229': \"struct.pack('!I', 4658)\",\n",
       " '_229': b'\\x00\\x00\\x122',\n",
       " '_i230': \"struct.pack('!I', 4658)\",\n",
       " '_230': b'\\x00\\x00\\x122',\n",
       " '_i231': \"struct.pack('!B', 4658)\",\n",
       " '_i232': '2^16',\n",
       " '_232': 18,\n",
       " '_i233': 'pow(2, 16)',\n",
       " '_233': 65536,\n",
       " '_i234': \"struct.pack('@I', 4658)\",\n",
       " '_234': b'2\\x12\\x00\\x00',\n",
       " '_i235': \"struct.pack('>I', 4658)\",\n",
       " '_235': b'\\x00\\x00\\x122',\n",
       " '_i236': \"struct.pack('!h', 4658)\",\n",
       " '_236': b'\\x122',\n",
       " '_i237': \"struct.pack('!H', 4658)\",\n",
       " '_237': b'\\x122',\n",
       " '_i238': \"struct.pack('@H', 4658)\",\n",
       " '_238': b'2\\x12',\n",
       " '_i239': '0x212',\n",
       " '_239': 530,\n",
       " '_i240': '0x0212',\n",
       " '_240': 530,\n",
       " '_i241': \"struct.pack('@H', 100)\",\n",
       " '_241': b'd\\x00',\n",
       " '_i242': '0xd',\n",
       " '_242': 13,\n",
       " '_i243': '0xd00',\n",
       " '_243': 3328,\n",
       " '_i244': '0x00d',\n",
       " '_244': 13,\n",
       " '_i245': \"struct.pack('>H', 100)\",\n",
       " '_245': b'\\x00d',\n",
       " '_i246': '0x0d',\n",
       " '_246': 13,\n",
       " '_i247': \"struct.pack('>H', 1)\",\n",
       " '_247': b'\\x00\\x01',\n",
       " '_i248': '0x0001',\n",
       " '_248': 1,\n",
       " '_i249': \"struct.pack('>H', 2)\",\n",
       " '_249': b'\\x00\\x02',\n",
       " '_i250': '0x0002',\n",
       " '_250': 2,\n",
       " '_i251': \"struct.pack('>H', 20)\",\n",
       " '_251': b'\\x00\\x14',\n",
       " '_i252': '0x0014',\n",
       " '_252': 20,\n",
       " '_i253': \"struct.pack('>H', 40)\",\n",
       " '_253': b'\\x00(',\n",
       " '_i254': '0x00(',\n",
       " '_i255': \"struct.pack('>H', 40)\",\n",
       " '_255': b'\\x00(',\n",
       " '_i256': \"struct.pack('>H', 41)\",\n",
       " '_256': b'\\x00)',\n",
       " '_i257': \"struct.pack('>H', 42)\",\n",
       " '_257': b'\\x00*',\n",
       " '_i258': \"print(struct.pack('>H', 42))\",\n",
       " '_i259': \"print(struct.pack('>H', 43))\",\n",
       " '_i260': \"print(struct.pack('>H', 50))\",\n",
       " '_i261': '0x02',\n",
       " '_261': 2,\n",
       " '_i262': '0x002',\n",
       " '_262': 2,\n",
       " '_i263': \"print(struct.pack('>H', 51))\",\n",
       " '_i264': 'chr(0x002)',\n",
       " '_264': '\\x02',\n",
       " '_i265': \"print(struct.pack('>H', 100))\",\n",
       " '_i266': \"print(struct.pack('>H', 255))\",\n",
       " '_i267': '0x00ff',\n",
       " '_267': 255,\n",
       " '_i268': \"print(struct.pack('>H', 254))\",\n",
       " '_i269': '0x00fe',\n",
       " '_269': 254,\n",
       " '_i270': \"print(struct.pack('>H', 150))\",\n",
       " '_i271': '0x0096',\n",
       " '_271': 150,\n",
       " '_i272': \"print(struct.pack('>H', 500))\",\n",
       " '_i273': \"print(struct.pack('>H', 1000))\",\n",
       " '_i274': '0x03e8',\n",
       " '_274': 1000,\n",
       " '_i275': \"print(struct.pack('>HH', 1000))\",\n",
       " '_i276': \"print(struct.pack('>I', 1000))\",\n",
       " '_i277': \"print(struct.pack('<I', 1000))\",\n",
       " '_i278': '0x08',\n",
       " '_278': 8,\n",
       " '_i279': '0x0801',\n",
       " '_279': 2049,\n",
       " '_i280': \"print(struct.pack('<h', 1000))\",\n",
       " '_i281': \"print(struct.pack('<H', 65536))\",\n",
       " '_i282': \"print(struct.pack('<H', 65535))\",\n",
       " '_i283': '0xffff',\n",
       " '_283': 65535,\n",
       " '_i284': \"print(struct.pack('<H', 65534))\",\n",
       " '_i285': '0xfeff',\n",
       " '_285': 65279,\n",
       " '_i286': '0xfffe',\n",
       " '_286': 65534,\n",
       " '_i287': \"print(struct.pack('>H', 65534))\",\n",
       " '_i288': '0xfffe',\n",
       " '_288': 65534,\n",
       " '_i289': \"struct.pack('>s', b'ali')\",\n",
       " '_289': b'a',\n",
       " '_i290': \"struct.pack('>3s', b'ali')\",\n",
       " '_290': b'ali',\n",
       " '_i291': \"struct.pack('>3s', 'ali'.encode('utf-8'))\",\n",
       " '_291': b'ali',\n",
       " '_i292': \"struct.pack('>3s', 'ali'.encode('utf-16'))\",\n",
       " '_292': b'\\xff\\xfea',\n",
       " '_i293': '0xfffea',\n",
       " '_293': 1048554,\n",
       " '_i294': 'chr(0xff)',\n",
       " '_294': 'ÿ',\n",
       " '_i295': 'chr(0xfffea)',\n",
       " '_295': '\\U000fffea',\n",
       " '_i296': 'chr(0xf)',\n",
       " '_296': '\\x0f',\n",
       " '_i297': \"struct.pack('>3s', 'ali'.encode('utf-8'))\",\n",
       " '_297': b'ali',\n",
       " '_i298': '0xfffea',\n",
       " '_298': 1048554,\n",
       " '_i299': 'chr(0xf)',\n",
       " '_299': '\\x0f',\n",
       " '_i300': \"struct.unpack('>HHb', b'\\\\x32\\\\x12\\\\x08\\\\x01\\\\x08')\",\n",
       " '_300': (12818, 2049, 8),\n",
       " '_i301': \"struct.unpack('<HHb', b'\\\\x32\\\\x12\\\\x08\\\\x01\\\\x08')\",\n",
       " '_301': (4658, 264, 8),\n",
       " '_i302': '0x0801',\n",
       " '_302': 2049,\n",
       " '_i303': '0x3212',\n",
       " '_303': 12818,\n",
       " '_i304': '0x32',\n",
       " '_304': 50,\n",
       " '_i305': \"struct.unpack('>HHb', b'\\\\x32\\\\x12\\\\x08\\\\x01\\\\x08')\",\n",
       " '_305': (12818, 2049, 8),\n",
       " '_i306': '0x3212',\n",
       " '_306': 12818,\n",
       " '_i307': '0x0801',\n",
       " '_307': 2049,\n",
       " '_i308': '0x08',\n",
       " '_308': 8,\n",
       " '_i309': \"struct.unpack('<HHb', b'\\\\x32\\\\x12\\\\x08\\\\x01\\\\x08')\",\n",
       " '_309': (4658, 264, 8),\n",
       " '_i310': '0x0801',\n",
       " '_310': 2049,\n",
       " '_i311': '0x0108',\n",
       " '_311': 264,\n",
       " '_i312': '0x1232',\n",
       " '_312': 4658,\n",
       " '_i313': '0x0108',\n",
       " '_313': 264,\n",
       " '_i314': '0x08',\n",
       " '_314': 8,\n",
       " '_i315': \"struct.iter_unpack('<3s', b'ali')\",\n",
       " '_315': <unpack_iterator at 0x109002540>,\n",
       " '_i316': \"struct.iter_unpack('<HHb', b'\\\\x32\\\\x12\\\\x08\\\\x01\\\\x08')\",\n",
       " '_316': <unpack_iterator at 0x109002840>,\n",
       " '_i317': \"next(struct.iter_unpack('<HHb', b'\\\\x32\\\\x12\\\\x08\\\\x01\\\\x08'))\",\n",
       " '_317': (4658, 264, 8),\n",
       " '_i318': \"next(struct.iter_unpack('<HHb', b'\\\\x32\\\\x12\\\\x08\\\\x01\\\\x08'))\",\n",
       " '_318': (4658, 264, 8),\n",
       " '_i319': \"next(struct.iter_unpack('<HHb', b'\\\\x32\\\\x12\\\\x08\\\\x01\\\\x08'))\\nnext(struct.iter_unpack('<HHb', b'\\\\x32\\\\x12\\\\x08\\\\x01\\\\x08'))\",\n",
       " '_319': (4658, 264, 8),\n",
       " '_i320': \"next(struct.iter_unpack('<HHb', b'\\\\x32\\\\x12\\\\x08\\\\x01\\\\x08'))\\nnext(struct.iter_unpack('<HHb', b'\\\\x32\\\\x12\\\\x08\\\\x01\\\\x08'))\",\n",
       " '_320': (4658, 264, 8),\n",
       " '_i321': \"next(struct.iter_unpack('<HHb', b'\\\\x32\\\\x12\\\\x08\\\\x01\\\\x08'))\\nnext(struct.iter_unpack('<HHb', b'\\\\x32\\\\x12\\\\x08\\\\x01\\\\x08'))\\nnext(struct.iter_unpack('<HHb', b'\\\\x32\\\\x12\\\\x08\\\\x01\\\\x08'))\",\n",
       " '_321': (4658, 264, 8),\n",
       " '_i322': \"*next(struct.iter_unpack('<HHb', b'\\\\x32\\\\x12\\\\x08\\\\x01\\\\x08'))\",\n",
       " '_i323': \"next(struct.iter_unpack('<HHb', b'\\\\x32\\\\x12\\\\x08\\\\x01\\\\x08'))\",\n",
       " '_323': (4658, 264, 8),\n",
       " '_i324': \"next(struct.iter_unpack('c', b'\\\\x32\\\\x12\\\\x08\\\\x01\\\\x08'))\",\n",
       " '_324': (b'2',),\n",
       " '_i325': \"next(struct.iter_unpack('c', b'\\\\x32\\\\x12\\\\x08\\\\x01\\\\x08'))\\nnext(struct.iter_unpack('<HHb', b'\\\\x32\\\\x12\\\\x08\\\\x01\\\\x08'))\",\n",
       " '_325': (4658, 264, 8),\n",
       " '_i326': \"next(struct.iter_unpack('c', b'\\\\x32\\\\x12\\\\x08\\\\x01\\\\x08'))\\nnext(struct.iter_unpack('c', b'\\\\x32\\\\x12\\\\x08\\\\x01\\\\x08'))\",\n",
       " '_326': (b'2',),\n",
       " '_i327': \"next(struct.iter_unpack('c', b'\\\\x32\\\\x12\\\\x08\\\\x01\\\\x08'))\\nnext(struct.iter_unpack('c', b'\\\\x32\\\\x12\\\\x08\\\\x01\\\\x08'))\\n\\nfor k in struct.iter_unpack('c', b'\\\\x32\\\\x12\\\\x08\\\\x01\\\\x08'):\\n    print(k)\",\n",
       " 'k': (b'5',),\n",
       " '_i328': \"for k in struct.iter_unpack('c', b'\\\\x32\\\\x12\\\\x08\\\\x01\\\\x08'):\\n    print(k)\",\n",
       " '_i329': '0x32',\n",
       " '_329': 50,\n",
       " '_i330': 'bin(0x32)',\n",
       " '_330': '0b110010',\n",
       " '_i331': '2',\n",
       " '_331': 2,\n",
       " '_i332': 'chr(0x32)',\n",
       " '_332': '2',\n",
       " '_i333': 'chr(0x12)',\n",
       " '_333': '\\x12',\n",
       " '_i334': \"for k in struct.iter_unpack('cc', b'\\\\x32\\\\x12\\\\x08\\\\x01\\\\x08'):\\n    print(k)\",\n",
       " '_i335': \"for k in struct.iter_unpack('cc', b'\\\\x32\\\\x12\\\\x08\\\\x01\\\\x08\\\\x08'):\\n    print(k)\",\n",
       " '_i336': 'import codecs',\n",
       " 'codecs': <module 'codecs' from '/Library/Frameworks/Python.framework/Versions/3.8/lib/python3.8/codecs.py'>,\n",
       " '_i337': 'codecs.getencoder(\"utf_8\")',\n",
       " '_337': <function _codecs.utf_8_encode(str, errors=None, /)>,\n",
       " '_i338': 'codecs.getencoder(\"utf_8\").encode(\\'ali\\')',\n",
       " '_i339': \"b'\\\\x32\\\\x12\\\\x08\\\\x01\\\\x08\\\\x08'[:2]\",\n",
       " '_339': b'2\\x12',\n",
       " '_i340': \"b'0x321208010808'\",\n",
       " '_340': b'0x321208010808',\n",
       " '_i341': \"b'321208010808'[:2]\",\n",
       " '_341': b'32',\n",
       " '_i342': \"struck.unpack('>h', b'\\\\x32')\",\n",
       " '_i343': \"struct.unpack('>h', b'\\\\x32')\",\n",
       " '_i344': \"struct.unpack('>c', b'\\\\x32')\",\n",
       " '_344': (b'2',),\n",
       " '_i345': \"struct.unpack('>c', b'\\\\x32')[0]\",\n",
       " '_345': b'2',\n",
       " '_i346': 'def calc_padding(msg_len):\\n    return (msg_len+3)&~3 ',\n",
       " 'calc_padding': <function __main__.calc_padding(msg_len)>,\n",
       " '_i347': 'calc_padding(3)',\n",
       " '_347': 4,\n",
       " '_i348': '(3+3)&~3',\n",
       " '_348': 4,\n",
       " '_i349': '6~3',\n",
       " '_i350': '6&3',\n",
       " '_350': 2,\n",
       " '_i351': 'bin(6)',\n",
       " '_351': '0b110',\n",
       " '_i352': 'bin(3)',\n",
       " '_352': '0b11',\n",
       " '_i353': '~3',\n",
       " '_353': -4,\n",
       " '_i354': 'bin(3)',\n",
       " '_354': '0b11',\n",
       " '_i355': '0b110000',\n",
       " '_355': 48,\n",
       " '_i356': '0b000011',\n",
       " '_356': 3,\n",
       " '_i357': '0b111100',\n",
       " '_357': 60,\n",
       " '_i358': '0b1111',\n",
       " '_358': 15,\n",
       " '_i359': 'bin(-4)',\n",
       " '_359': '-0b100',\n",
       " '_i360': 'bin(~3)',\n",
       " '_360': '-0b100',\n",
       " '_i361': 'for k in struck.unpack(\\'c\\', b\"\"\"2163bc1d0ad82371f6bc09484133c3f09ad74a0dd5346d54195a7cf0b35\\n         2cabc881839a4fdcfbc1769e2677a4c1fb499284c5f70b48f58503a45c5\\n         c2d6943f82d5930f2b7c1da640f476f0e9c9572a50db8ea6e51e1c2c7bd\\n         f8bb43dc995144b8dbe297ac739493946803e1cee3e15d9b765008a1b2a\\n         cf4ac777c80041d72c01e691cf751dbf86e85f509f3988e5875dc905119\\n         26841f00f0e29a6d1ddc1a842289d440268681e052b30fb638045f7779c\\n         1d873c784f054f688f5001559ecff64865ef975f3e60d2fd7966b8c7f92\"\"\").iter_pack:\\n    print(k)',\n",
       " '_i362': 'for k in struct.unpack(\\'c\\', b\"\"\"2163bc1d0ad82371f6bc09484133c3f09ad74a0dd5346d54195a7cf0b35\\n         2cabc881839a4fdcfbc1769e2677a4c1fb499284c5f70b48f58503a45c5\\n         c2d6943f82d5930f2b7c1da640f476f0e9c9572a50db8ea6e51e1c2c7bd\\n         f8bb43dc995144b8dbe297ac739493946803e1cee3e15d9b765008a1b2a\\n         cf4ac777c80041d72c01e691cf751dbf86e85f509f3988e5875dc905119\\n         26841f00f0e29a6d1ddc1a842289d440268681e052b30fb638045f7779c\\n         1d873c784f054f688f5001559ecff64865ef975f3e60d2fd7966b8c7f92\"\"\").iter_pack:\\n    print(k)',\n",
       " '_i363': 'for k in struct.unpack(\\'cc\\', b\"\"\"2163bc1d0ad82371f6bc09484133c3f09ad74a0dd5346d54195a7cf0b35\\n         2cabc881839a4fdcfbc1769e2677a4c1fb499284c5f70b48f58503a45c5\\n         c2d6943f82d5930f2b7c1da640f476f0e9c9572a50db8ea6e51e1c2c7bd\\n         f8bb43dc995144b8dbe297ac739493946803e1cee3e15d9b765008a1b2a\\n         cf4ac777c80041d72c01e691cf751dbf86e85f509f3988e5875dc905119\\n         26841f00f0e29a6d1ddc1a842289d440268681e052b30fb638045f7779c\\n         1d873c784f054f688f5001559ecff64865ef975f3e60d2fd7966b8c7f92\"\"\").iter_pack:\\n    print(k)',\n",
       " '_i364': \"for k in struct.unpack('c', b'2163bc1d0ad82371f6bc09484133c3f09ad74a0dd5346d54195a7cf0b35').iter_pack:\\n    print(k)\",\n",
       " '_i365': \"for k in struct.unpack('c', b'\\\\x21\\\\x63\\\\xbc\\\\x1d\\\\x0a\\\\xd8\\\\x23\\\\x71\\\\xf6\\\\xbc\\\\x09\\\\x48\\\\x41\\\\x33\\\\xc3\\\\xf0\\\\x9a').iter_pack:\\n    print(k)\",\n",
       " '_i366': \"for k in struct.unpack('c', b'\\\\x21\\\\x63\\\\xbc\\\\x1d\\\\x0a\\\\xd8\\\\x23\\\\x71\\\\xf6\\\\xbc\\\\x09\\\\x48\\\\x41\\\\x33\\\\xc3\\\\xf0\\\\x9a').iter_unpack:\\n    print(k)\",\n",
       " '_i367': \"for k in struct.unpack('c', b'\\\\x21\\\\x63\\\\xbc\\\\x1d\\\\x0a\\\\xd8\\\\x23\\\\x71\\\\xf6\\\\xbc\\\\x09\\\\x48\\\\x41\\\\x33\\\\xc3\\\\xf0\\\\x9a').iter_unpack():\\n    print(k)\",\n",
       " '_i368': \"for k in struct.iter_unpack('c', b'\\\\x21\\\\x63\\\\xbc\\\\x1d\\\\x0a\\\\xd8\\\\x23\\\\x71\\\\xf6\\\\xbc\\\\x09\\\\x48\\\\x41\\\\x33\\\\xc3\\\\xf0\\\\x9a'):\\n    print(k)\",\n",
       " '_i369': \"for k in struct.iter_unpack('>c', b'\\\\x21\\\\x63\\\\xbc\\\\x1d\\\\x0a\\\\xd8\\\\x23\\\\x71\\\\xf6\\\\xbc\\\\x09\\\\x48\\\\x41\\\\x33\\\\xc3\\\\xf0\\\\x9a'):\\n    print(k)\",\n",
       " '_i370': 'for k in struct.iter_unpack(\\'>c\\', b\"\"\"2163bc1d0ad82371f6bc09484133c3f09ad74a0dd5346d54195a7cf0b35\\n         2cabc881839a4fdcfbc1769e2677a4c1fb499284c5f70b48f58503a45c5\\n         c2d6943f82d5930f2b7c1da640f476f0e9c9572a50db8ea6e51e1c2c7bd\\n         f8bb43dc995144b8dbe297ac739493946803e1cee3e15d9b765008a1b2a\\n         cf4ac777c80041d72c01e691cf751dbf86e85f509f3988e5875dc905119\\n         26841f00f0e29a6d1ddc1a842289d440268681e052b30fb638045f7779c\\n         1d873c784f054f688f5001559ecff64865ef975f3e60d2fd7966b8c7f92\"\"\")',\n",
       " '_i371': \"for k in struct.iter_unpack('>c', b'2163bc1d0ad82371f6bc09484133c3f09ad74a0dd5346d54195a7cf0b35')\",\n",
       " '_i372': \"for k in struct.iter_unpack('>c', b'2163bc1d0ad82371f6bc09484133c3f09ad74a0dd5346d54195a7cf0b35'):\\n    print(k)\",\n",
       " '_i373': \"b'2163bc1d'\",\n",
       " '_373': b'2163bc1d',\n",
       " '_i374': \"struck.unpack('>I', b'2163bc1d')\",\n",
       " '_i375': \"struct.unpack('>I', b'2163bc1d')\",\n",
       " '_i376': \"struct.unpack('>I', b'\\\\x21\\\\x63\\\\xbc\\\\x1d')\",\n",
       " '_376': (560184349,),\n",
       " '_i377': \"struct.unpack('>c', b'0a')\",\n",
       " '_i378': \"struct.unpack('>c', b'\\\\x0a')\",\n",
       " '_378': (b'\\n',),\n",
       " '_i379': \"struct.unpack('>I', b'\\\\x0a')\",\n",
       " '_i380': \"struct.unpack('>h', b'\\\\x0a\\\\00')\",\n",
       " '_380': (2560,),\n",
       " '_i381': 'calc_padding(9)',\n",
       " '_381': 12,\n",
       " '_i382': 'calc_padding(8)',\n",
       " '_382': 8,\n",
       " '_i383': 'calc_padding(7)',\n",
       " '_383': 8,\n",
       " '_i384': 'calc_padding(4)',\n",
       " '_384': 4,\n",
       " '_i385': 'calc_padding(14)',\n",
       " '_385': 16,\n",
       " '_i386': 'calc_padding(18)',\n",
       " '_386': 20,\n",
       " '_i387': 'calc_padding(15)',\n",
       " '_387': 16,\n",
       " '_i388': 'calc_padding(20)',\n",
       " '_388': 20,\n",
       " '_i389': 'calc_padding(22)',\n",
       " '_389': 24,\n",
       " '_i390': 'list(map(calc_padding, range(100)))',\n",
       " '_390': [0,\n",
       "  4,\n",
       "  4,\n",
       "  4,\n",
       "  4,\n",
       "  8,\n",
       "  8,\n",
       "  8,\n",
       "  8,\n",
       "  12,\n",
       "  12,\n",
       "  12,\n",
       "  12,\n",
       "  16,\n",
       "  16,\n",
       "  16,\n",
       "  16,\n",
       "  20,\n",
       "  20,\n",
       "  20,\n",
       "  20,\n",
       "  24,\n",
       "  24,\n",
       "  24,\n",
       "  24,\n",
       "  28,\n",
       "  28,\n",
       "  28,\n",
       "  28,\n",
       "  32,\n",
       "  32,\n",
       "  32,\n",
       "  32,\n",
       "  36,\n",
       "  36,\n",
       "  36,\n",
       "  36,\n",
       "  40,\n",
       "  40,\n",
       "  40,\n",
       "  40,\n",
       "  44,\n",
       "  44,\n",
       "  44,\n",
       "  44,\n",
       "  48,\n",
       "  48,\n",
       "  48,\n",
       "  48,\n",
       "  52,\n",
       "  52,\n",
       "  52,\n",
       "  52,\n",
       "  56,\n",
       "  56,\n",
       "  56,\n",
       "  56,\n",
       "  60,\n",
       "  60,\n",
       "  60,\n",
       "  60,\n",
       "  64,\n",
       "  64,\n",
       "  64,\n",
       "  64,\n",
       "  68,\n",
       "  68,\n",
       "  68,\n",
       "  68,\n",
       "  72,\n",
       "  72,\n",
       "  72,\n",
       "  72,\n",
       "  76,\n",
       "  76,\n",
       "  76,\n",
       "  76,\n",
       "  80,\n",
       "  80,\n",
       "  80,\n",
       "  80,\n",
       "  84,\n",
       "  84,\n",
       "  84,\n",
       "  84,\n",
       "  88,\n",
       "  88,\n",
       "  88,\n",
       "  88,\n",
       "  92,\n",
       "  92,\n",
       "  92,\n",
       "  92,\n",
       "  96,\n",
       "  96,\n",
       "  96,\n",
       "  96,\n",
       "  100,\n",
       "  100,\n",
       "  100],\n",
       " '_i391': 'list(map(calc_padding, range(30)))',\n",
       " '_391': [0,\n",
       "  4,\n",
       "  4,\n",
       "  4,\n",
       "  4,\n",
       "  8,\n",
       "  8,\n",
       "  8,\n",
       "  8,\n",
       "  12,\n",
       "  12,\n",
       "  12,\n",
       "  12,\n",
       "  16,\n",
       "  16,\n",
       "  16,\n",
       "  16,\n",
       "  20,\n",
       "  20,\n",
       "  20,\n",
       "  20,\n",
       "  24,\n",
       "  24,\n",
       "  24,\n",
       "  24,\n",
       "  28,\n",
       "  28,\n",
       "  28,\n",
       "  28,\n",
       "  32],\n",
       " '_i392': 'list(enumerate(map(calc_padding, range(30))))',\n",
       " '_392': [(0, 0),\n",
       "  (1, 4),\n",
       "  (2, 4),\n",
       "  (3, 4),\n",
       "  (4, 4),\n",
       "  (5, 8),\n",
       "  (6, 8),\n",
       "  (7, 8),\n",
       "  (8, 8),\n",
       "  (9, 12),\n",
       "  (10, 12),\n",
       "  (11, 12),\n",
       "  (12, 12),\n",
       "  (13, 16),\n",
       "  (14, 16),\n",
       "  (15, 16),\n",
       "  (16, 16),\n",
       "  (17, 20),\n",
       "  (18, 20),\n",
       "  (19, 20),\n",
       "  (20, 20),\n",
       "  (21, 24),\n",
       "  (22, 24),\n",
       "  (23, 24),\n",
       "  (24, 24),\n",
       "  (25, 28),\n",
       "  (26, 28),\n",
       "  (27, 28),\n",
       "  (28, 28),\n",
       "  (29, 32)],\n",
       " '_i393': 'list(enumerate(map(calc_padding, range(40))))',\n",
       " '_393': [(0, 0),\n",
       "  (1, 4),\n",
       "  (2, 4),\n",
       "  (3, 4),\n",
       "  (4, 4),\n",
       "  (5, 8),\n",
       "  (6, 8),\n",
       "  (7, 8),\n",
       "  (8, 8),\n",
       "  (9, 12),\n",
       "  (10, 12),\n",
       "  (11, 12),\n",
       "  (12, 12),\n",
       "  (13, 16),\n",
       "  (14, 16),\n",
       "  (15, 16),\n",
       "  (16, 16),\n",
       "  (17, 20),\n",
       "  (18, 20),\n",
       "  (19, 20),\n",
       "  (20, 20),\n",
       "  (21, 24),\n",
       "  (22, 24),\n",
       "  (23, 24),\n",
       "  (24, 24),\n",
       "  (25, 28),\n",
       "  (26, 28),\n",
       "  (27, 28),\n",
       "  (28, 28),\n",
       "  (29, 32),\n",
       "  (30, 32),\n",
       "  (31, 32),\n",
       "  (32, 32),\n",
       "  (33, 36),\n",
       "  (34, 36),\n",
       "  (35, 36),\n",
       "  (36, 36),\n",
       "  (37, 40),\n",
       "  (38, 40),\n",
       "  (39, 40)],\n",
       " '_i394': '64 |= 64',\n",
       " '_i395': '64 |= 64',\n",
       " '_i396': '64 |= 1',\n",
       " '_i397': '64 |=',\n",
       " '_i398': '|=',\n",
       " '_i399': '64 | 4',\n",
       " '_399': 68,\n",
       " '_i400': '1 << 3',\n",
       " '_400': 8,\n",
       " '_i401': 'bin(1<<3)',\n",
       " '_401': '0b1000',\n",
       " '_i402': 'bin(1<<2)',\n",
       " '_402': '0b100',\n",
       " '_i403': 'bin(8)',\n",
       " '_403': '0b1000',\n",
       " '_i404': 'bin(1<<1)',\n",
       " '_404': '0b10',\n",
       " '_i405': '1<<1',\n",
       " '_405': 2,\n",
       " '_i406': '1<<7',\n",
       " '_406': 128,\n",
       " '_i407': '1<<8',\n",
       " '_407': 256,\n",
       " '_i408': '1<<2',\n",
       " '_408': 4,\n",
       " '_i409': '1<<3',\n",
       " '_409': 8,\n",
       " '_i410': '1<<1',\n",
       " '_410': 2,\n",
       " '_i411': '1<<0',\n",
       " '_411': 1,\n",
       " '_i412': '1<<2',\n",
       " '_412': 4,\n",
       " '_i413': '1<<7',\n",
       " '_413': 128,\n",
       " '_i414': 'bin(1<<7)',\n",
       " '_414': '0b10000000',\n",
       " '_i415': 'bin(1<<8)',\n",
       " '_415': '0b100000000',\n",
       " '_i416': '1<<8',\n",
       " '_416': 256,\n",
       " '_i417': 'len(bin(1<<8))',\n",
       " '_417': 11,\n",
       " '_i418': 'len(bin(1<<8))-2',\n",
       " '_418': 9,\n",
       " '_i419': '1<<7',\n",
       " '_419': 128,\n",
       " '_i420': 'bin(128)',\n",
       " '_420': '0b10000000',\n",
       " '_i421': '0b111111',\n",
       " '_421': 63,\n",
       " '_i422': '0b11111111',\n",
       " '_422': 255,\n",
       " '_i423': '~128',\n",
       " '_423': -129,\n",
       " '_i424': '~3',\n",
       " '_424': -4,\n",
       " '_i425': '128+129',\n",
       " '_425': 257,\n",
       " '_i426': '~4',\n",
       " '_426': -5,\n",
       " '_i427': '~5',\n",
       " '_427': -6,\n",
       " '_i428': '0b00000011',\n",
       " '_428': 3,\n",
       " '_i429': '0011',\n",
       " '_i430': '0b0011',\n",
       " '_430': 3,\n",
       " '_i431': '10000000 | 100',\n",
       " '_431': 10000100,\n",
       " '_i432': '10000000 | 10000000',\n",
       " '_432': 10000000,\n",
       " '_i433': '10000000 | 10000001',\n",
       " '_433': 10000001,\n",
       " '_i434': '10000000 & 10000001',\n",
       " '_434': 10000000,\n",
       " '_i435': '10000000 $= 10000001',\n",
       " '_i436': '10000000 &= 10000001',\n",
       " '_i437': '10000000 | 10000001',\n",
       " '_437': 10000001,\n",
       " '_i438': 'def calc_padding(msg_len):\\n    return (msg_len+3)&~3 ',\n",
       " '_i439': '~4',\n",
       " '_439': -5,\n",
       " '_i440': '~3',\n",
       " '_440': -4,\n",
       " '_i441': 'bin(3)',\n",
       " '_441': '0b11',\n",
       " '_i442': 'bin(~3)',\n",
       " '_442': '-0b100',\n",
       " '_i443': '0b11-0b100',\n",
       " '_443': -1,\n",
       " '_i444': '(1+3)~3',\n",
       " '_i445': '(1+3)&~3',\n",
       " '_445': 4,\n",
       " '_i446': '(1+2)&~2',\n",
       " '_446': 1,\n",
       " '_i447': '0b11 & 0b100',\n",
       " '_447': 0,\n",
       " '_i448': '0b11 | 0b100',\n",
       " '_448': 7,\n",
       " '_i449': 'bin(0b11 | 0b100)',\n",
       " '_449': '0b111',\n",
       " '_i450': '~4',\n",
       " '_450': -5,\n",
       " '_i451': '3&~4',\n",
       " '_451': 3,\n",
       " '_i452': '3&~3',\n",
       " '_452': 0,\n",
       " '_i453': '4&~3',\n",
       " '_453': 4,\n",
       " '_i454': '5&~3',\n",
       " '_454': 4,\n",
       " '_i455': '6&~3',\n",
       " '_455': 4,\n",
       " '_i456': '(2+3)&~3',\n",
       " '_456': 4,\n",
       " '_i457': '(5+3)&~3',\n",
       " '_457': 8,\n",
       " '_i458': '~3',\n",
       " '_458': -4,\n",
       " '_i459': '7%4',\n",
       " '_459': 3,\n",
       " '_i460': '7+7%4',\n",
       " '_460': 10,\n",
       " '_i461': 'def calc_padding_new(msg_len):\\n    return msg_len + (4-msg_len%4)',\n",
       " 'calc_padding_new': <function __main__.calc_padding_new(msg_len)>,\n",
       " '_i462': 'calc_padding_new(10)',\n",
       " '_462': 12,\n",
       " '_i463': 'list(map(calc_padding_new, range(100)))',\n",
       " '_463': [4,\n",
       "  4,\n",
       "  4,\n",
       "  4,\n",
       "  8,\n",
       "  8,\n",
       "  8,\n",
       "  8,\n",
       "  12,\n",
       "  12,\n",
       "  12,\n",
       "  12,\n",
       "  16,\n",
       "  16,\n",
       "  16,\n",
       "  16,\n",
       "  20,\n",
       "  20,\n",
       "  20,\n",
       "  20,\n",
       "  24,\n",
       "  24,\n",
       "  24,\n",
       "  24,\n",
       "  28,\n",
       "  28,\n",
       "  28,\n",
       "  28,\n",
       "  32,\n",
       "  32,\n",
       "  32,\n",
       "  32,\n",
       "  36,\n",
       "  36,\n",
       "  36,\n",
       "  36,\n",
       "  40,\n",
       "  40,\n",
       "  40,\n",
       "  40,\n",
       "  44,\n",
       "  44,\n",
       "  44,\n",
       "  44,\n",
       "  48,\n",
       "  48,\n",
       "  48,\n",
       "  48,\n",
       "  52,\n",
       "  52,\n",
       "  52,\n",
       "  52,\n",
       "  56,\n",
       "  56,\n",
       "  56,\n",
       "  56,\n",
       "  60,\n",
       "  60,\n",
       "  60,\n",
       "  60,\n",
       "  64,\n",
       "  64,\n",
       "  64,\n",
       "  64,\n",
       "  68,\n",
       "  68,\n",
       "  68,\n",
       "  68,\n",
       "  72,\n",
       "  72,\n",
       "  72,\n",
       "  72,\n",
       "  76,\n",
       "  76,\n",
       "  76,\n",
       "  76,\n",
       "  80,\n",
       "  80,\n",
       "  80,\n",
       "  80,\n",
       "  84,\n",
       "  84,\n",
       "  84,\n",
       "  84,\n",
       "  88,\n",
       "  88,\n",
       "  88,\n",
       "  88,\n",
       "  92,\n",
       "  92,\n",
       "  92,\n",
       "  92,\n",
       "  96,\n",
       "  96,\n",
       "  96,\n",
       "  96,\n",
       "  100,\n",
       "  100,\n",
       "  100,\n",
       "  100],\n",
       " '_i464': 'def calc_padding_new(msg_len):\\n    if msg_len==0:\\n        return msg_len\\n    else:\\n        return msg_len + (4-msg_len%4)',\n",
       " '_i465': 'list(map(calc_padding_new, range(100)))',\n",
       " '_465': [0,\n",
       "  4,\n",
       "  4,\n",
       "  4,\n",
       "  8,\n",
       "  8,\n",
       "  8,\n",
       "  8,\n",
       "  12,\n",
       "  12,\n",
       "  12,\n",
       "  12,\n",
       "  16,\n",
       "  16,\n",
       "  16,\n",
       "  16,\n",
       "  20,\n",
       "  20,\n",
       "  20,\n",
       "  20,\n",
       "  24,\n",
       "  24,\n",
       "  24,\n",
       "  24,\n",
       "  28,\n",
       "  28,\n",
       "  28,\n",
       "  28,\n",
       "  32,\n",
       "  32,\n",
       "  32,\n",
       "  32,\n",
       "  36,\n",
       "  36,\n",
       "  36,\n",
       "  36,\n",
       "  40,\n",
       "  40,\n",
       "  40,\n",
       "  40,\n",
       "  44,\n",
       "  44,\n",
       "  44,\n",
       "  44,\n",
       "  48,\n",
       "  48,\n",
       "  48,\n",
       "  48,\n",
       "  52,\n",
       "  52,\n",
       "  52,\n",
       "  52,\n",
       "  56,\n",
       "  56,\n",
       "  56,\n",
       "  56,\n",
       "  60,\n",
       "  60,\n",
       "  60,\n",
       "  60,\n",
       "  64,\n",
       "  64,\n",
       "  64,\n",
       "  64,\n",
       "  68,\n",
       "  68,\n",
       "  68,\n",
       "  68,\n",
       "  72,\n",
       "  72,\n",
       "  72,\n",
       "  72,\n",
       "  76,\n",
       "  76,\n",
       "  76,\n",
       "  76,\n",
       "  80,\n",
       "  80,\n",
       "  80,\n",
       "  80,\n",
       "  84,\n",
       "  84,\n",
       "  84,\n",
       "  84,\n",
       "  88,\n",
       "  88,\n",
       "  88,\n",
       "  88,\n",
       "  92,\n",
       "  92,\n",
       "  92,\n",
       "  92,\n",
       "  96,\n",
       "  96,\n",
       "  96,\n",
       "  96,\n",
       "  100,\n",
       "  100,\n",
       "  100,\n",
       "  100],\n",
       " '_i466': 'enumerate(list(map(calc_padding_new, range(100))))',\n",
       " '_466': <enumerate at 0x109047080>,\n",
       " '_i467': 'list(enumerate(map(calc_padding_new, range(100))))',\n",
       " '_467': [(0, 0),\n",
       "  (1, 4),\n",
       "  (2, 4),\n",
       "  (3, 4),\n",
       "  (4, 8),\n",
       "  (5, 8),\n",
       "  (6, 8),\n",
       "  (7, 8),\n",
       "  (8, 12),\n",
       "  (9, 12),\n",
       "  (10, 12),\n",
       "  (11, 12),\n",
       "  (12, 16),\n",
       "  (13, 16),\n",
       "  (14, 16),\n",
       "  (15, 16),\n",
       "  (16, 20),\n",
       "  (17, 20),\n",
       "  (18, 20),\n",
       "  (19, 20),\n",
       "  (20, 24),\n",
       "  (21, 24),\n",
       "  (22, 24),\n",
       "  (23, 24),\n",
       "  (24, 28),\n",
       "  (25, 28),\n",
       "  (26, 28),\n",
       "  (27, 28),\n",
       "  (28, 32),\n",
       "  (29, 32),\n",
       "  (30, 32),\n",
       "  (31, 32),\n",
       "  (32, 36),\n",
       "  (33, 36),\n",
       "  (34, 36),\n",
       "  (35, 36),\n",
       "  (36, 40),\n",
       "  (37, 40),\n",
       "  (38, 40),\n",
       "  (39, 40),\n",
       "  (40, 44),\n",
       "  (41, 44),\n",
       "  (42, 44),\n",
       "  (43, 44),\n",
       "  (44, 48),\n",
       "  (45, 48),\n",
       "  (46, 48),\n",
       "  (47, 48),\n",
       "  (48, 52),\n",
       "  (49, 52),\n",
       "  (50, 52),\n",
       "  (51, 52),\n",
       "  (52, 56),\n",
       "  (53, 56),\n",
       "  (54, 56),\n",
       "  (55, 56),\n",
       "  (56, 60),\n",
       "  (57, 60),\n",
       "  (58, 60),\n",
       "  (59, 60),\n",
       "  (60, 64),\n",
       "  (61, 64),\n",
       "  (62, 64),\n",
       "  (63, 64),\n",
       "  (64, 68),\n",
       "  (65, 68),\n",
       "  (66, 68),\n",
       "  (67, 68),\n",
       "  (68, 72),\n",
       "  (69, 72),\n",
       "  (70, 72),\n",
       "  (71, 72),\n",
       "  (72, 76),\n",
       "  (73, 76),\n",
       "  (74, 76),\n",
       "  (75, 76),\n",
       "  (76, 80),\n",
       "  (77, 80),\n",
       "  (78, 80),\n",
       "  (79, 80),\n",
       "  (80, 84),\n",
       "  (81, 84),\n",
       "  (82, 84),\n",
       "  (83, 84),\n",
       "  (84, 88),\n",
       "  (85, 88),\n",
       "  (86, 88),\n",
       "  (87, 88),\n",
       "  (88, 92),\n",
       "  (89, 92),\n",
       "  (90, 92),\n",
       "  (91, 92),\n",
       "  (92, 96),\n",
       "  (93, 96),\n",
       "  (94, 96),\n",
       "  (95, 96),\n",
       "  (96, 100),\n",
       "  (97, 100),\n",
       "  (98, 100),\n",
       "  (99, 100)],\n",
       " '_i468': 'list(enumerate(map(calc_padding_new, range(1, 100))))',\n",
       " '_468': [(0, 4),\n",
       "  (1, 4),\n",
       "  (2, 4),\n",
       "  (3, 8),\n",
       "  (4, 8),\n",
       "  (5, 8),\n",
       "  (6, 8),\n",
       "  (7, 12),\n",
       "  (8, 12),\n",
       "  (9, 12),\n",
       "  (10, 12),\n",
       "  (11, 16),\n",
       "  (12, 16),\n",
       "  (13, 16),\n",
       "  (14, 16),\n",
       "  (15, 20),\n",
       "  (16, 20),\n",
       "  (17, 20),\n",
       "  (18, 20),\n",
       "  (19, 24),\n",
       "  (20, 24),\n",
       "  (21, 24),\n",
       "  (22, 24),\n",
       "  (23, 28),\n",
       "  (24, 28),\n",
       "  (25, 28),\n",
       "  (26, 28),\n",
       "  (27, 32),\n",
       "  (28, 32),\n",
       "  (29, 32),\n",
       "  (30, 32),\n",
       "  (31, 36),\n",
       "  (32, 36),\n",
       "  (33, 36),\n",
       "  (34, 36),\n",
       "  (35, 40),\n",
       "  (36, 40),\n",
       "  (37, 40),\n",
       "  (38, 40),\n",
       "  (39, 44),\n",
       "  (40, 44),\n",
       "  (41, 44),\n",
       "  (42, 44),\n",
       "  (43, 48),\n",
       "  (44, 48),\n",
       "  (45, 48),\n",
       "  (46, 48),\n",
       "  (47, 52),\n",
       "  (48, 52),\n",
       "  (49, 52),\n",
       "  (50, 52),\n",
       "  (51, 56),\n",
       "  (52, 56),\n",
       "  (53, 56),\n",
       "  (54, 56),\n",
       "  (55, 60),\n",
       "  (56, 60),\n",
       "  (57, 60),\n",
       "  (58, 60),\n",
       "  (59, 64),\n",
       "  (60, 64),\n",
       "  (61, 64),\n",
       "  (62, 64),\n",
       "  (63, 68),\n",
       "  (64, 68),\n",
       "  (65, 68),\n",
       "  (66, 68),\n",
       "  (67, 72),\n",
       "  (68, 72),\n",
       "  (69, 72),\n",
       "  (70, 72),\n",
       "  (71, 76),\n",
       "  (72, 76),\n",
       "  (73, 76),\n",
       "  (74, 76),\n",
       "  (75, 80),\n",
       "  (76, 80),\n",
       "  (77, 80),\n",
       "  (78, 80),\n",
       "  (79, 84),\n",
       "  (80, 84),\n",
       "  (81, 84),\n",
       "  (82, 84),\n",
       "  (83, 88),\n",
       "  (84, 88),\n",
       "  (85, 88),\n",
       "  (86, 88),\n",
       "  (87, 92),\n",
       "  (88, 92),\n",
       "  (89, 92),\n",
       "  (90, 92),\n",
       "  (91, 96),\n",
       "  (92, 96),\n",
       "  (93, 96),\n",
       "  (94, 96),\n",
       "  (95, 100),\n",
       "  (96, 100),\n",
       "  (97, 100),\n",
       "  (98, 100)],\n",
       " '_i469': 'def calc_padding_new(msg_len):\\n    if msg_len==0:\\n        return msg_len\\n    else:\\n        return msg_len + (4-msg_len%4)',\n",
       " '_i470': '6->8\\n\\n6 + 2 => \\n\\n7 + 1\\n\\n8 + 0',\n",
       " '_i471': 'list(enumerate(map(calc_padding_new, range(1, 100))))',\n",
       " '_471': [(0, 4),\n",
       "  (1, 4),\n",
       "  (2, 4),\n",
       "  (3, 8),\n",
       "  (4, 8),\n",
       "  (5, 8),\n",
       "  (6, 8),\n",
       "  (7, 12),\n",
       "  (8, 12),\n",
       "  (9, 12),\n",
       "  (10, 12),\n",
       "  (11, 16),\n",
       "  (12, 16),\n",
       "  (13, 16),\n",
       "  (14, 16),\n",
       "  (15, 20),\n",
       "  (16, 20),\n",
       "  (17, 20),\n",
       "  (18, 20),\n",
       "  (19, 24),\n",
       "  (20, 24),\n",
       "  (21, 24),\n",
       "  (22, 24),\n",
       "  (23, 28),\n",
       "  (24, 28),\n",
       "  (25, 28),\n",
       "  (26, 28),\n",
       "  (27, 32),\n",
       "  (28, 32),\n",
       "  (29, 32),\n",
       "  (30, 32),\n",
       "  (31, 36),\n",
       "  (32, 36),\n",
       "  (33, 36),\n",
       "  (34, 36),\n",
       "  (35, 40),\n",
       "  (36, 40),\n",
       "  (37, 40),\n",
       "  (38, 40),\n",
       "  (39, 44),\n",
       "  (40, 44),\n",
       "  (41, 44),\n",
       "  (42, 44),\n",
       "  (43, 48),\n",
       "  (44, 48),\n",
       "  (45, 48),\n",
       "  (46, 48),\n",
       "  (47, 52),\n",
       "  (48, 52),\n",
       "  (49, 52),\n",
       "  (50, 52),\n",
       "  (51, 56),\n",
       "  (52, 56),\n",
       "  (53, 56),\n",
       "  (54, 56),\n",
       "  (55, 60),\n",
       "  (56, 60),\n",
       "  (57, 60),\n",
       "  (58, 60),\n",
       "  (59, 64),\n",
       "  (60, 64),\n",
       "  (61, 64),\n",
       "  (62, 64),\n",
       "  (63, 68),\n",
       "  (64, 68),\n",
       "  (65, 68),\n",
       "  (66, 68),\n",
       "  (67, 72),\n",
       "  (68, 72),\n",
       "  (69, 72),\n",
       "  (70, 72),\n",
       "  (71, 76),\n",
       "  (72, 76),\n",
       "  (73, 76),\n",
       "  (74, 76),\n",
       "  (75, 80),\n",
       "  (76, 80),\n",
       "  (77, 80),\n",
       "  (78, 80),\n",
       "  (79, 84),\n",
       "  (80, 84),\n",
       "  (81, 84),\n",
       "  (82, 84),\n",
       "  (83, 88),\n",
       "  (84, 88),\n",
       "  (85, 88),\n",
       "  (86, 88),\n",
       "  (87, 92),\n",
       "  (88, 92),\n",
       "  (89, 92),\n",
       "  (90, 92),\n",
       "  (91, 96),\n",
       "  (92, 96),\n",
       "  (93, 96),\n",
       "  (94, 96),\n",
       "  (95, 100),\n",
       "  (96, 100),\n",
       "  (97, 100),\n",
       "  (98, 100)],\n",
       " '_i472': 'calc_padding_new(8)',\n",
       " '_472': 12,\n",
       " '_i473': 'def calc_padding_new(msg_len):\\n    if msg_len%4 == 0:\\n        return msg_len\\n    else:\\n        return msg_len + (4-msg_len%4)',\n",
       " '_i474': 'calc_padding_new(8)',\n",
       " '_474': 8,\n",
       " '_i475': 'list(enumerate(map(calc_padding_new, range(1, 100))))',\n",
       " '_475': [(0, 4),\n",
       "  (1, 4),\n",
       "  (2, 4),\n",
       "  (3, 4),\n",
       "  (4, 8),\n",
       "  (5, 8),\n",
       "  (6, 8),\n",
       "  (7, 8),\n",
       "  (8, 12),\n",
       "  (9, 12),\n",
       "  (10, 12),\n",
       "  (11, 12),\n",
       "  (12, 16),\n",
       "  (13, 16),\n",
       "  (14, 16),\n",
       "  (15, 16),\n",
       "  (16, 20),\n",
       "  (17, 20),\n",
       "  (18, 20),\n",
       "  (19, 20),\n",
       "  (20, 24),\n",
       "  (21, 24),\n",
       "  (22, 24),\n",
       "  (23, 24),\n",
       "  (24, 28),\n",
       "  (25, 28),\n",
       "  (26, 28),\n",
       "  (27, 28),\n",
       "  (28, 32),\n",
       "  (29, 32),\n",
       "  (30, 32),\n",
       "  (31, 32),\n",
       "  (32, 36),\n",
       "  (33, 36),\n",
       "  (34, 36),\n",
       "  (35, 36),\n",
       "  (36, 40),\n",
       "  (37, 40),\n",
       "  (38, 40),\n",
       "  (39, 40),\n",
       "  (40, 44),\n",
       "  (41, 44),\n",
       "  (42, 44),\n",
       "  (43, 44),\n",
       "  (44, 48),\n",
       "  (45, 48),\n",
       "  (46, 48),\n",
       "  (47, 48),\n",
       "  (48, 52),\n",
       "  (49, 52),\n",
       "  (50, 52),\n",
       "  (51, 52),\n",
       "  (52, 56),\n",
       "  (53, 56),\n",
       "  (54, 56),\n",
       "  (55, 56),\n",
       "  (56, 60),\n",
       "  (57, 60),\n",
       "  (58, 60),\n",
       "  (59, 60),\n",
       "  (60, 64),\n",
       "  (61, 64),\n",
       "  (62, 64),\n",
       "  (63, 64),\n",
       "  (64, 68),\n",
       "  (65, 68),\n",
       "  (66, 68),\n",
       "  (67, 68),\n",
       "  (68, 72),\n",
       "  (69, 72),\n",
       "  (70, 72),\n",
       "  (71, 72),\n",
       "  (72, 76),\n",
       "  (73, 76),\n",
       "  (74, 76),\n",
       "  (75, 76),\n",
       "  (76, 80),\n",
       "  (77, 80),\n",
       "  (78, 80),\n",
       "  (79, 80),\n",
       "  (80, 84),\n",
       "  (81, 84),\n",
       "  (82, 84),\n",
       "  (83, 84),\n",
       "  (84, 88),\n",
       "  (85, 88),\n",
       "  (86, 88),\n",
       "  (87, 88),\n",
       "  (88, 92),\n",
       "  (89, 92),\n",
       "  (90, 92),\n",
       "  (91, 92),\n",
       "  (92, 96),\n",
       "  (93, 96),\n",
       "  (94, 96),\n",
       "  (95, 96),\n",
       "  (96, 100),\n",
       "  (97, 100),\n",
       "  (98, 100)],\n",
       " '_i476': 'list(enumerate(map(calc_padding_new, range(1, 100))))',\n",
       " '_476': [(0, 4),\n",
       "  (1, 4),\n",
       "  (2, 4),\n",
       "  (3, 4),\n",
       "  (4, 8),\n",
       "  (5, 8),\n",
       "  (6, 8),\n",
       "  (7, 8),\n",
       "  (8, 12),\n",
       "  (9, 12),\n",
       "  (10, 12),\n",
       "  (11, 12),\n",
       "  (12, 16),\n",
       "  (13, 16),\n",
       "  (14, 16),\n",
       "  (15, 16),\n",
       "  (16, 20),\n",
       "  (17, 20),\n",
       "  (18, 20),\n",
       "  (19, 20),\n",
       "  (20, 24),\n",
       "  (21, 24),\n",
       "  (22, 24),\n",
       "  (23, 24),\n",
       "  (24, 28),\n",
       "  (25, 28),\n",
       "  (26, 28),\n",
       "  (27, 28),\n",
       "  (28, 32),\n",
       "  (29, 32),\n",
       "  (30, 32),\n",
       "  (31, 32),\n",
       "  (32, 36),\n",
       "  (33, 36),\n",
       "  (34, 36),\n",
       "  (35, 36),\n",
       "  (36, 40),\n",
       "  (37, 40),\n",
       "  (38, 40),\n",
       "  (39, 40),\n",
       "  (40, 44),\n",
       "  (41, 44),\n",
       "  (42, 44),\n",
       "  (43, 44),\n",
       "  (44, 48),\n",
       "  (45, 48),\n",
       "  (46, 48),\n",
       "  (47, 48),\n",
       "  (48, 52),\n",
       "  (49, 52),\n",
       "  (50, 52),\n",
       "  (51, 52),\n",
       "  (52, 56),\n",
       "  (53, 56),\n",
       "  (54, 56),\n",
       "  (55, 56),\n",
       "  (56, 60),\n",
       "  (57, 60),\n",
       "  (58, 60),\n",
       "  (59, 60),\n",
       "  (60, 64),\n",
       "  (61, 64),\n",
       "  (62, 64),\n",
       "  (63, 64),\n",
       "  (64, 68),\n",
       "  (65, 68),\n",
       "  (66, 68),\n",
       "  (67, 68),\n",
       "  (68, 72),\n",
       "  (69, 72),\n",
       "  (70, 72),\n",
       "  (71, 72),\n",
       "  (72, 76),\n",
       "  (73, 76),\n",
       "  (74, 76),\n",
       "  (75, 76),\n",
       "  (76, 80),\n",
       "  (77, 80),\n",
       "  (78, 80),\n",
       "  (79, 80),\n",
       "  (80, 84),\n",
       "  (81, 84),\n",
       "  (82, 84),\n",
       "  (83, 84),\n",
       "  (84, 88),\n",
       "  (85, 88),\n",
       "  (86, 88),\n",
       "  (87, 88),\n",
       "  (88, 92),\n",
       "  (89, 92),\n",
       "  (90, 92),\n",
       "  (91, 92),\n",
       "  (92, 96),\n",
       "  (93, 96),\n",
       "  (94, 96),\n",
       "  (95, 96),\n",
       "  (96, 100),\n",
       "  (97, 100),\n",
       "  (98, 100)],\n",
       " '_i477': 'calc_padding_new(8)',\n",
       " '_477': 8,\n",
       " '_i478': 'list(enumerate(map(calc_padding_new, range(1, 100))))',\n",
       " '_478': [(0, 4),\n",
       "  (1, 4),\n",
       "  (2, 4),\n",
       "  (3, 4),\n",
       "  (4, 8),\n",
       "  (5, 8),\n",
       "  (6, 8),\n",
       "  (7, 8),\n",
       "  (8, 12),\n",
       "  (9, 12),\n",
       "  (10, 12),\n",
       "  (11, 12),\n",
       "  (12, 16),\n",
       "  (13, 16),\n",
       "  (14, 16),\n",
       "  (15, 16),\n",
       "  (16, 20),\n",
       "  (17, 20),\n",
       "  (18, 20),\n",
       "  (19, 20),\n",
       "  (20, 24),\n",
       "  (21, 24),\n",
       "  (22, 24),\n",
       "  (23, 24),\n",
       "  (24, 28),\n",
       "  (25, 28),\n",
       "  (26, 28),\n",
       "  (27, 28),\n",
       "  (28, 32),\n",
       "  (29, 32),\n",
       "  (30, 32),\n",
       "  (31, 32),\n",
       "  (32, 36),\n",
       "  (33, 36),\n",
       "  (34, 36),\n",
       "  (35, 36),\n",
       "  (36, 40),\n",
       "  (37, 40),\n",
       "  (38, 40),\n",
       "  (39, 40),\n",
       "  (40, 44),\n",
       "  (41, 44),\n",
       "  (42, 44),\n",
       "  (43, 44),\n",
       "  (44, 48),\n",
       "  (45, 48),\n",
       "  (46, 48),\n",
       "  (47, 48),\n",
       "  (48, 52),\n",
       "  (49, 52),\n",
       "  (50, 52),\n",
       "  (51, 52),\n",
       "  (52, 56),\n",
       "  (53, 56),\n",
       "  (54, 56),\n",
       "  (55, 56),\n",
       "  (56, 60),\n",
       "  (57, 60),\n",
       "  (58, 60),\n",
       "  (59, 60),\n",
       "  (60, 64),\n",
       "  (61, 64),\n",
       "  (62, 64),\n",
       "  (63, 64),\n",
       "  (64, 68),\n",
       "  (65, 68),\n",
       "  (66, 68),\n",
       "  (67, 68),\n",
       "  (68, 72),\n",
       "  (69, 72),\n",
       "  (70, 72),\n",
       "  (71, 72),\n",
       "  (72, 76),\n",
       "  (73, 76),\n",
       "  (74, 76),\n",
       "  (75, 76),\n",
       "  (76, 80),\n",
       "  (77, 80),\n",
       "  (78, 80),\n",
       "  (79, 80),\n",
       "  (80, 84),\n",
       "  (81, 84),\n",
       "  (82, 84),\n",
       "  (83, 84),\n",
       "  (84, 88),\n",
       "  (85, 88),\n",
       "  (86, 88),\n",
       "  (87, 88),\n",
       "  (88, 92),\n",
       "  (89, 92),\n",
       "  (90, 92),\n",
       "  (91, 92),\n",
       "  (92, 96),\n",
       "  (93, 96),\n",
       "  (94, 96),\n",
       "  (95, 96),\n",
       "  (96, 100),\n",
       "  (97, 100),\n",
       "  (98, 100)],\n",
       " '_i479': 'list(enumerate(map(calc_padding_new, range(100))))',\n",
       " '_479': [(0, 0),\n",
       "  (1, 4),\n",
       "  (2, 4),\n",
       "  (3, 4),\n",
       "  (4, 4),\n",
       "  (5, 8),\n",
       "  (6, 8),\n",
       "  (7, 8),\n",
       "  (8, 8),\n",
       "  (9, 12),\n",
       "  (10, 12),\n",
       "  (11, 12),\n",
       "  (12, 12),\n",
       "  (13, 16),\n",
       "  (14, 16),\n",
       "  (15, 16),\n",
       "  (16, 16),\n",
       "  (17, 20),\n",
       "  (18, 20),\n",
       "  (19, 20),\n",
       "  (20, 20),\n",
       "  (21, 24),\n",
       "  (22, 24),\n",
       "  (23, 24),\n",
       "  (24, 24),\n",
       "  (25, 28),\n",
       "  (26, 28),\n",
       "  (27, 28),\n",
       "  (28, 28),\n",
       "  (29, 32),\n",
       "  (30, 32),\n",
       "  (31, 32),\n",
       "  (32, 32),\n",
       "  (33, 36),\n",
       "  (34, 36),\n",
       "  (35, 36),\n",
       "  (36, 36),\n",
       "  (37, 40),\n",
       "  (38, 40),\n",
       "  (39, 40),\n",
       "  (40, 40),\n",
       "  (41, 44),\n",
       "  (42, 44),\n",
       "  (43, 44),\n",
       "  (44, 44),\n",
       "  (45, 48),\n",
       "  (46, 48),\n",
       "  (47, 48),\n",
       "  (48, 48),\n",
       "  (49, 52),\n",
       "  (50, 52),\n",
       "  (51, 52),\n",
       "  (52, 52),\n",
       "  (53, 56),\n",
       "  (54, 56),\n",
       "  (55, 56),\n",
       "  (56, 56),\n",
       "  (57, 60),\n",
       "  (58, 60),\n",
       "  (59, 60),\n",
       "  (60, 60),\n",
       "  (61, 64),\n",
       "  (62, 64),\n",
       "  (63, 64),\n",
       "  (64, 64),\n",
       "  (65, 68),\n",
       "  (66, 68),\n",
       "  (67, 68),\n",
       "  (68, 68),\n",
       "  (69, 72),\n",
       "  (70, 72),\n",
       "  (71, 72),\n",
       "  (72, 72),\n",
       "  (73, 76),\n",
       "  (74, 76),\n",
       "  (75, 76),\n",
       "  (76, 76),\n",
       "  (77, 80),\n",
       "  (78, 80),\n",
       "  (79, 80),\n",
       "  (80, 80),\n",
       "  (81, 84),\n",
       "  (82, 84),\n",
       "  (83, 84),\n",
       "  (84, 84),\n",
       "  (85, 88),\n",
       "  (86, 88),\n",
       "  (87, 88),\n",
       "  (88, 88),\n",
       "  (89, 92),\n",
       "  (90, 92),\n",
       "  (91, 92),\n",
       "  (92, 92),\n",
       "  (93, 96),\n",
       "  (94, 96),\n",
       "  (95, 96),\n",
       "  (96, 96),\n",
       "  (97, 100),\n",
       "  (98, 100),\n",
       "  (99, 100)],\n",
       " '_i480': \"'ali'.encode('utf-16')\",\n",
       " '_480': b'\\xff\\xfea\\x00l\\x00i\\x00',\n",
       " '_i481': \"'habil'.encode('utf-16')\",\n",
       " '_481': b'\\xff\\xfeh\\x00a\\x00b\\x00i\\x00l\\x00',\n",
       " '_i482': \"len('habil'.encode('utf-16'))\",\n",
       " '_482': 12,\n",
       " '_i483': \"len('habil01'.encode('utf-16'))\",\n",
       " '_483': 16,\n",
       " '_i484': \"len('habil0'.encode('utf-16'))\",\n",
       " '_484': 14,\n",
       " '_i485': \"len('habil'.encode('utf-16'))\",\n",
       " '_485': 12,\n",
       " '_i486': \"'habil'.encode('utf-8')\",\n",
       " '_486': b'habil',\n",
       " '_i487': \"len('habil'.encode('utf-8'))\",\n",
       " '_487': 5,\n",
       " '_i488': \"'habil'.encode('utf-8')\",\n",
       " '_488': b'habil',\n",
       " '_i489': 'calc_padding(10)',\n",
       " '_489': 12,\n",
       " '_i490': 'def calc_padding(msg_len):\\n    return (msg_len+3)&~3 - msg_len',\n",
       " '_i491': 'calc_padding(10)',\n",
       " '_491': 0,\n",
       " '_i492': 'def calc_padding(msg_len):\\n    return ((msg_len+3)&~3) - msg_len',\n",
       " '_i493': 'calc_padding(10)',\n",
       " '_493': 2,\n",
       " '_i494': 'list(enumerate(map(calc_padding_new, range(10))))',\n",
       " '_494': [(0, 0),\n",
       "  (1, 4),\n",
       "  (2, 4),\n",
       "  (3, 4),\n",
       "  (4, 4),\n",
       "  (5, 8),\n",
       "  (6, 8),\n",
       "  (7, 8),\n",
       "  (8, 8),\n",
       "  (9, 12)],\n",
       " '_i495': 'bin(10)',\n",
       " '_495': '0b1010',\n",
       " '_i496': '0b0101',\n",
       " '_496': 5,\n",
       " '_i497': '0b1010',\n",
       " '_497': 10,\n",
       " '_i498': '-0b0101',\n",
       " '_498': -5,\n",
       " '_i499': 'bin(~10)',\n",
       " '_499': '-0b1011',\n",
       " '_i500': '~10',\n",
       " '_500': -11,\n",
       " '_i501': '-0b1011 & 0b1010',\n",
       " '_501': 0,\n",
       " '_i502': '-0b1011 and 0b1010',\n",
       " '_502': 10,\n",
       " '_i503': '-0b1011 | 0b1010',\n",
       " '_503': -1,\n",
       " '_i504': '-0b1011 + 0b1010',\n",
       " '_504': -1,\n",
       " '_i505': '-0b1011 & 0b1010',\n",
       " '_505': 0,\n",
       " '_i506': '0b1010',\n",
       " '_506': 10,\n",
       " '_i507': '-0b1011 | 0b1010',\n",
       " '_507': -1,\n",
       " '_i508': '-0b1011 & 0b1010',\n",
       " '_508': 0,\n",
       " '_i509': '-0b1011 & 0b1010',\n",
       " '_509': 0,\n",
       " '_i510': '1 & 1',\n",
       " '_510': 1,\n",
       " '_i511': '1 & 2',\n",
       " '_511': 0,\n",
       " '_i512': '1 & 3',\n",
       " '_512': 1,\n",
       " '_i513': 'bin(1)',\n",
       " '_513': '0b1',\n",
       " '_i514': 'bin(1)',\n",
       " '_514': '0b1',\n",
       " '_i515': 'bin(2)',\n",
       " '_515': '0b10',\n",
       " '_i516': '0b10 & 0b1',\n",
       " '_516': 0,\n",
       " '_i517': 'bin(3)',\n",
       " '_517': '0b11',\n",
       " '_i518': '0b11 & 0b1',\n",
       " '_518': 1,\n",
       " '_i519': '0b11 & 0b10',\n",
       " '_519': 2,\n",
       " '_i520': '0b11 & 0b01',\n",
       " '_520': 1,\n",
       " '_i521': '0b01',\n",
       " '_521': 1,\n",
       " '_i522': '0b000001',\n",
       " '_522': 1,\n",
       " '_i523': '0b0000001',\n",
       " '_523': 1,\n",
       " '_i524': 'list(map(bin, range(10)))',\n",
       " '_524': ['0b0',\n",
       "  '0b1',\n",
       "  '0b10',\n",
       "  '0b11',\n",
       "  '0b100',\n",
       "  '0b101',\n",
       "  '0b110',\n",
       "  '0b111',\n",
       "  '0b1000',\n",
       "  '0b1001'],\n",
       " '_i525': 'list(enumerate(map(bin, range(10))))',\n",
       " '_525': [(0, '0b0'),\n",
       "  (1, '0b1'),\n",
       "  (2, '0b10'),\n",
       "  (3, '0b11'),\n",
       "  (4, '0b100'),\n",
       "  (5, '0b101'),\n",
       "  (6, '0b110'),\n",
       "  (7, '0b111'),\n",
       "  (8, '0b1000'),\n",
       "  (9, '0b1001')],\n",
       " '_i526': '0b11100100',\n",
       " '_526': 228,\n",
       " '_i527': '-0b11100100',\n",
       " '_527': -228,\n",
       " '_i528': '0b11100100',\n",
       " '_528': 228,\n",
       " '_i529': 'bin(28)',\n",
       " '_529': '0b11100',\n",
       " '_i530': 'bin(-28)',\n",
       " '_530': '-0b11100',\n",
       " '_i531': '~28',\n",
       " '_531': -29,\n",
       " '_i532': 'bin(~28)',\n",
       " '_532': '-0b11101',\n",
       " '_i533': '0b11001000',\n",
       " '_533': 200,\n",
       " '_i534': '0b11000100',\n",
       " '_534': 196,\n",
       " '_i535': '0b11100100',\n",
       " '_535': 228,\n",
       " '_i536': '0xFFFFFFFF',\n",
       " '_536': 4294967295,\n",
       " '_i537': 'bin(0xFFFFFFFF)',\n",
       " '_537': '0b11111111111111111111111111111111',\n",
       " '_i538': 'len(bin(0xFFFFFFFF))',\n",
       " '_538': 34,\n",
       " '_i539': 'bin(FF)',\n",
       " '_i540': 'bin(0xFF)',\n",
       " '_540': '0b11111111',\n",
       " '_i541': '0xFF',\n",
       " '_541': 255,\n",
       " '_i542': '0b01100',\n",
       " '_542': 12,\n",
       " '_i543': 'bin(30)',\n",
       " '_543': '0b11110',\n",
       " '_i544': '0b00011110',\n",
       " '_544': 30,\n",
       " '_i545': '0b11100001',\n",
       " '_545': 225,\n",
       " '_i546': '0b00000000000000000000000000011110',\n",
       " '_546': 30,\n",
       " '_i547': '0b11111111111111111111111111100001',\n",
       " ...}"
      ]
     },
     "execution_count": 662,
     "metadata": {},
     "output_type": "execute_result"
    }
   ],
   "source": [
    "globals()"
   ]
  },
  {
   "cell_type": "code",
   "execution_count": 671,
   "metadata": {},
   "outputs": [],
   "source": [
    "class Integer32:\n",
    "    @staticmethod\n",
    "    def print():\n",
    "        print(\"hi\")\n",
    "\n",
    "class OctetString(Integer32):\n",
    "    pass"
   ]
  },
  {
   "cell_type": "code",
   "execution_count": 675,
   "metadata": {},
   "outputs": [
    {
     "name": "stdout",
     "output_type": "stream",
     "text": [
      "hi\n"
     ]
    }
   ],
   "source": [
    "globals()['OctetString'].print()"
   ]
  },
  {
   "cell_type": "code",
   "execution_count": 679,
   "metadata": {},
   "outputs": [
    {
     "data": {
      "text/plain": [
       "(b'616c69', 3)"
      ]
     },
     "execution_count": 679,
     "metadata": {},
     "output_type": "execute_result"
    }
   ],
   "source": [
    "hexlify(b'ali')"
   ]
  },
  {
   "cell_type": "code",
   "execution_count": 689,
   "metadata": {},
   "outputs": [
    {
     "ename": "error",
     "evalue": "argument for 's' must be a bytes object",
     "output_type": "error",
     "traceback": [
      "\u001b[0;31m---------------------------------------------------------------------------\u001b[0m",
      "\u001b[0;31merror\u001b[0m                                     Traceback (most recent call last)",
      "\u001b[0;32m<ipython-input-689-6b889c66b526>\u001b[0m in \u001b[0;36m<module>\u001b[0;34m\u001b[0m\n\u001b[0;32m----> 1\u001b[0;31m \u001b[0mprint\u001b[0m\u001b[0;34m(\u001b[0m\u001b[0mstruct\u001b[0m\u001b[0;34m.\u001b[0m\u001b[0mpack\u001b[0m\u001b[0;34m(\u001b[0m\u001b[0;34m'>10s'\u001b[0m\u001b[0;34m,\u001b[0m \u001b[0munhexlify\u001b[0m\u001b[0;34m(\u001b[0m\u001b[0;34mb'706372662e6d797265616c6d2e6578616d706c65'\u001b[0m\u001b[0;34m)\u001b[0m\u001b[0;34m)\u001b[0m\u001b[0;34m)\u001b[0m\u001b[0;34m\u001b[0m\u001b[0;34m\u001b[0m\u001b[0m\n\u001b[0m",
      "\u001b[0;31merror\u001b[0m: argument for 's' must be a bytes object"
     ]
    }
   ],
   "source": [
    "print(struct.pack('>10s', unhexlify(b'706372662e6d797265616c6d2e6578616d706c65')))"
   ]
  },
  {
   "cell_type": "code",
   "execution_count": 690,
   "metadata": {},
   "outputs": [
    {
     "data": {
      "text/plain": [
       "(b'pcrf.myrealm.example', 40)"
      ]
     },
     "execution_count": 690,
     "metadata": {},
     "output_type": "execute_result"
    }
   ],
   "source": [
    "unhexlify(b'706372662e6d797265616c6d2e6578616d706c65')"
   ]
  },
  {
   "cell_type": "code",
   "execution_count": 697,
   "metadata": {},
   "outputs": [
    {
     "data": {
      "text/plain": [
       "(b'706372662e6d797265616c6d2e6578616d706c65',)"
      ]
     },
     "execution_count": 697,
     "metadata": {},
     "output_type": "execute_result"
    }
   ],
   "source": [
    "struct.unpack('>40s', unhexlifyb'706372662e6d797265616c6d2e6578616d706c65')"
   ]
  },
  {
   "cell_type": "code",
   "execution_count": 695,
   "metadata": {},
   "outputs": [
    {
     "data": {
      "text/plain": [
       "40"
      ]
     },
     "execution_count": 695,
     "metadata": {},
     "output_type": "execute_result"
    }
   ],
   "source": [
    "len('706372662e6d797265616c6d2e6578616d706c65')"
   ]
  },
  {
   "cell_type": "code",
   "execution_count": 714,
   "metadata": {},
   "outputs": [
    {
     "data": {
      "text/plain": [
       "b'706372662e6d79726561'"
      ]
     },
     "execution_count": 714,
     "metadata": {},
     "output_type": "execute_result"
    }
   ],
   "source": [
    "struct.pack('>20s', hexlify(b'pcrf.myrealm.example')[0])"
   ]
  },
  {
   "cell_type": "code",
   "execution_count": 720,
   "metadata": {},
   "outputs": [
    {
     "data": {
      "text/plain": [
       "(b'pcrf.myrealm.example', 40)"
      ]
     },
     "execution_count": 720,
     "metadata": {},
     "output_type": "execute_result"
    }
   ],
   "source": [
    "unhexlify(struct.unpack('>40s', b'706372662e6d797265616c6d2e6578616d706c65')[0])"
   ]
  },
  {
   "cell_type": "code",
   "execution_count": 727,
   "metadata": {},
   "outputs": [
    {
     "data": {
      "text/plain": [
       "b'706372662e6d797265616c6d2e6578616d706c65'"
      ]
     },
     "execution_count": 727,
     "metadata": {},
     "output_type": "execute_result"
    }
   ],
   "source": [
    "hexlify(struct.pack('>20s', b'pcrf.myrealm.example'))[0]"
   ]
  },
  {
   "cell_type": "code",
   "execution_count": 726,
   "metadata": {},
   "outputs": [
    {
     "data": {
      "text/plain": [
       "(b'pcrf.myrealm.example',)"
      ]
     },
     "execution_count": 726,
     "metadata": {},
     "output_type": "execute_result"
    }
   ],
   "source": [
    "struct.unpack('>20s', unhexlify(b'706372662e6d797265616c6d2e6578616d706c65')[0])"
   ]
  },
  {
   "cell_type": "code",
   "execution_count": null,
   "metadata": {},
   "outputs": [],
   "source": []
  }
 ],
 "metadata": {
  "kernelspec": {
   "display_name": "Python 3",
   "language": "python",
   "name": "python3"
  },
  "language_info": {
   "codemirror_mode": {
    "name": "ipython",
    "version": 3
   },
   "file_extension": ".py",
   "mimetype": "text/x-python",
   "name": "python",
   "nbconvert_exporter": "python",
   "pygments_lexer": "ipython3",
   "version": "3.8.0"
  }
 },
 "nbformat": 4,
 "nbformat_minor": 2
}
